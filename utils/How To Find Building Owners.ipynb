{
 "cells": [
  {
   "cell_type": "markdown",
   "id": "10f7553a",
   "metadata": {},
   "source": [
    "# Finding Building Owners\n",
    "\n",
    "**The problem:** the City of Seattle does not provide us with the owners of buildings in the carbon benchmarking dataset. Without this data, we can't determine which companies have the largest environmental impact on Seattle. Moreover, the companies listed as building owners in the King County property database are often shell companies. There is no database where you can look up the parent company for a shell company. There is also no reliable way to find a parent company's shell companies (though this assumes you're looking for buildings owned by one particular company). \n",
    "\n",
    "**Vocabulary used in this tutorial**\n",
    "\n",
    "- *Corporations and Charities Filings System*: a [publicly-available government database](https://ccfs.sos.wa.gov/#/) listing all companies and non-profits in Washington State.\n",
    "- *eRealProperty*: a [publicly-available government database](https://blue.kingcounty.com/Assessor/eRealProperty/default.aspx) that lists the owners of all real estate parcels in King County (where Seattle is located).\n",
    "- *Parent company*: a company that owns subsidiary companies.\n",
    "- *Principal*: a person who is an officer or director of a company. A company must list at least one principal to be incorporated.\n",
    "- *Shell company*: a company owned by a parent company that disguises its relationship with that parent company. Creating a different shell company for every building owned by a parent company is a common tactic to hide the extent of a company's real estate holdings. \n",
    "\n",
    "Finding a building's owner is then a three-step process:\n",
    "\n",
    "1. Find the parcel owner for the lot the building is on, using the eRealProperty website.\n",
    "2. Given the parcel owner from Step 1, search the Washington State Corporations and Charities Filings database for that company and collect the company's principals.\n",
    "3. Search the company principals on Google and see what company they work for based on Linkedin, business journal articles, etc. Whichever company they all work for (or worked for most recently) is the parent company that owns the building.\n",
    "\n",
    "*A note on methodology: parent companies re-use the same people as principals for their shell companies again and again. The principals also tend to stay with a company for a long time. This is why searching for the current or most recent employer for each of the principals will get you the parent company in most cases. Where this doesn't work, some digging and a bit of common sense (when was the company incorporated? Where were these people working at that time, according to Linkedin?) will get you the rest of the way.*\n",
    "\n",
    "Steps 1 and 2 are done programmatically. Step 3 is done by hand. The steps are outlined below.\n",
    "\n",
    "## Step 1: Getting Parcel Owners from eRealProperty\n",
    "\n",
    "The first step in finding a building's owner is to find the owner of the building parcel. This is listed in [King County's eRealProperty database](https://blue.kingcounty.com/Assessor/eRealProperty/default.aspx). \n",
    "\n",
    "This script takes a list of buildings' Tax Parcel Identification Number and returns a CSV listing the current owners according to eRealProperty. Optionally, you can also produce a JSON file with the number, types, and square footage of the different units in the building.\n",
    "\n",
    "To use:\n",
    "\n",
    "1. Instantiate an instance of the `ParcelLookupHelper` class, including the file path where you want to save your results.\n",
    "2. Run the `scrape_parcel_owners` method. Params:\n",
    "    - `tax_parcel_id_numbers` (list): a list of the tax parcel IDs you want to look up\n",
    "    - `file_name` (str): the file name to save the results\n",
    "    - `get_unit_details` (bool): whether or not to create a JSON file of the types of units in each building. Defaults to `False`. \n",
    "\n",
    "Sample use:\n",
    "\n",
    "```\n",
    "scraper = ParcelLookupHelper('building_owners')\n",
    "scraper.scrape_parcel_owners([659000030, 659000220], 'building_owners_grp_1', True)\n",
    "```\n",
    "\n",
    "Two important notes: \n",
    "\n",
    "- This is a web scraping script, so it is highly dependent on the HTML structure of the Property Detail pages. Test it to make sure you're getting the correct data in case the HTML structure has changed since this script was written.\n",
    "- eRealProperty restricts you to 1,000 calls a day from a given IP address. You can divide your buildings into chunks of 1,000 and do this over several days or divide them between team members. Using different AWS or Google Cloud instances is possible but probably a bit rude.\n",
    "\n",
    "## Step 2: Getting Company Principals from Washington State Corporations and Charities Filing Database\n",
    "\n",
    "## Step 3: Finding the Principals' Employer"
   ]
  }
 ],
 "metadata": {
  "kernelspec": {
   "display_name": "Python 3 (ipykernel)",
   "language": "python",
   "name": "python3"
  },
  "language_info": {
   "codemirror_mode": {
    "name": "ipython",
    "version": 3
   },
   "file_extension": ".py",
   "mimetype": "text/x-python",
   "name": "python",
   "nbconvert_exporter": "python",
   "pygments_lexer": "ipython3",
   "version": "3.9.16"
  }
 },
 "nbformat": 4,
 "nbformat_minor": 5
}
