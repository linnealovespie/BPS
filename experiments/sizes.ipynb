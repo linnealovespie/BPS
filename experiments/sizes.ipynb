{
 "cells": [
  {
   "attachments": {},
   "cell_type": "markdown",
   "metadata": {},
   "source": [
    "# Building Sizes\n",
    "- What's the breakdown of CO2e by building size? \n",
    "- "
   ]
  },
  {
   "cell_type": "code",
   "execution_count": 6,
   "metadata": {},
   "outputs": [],
   "source": [
    "import numpy as np\n",
    "import pandas as pd\n",
    "import geopandas as gp\n",
    "from shapely.geometry import Polygon, LineString, Point\n",
    "import matplotlib.pyplot as plt\n",
    "from utils import geo \n",
    "from scipy import stats"
   ]
  },
  {
   "cell_type": "code",
   "execution_count": 10,
   "metadata": {},
   "outputs": [
    {
     "name": "stdout",
     "output_type": "stream",
     "text": [
      "Building WATERWORKS OFFICE & MARINA 2353/ 4088803975 doesn't have a district POINT (-122.33895 47.63575) \n",
      "\t Found district 7 for WATERWORKS OFFICE & MARINA\n",
      "Building NAUTICAL LANDING 2381/ 4088804350 doesn't have a district POINT (-122.34219 47.64306) \n",
      "\t Found district 7 for NAUTICAL LANDING\n",
      "Building UNION HARBOR CONDOMINIUM 2540/ 8807200000 doesn't have a district POINT (-122.33003 47.6401) \n",
      "\t Found district 4 for UNION HARBOR CONDOMINIUM\n",
      "Building THE PIER AT LESCHI 2997/ 6780900000 doesn't have a district POINT (-122.28563 47.59926) \n",
      "\t Found district 3 for THE PIER AT LESCHI\n",
      "Building THE LAKESHORE 3046/ 1180001715 doesn't have a district POINT EMPTY \n",
      "Building EDUCARE 3218/ 2895800030 doesn't have a district POINT EMPTY \n",
      "Building WATERWORKS OFFICE & MARINA 2373/ 4088803975 doesn't have a district POINT (-122.33895 47.63575) \n",
      "\t Found district 7 for WATERWORKS OFFICE & MARINA\n",
      "Building NAUTICAL LANDING 2402/ 4088804350 doesn't have a district POINT (-122.34219 47.64306) \n",
      "\t Found district 7 for NAUTICAL LANDING\n",
      "Building UNION HARBOR CONDOMINIUM 2561/ 8807200000 doesn't have a district POINT (-122.33003 47.6401) \n",
      "\t Found district 4 for UNION HARBOR CONDOMINIUM\n",
      "Building PIER AT LESCHI THE 3026/ 6780900000 doesn't have a district POINT (-122.28563 47.59926) \n",
      "\t Found district 3 for PIER AT LESCHI THE\n",
      "Building THE LAKESHORE 3075/ 1180001715 doesn't have a district POINT EMPTY \n",
      "Building EDUCARE 3247/ 2895800030 doesn't have a district POINT EMPTY \n"
     ]
    }
   ],
   "source": [
    "df_districts = gp.read_file(\"../data/Council_Districts.geojson\")\n",
    "\n",
    "df_2020 = pd.read_csv('../data/2020_Building_Energy_Benchmarking.csv')\n",
    "df_2020 = gp.GeoDataFrame(df_2020, geometry=gp.points_from_xy(df_2020.Longitude, df_2020.Latitude))\n",
    "geo.clean_districts(df_2020, df_districts)\n",
    "\n",
    "df_2019 = pd.read_csv('../data/2019_Building_Energy_Benchmarking.csv')\n",
    "df_2019 = gp.GeoDataFrame(df_2019, geometry=gp.points_from_xy(df_2019.Longitude, df_2019.Latitude))\n",
    "geo.clean_districts(df_2019, df_districts)"
   ]
  },
  {
   "cell_type": "code",
   "execution_count": 17,
   "metadata": {},
   "outputs": [],
   "source": [
    "df=pd.concat([df_2019, df_2020])"
   ]
  },
  {
   "cell_type": "code",
   "execution_count": 11,
   "metadata": {},
   "outputs": [
    {
     "data": {
      "text/plain": [
       "Index(['OSEBuildingID', 'DataYear', 'BuildingName', 'BuildingType',\n",
       "       'TaxParcelIdentificationNumber', 'Address', 'City', 'State', 'ZipCode',\n",
       "       'Latitude', 'Longitude', 'Neighborhood', 'CouncilDistrictCode',\n",
       "       'YearBuilt', 'NumberofFloors', 'NumberofBuildings', 'PropertyGFATotal',\n",
       "       'PropertyGFABuilding(s)', 'PropertyGFAParking', 'ENERGYSTARScore',\n",
       "       'SiteEUIWN(kBtu/sf)', 'SiteEUI(kBtu/sf)', 'SiteEnergyUse(kBtu)',\n",
       "       'SiteEnergyUseWN(kBtu)', 'SourceEUIWN(kBtu/sf)', 'SourceEUI(kBtu/sf)',\n",
       "       'EPAPropertyType', 'LargestPropertyUseType',\n",
       "       'LargestPropertyUseTypeGFA', 'SecondLargestPropertyUseType',\n",
       "       'SecondLargestPropertyUseTypeGFA', 'ThirdLargestPropertyUseType',\n",
       "       'ThirdLargestPropertyUseTypeGFA', 'Electricity(kWh)', 'SteamUse(kBtu)',\n",
       "       'NaturalGas(therms)', 'ComplianceStatus', 'ComplianceIssue',\n",
       "       'Electricity(kBtu)', 'NaturalGas(kBtu)', 'TotalGHGEmissions',\n",
       "       'GHGEmissionsIntensity', 'geometry'],\n",
       "      dtype='object')"
      ]
     },
     "execution_count": 11,
     "metadata": {},
     "output_type": "execute_result"
    }
   ],
   "source": [
    "df_2020.columns"
   ]
  },
  {
   "cell_type": "code",
   "execution_count": 12,
   "metadata": {},
   "outputs": [
    {
     "data": {
      "text/plain": [
       "count       3628.000000\n",
       "mean       90679.499173\n",
       "std       210686.311621\n",
       "min         9660.000000\n",
       "25%        27547.000000\n",
       "50%        43814.000000\n",
       "75%        88790.250000\n",
       "max      9320156.000000\n",
       "Name: PropertyGFABuilding(s), dtype: object"
      ]
     },
     "execution_count": 12,
     "metadata": {},
     "output_type": "execute_result"
    }
   ],
   "source": [
    "df_2020['PropertyGFABuilding(s)'].describe().apply(lambda x: format(x, 'f'))"
   ]
  },
  {
   "cell_type": "code",
   "execution_count": 13,
   "metadata": {},
   "outputs": [
    {
     "name": "stdout",
     "output_type": "stream",
     "text": [
      "DescribeResult(nobs=3628, minmax=(9660, 9320156), mean=90679.49917309813, variance=44388721904.55941, skewness=25.254185486928844, kurtosis=1026.5150828045673)\n"
     ]
    },
    {
     "data": {
      "text/plain": [
       "Text(0, 0.5, 'Count (LOG)')"
      ]
     },
     "execution_count": 13,
     "metadata": {},
     "output_type": "execute_result"
    },
    {
     "data": {
      "image/png": "[encoded data removed]",
      "text/plain": [
       "<Figure size 640x480 with 1 Axes>"
      ]
     },
     "metadata": {},
     "output_type": "display_data"
    }
   ],
   "source": [
    "print(stats.describe(df_2020['PropertyGFABuilding(s)']))\n",
    "plt.hist(df_2020['PropertyGFABuilding(s)'], log=True)\n",
    "plt.xlabel(\"Square footage\")\n",
    "plt.ylabel(\"Count (LOG)\")"
   ]
  },
  {
   "cell_type": "code",
   "execution_count": 14,
   "metadata": {},
   "outputs": [
    {
     "name": "stdout",
     "output_type": "stream",
     "text": [
      "DescribeResult(nobs=3628, minmax=(9660, 9320156), mean=90679.49917309813, variance=44388721904.55941, skewness=25.254185486928844, kurtosis=1026.5150828045673)\n"
     ]
    }
   ],
   "source": [
    "print(stats.describe(df_2020['PropertyGFABuilding(s)'], nan_policy='omit'))"
   ]
  },
  {
   "cell_type": "code",
   "execution_count": null,
   "metadata": {},
   "outputs": [],
   "source": [
    "# TODO: violin graph of size range vs. average emissions"
   ]
  },
  {
   "cell_type": "code",
   "execution_count": 66,
   "metadata": {},
   "outputs": [
    {
     "name": "stdout",
     "output_type": "stream",
     "text": [
      "DescribeResult(nobs=3593, minmax=(masked_array(data=0.,\n",
      "             mask=False,\n",
      "       fill_value=1e+20), masked_array(data=43.7,\n",
      "             mask=False,\n",
      "       fill_value=1e+20)), mean=1.0813247982187586, variance=3.1812407833965692, skewness=masked_array(data=7.7169135,\n",
      "             mask=False,\n",
      "       fill_value=1e+20), kurtosis=121.94401987069187)\n"
     ]
    },
    {
     "data": {
      "text/plain": [
       "Text(0, 0.5, 'Count (LOG)')"
      ]
     },
     "execution_count": 66,
     "metadata": {},
     "output_type": "execute_result"
    },
    {
     "data": {
      "image/png": "[encoded data removed]",
      "text/plain": [
       "<Figure size 640x480 with 1 Axes>"
      ]
     },
     "metadata": {},
     "output_type": "display_data"
    }
   ],
   "source": [
    "print(stats.describe(df_2020['GHGEmissionsIntensity'], nan_policy='omit'))\n",
    "plt.hist(df_2020['GHGEmissionsIntensity'], log=True)\n",
    "plt.xlabel(\"Carbon intensity\")\n",
    "plt.ylabel(\"Count (LOG)\")"
   ]
  },
  {
   "cell_type": "code",
   "execution_count": 16,
   "metadata": {},
   "outputs": [
    {
     "name": "stdout",
     "output_type": "stream",
     "text": [
      "Small buildings stats: \n",
      " count    1620.000000\n",
      "mean        1.031049\n",
      "std         1.550841\n",
      "min         0.000000\n",
      "25%         0.100000\n",
      "50%         0.400000\n",
      "75%         1.300000\n",
      "max        17.400000\n",
      "Name: GHGEmissionsIntensity, dtype: float64\n",
      "Large buildings stats: \n",
      " count    1973.000000\n",
      "mean        1.122605\n",
      "std         1.953529\n",
      "min         0.000000\n",
      "25%         0.200000\n",
      "50%         0.700000\n",
      "75%         1.300000\n",
      "max        43.700000\n",
      "Name: GHGEmissionsIntensity, dtype: float64\n",
      "KstestResult(statistic=0.15878852910041225, pvalue=3.0437451731828475e-20)\n"
     ]
    },
    {
     "data": {
      "image/png": "[encoded data removed]",
      "text/plain": [
       "<Figure size 640x480 with 1 Axes>"
      ]
     },
     "metadata": {},
     "output_type": "display_data"
    }
   ],
   "source": [
    "int_large = df_2020[df_2020['PropertyGFABuilding(s)'] >= 40000]['GHGEmissionsIntensity']\n",
    "int_small = df_2020[df_2020['PropertyGFABuilding(s)'] < 40000]['GHGEmissionsIntensity']\n",
    "\n",
    "print(\"Small buildings stats: \\n\", int_small.describe())\n",
    "print(\"Large buildings stats: \\n\", int_large.describe())\n",
    "\n",
    "plt.hist([int_small, int_large], density=True, bins='fd')\n",
    "plt.xlabel(\"Carbon intensity\")\n",
    "\n",
    "# H0: small and large building carbon intensity follow the same distribution. \n",
    "# If p < 0.05 then can reject the null. \n",
    "# pvalue=0.0094 < 0.05 so reject null that small and large bulidings have same distribution. \n",
    "# Note to self: KS test when unbinned data, chi-squared when binned. \n",
    "print(stats.ks_2samp(int_small, int_large))"
   ]
  },
  {
   "attachments": {},
   "cell_type": "markdown",
   "metadata": {},
   "source": [
    "# Building Type Data\n",
    "- What does intensity look like for each building type? \n",
    "- Hospitals the worst- most in district 3\n",
    "- College/university also bad and they ALSO have labs, data centers\n",
    "- Sum total emissions, square footage by each building type\n",
    "- Currently in mayor's proposal vs. what we want\n",
    "- Stretch goal: cute visualization for people in legislation\n",
    "- total ghg per building type and also as a fraction of city-wide emissions"
   ]
  },
  {
   "cell_type": "code",
   "execution_count": 95,
   "metadata": {},
   "outputs": [
    {
     "data": {
      "text/plain": [
       "LargestPropertyUseType\n",
       "Bank Branch                              0.050000\n",
       "Convenience Store without Gas Station    0.100000\n",
       "Energy/Power Station                     0.200000\n",
       "Food Service                             0.200000\n",
       "Movie Theater                            0.300000\n",
       "                                           ...   \n",
       "Supermarket/Grocery Store                4.521951\n",
       "College/University                       4.546154\n",
       "Data Center                              5.933333\n",
       "Laboratory                               6.840000\n",
       "Hospital (General Medical & Surgical)    7.450000\n",
       "Name: GHGEmissionsIntensity, Length: 63, dtype: float64"
      ]
     },
     "execution_count": 95,
     "metadata": {},
     "output_type": "execute_result"
    }
   ],
   "source": [
    "df_2020.groupby(df_2020['LargestPropertyUseType'])['GHGEmissionsIntensity'].mean().sort_values()"
   ]
  },
  {
   "cell_type": "code",
   "execution_count": 99,
   "metadata": {},
   "outputs": [
    {
     "data": {
      "text/plain": [
       "0    3.0\n",
       "Name: CouncilDistrictCode, dtype: float64"
      ]
     },
     "execution_count": 99,
     "metadata": {},
     "output_type": "execute_result"
    }
   ],
   "source": [
    "df_2020[df_2020['LargestPropertyUseType']==\"Hospital (General Medical & Surgical)\"]['CouncilDistrictCode']"
   ]
  },
  {
   "cell_type": "code",
   "execution_count": null,
   "metadata": {},
   "outputs": [],
   "source": []
  }
 ],
 "metadata": {
  "kernelspec": {
   "display_name": "Python 3",
   "language": "python",
   "name": "python3"
  },
  "language_info": {
   "codemirror_mode": {
    "name": "ipython",
    "version": 3
   },
   "file_extension": ".py",
   "mimetype": "text/x-python",
   "name": "python",
   "nbconvert_exporter": "python",
   "pygments_lexer": "ipython3",
   "version": "3.10.9"
  },
  "orig_nbformat": 4,
  "vscode": {
   "interpreter": {
    "hash": "53eb8247ac8977839b92ebfbaa3b2410dbaab4ec15fe359a3a0adf2e972f338b"
   }
  }
 },
 "nbformat": 4,
 "nbformat_minor": 2
}
