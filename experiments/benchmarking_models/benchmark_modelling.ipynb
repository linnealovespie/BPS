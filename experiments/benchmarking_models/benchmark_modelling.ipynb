{
 "cells": [
  {
   "cell_type": "code",
   "execution_count": null,
   "id": "5a917b8e",
   "metadata": {},
   "outputs": [],
   "source": [
    "# Benchmark Modelling\n",
    "\n",
    "## Purpose\n",
    "\n",
    "Model January vs. June proposals for BEPS in terms of carbon emitted by 2050 and income from fines.\n",
    "\n",
    "Then model alternate GHGI proposal.\n",
    "\n",
    "## Methodology\n",
    "\n"
   ]
  }
 ],
 "metadata": {
  "kernelspec": {
   "display_name": "Python 3 (ipykernel)",
   "language": "python",
   "name": "python3"
  },
  "language_info": {
   "codemirror_mode": {
    "name": "ipython",
    "version": 3
   },
   "file_extension": ".py",
   "mimetype": "text/x-python",
   "name": "python",
   "nbconvert_exporter": "python",
   "pygments_lexer": "ipython3",
   "version": "3.9.16"
  }
 },
 "nbformat": 4,
 "nbformat_minor": 5
}
