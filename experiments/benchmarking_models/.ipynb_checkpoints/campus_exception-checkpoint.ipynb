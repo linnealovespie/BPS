{
 "cells": [
  {
   "cell_type": "markdown",
   "id": "405092cc",
   "metadata": {},
   "source": [
    "# Exceptions for campuses, highly polluting buildings, etc.\n",
    "\n",
    "In this ammendment, buildings can use the alternate compliance for all compliance periods if:\n",
    "    \n",
    "1. Building portfolio, district campus, or connected buildings.\n",
    "1. A nonresidential building with more than fifty percent of the covered building with the building activity type of “Other” or of a type not covered in Table A for Section 20 22.925.070.\n",
    "1. A covered building that has a baseline GHGI greater than three and one-half22 times the covered building’s standard GHGIT for the 2031-2035 compliance interval.\n",
    " baseline GHGI (CO2e/SF/yr) > 3.5 * standard GHGIT (CO2e/SF/yr)\n"
   ]
  },
  {
   "cell_type": "markdown",
   "id": "7aeacedd",
   "metadata": {},
   "source": [
    "Alternative GHGITs:\n",
    "    \n",
    "Nonresidential:\n",
    "\n",
    "Seventy-five percent of the baseline GHGI for the 2027-2030 compliance interval\n",
    "\n",
    "50 percent of the baseline GHGI for the 2031-2035 compliance interval\n",
    "\n",
    "25 percent of the baseline GHGI for the 2036-2040 compliance interval\n",
    "\n",
    "Net zero for the 2041-2045 compliance interval\n",
    "\n",
    "Multifamily:\n",
    "\n",
    "75 percent of the baseline GHGI for the 2031-2035 compliance interval\n",
    "\n",
    "50 percent of the baseline GHGI for the 2036-2040 compliance interval\n",
    "\n",
    "25 percent of the baseline GHGI for the 2041-2045 compliance interval\n",
    "\n",
    "Net zero for the 2046-2050 compliance interval\n"
   ]
  },
  {
   "cell_type": "code",
   "execution_count": 1,
   "id": "40032174",
   "metadata": {},
   "outputs": [],
   "source": [
    "import numpy as np\n",
    "import pandas as pd\n",
    "import seaborn"
   ]
  },
  {
   "cell_type": "code",
   "execution_count": null,
   "id": "b46ab748",
   "metadata": {},
   "outputs": [],
   "source": [
    "# can be run on initial building data\n",
    "# use baseline from 2027 for last req\n",
    "\n",
    "def can_use_alternative_ghgit(building):\n",
    "    # is campus\n",
    "    \n",
    "    # is portfolio\n",
    "    \n",
    "    # non residential > 50% \"other\"\n",
    "    \n",
    "    # baseline ghgi > 3.5 * standard ghgit"
   ]
  }
 ],
 "metadata": {
  "kernelspec": {
   "display_name": "Python 3 (ipykernel)",
   "language": "python",
   "name": "python3"
  },
  "language_info": {
   "codemirror_mode": {
    "name": "ipython",
    "version": 3
   },
   "file_extension": ".py",
   "mimetype": "text/x-python",
   "name": "python",
   "nbconvert_exporter": "python",
   "pygments_lexer": "ipython3",
   "version": "3.9.16"
  }
 },
 "nbformat": 4,
 "nbformat_minor": 5
}
