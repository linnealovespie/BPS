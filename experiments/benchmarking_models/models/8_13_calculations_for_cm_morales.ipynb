{
 "cells": [
  {
   "cell_type": "markdown",
   "id": "2935a70c-38c6-4e88-85a1-71d6259ce992",
   "metadata": {},
   "source": [
    "# Last-minute calculations for CM Morales\n",
    "\n",
    "## Option 1: Climate Champion Alternative\n",
    "\n",
    "- Revise targets using the timelines set out in the January draft of the policy, in which the first BEPS compliance period began in 2027, to include greenhouse gas intensity targets (GHGIT) that are 68% smaller for all intervals and all building types (assuming no exemptions or loopholes, except for affordable and social housing and community nonprofits).\n",
    "- We estimate this would increase the emissions reductions associated with the policy by approximately 41% from the current June draft, and would result in a 90% reduction in annual emissions by 2040, relative to the 2019 baseline. Am I correct that as the 68% is unchanged from previous modeling, the 41% is good to go as well? **NO, it reduces net emissions from 2027-2050 by an additional 48% compared to the June draft. Overall, it produces 62% less CO2 than the June plan.**\n",
    "- Additional benefits: \n",
    "   - Ramps good union jobs quickly and steadily\n",
    "   - Avoids potential catastrophic policy failure due to supply chain bottlenecks in final compliance cycles. \n",
    "   - Brings life-saving cooling to Seattle homes and workplaces sooner rather than later."
   ]
  },
  {
   "cell_type": "code",
   "execution_count": 1,
   "id": "94f571dc-0391-4d0d-9ae5-88ffc3d8e20b",
   "metadata": {},
   "outputs": [],
   "source": [
    "import pandas as pd\n",
    "import numpy as np\n",
    "import seaborn as sns"
   ]
  },
  {
   "cell_type": "code",
   "execution_count": 7,
   "id": "5edc40eb-2747-4ea8-b843-e9519b6b49ea",
   "metadata": {},
   "outputs": [],
   "source": [
    "from baseline_model import BaselineBEPSModel"
   ]
  },
  {
   "cell_type": "markdown",
   "id": "f0e8b91e-838c-4cbc-8d48-2cf5e4ca3961",
   "metadata": {},
   "source": [
    "## June proposal vs Jan proposal with 68% reduction"
   ]
  },
  {
   "cell_type": "code",
   "execution_count": 3,
   "id": "f0a65c3f-af0f-4df5-98d4-9d0a6a024397",
   "metadata": {},
   "outputs": [],
   "source": [
    "june_no_change = pd.read_csv('june_baseline_8_3.csv')"
   ]
  },
  {
   "cell_type": "code",
   "execution_count": 8,
   "id": "f781478c-30e7-4e14-a142-491db16936cb",
   "metadata": {},
   "outputs": [],
   "source": [
    "june_no_change_emissions = june_no_change['compliant_emissions'].sum()"
   ]
  },
  {
   "cell_type": "code",
   "execution_count": 19,
   "id": "74271d0e-a84e-401b-b577-83797f6e09d9",
   "metadata": {},
   "outputs": [],
   "source": [
    "JAN_TIMELINE_PATH = '../data/input_data/scen_1_reformatted.csv'\n",
    "BUILDING_DATA_PATH = '../data/input_data/building_data_recleaned_8_3.csv'\n",
    "FINES_YEARS = [2030, 2035, 2040, 2045, 2050]\n",
    "FINE_PER_SQFT = 2.5\n",
    "\n",
    "EMISSIONS_PATH = '../data/input_data/energy_emissions.csv'"
   ]
  },
  {
   "cell_type": "code",
   "execution_count": 20,
   "id": "fa3ef4c8-1310-4483-b573-260494d64911",
   "metadata": {},
   "outputs": [],
   "source": [
    "jan_68_reduction_timeline = pd.read_csv(JAN_TIMELINE_PATH)\n",
    "jan_68_reduction_timeline['ghgi'] = jan_68_reduction_timeline['ghgi'] * 0.32\n",
    "jan_68_reduction_timeline.to_csv('jan_68_reduction_timeline.csv')"
   ]
  },
  {
   "cell_type": "code",
   "execution_count": 21,
   "id": "6ceebe7e-4932-49b2-b654-bcbf5db7e45c",
   "metadata": {},
   "outputs": [],
   "source": [
    "jan_with_68_red_model = BaselineBEPSModel(EMISSIONS_PATH, 'jan_68_reduction_timeline.csv', BUILDING_DATA_PATH, FINES_YEARS, FINE_PER_SQFT)"
   ]
  },
  {
   "cell_type": "code",
   "execution_count": 22,
   "id": "3c65fea3-debd-47e2-bc0b-6a0e46e1b4c7",
   "metadata": {},
   "outputs": [
    {
     "name": "stderr",
     "output_type": "stream",
     "text": [
      "/Users/ihc/programming/350_seattle/BPS/experiments/benchmarking_models/models/baseline_model.py:69: SettingWithCopyWarning: \n",
      "A value is trying to be set on a copy of a slice from a DataFrame.\n",
      "Try using .loc[row_indexer,col_indexer] = value instead\n",
      "\n",
      "See the caveats in the documentation: https://pandas.pydata.org/pandas-docs/stable/user_guide/indexing.html#returning-a-view-versus-a-copy\n",
      "  temp_df['year'] = pd.Series([year]*len(temp_df))\n",
      "/Users/ihc/programming/350_seattle/BPS/experiments/benchmarking_models/models/baseline_model.py:70: SettingWithCopyWarning: \n",
      "A value is trying to be set on a copy of a slice from a DataFrame.\n",
      "Try using .loc[row_indexer,col_indexer] = value instead\n",
      "\n",
      "See the caveats in the documentation: https://pandas.pydata.org/pandas-docs/stable/user_guide/indexing.html#returning-a-view-versus-a-copy\n",
      "  temp_df['expected_baseline'] = input_df.apply(lambda building: self._get_expected_baseline(building, year), axis=1)\n",
      "/Users/ihc/programming/350_seattle/BPS/experiments/benchmarking_models/models/baseline_model.py:69: SettingWithCopyWarning: \n",
      "A value is trying to be set on a copy of a slice from a DataFrame.\n",
      "Try using .loc[row_indexer,col_indexer] = value instead\n",
      "\n",
      "See the caveats in the documentation: https://pandas.pydata.org/pandas-docs/stable/user_guide/indexing.html#returning-a-view-versus-a-copy\n",
      "  temp_df['year'] = pd.Series([year]*len(temp_df))\n",
      "/Users/ihc/programming/350_seattle/BPS/experiments/benchmarking_models/models/baseline_model.py:70: SettingWithCopyWarning: \n",
      "A value is trying to be set on a copy of a slice from a DataFrame.\n",
      "Try using .loc[row_indexer,col_indexer] = value instead\n",
      "\n",
      "See the caveats in the documentation: https://pandas.pydata.org/pandas-docs/stable/user_guide/indexing.html#returning-a-view-versus-a-copy\n",
      "  temp_df['expected_baseline'] = input_df.apply(lambda building: self._get_expected_baseline(building, year), axis=1)\n",
      "/Users/ihc/programming/350_seattle/BPS/experiments/benchmarking_models/models/baseline_model.py:69: SettingWithCopyWarning: \n",
      "A value is trying to be set on a copy of a slice from a DataFrame.\n",
      "Try using .loc[row_indexer,col_indexer] = value instead\n",
      "\n",
      "See the caveats in the documentation: https://pandas.pydata.org/pandas-docs/stable/user_guide/indexing.html#returning-a-view-versus-a-copy\n",
      "  temp_df['year'] = pd.Series([year]*len(temp_df))\n",
      "/Users/ihc/programming/350_seattle/BPS/experiments/benchmarking_models/models/baseline_model.py:70: SettingWithCopyWarning: \n",
      "A value is trying to be set on a copy of a slice from a DataFrame.\n",
      "Try using .loc[row_indexer,col_indexer] = value instead\n",
      "\n",
      "See the caveats in the documentation: https://pandas.pydata.org/pandas-docs/stable/user_guide/indexing.html#returning-a-view-versus-a-copy\n",
      "  temp_df['expected_baseline'] = input_df.apply(lambda building: self._get_expected_baseline(building, year), axis=1)\n",
      "/Users/ihc/programming/350_seattle/BPS/experiments/benchmarking_models/models/baseline_model.py:69: SettingWithCopyWarning: \n",
      "A value is trying to be set on a copy of a slice from a DataFrame.\n",
      "Try using .loc[row_indexer,col_indexer] = value instead\n",
      "\n",
      "See the caveats in the documentation: https://pandas.pydata.org/pandas-docs/stable/user_guide/indexing.html#returning-a-view-versus-a-copy\n",
      "  temp_df['year'] = pd.Series([year]*len(temp_df))\n",
      "/Users/ihc/programming/350_seattle/BPS/experiments/benchmarking_models/models/baseline_model.py:70: SettingWithCopyWarning: \n",
      "A value is trying to be set on a copy of a slice from a DataFrame.\n",
      "Try using .loc[row_indexer,col_indexer] = value instead\n",
      "\n",
      "See the caveats in the documentation: https://pandas.pydata.org/pandas-docs/stable/user_guide/indexing.html#returning-a-view-versus-a-copy\n",
      "  temp_df['expected_baseline'] = input_df.apply(lambda building: self._get_expected_baseline(building, year), axis=1)\n",
      "/Users/ihc/programming/350_seattle/BPS/experiments/benchmarking_models/models/baseline_model.py:69: SettingWithCopyWarning: \n",
      "A value is trying to be set on a copy of a slice from a DataFrame.\n",
      "Try using .loc[row_indexer,col_indexer] = value instead\n",
      "\n",
      "See the caveats in the documentation: https://pandas.pydata.org/pandas-docs/stable/user_guide/indexing.html#returning-a-view-versus-a-copy\n",
      "  temp_df['year'] = pd.Series([year]*len(temp_df))\n",
      "/Users/ihc/programming/350_seattle/BPS/experiments/benchmarking_models/models/baseline_model.py:70: SettingWithCopyWarning: \n",
      "A value is trying to be set on a copy of a slice from a DataFrame.\n",
      "Try using .loc[row_indexer,col_indexer] = value instead\n",
      "\n",
      "See the caveats in the documentation: https://pandas.pydata.org/pandas-docs/stable/user_guide/indexing.html#returning-a-view-versus-a-copy\n",
      "  temp_df['expected_baseline'] = input_df.apply(lambda building: self._get_expected_baseline(building, year), axis=1)\n",
      "/Users/ihc/programming/350_seattle/BPS/experiments/benchmarking_models/models/baseline_model.py:69: SettingWithCopyWarning: \n",
      "A value is trying to be set on a copy of a slice from a DataFrame.\n",
      "Try using .loc[row_indexer,col_indexer] = value instead\n",
      "\n",
      "See the caveats in the documentation: https://pandas.pydata.org/pandas-docs/stable/user_guide/indexing.html#returning-a-view-versus-a-copy\n",
      "  temp_df['year'] = pd.Series([year]*len(temp_df))\n",
      "/Users/ihc/programming/350_seattle/BPS/experiments/benchmarking_models/models/baseline_model.py:70: SettingWithCopyWarning: \n",
      "A value is trying to be set on a copy of a slice from a DataFrame.\n",
      "Try using .loc[row_indexer,col_indexer] = value instead\n",
      "\n",
      "See the caveats in the documentation: https://pandas.pydata.org/pandas-docs/stable/user_guide/indexing.html#returning-a-view-versus-a-copy\n",
      "  temp_df['expected_baseline'] = input_df.apply(lambda building: self._get_expected_baseline(building, year), axis=1)\n",
      "/Users/ihc/programming/350_seattle/BPS/experiments/benchmarking_models/models/baseline_model.py:69: SettingWithCopyWarning: \n",
      "A value is trying to be set on a copy of a slice from a DataFrame.\n",
      "Try using .loc[row_indexer,col_indexer] = value instead\n",
      "\n",
      "See the caveats in the documentation: https://pandas.pydata.org/pandas-docs/stable/user_guide/indexing.html#returning-a-view-versus-a-copy\n",
      "  temp_df['year'] = pd.Series([year]*len(temp_df))\n",
      "/Users/ihc/programming/350_seattle/BPS/experiments/benchmarking_models/models/baseline_model.py:70: SettingWithCopyWarning: \n",
      "A value is trying to be set on a copy of a slice from a DataFrame.\n",
      "Try using .loc[row_indexer,col_indexer] = value instead\n",
      "\n",
      "See the caveats in the documentation: https://pandas.pydata.org/pandas-docs/stable/user_guide/indexing.html#returning-a-view-versus-a-copy\n",
      "  temp_df['expected_baseline'] = input_df.apply(lambda building: self._get_expected_baseline(building, year), axis=1)\n",
      "/Users/ihc/programming/350_seattle/BPS/experiments/benchmarking_models/models/baseline_model.py:69: SettingWithCopyWarning: \n",
      "A value is trying to be set on a copy of a slice from a DataFrame.\n",
      "Try using .loc[row_indexer,col_indexer] = value instead\n",
      "\n",
      "See the caveats in the documentation: https://pandas.pydata.org/pandas-docs/stable/user_guide/indexing.html#returning-a-view-versus-a-copy\n",
      "  temp_df['year'] = pd.Series([year]*len(temp_df))\n",
      "/Users/ihc/programming/350_seattle/BPS/experiments/benchmarking_models/models/baseline_model.py:70: SettingWithCopyWarning: \n",
      "A value is trying to be set on a copy of a slice from a DataFrame.\n",
      "Try using .loc[row_indexer,col_indexer] = value instead\n",
      "\n",
      "See the caveats in the documentation: https://pandas.pydata.org/pandas-docs/stable/user_guide/indexing.html#returning-a-view-versus-a-copy\n",
      "  temp_df['expected_baseline'] = input_df.apply(lambda building: self._get_expected_baseline(building, year), axis=1)\n",
      "/Users/ihc/programming/350_seattle/BPS/experiments/benchmarking_models/models/baseline_model.py:69: SettingWithCopyWarning: \n",
      "A value is trying to be set on a copy of a slice from a DataFrame.\n",
      "Try using .loc[row_indexer,col_indexer] = value instead\n",
      "\n",
      "See the caveats in the documentation: https://pandas.pydata.org/pandas-docs/stable/user_guide/indexing.html#returning-a-view-versus-a-copy\n",
      "  temp_df['year'] = pd.Series([year]*len(temp_df))\n",
      "/Users/ihc/programming/350_seattle/BPS/experiments/benchmarking_models/models/baseline_model.py:70: SettingWithCopyWarning: \n",
      "A value is trying to be set on a copy of a slice from a DataFrame.\n",
      "Try using .loc[row_indexer,col_indexer] = value instead\n",
      "\n",
      "See the caveats in the documentation: https://pandas.pydata.org/pandas-docs/stable/user_guide/indexing.html#returning-a-view-versus-a-copy\n",
      "  temp_df['expected_baseline'] = input_df.apply(lambda building: self._get_expected_baseline(building, year), axis=1)\n",
      "/Users/ihc/programming/350_seattle/BPS/experiments/benchmarking_models/models/baseline_model.py:69: SettingWithCopyWarning: \n",
      "A value is trying to be set on a copy of a slice from a DataFrame.\n",
      "Try using .loc[row_indexer,col_indexer] = value instead\n",
      "\n",
      "See the caveats in the documentation: https://pandas.pydata.org/pandas-docs/stable/user_guide/indexing.html#returning-a-view-versus-a-copy\n",
      "  temp_df['year'] = pd.Series([year]*len(temp_df))\n",
      "/Users/ihc/programming/350_seattle/BPS/experiments/benchmarking_models/models/baseline_model.py:70: SettingWithCopyWarning: \n",
      "A value is trying to be set on a copy of a slice from a DataFrame.\n",
      "Try using .loc[row_indexer,col_indexer] = value instead\n",
      "\n",
      "See the caveats in the documentation: https://pandas.pydata.org/pandas-docs/stable/user_guide/indexing.html#returning-a-view-versus-a-copy\n",
      "  temp_df['expected_baseline'] = input_df.apply(lambda building: self._get_expected_baseline(building, year), axis=1)\n",
      "/Users/ihc/programming/350_seattle/BPS/experiments/benchmarking_models/models/baseline_model.py:69: SettingWithCopyWarning: \n",
      "A value is trying to be set on a copy of a slice from a DataFrame.\n",
      "Try using .loc[row_indexer,col_indexer] = value instead\n",
      "\n",
      "See the caveats in the documentation: https://pandas.pydata.org/pandas-docs/stable/user_guide/indexing.html#returning-a-view-versus-a-copy\n",
      "  temp_df['year'] = pd.Series([year]*len(temp_df))\n",
      "/Users/ihc/programming/350_seattle/BPS/experiments/benchmarking_models/models/baseline_model.py:70: SettingWithCopyWarning: \n",
      "A value is trying to be set on a copy of a slice from a DataFrame.\n",
      "Try using .loc[row_indexer,col_indexer] = value instead\n",
      "\n",
      "See the caveats in the documentation: https://pandas.pydata.org/pandas-docs/stable/user_guide/indexing.html#returning-a-view-versus-a-copy\n",
      "  temp_df['expected_baseline'] = input_df.apply(lambda building: self._get_expected_baseline(building, year), axis=1)\n",
      "/Users/ihc/programming/350_seattle/BPS/experiments/benchmarking_models/models/baseline_model.py:69: SettingWithCopyWarning: \n",
      "A value is trying to be set on a copy of a slice from a DataFrame.\n",
      "Try using .loc[row_indexer,col_indexer] = value instead\n",
      "\n",
      "See the caveats in the documentation: https://pandas.pydata.org/pandas-docs/stable/user_guide/indexing.html#returning-a-view-versus-a-copy\n",
      "  temp_df['year'] = pd.Series([year]*len(temp_df))\n",
      "/Users/ihc/programming/350_seattle/BPS/experiments/benchmarking_models/models/baseline_model.py:70: SettingWithCopyWarning: \n",
      "A value is trying to be set on a copy of a slice from a DataFrame.\n",
      "Try using .loc[row_indexer,col_indexer] = value instead\n",
      "\n",
      "See the caveats in the documentation: https://pandas.pydata.org/pandas-docs/stable/user_guide/indexing.html#returning-a-view-versus-a-copy\n",
      "  temp_df['expected_baseline'] = input_df.apply(lambda building: self._get_expected_baseline(building, year), axis=1)\n",
      "/Users/ihc/programming/350_seattle/BPS/experiments/benchmarking_models/models/baseline_model.py:69: SettingWithCopyWarning: \n",
      "A value is trying to be set on a copy of a slice from a DataFrame.\n",
      "Try using .loc[row_indexer,col_indexer] = value instead\n",
      "\n",
      "See the caveats in the documentation: https://pandas.pydata.org/pandas-docs/stable/user_guide/indexing.html#returning-a-view-versus-a-copy\n",
      "  temp_df['year'] = pd.Series([year]*len(temp_df))\n",
      "/Users/ihc/programming/350_seattle/BPS/experiments/benchmarking_models/models/baseline_model.py:70: SettingWithCopyWarning: \n",
      "A value is trying to be set on a copy of a slice from a DataFrame.\n",
      "Try using .loc[row_indexer,col_indexer] = value instead\n",
      "\n",
      "See the caveats in the documentation: https://pandas.pydata.org/pandas-docs/stable/user_guide/indexing.html#returning-a-view-versus-a-copy\n",
      "  temp_df['expected_baseline'] = input_df.apply(lambda building: self._get_expected_baseline(building, year), axis=1)\n",
      "/Users/ihc/programming/350_seattle/BPS/experiments/benchmarking_models/models/baseline_model.py:69: SettingWithCopyWarning: \n",
      "A value is trying to be set on a copy of a slice from a DataFrame.\n",
      "Try using .loc[row_indexer,col_indexer] = value instead\n",
      "\n",
      "See the caveats in the documentation: https://pandas.pydata.org/pandas-docs/stable/user_guide/indexing.html#returning-a-view-versus-a-copy\n",
      "  temp_df['year'] = pd.Series([year]*len(temp_df))\n",
      "/Users/ihc/programming/350_seattle/BPS/experiments/benchmarking_models/models/baseline_model.py:70: SettingWithCopyWarning: \n",
      "A value is trying to be set on a copy of a slice from a DataFrame.\n",
      "Try using .loc[row_indexer,col_indexer] = value instead\n",
      "\n",
      "See the caveats in the documentation: https://pandas.pydata.org/pandas-docs/stable/user_guide/indexing.html#returning-a-view-versus-a-copy\n",
      "  temp_df['expected_baseline'] = input_df.apply(lambda building: self._get_expected_baseline(building, year), axis=1)\n",
      "/Users/ihc/programming/350_seattle/BPS/experiments/benchmarking_models/models/baseline_model.py:69: SettingWithCopyWarning: \n",
      "A value is trying to be set on a copy of a slice from a DataFrame.\n",
      "Try using .loc[row_indexer,col_indexer] = value instead\n",
      "\n",
      "See the caveats in the documentation: https://pandas.pydata.org/pandas-docs/stable/user_guide/indexing.html#returning-a-view-versus-a-copy\n",
      "  temp_df['year'] = pd.Series([year]*len(temp_df))\n",
      "/Users/ihc/programming/350_seattle/BPS/experiments/benchmarking_models/models/baseline_model.py:70: SettingWithCopyWarning: \n",
      "A value is trying to be set on a copy of a slice from a DataFrame.\n",
      "Try using .loc[row_indexer,col_indexer] = value instead\n",
      "\n",
      "See the caveats in the documentation: https://pandas.pydata.org/pandas-docs/stable/user_guide/indexing.html#returning-a-view-versus-a-copy\n",
      "  temp_df['expected_baseline'] = input_df.apply(lambda building: self._get_expected_baseline(building, year), axis=1)\n",
      "/Users/ihc/programming/350_seattle/BPS/experiments/benchmarking_models/models/baseline_model.py:69: SettingWithCopyWarning: \n",
      "A value is trying to be set on a copy of a slice from a DataFrame.\n",
      "Try using .loc[row_indexer,col_indexer] = value instead\n",
      "\n",
      "See the caveats in the documentation: https://pandas.pydata.org/pandas-docs/stable/user_guide/indexing.html#returning-a-view-versus-a-copy\n",
      "  temp_df['year'] = pd.Series([year]*len(temp_df))\n",
      "/Users/ihc/programming/350_seattle/BPS/experiments/benchmarking_models/models/baseline_model.py:70: SettingWithCopyWarning: \n",
      "A value is trying to be set on a copy of a slice from a DataFrame.\n",
      "Try using .loc[row_indexer,col_indexer] = value instead\n",
      "\n",
      "See the caveats in the documentation: https://pandas.pydata.org/pandas-docs/stable/user_guide/indexing.html#returning-a-view-versus-a-copy\n",
      "  temp_df['expected_baseline'] = input_df.apply(lambda building: self._get_expected_baseline(building, year), axis=1)\n",
      "/Users/ihc/programming/350_seattle/BPS/experiments/benchmarking_models/models/baseline_model.py:69: SettingWithCopyWarning: \n",
      "A value is trying to be set on a copy of a slice from a DataFrame.\n",
      "Try using .loc[row_indexer,col_indexer] = value instead\n",
      "\n",
      "See the caveats in the documentation: https://pandas.pydata.org/pandas-docs/stable/user_guide/indexing.html#returning-a-view-versus-a-copy\n",
      "  temp_df['year'] = pd.Series([year]*len(temp_df))\n",
      "/Users/ihc/programming/350_seattle/BPS/experiments/benchmarking_models/models/baseline_model.py:70: SettingWithCopyWarning: \n",
      "A value is trying to be set on a copy of a slice from a DataFrame.\n",
      "Try using .loc[row_indexer,col_indexer] = value instead\n",
      "\n",
      "See the caveats in the documentation: https://pandas.pydata.org/pandas-docs/stable/user_guide/indexing.html#returning-a-view-versus-a-copy\n",
      "  temp_df['expected_baseline'] = input_df.apply(lambda building: self._get_expected_baseline(building, year), axis=1)\n",
      "/Users/ihc/programming/350_seattle/BPS/experiments/benchmarking_models/models/baseline_model.py:69: SettingWithCopyWarning: \n",
      "A value is trying to be set on a copy of a slice from a DataFrame.\n",
      "Try using .loc[row_indexer,col_indexer] = value instead\n",
      "\n",
      "See the caveats in the documentation: https://pandas.pydata.org/pandas-docs/stable/user_guide/indexing.html#returning-a-view-versus-a-copy\n",
      "  temp_df['year'] = pd.Series([year]*len(temp_df))\n",
      "/Users/ihc/programming/350_seattle/BPS/experiments/benchmarking_models/models/baseline_model.py:70: SettingWithCopyWarning: \n",
      "A value is trying to be set on a copy of a slice from a DataFrame.\n",
      "Try using .loc[row_indexer,col_indexer] = value instead\n",
      "\n",
      "See the caveats in the documentation: https://pandas.pydata.org/pandas-docs/stable/user_guide/indexing.html#returning-a-view-versus-a-copy\n",
      "  temp_df['expected_baseline'] = input_df.apply(lambda building: self._get_expected_baseline(building, year), axis=1)\n",
      "/Users/ihc/programming/350_seattle/BPS/experiments/benchmarking_models/models/baseline_model.py:69: SettingWithCopyWarning: \n",
      "A value is trying to be set on a copy of a slice from a DataFrame.\n",
      "Try using .loc[row_indexer,col_indexer] = value instead\n",
      "\n",
      "See the caveats in the documentation: https://pandas.pydata.org/pandas-docs/stable/user_guide/indexing.html#returning-a-view-versus-a-copy\n",
      "  temp_df['year'] = pd.Series([year]*len(temp_df))\n",
      "/Users/ihc/programming/350_seattle/BPS/experiments/benchmarking_models/models/baseline_model.py:70: SettingWithCopyWarning: \n",
      "A value is trying to be set on a copy of a slice from a DataFrame.\n",
      "Try using .loc[row_indexer,col_indexer] = value instead\n",
      "\n",
      "See the caveats in the documentation: https://pandas.pydata.org/pandas-docs/stable/user_guide/indexing.html#returning-a-view-versus-a-copy\n",
      "  temp_df['expected_baseline'] = input_df.apply(lambda building: self._get_expected_baseline(building, year), axis=1)\n",
      "/Users/ihc/programming/350_seattle/BPS/experiments/benchmarking_models/models/baseline_model.py:69: SettingWithCopyWarning: \n",
      "A value is trying to be set on a copy of a slice from a DataFrame.\n",
      "Try using .loc[row_indexer,col_indexer] = value instead\n",
      "\n",
      "See the caveats in the documentation: https://pandas.pydata.org/pandas-docs/stable/user_guide/indexing.html#returning-a-view-versus-a-copy\n",
      "  temp_df['year'] = pd.Series([year]*len(temp_df))\n",
      "/Users/ihc/programming/350_seattle/BPS/experiments/benchmarking_models/models/baseline_model.py:70: SettingWithCopyWarning: \n",
      "A value is trying to be set on a copy of a slice from a DataFrame.\n",
      "Try using .loc[row_indexer,col_indexer] = value instead\n",
      "\n",
      "See the caveats in the documentation: https://pandas.pydata.org/pandas-docs/stable/user_guide/indexing.html#returning-a-view-versus-a-copy\n",
      "  temp_df['expected_baseline'] = input_df.apply(lambda building: self._get_expected_baseline(building, year), axis=1)\n",
      "/Users/ihc/programming/350_seattle/BPS/experiments/benchmarking_models/models/baseline_model.py:69: SettingWithCopyWarning: \n",
      "A value is trying to be set on a copy of a slice from a DataFrame.\n",
      "Try using .loc[row_indexer,col_indexer] = value instead\n",
      "\n",
      "See the caveats in the documentation: https://pandas.pydata.org/pandas-docs/stable/user_guide/indexing.html#returning-a-view-versus-a-copy\n",
      "  temp_df['year'] = pd.Series([year]*len(temp_df))\n",
      "/Users/ihc/programming/350_seattle/BPS/experiments/benchmarking_models/models/baseline_model.py:70: SettingWithCopyWarning: \n",
      "A value is trying to be set on a copy of a slice from a DataFrame.\n",
      "Try using .loc[row_indexer,col_indexer] = value instead\n",
      "\n",
      "See the caveats in the documentation: https://pandas.pydata.org/pandas-docs/stable/user_guide/indexing.html#returning-a-view-versus-a-copy\n",
      "  temp_df['expected_baseline'] = input_df.apply(lambda building: self._get_expected_baseline(building, year), axis=1)\n",
      "/Users/ihc/programming/350_seattle/BPS/experiments/benchmarking_models/models/baseline_model.py:69: SettingWithCopyWarning: \n",
      "A value is trying to be set on a copy of a slice from a DataFrame.\n",
      "Try using .loc[row_indexer,col_indexer] = value instead\n",
      "\n",
      "See the caveats in the documentation: https://pandas.pydata.org/pandas-docs/stable/user_guide/indexing.html#returning-a-view-versus-a-copy\n",
      "  temp_df['year'] = pd.Series([year]*len(temp_df))\n",
      "/Users/ihc/programming/350_seattle/BPS/experiments/benchmarking_models/models/baseline_model.py:70: SettingWithCopyWarning: \n",
      "A value is trying to be set on a copy of a slice from a DataFrame.\n",
      "Try using .loc[row_indexer,col_indexer] = value instead\n",
      "\n",
      "See the caveats in the documentation: https://pandas.pydata.org/pandas-docs/stable/user_guide/indexing.html#returning-a-view-versus-a-copy\n",
      "  temp_df['expected_baseline'] = input_df.apply(lambda building: self._get_expected_baseline(building, year), axis=1)\n",
      "/Users/ihc/programming/350_seattle/BPS/experiments/benchmarking_models/models/baseline_model.py:69: SettingWithCopyWarning: \n",
      "A value is trying to be set on a copy of a slice from a DataFrame.\n",
      "Try using .loc[row_indexer,col_indexer] = value instead\n",
      "\n",
      "See the caveats in the documentation: https://pandas.pydata.org/pandas-docs/stable/user_guide/indexing.html#returning-a-view-versus-a-copy\n",
      "  temp_df['year'] = pd.Series([year]*len(temp_df))\n",
      "/Users/ihc/programming/350_seattle/BPS/experiments/benchmarking_models/models/baseline_model.py:70: SettingWithCopyWarning: \n",
      "A value is trying to be set on a copy of a slice from a DataFrame.\n",
      "Try using .loc[row_indexer,col_indexer] = value instead\n",
      "\n",
      "See the caveats in the documentation: https://pandas.pydata.org/pandas-docs/stable/user_guide/indexing.html#returning-a-view-versus-a-copy\n",
      "  temp_df['expected_baseline'] = input_df.apply(lambda building: self._get_expected_baseline(building, year), axis=1)\n",
      "/Users/ihc/programming/350_seattle/BPS/experiments/benchmarking_models/models/baseline_model.py:69: SettingWithCopyWarning: \n",
      "A value is trying to be set on a copy of a slice from a DataFrame.\n",
      "Try using .loc[row_indexer,col_indexer] = value instead\n",
      "\n",
      "See the caveats in the documentation: https://pandas.pydata.org/pandas-docs/stable/user_guide/indexing.html#returning-a-view-versus-a-copy\n",
      "  temp_df['year'] = pd.Series([year]*len(temp_df))\n",
      "/Users/ihc/programming/350_seattle/BPS/experiments/benchmarking_models/models/baseline_model.py:70: SettingWithCopyWarning: \n",
      "A value is trying to be set on a copy of a slice from a DataFrame.\n",
      "Try using .loc[row_indexer,col_indexer] = value instead\n",
      "\n",
      "See the caveats in the documentation: https://pandas.pydata.org/pandas-docs/stable/user_guide/indexing.html#returning-a-view-versus-a-copy\n",
      "  temp_df['expected_baseline'] = input_df.apply(lambda building: self._get_expected_baseline(building, year), axis=1)\n"
     ]
    },
    {
     "name": "stdout",
     "output_type": "stream",
     "text": [
      "Model calculations complete. Access the model dataframe as model_name.scenario_results\n"
     ]
    }
   ],
   "source": [
    "jan_with_68_red_model.calculate_baseline_model(2027, 2050)"
   ]
  },
  {
   "cell_type": "code",
   "execution_count": 14,
   "id": "dd89e16f-48e5-4354-8a7b-4248ef7e162c",
   "metadata": {},
   "outputs": [],
   "source": [
    "jan_with_68_red_model.scenario_results.to_csv('jan_with_68_reduction_full_model.csv')"
   ]
  },
  {
   "cell_type": "code",
   "execution_count": 26,
   "id": "6c1d284e-679f-43e4-94f3-0755ef39f738",
   "metadata": {},
   "outputs": [],
   "source": [
    "jan_with_68_red_emissions = jan_with_68_red_model.scenario_results['compliant_emissions'].sum()"
   ]
  },
  {
   "cell_type": "code",
   "execution_count": 27,
   "id": "5c26d03b-cf56-4331-b941-f8df69e80dbc",
   "metadata": {},
   "outputs": [
    {
     "data": {
      "text/plain": [
       "1806263161.6562467"
      ]
     },
     "execution_count": 27,
     "metadata": {},
     "output_type": "execute_result"
    }
   ],
   "source": [
    "jan_with_68_red_emissions"
   ]
  },
  {
   "cell_type": "code",
   "execution_count": 18,
   "id": "ee11e8b5-e18d-4809-806f-9feeba646176",
   "metadata": {},
   "outputs": [
    {
     "data": {
      "text/plain": [
       "4814919286.478417"
      ]
     },
     "execution_count": 18,
     "metadata": {},
     "output_type": "execute_result"
    }
   ],
   "source": [
    "june_no_change_emissions"
   ]
  },
  {
   "cell_type": "code",
   "execution_count": 28,
   "id": "664527d9-bae1-4118-9a9c-891482185fe0",
   "metadata": {},
   "outputs": [
    {
     "data": {
      "text/plain": [
       "0.6248611754035592"
      ]
     },
     "execution_count": 28,
     "metadata": {},
     "output_type": "execute_result"
    }
   ],
   "source": [
    "# what percent of june emissions is the jan w/ reductions emissions?\n",
    "\n",
    "(june_no_change_emissions - jan_with_68_red_emissions)/june_no_change_emissions"
   ]
  },
  {
   "cell_type": "markdown",
   "id": "e32ba68d-5d79-4c76-af65-0df51d1ff01b",
   "metadata": {},
   "source": [
    "The January timeline with a 68% reduction in targets produces 62% less CO2 than the June timeline.\n",
    "\n",
    "## January w/ reductions vs. June when compared with the baseline"
   ]
  },
  {
   "cell_type": "code",
   "execution_count": 29,
   "id": "0acb3578-04a7-4c52-9af3-cfd7f1cbf050",
   "metadata": {},
   "outputs": [
    {
     "data": {
      "text/plain": [
       "459452209.8585"
      ]
     },
     "execution_count": 29,
     "metadata": {},
     "output_type": "execute_result"
    }
   ],
   "source": [
    "JAN_BASELINE_MODEL_PATH = 'jan_baseline_8_3.csv'\n",
    "jan_baseline = pd.read_csv(JAN_BASELINE_MODEL_PATH)\n",
    "\n",
    "# emissions in 2026 will be the same as emissions in 2027 w/o improvements to infrastructure\n",
    "JAN_BASELINE_2026_EMISSIONS_KG = jan_baseline[jan_baseline['year'] == 2027]['expected_baseline'].sum()\n",
    "JAN_BASELINE_2026_EMISSIONS_KG"
   ]
  },
  {
   "cell_type": "code",
   "execution_count": 30,
   "id": "0d52edd4-7647-4c18-85a2-60b5f5afc73b",
   "metadata": {},
   "outputs": [],
   "source": [
    "emissions_with_no_improvements_2027_2050 = JAN_BASELINE_2026_EMISSIONS_KG * 24"
   ]
  },
  {
   "cell_type": "code",
   "execution_count": 31,
   "id": "0650e275-774c-4fa9-a5a0-6eab0afaa961",
   "metadata": {},
   "outputs": [
    {
     "data": {
      "text/plain": [
       "0.8361941384672221"
      ]
     },
     "execution_count": 31,
     "metadata": {},
     "output_type": "execute_result"
    }
   ],
   "source": [
    "# reductions with Jan w/ 68% reduction\n",
    "\n",
    "(emissions_with_no_improvements_2027_2050 - jan_with_68_red_emissions) / emissions_with_no_improvements_2027_2050"
   ]
  },
  {
   "cell_type": "code",
   "execution_count": 32,
   "id": "fe9a131b-c7cb-494a-b045-2016b4e930f2",
   "metadata": {},
   "outputs": [
    {
     "data": {
      "text/plain": [
       "0.5633460180801236"
      ]
     },
     "execution_count": 32,
     "metadata": {},
     "output_type": "execute_result"
    }
   ],
   "source": [
    "# reductions with June plan\n",
    "\n",
    "(emissions_with_no_improvements_2027_2050 - june_no_change_emissions) / emissions_with_no_improvements_2027_2050"
   ]
  },
  {
   "cell_type": "code",
   "execution_count": 34,
   "id": "755b1f69-e6f6-4ce4-a582-312d8a3bec9f",
   "metadata": {},
   "outputs": [
    {
     "data": {
      "text/plain": [
       "9220589874.947754"
      ]
     },
     "execution_count": 34,
     "metadata": {},
     "output_type": "execute_result"
    }
   ],
   "source": [
    "jan_with_68_net_reduction = emissions_with_no_improvements_2027_2050 - jan_with_68_red_emissions\n",
    "jan_with_68_net_reduction"
   ]
  },
  {
   "cell_type": "code",
   "execution_count": 35,
   "id": "c039a4c0-626f-490f-99de-666b814c9055",
   "metadata": {},
   "outputs": [
    {
     "data": {
      "text/plain": [
       "6211933750.125583"
      ]
     },
     "execution_count": 35,
     "metadata": {},
     "output_type": "execute_result"
    }
   ],
   "source": [
    "june_net_reduction = emissions_with_no_improvements_2027_2050 - june_no_change_emissions\n",
    "june_net_reduction"
   ]
  },
  {
   "cell_type": "code",
   "execution_count": 36,
   "id": "3f08e256-5cd6-48ec-a264-397501f7859a",
   "metadata": {},
   "outputs": [
    {
     "data": {
      "text/plain": [
       "1.4843348699205536"
      ]
     },
     "execution_count": 36,
     "metadata": {},
     "output_type": "execute_result"
    }
   ],
   "source": [
    "jan_with_68_net_reduction / june_net_reduction"
   ]
  },
  {
   "cell_type": "markdown",
   "id": "94bc5ac3-cb3b-4b22-a16b-525bc2e870ac",
   "metadata": {},
   "source": [
    "January plan with 68% reduction results in a 48% larger reduction in total emissions 2027-2050 than the June plan.\n",
    "\n",
    "That is calculated by:\n",
    "\n",
    "`(net_jan_reduction / net_june_reduction) - 1 = 1.48 - 1 = 0.48 = 48%`\n",
    "\n",
    "I have no idea where they're getting 41%. I suspect it's from doing something like summing the emissions in the 2019 dataset, without adjusting for the changes in emissions factors by 2026."
   ]
  },
  {
   "cell_type": "markdown",
   "id": "0d4aecd3-cd96-407c-ace2-390cfc8ebc2a",
   "metadata": {},
   "source": [
    "## Option 2: Climate Leader Alternative\n",
    "\n",
    "- Revise the policy to use timelines and targets from OSE’s January draft BEPS policy, in which the first BEPS compliance period began in 2027, for publicly owned buildings and large buildings over 90,000 square feet. Maintain current draft targets for all other building types.\n",
    "- We estimate this would decrease emissions reductions associated with the policy by approximately 20.30% from the current June draft, and would result in a 70.84% reduction in annual emissions by 2040, relative to the 2019 baseline. Would it be easy to get these numbers by using Jan timeline for buildings over 90K sq ft and the June timeline for smaller buildings? **20.2% reduction from June, 71.5% reduction in annual emissions by 2040**\n",
    "- And I hate to say it, but there's some confusion over the publicly owned buildings part -- would it be reasonably easy to model Jan for >90K sq. ft., June for smaller?\n",
    "\n",
    "All of these questions will be answered with the following model:\n",
    "- 90k+ sq ft buildings will use the Jan. plan\n",
    "- < 90k sq ft buildings will use the June plan\n",
    "- Public/private status will be ignored"
   ]
  },
  {
   "cell_type": "code",
   "execution_count": 54,
   "id": "fcccb146-3949-4db3-a3cc-0816b567526a",
   "metadata": {},
   "outputs": [],
   "source": [
    "# Combine the Jan model for buildings > 90k sq ft and the June model for <90k sq ft\n",
    "# A and B buildings are buildings above 90k sq ft in the classification scheme\n",
    "\n",
    "jan_90k_plus_buildings = jan_baseline[jan_baseline['sq_ft_classification'].isin(['A', 'B'])]"
   ]
  },
  {
   "cell_type": "code",
   "execution_count": 44,
   "id": "60a29a6f-a6cc-442f-9581-10555548a465",
   "metadata": {},
   "outputs": [],
   "source": [
    "june_less_than_90k_buildings = june_no_change[~june_no_change['sq_ft_classification'].isin(['A', 'B'])]"
   ]
  },
  {
   "cell_type": "code",
   "execution_count": 45,
   "id": "f6342fc8-128a-4ed6-bd44-4432ba382ddc",
   "metadata": {},
   "outputs": [
    {
     "data": {
      "text/plain": [
       "65400"
      ]
     },
     "execution_count": 45,
     "metadata": {},
     "output_type": "execute_result"
    }
   ],
   "source": [
    "len(june_less_than_90k_buildings)"
   ]
  },
  {
   "cell_type": "code",
   "execution_count": 48,
   "id": "2ff819a7-02ff-4774-8b2c-b133fcec4b93",
   "metadata": {},
   "outputs": [],
   "source": [
    "option_2_buildings = pd.concat([jan_90k_plus_buildings, june_less_than_90k_buildings], axis=0)"
   ]
  },
  {
   "cell_type": "code",
   "execution_count": 50,
   "id": "b21b4cc2-e177-4980-8cef-fbef37b32ab7",
   "metadata": {},
   "outputs": [
    {
     "data": {
      "text/plain": [
       "True"
      ]
     },
     "execution_count": 50,
     "metadata": {},
     "output_type": "execute_result"
    }
   ],
   "source": [
    "# sanity check\n",
    "\n",
    "len(option_2_buildings) == len(jan_baseline)"
   ]
  },
  {
   "cell_type": "markdown",
   "id": "d9b78ac4-0e33-4fc0-b20e-3bd9124e01de",
   "metadata": {},
   "source": [
    "What is the emissions for Option 2 vs. the June plan?"
   ]
  },
  {
   "cell_type": "code",
   "execution_count": 53,
   "id": "3f6b18e0-1556-448d-9010-b4f6bf7c77ac",
   "metadata": {},
   "outputs": [
    {
     "data": {
      "text/plain": [
       "0.20222879058681817"
      ]
     },
     "execution_count": 53,
     "metadata": {},
     "output_type": "execute_result"
    }
   ],
   "source": [
    "(june_no_change_emissions - option_2_buildings['compliant_emissions'].sum()) / june_no_change_emissions"
   ]
  },
  {
   "cell_type": "markdown",
   "id": "fbd3a80b-bea8-4dcb-b021-a8f96d51bcae",
   "metadata": {},
   "source": [
    "Option 2 leads to a 20.2% reduction in emissions between 2027 and 2050 compared to the June proposal.\n",
    "\n",
    "What is the emissions in 2040 with this combo vs. the baseline?"
   ]
  },
  {
   "cell_type": "code",
   "execution_count": 51,
   "id": "d649808c-9d25-40a8-a1dc-cfaeffdf1319",
   "metadata": {},
   "outputs": [],
   "source": [
    "option_2_in_2040 = option_2_buildings[option_2_buildings['year'] == 2040]['compliant_emissions'].sum()"
   ]
  },
  {
   "cell_type": "code",
   "execution_count": 52,
   "id": "29a7b28c-3a80-4445-8a29-2b05031a6f03",
   "metadata": {},
   "outputs": [
    {
     "data": {
      "text/plain": [
       "0.29458787648770735"
      ]
     },
     "execution_count": 52,
     "metadata": {},
     "output_type": "execute_result"
    }
   ],
   "source": [
    "option_2_in_2040 / JAN_BASELINE_2026_EMISSIONS_KG"
   ]
  },
  {
   "cell_type": "markdown",
   "id": "b5c344a9-c6e0-421e-955f-e6b43f7c6aee",
   "metadata": {},
   "source": [
    "So Option 2 gives us a 71.5% reduction in annual emissions by 2040."
   ]
  },
  {
   "cell_type": "code",
   "execution_count": 55,
   "id": "f2d94bbc-fad7-4e32-9acb-5ba33e5829ec",
   "metadata": {},
   "outputs": [],
   "source": [
    "option_2_buildings.to_csv('opt_2_climate_leader_model.csv')"
   ]
  },
  {
   "cell_type": "markdown",
   "id": "f4660cb7-3c26-4aab-8374-0abcd0bfdc49",
   "metadata": {},
   "source": [
    "## Visualize it"
   ]
  },
  {
   "cell_type": "code",
   "execution_count": 58,
   "id": "357865ee-0a4e-4c4e-9d34-cf59e1a513be",
   "metadata": {},
   "outputs": [],
   "source": [
    "june_baseline_annual = june_no_change.groupby(by='year').agg({'compliant_emissions': 'sum'})\n",
    "june_baseline_annual.columns = ['June Proposal']\n",
    "june_baseline_annual['June Proposal'] = june_baseline_annual['June Proposal'] / 1000.0"
   ]
  },
  {
   "cell_type": "code",
   "execution_count": 59,
   "id": "d1f90528-1efc-4d73-8b68-89d4630d6ee9",
   "metadata": {},
   "outputs": [],
   "source": [
    "option_1_annual = jan_with_68_red_model.scenario_results.groupby(by='year').agg({'compliant_emissions': 'sum'})\n",
    "option_1_annual.columns = ['Option 1: Climate Champion']\n",
    "option_1_annual['Option 1: Climate Champion'] = option_1_annual['Option 1: Climate Champion'] / 1000.0"
   ]
  },
  {
   "cell_type": "code",
   "execution_count": 60,
   "id": "6014aa29-61f9-4f7c-ac82-e0d9660d63aa",
   "metadata": {},
   "outputs": [],
   "source": [
    "option_2_annual = option_2_buildings.groupby(by='year').agg({'compliant_emissions': 'sum'})\n",
    "option_2_annual.columns = ['Option 2: Climate Leader']\n",
    "option_2_annual['Option 2: Climate Leader'] = option_2_annual['Option 2: Climate Leader'] / 1000.0"
   ]
  },
  {
   "cell_type": "code",
   "execution_count": 61,
   "id": "b40b216a-6b85-476f-aad7-bc9a73781470",
   "metadata": {},
   "outputs": [
    {
     "data": {
      "text/html": [
       "<div>\n",
       "<style scoped>\n",
       "    .dataframe tbody tr th:only-of-type {\n",
       "        vertical-align: middle;\n",
       "    }\n",
       "\n",
       "    .dataframe tbody tr th {\n",
       "        vertical-align: top;\n",
       "    }\n",
       "\n",
       "    .dataframe thead th {\n",
       "        text-align: right;\n",
       "    }\n",
       "</style>\n",
       "<table border=\"1\" class=\"dataframe\">\n",
       "  <thead>\n",
       "    <tr style=\"text-align: right;\">\n",
       "      <th></th>\n",
       "      <th>June Proposal</th>\n",
       "      <th>Option 1: Climate Champion</th>\n",
       "      <th>Option 2: Climate Leader</th>\n",
       "    </tr>\n",
       "    <tr>\n",
       "      <th>year</th>\n",
       "      <th></th>\n",
       "      <th></th>\n",
       "      <th></th>\n",
       "    </tr>\n",
       "  </thead>\n",
       "  <tbody>\n",
       "    <tr>\n",
       "      <th>2027.0</th>\n",
       "      <td>457844.114281</td>\n",
       "      <td>275171.473448</td>\n",
       "      <td>357699.374971</td>\n",
       "    </tr>\n",
       "    <tr>\n",
       "      <th>2028.0</th>\n",
       "      <td>457844.114281</td>\n",
       "      <td>238971.397221</td>\n",
       "      <td>357699.374971</td>\n",
       "    </tr>\n",
       "    <tr>\n",
       "      <th>2029.0</th>\n",
       "      <td>457844.114281</td>\n",
       "      <td>211495.943022</td>\n",
       "      <td>357699.374971</td>\n",
       "    </tr>\n",
       "    <tr>\n",
       "      <th>2030.0</th>\n",
       "      <td>421976.728557</td>\n",
       "      <td>181963.042537</td>\n",
       "      <td>331154.327551</td>\n",
       "    </tr>\n",
       "    <tr>\n",
       "      <th>2031.0</th>\n",
       "      <td>363679.195236</td>\n",
       "      <td>153632.449453</td>\n",
       "      <td>304378.115272</td>\n",
       "    </tr>\n",
       "  </tbody>\n",
       "</table>\n",
       "</div>"
      ],
      "text/plain": [
       "        June Proposal  Option 1: Climate Champion  Option 2: Climate Leader\n",
       "year                                                                       \n",
       "2027.0  457844.114281               275171.473448             357699.374971\n",
       "2028.0  457844.114281               238971.397221             357699.374971\n",
       "2029.0  457844.114281               211495.943022             357699.374971\n",
       "2030.0  421976.728557               181963.042537             331154.327551\n",
       "2031.0  363679.195236               153632.449453             304378.115272"
      ]
     },
     "execution_count": 61,
     "metadata": {},
     "output_type": "execute_result"
    }
   ],
   "source": [
    "viz_data = june_baseline_annual.join([option_1_annual, option_2_annual])\n",
    "viz_data.head()"
   ]
  },
  {
   "cell_type": "code",
   "execution_count": null,
   "id": "5356df40-1662-4fa9-802e-5c90fea04c1c",
   "metadata": {},
   "outputs": [],
   "source": []
  },
  {
   "cell_type": "code",
   "execution_count": null,
   "id": "d50d044b-3dad-4e38-9b7c-a15fdf74eb45",
   "metadata": {},
   "outputs": [],
   "source": [
    "sns.lineplot(data=viz_data, x='Year', y='Emissions (metric tons)').set(title='Annual emissions (metric tons)')"
   ]
  },
  {
   "cell_type": "code",
   "execution_count": 64,
   "id": "be3591d7-2833-4f3d-922d-bc101c926bf2",
   "metadata": {},
   "outputs": [
    {
     "data": {
      "text/plain": [
       "Index([2027, 2028, 2029, 2030, 2031, 2032, 2033, 2034, 2035, 2036, 2037, 2038,\n",
       "       2039, 2040, 2041, 2042, 2043, 2044, 2045, 2046, 2047, 2048, 2049, 2050],\n",
       "      dtype='int64', name='year')"
      ]
     },
     "execution_count": 64,
     "metadata": {},
     "output_type": "execute_result"
    }
   ],
   "source": [
    "viz_data.index.astype('int')"
   ]
  }
 ],
 "metadata": {
  "kernelspec": {
   "display_name": "Python 3 (ipykernel)",
   "language": "python",
   "name": "python3"
  },
  "language_info": {
   "codemirror_mode": {
    "name": "ipython",
    "version": 3
   },
   "file_extension": ".py",
   "mimetype": "text/x-python",
   "name": "python",
   "nbconvert_exporter": "python",
   "pygments_lexer": "ipython3",
   "version": "3.11.3"
  }
 },
 "nbformat": 4,
 "nbformat_minor": 5
}
