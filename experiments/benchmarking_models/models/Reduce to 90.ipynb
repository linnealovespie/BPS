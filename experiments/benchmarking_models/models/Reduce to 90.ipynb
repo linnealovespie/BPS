{
 "cells": [
  {
   "cell_type": "markdown",
   "id": "15f9c1cc-4d37-42a7-aa7b-fe45aed7f251",
   "metadata": {},
   "source": [
    "# Reduce 90% by 2040\n",
    "\n",
    "*Goal*: Can we calculate what percentage we would have to reduce the January emissions proposal to reduce emissions from large buildings by 90% by 2040?\n",
    "\n",
    "*Method*: Implement a binary search tree algorithm and calculate emissions in 2040 based on percent reduction of proposed emissions timeline. "
   ]
  },
  {
   "cell_type": "code",
   "execution_count": 1,
   "id": "9f9707c9-66d7-4fb5-85b1-3802199bc619",
   "metadata": {},
   "outputs": [],
   "source": [
    "import pandas as pd\n",
    "import numpy as np\n",
    "import seaborn as sns"
   ]
  },
  {
   "cell_type": "code",
   "execution_count": 16,
   "id": "02e2f4b9-aa78-40e6-982f-071c7c5959c9",
   "metadata": {},
   "outputs": [],
   "source": [
    "import os\n",
    "import shutil"
   ]
  },
  {
   "cell_type": "code",
   "execution_count": 2,
   "id": "f14edd71-e95a-4a9f-ade3-3a8c76fb1392",
   "metadata": {},
   "outputs": [],
   "source": [
    "from baseline_model import BaselineBEPSModel"
   ]
  },
  {
   "cell_type": "code",
   "execution_count": 20,
   "id": "b8fc65a5-3b90-4827-a8a9-3fe8ec887399",
   "metadata": {},
   "outputs": [],
   "source": [
    "JAN_TIMELINE_PATH = '../data/input_data/scen_1_reformatted.csv'\n",
    "BUILDING_DATA_PATH = '../data/input_data/building_data_recleaned_8_3.csv'\n",
    "\n",
    "FINES_YEARS = [2030, 2035, 2040, 2045, 2050]\n",
    "FINE_PER_SQFT = 2.5\n",
    "\n",
    "EMISSIONS_PATH = '../data/input_data/energy_emissions.csv'"
   ]
  },
  {
   "cell_type": "code",
   "execution_count": 4,
   "id": "28972a26-e931-49a1-8bca-f183d98633dc",
   "metadata": {},
   "outputs": [
    {
     "data": {
      "text/html": [
       "<div>\n",
       "<style scoped>\n",
       "    .dataframe tbody tr th:only-of-type {\n",
       "        vertical-align: middle;\n",
       "    }\n",
       "\n",
       "    .dataframe tbody tr th {\n",
       "        vertical-align: top;\n",
       "    }\n",
       "\n",
       "    .dataframe thead th {\n",
       "        text-align: right;\n",
       "    }\n",
       "</style>\n",
       "<table border=\"1\" class=\"dataframe\">\n",
       "  <thead>\n",
       "    <tr style=\"text-align: right;\">\n",
       "      <th></th>\n",
       "      <th>Unnamed: 0</th>\n",
       "      <th>year</th>\n",
       "      <th>building_type</th>\n",
       "      <th>sq_ft</th>\n",
       "      <th>sq_ft_classification</th>\n",
       "      <th>ghgi</th>\n",
       "      <th>max_size</th>\n",
       "      <th>min_size</th>\n",
       "    </tr>\n",
       "  </thead>\n",
       "  <tbody>\n",
       "    <tr>\n",
       "      <th>0</th>\n",
       "      <td>0</td>\n",
       "      <td>2027</td>\n",
       "      <td>College/University</td>\n",
       "      <td>&gt;220K Buildings</td>\n",
       "      <td>A</td>\n",
       "      <td>2.83</td>\n",
       "      <td>1000000</td>\n",
       "      <td>220000</td>\n",
       "    </tr>\n",
       "    <tr>\n",
       "      <th>1</th>\n",
       "      <td>1</td>\n",
       "      <td>2027</td>\n",
       "      <td>College/University</td>\n",
       "      <td>&gt;90-220K Buildings</td>\n",
       "      <td>B</td>\n",
       "      <td>2.83</td>\n",
       "      <td>220000</td>\n",
       "      <td>90000</td>\n",
       "    </tr>\n",
       "    <tr>\n",
       "      <th>2</th>\n",
       "      <td>2</td>\n",
       "      <td>2027</td>\n",
       "      <td>College/University</td>\n",
       "      <td>&gt;50-90K Buildings</td>\n",
       "      <td>C</td>\n",
       "      <td>NaN</td>\n",
       "      <td>90000</td>\n",
       "      <td>50000</td>\n",
       "    </tr>\n",
       "    <tr>\n",
       "      <th>3</th>\n",
       "      <td>3</td>\n",
       "      <td>2027</td>\n",
       "      <td>College/University</td>\n",
       "      <td>&gt;30-50K Buildings</td>\n",
       "      <td>D</td>\n",
       "      <td>NaN</td>\n",
       "      <td>50000</td>\n",
       "      <td>30000</td>\n",
       "    </tr>\n",
       "    <tr>\n",
       "      <th>4</th>\n",
       "      <td>4</td>\n",
       "      <td>2027</td>\n",
       "      <td>College/University</td>\n",
       "      <td>&gt;20-30K Buildings</td>\n",
       "      <td>E</td>\n",
       "      <td>NaN</td>\n",
       "      <td>50000</td>\n",
       "      <td>20000</td>\n",
       "    </tr>\n",
       "  </tbody>\n",
       "</table>\n",
       "</div>"
      ],
      "text/plain": [
       "   Unnamed: 0  year       building_type               sq_ft  \\\n",
       "0           0  2027  College/University     >220K Buildings   \n",
       "1           1  2027  College/University  >90-220K Buildings   \n",
       "2           2  2027  College/University   >50-90K Buildings   \n",
       "3           3  2027  College/University   >30-50K Buildings   \n",
       "4           4  2027  College/University   >20-30K Buildings   \n",
       "\n",
       "  sq_ft_classification  ghgi  max_size  min_size  \n",
       "0                    A  2.83   1000000    220000  \n",
       "1                    B  2.83    220000     90000  \n",
       "2                    C   NaN     90000     50000  \n",
       "3                    D   NaN     50000     30000  \n",
       "4                    E   NaN     50000     20000  "
      ]
     },
     "execution_count": 4,
     "metadata": {},
     "output_type": "execute_result"
    }
   ],
   "source": [
    "jan_timeline = pd.read_csv(JAN_TIMELINE_PATH)\n",
    "jan_timeline.head()"
   ]
  },
  {
   "cell_type": "code",
   "execution_count": 9,
   "id": "a68e8eeb-d744-4644-b36b-ca79c6186b7e",
   "metadata": {},
   "outputs": [
    {
     "data": {
      "text/plain": [
       "459452209.8585"
      ]
     },
     "execution_count": 9,
     "metadata": {},
     "output_type": "execute_result"
    }
   ],
   "source": [
    "JAN_BASELINE_MODEL_PATH = 'jan_baseline_8_3.csv'\n",
    "jan_baseline = pd.read_csv(JAN_BASELINE_MODEL_PATH)\n",
    "\n",
    "# emissions in 2026 will be the same as emissions in 2027 w/o improvements to infrastructure\n",
    "JAN_BASELINE_2026_EMISSIONS_KG = jan_baseline[jan_baseline['year'] == 2027]['expected_baseline'].sum()\n",
    "JAN_BASELINE_2026_EMISSIONS_KG"
   ]
  },
  {
   "cell_type": "code",
   "execution_count": 11,
   "id": "ca43ff58-d149-4ca0-bec0-ea948b5bb56a",
   "metadata": {},
   "outputs": [
    {
     "data": {
      "text/plain": [
       "45945220.98585001"
      ]
     },
     "execution_count": 11,
     "metadata": {},
     "output_type": "execute_result"
    }
   ],
   "source": [
    "# calculate 90% reduction level for 2040\n",
    "\n",
    "TARGET_FOR_2040_KG = JAN_BASELINE_2026_EMISSIONS_KG * 0.1\n",
    "TARGET_FOR_2040_KG"
   ]
  },
  {
   "cell_type": "code",
   "execution_count": null,
   "id": "738d1c10-858c-45f7-92cf-f7780022145e",
   "metadata": {},
   "outputs": [],
   "source": []
  },
  {
   "cell_type": "code",
   "execution_count": 44,
   "id": "c697e95f-30f0-42b8-a254-ac2d6f464a0d",
   "metadata": {},
   "outputs": [],
   "source": [
    "# method to create temporary file for emissions\n",
    "# percent is % of original baseline, not percent reduction of original baseline\n",
    "def create_temp_emissions_timeline_file(percent, timeline_path):\n",
    "    timeline = pd.read_csv(timeline_path)\n",
    "    timeline['ghgi'] = timeline['ghgi'] * (percent/100.0)\n",
    "    file_name = f'tmp/timeline_{percent}_percent_of_policy.csv'\n",
    "    timeline.to_csv(file_name)\n",
    "    return file_name"
   ]
  },
  {
   "cell_type": "code",
   "execution_count": 45,
   "id": "737e9dc5-4c5c-4d15-a20d-4a10effcdc7f",
   "metadata": {},
   "outputs": [],
   "source": [
    "def find_reduction_percent(target_kg, target_year, timeline_path, emissions_path, building_data_path, fine_years, fine_per_sqft):\n",
    "    # make temporary directory for timeline files\n",
    "    os.mkdir('tmp')\n",
    "\n",
    "    min_emissions = target_kg - 5000\n",
    "    max_emissions = target_kg + 5000\n",
    "\n",
    "    high = 100\n",
    "    low = 0\n",
    "    found_target = False\n",
    "\n",
    "    while not found_target:\n",
    "        percent_of_orig_emissions = (high + low) / 2\n",
    "        reduced_timeline_path = create_temp_emissions_timeline_file(percent_of_orig_emissions, timeline_path)\n",
    "\n",
    "        model = BaselineBEPSModel(emissions_path, reduced_timeline_path, building_data_path, fine_years, fine_per_sqft)\n",
    "        model.calculate_baseline_model(target_year, target_year)\n",
    "        emissions_in_2040 = model.scenario_results['compliant_emissions'].sum()\n",
    "\n",
    "        if min_emissions < emissions_in_2040 < max_emissions:\n",
    "            print(f'You can achieve {target_kg} kg/yr in {target_year} by reducing the baselines by {100 - percent_of_orig_emissions}%.')\n",
    "            # move file\n",
    "            os.rename(reduced_timeline_path, reduced_timeline_path.replace('tmp/', ''))\n",
    "                      \n",
    "            # turn model into csv\n",
    "            model.scenario_results.to_csv(f'emissions_{target_year}_{percent_of_orig_emissions}_of_policy.csv')\n",
    "\n",
    "            # delete tmp directory\n",
    "            shutil.rmtree('tmp')\n",
    "\n",
    "            found_target = True\n",
    "\n",
    "        else:\n",
    "            if emissions_in_2040 < target_kg:\n",
    "                low = percent_of_orig_emissions\n",
    "            else:\n",
    "                high = percent_of_orig_emissions"
   ]
  },
  {
   "cell_type": "code",
   "execution_count": 37,
   "id": "8ac3397c-9a08-4ec3-8a97-49043491affa",
   "metadata": {},
   "outputs": [
    {
     "name": "stderr",
     "output_type": "stream",
     "text": [
      "/Users/ihc/programming/350_seattle/BPS/experiments/benchmarking_models/models/baseline_model.py:69: SettingWithCopyWarning: \n",
      "A value is trying to be set on a copy of a slice from a DataFrame.\n",
      "Try using .loc[row_indexer,col_indexer] = value instead\n",
      "\n",
      "See the caveats in the documentation: https://pandas.pydata.org/pandas-docs/stable/user_guide/indexing.html#returning-a-view-versus-a-copy\n",
      "  temp_df['year'] = pd.Series([year]*len(temp_df))\n",
      "/Users/ihc/programming/350_seattle/BPS/experiments/benchmarking_models/models/baseline_model.py:70: SettingWithCopyWarning: \n",
      "A value is trying to be set on a copy of a slice from a DataFrame.\n",
      "Try using .loc[row_indexer,col_indexer] = value instead\n",
      "\n",
      "See the caveats in the documentation: https://pandas.pydata.org/pandas-docs/stable/user_guide/indexing.html#returning-a-view-versus-a-copy\n",
      "  temp_df['expected_baseline'] = input_df.apply(lambda building: self._get_expected_baseline(building, year), axis=1)\n"
     ]
    },
    {
     "name": "stdout",
     "output_type": "stream",
     "text": [
      "Model calculations complete. Access the model dataframe as model_name.scenario_results\n"
     ]
    },
    {
     "name": "stderr",
     "output_type": "stream",
     "text": [
      "/Users/ihc/programming/350_seattle/BPS/experiments/benchmarking_models/models/baseline_model.py:69: SettingWithCopyWarning: \n",
      "A value is trying to be set on a copy of a slice from a DataFrame.\n",
      "Try using .loc[row_indexer,col_indexer] = value instead\n",
      "\n",
      "See the caveats in the documentation: https://pandas.pydata.org/pandas-docs/stable/user_guide/indexing.html#returning-a-view-versus-a-copy\n",
      "  temp_df['year'] = pd.Series([year]*len(temp_df))\n",
      "/Users/ihc/programming/350_seattle/BPS/experiments/benchmarking_models/models/baseline_model.py:70: SettingWithCopyWarning: \n",
      "A value is trying to be set on a copy of a slice from a DataFrame.\n",
      "Try using .loc[row_indexer,col_indexer] = value instead\n",
      "\n",
      "See the caveats in the documentation: https://pandas.pydata.org/pandas-docs/stable/user_guide/indexing.html#returning-a-view-versus-a-copy\n",
      "  temp_df['expected_baseline'] = input_df.apply(lambda building: self._get_expected_baseline(building, year), axis=1)\n"
     ]
    },
    {
     "name": "stdout",
     "output_type": "stream",
     "text": [
      "Model calculations complete. Access the model dataframe as model_name.scenario_results\n"
     ]
    },
    {
     "name": "stderr",
     "output_type": "stream",
     "text": [
      "/Users/ihc/programming/350_seattle/BPS/experiments/benchmarking_models/models/baseline_model.py:69: SettingWithCopyWarning: \n",
      "A value is trying to be set on a copy of a slice from a DataFrame.\n",
      "Try using .loc[row_indexer,col_indexer] = value instead\n",
      "\n",
      "See the caveats in the documentation: https://pandas.pydata.org/pandas-docs/stable/user_guide/indexing.html#returning-a-view-versus-a-copy\n",
      "  temp_df['year'] = pd.Series([year]*len(temp_df))\n",
      "/Users/ihc/programming/350_seattle/BPS/experiments/benchmarking_models/models/baseline_model.py:70: SettingWithCopyWarning: \n",
      "A value is trying to be set on a copy of a slice from a DataFrame.\n",
      "Try using .loc[row_indexer,col_indexer] = value instead\n",
      "\n",
      "See the caveats in the documentation: https://pandas.pydata.org/pandas-docs/stable/user_guide/indexing.html#returning-a-view-versus-a-copy\n",
      "  temp_df['expected_baseline'] = input_df.apply(lambda building: self._get_expected_baseline(building, year), axis=1)\n"
     ]
    },
    {
     "name": "stdout",
     "output_type": "stream",
     "text": [
      "Model calculations complete. Access the model dataframe as model_name.scenario_results\n"
     ]
    },
    {
     "name": "stderr",
     "output_type": "stream",
     "text": [
      "/Users/ihc/programming/350_seattle/BPS/experiments/benchmarking_models/models/baseline_model.py:69: SettingWithCopyWarning: \n",
      "A value is trying to be set on a copy of a slice from a DataFrame.\n",
      "Try using .loc[row_indexer,col_indexer] = value instead\n",
      "\n",
      "See the caveats in the documentation: https://pandas.pydata.org/pandas-docs/stable/user_guide/indexing.html#returning-a-view-versus-a-copy\n",
      "  temp_df['year'] = pd.Series([year]*len(temp_df))\n",
      "/Users/ihc/programming/350_seattle/BPS/experiments/benchmarking_models/models/baseline_model.py:70: SettingWithCopyWarning: \n",
      "A value is trying to be set on a copy of a slice from a DataFrame.\n",
      "Try using .loc[row_indexer,col_indexer] = value instead\n",
      "\n",
      "See the caveats in the documentation: https://pandas.pydata.org/pandas-docs/stable/user_guide/indexing.html#returning-a-view-versus-a-copy\n",
      "  temp_df['expected_baseline'] = input_df.apply(lambda building: self._get_expected_baseline(building, year), axis=1)\n"
     ]
    },
    {
     "name": "stdout",
     "output_type": "stream",
     "text": [
      "Model calculations complete. Access the model dataframe as model_name.scenario_results\n"
     ]
    },
    {
     "name": "stderr",
     "output_type": "stream",
     "text": [
      "/Users/ihc/programming/350_seattle/BPS/experiments/benchmarking_models/models/baseline_model.py:69: SettingWithCopyWarning: \n",
      "A value is trying to be set on a copy of a slice from a DataFrame.\n",
      "Try using .loc[row_indexer,col_indexer] = value instead\n",
      "\n",
      "See the caveats in the documentation: https://pandas.pydata.org/pandas-docs/stable/user_guide/indexing.html#returning-a-view-versus-a-copy\n",
      "  temp_df['year'] = pd.Series([year]*len(temp_df))\n",
      "/Users/ihc/programming/350_seattle/BPS/experiments/benchmarking_models/models/baseline_model.py:70: SettingWithCopyWarning: \n",
      "A value is trying to be set on a copy of a slice from a DataFrame.\n",
      "Try using .loc[row_indexer,col_indexer] = value instead\n",
      "\n",
      "See the caveats in the documentation: https://pandas.pydata.org/pandas-docs/stable/user_guide/indexing.html#returning-a-view-versus-a-copy\n",
      "  temp_df['expected_baseline'] = input_df.apply(lambda building: self._get_expected_baseline(building, year), axis=1)\n"
     ]
    },
    {
     "name": "stdout",
     "output_type": "stream",
     "text": [
      "Model calculations complete. Access the model dataframe as model_name.scenario_results\n"
     ]
    },
    {
     "name": "stderr",
     "output_type": "stream",
     "text": [
      "/Users/ihc/programming/350_seattle/BPS/experiments/benchmarking_models/models/baseline_model.py:69: SettingWithCopyWarning: \n",
      "A value is trying to be set on a copy of a slice from a DataFrame.\n",
      "Try using .loc[row_indexer,col_indexer] = value instead\n",
      "\n",
      "See the caveats in the documentation: https://pandas.pydata.org/pandas-docs/stable/user_guide/indexing.html#returning-a-view-versus-a-copy\n",
      "  temp_df['year'] = pd.Series([year]*len(temp_df))\n",
      "/Users/ihc/programming/350_seattle/BPS/experiments/benchmarking_models/models/baseline_model.py:70: SettingWithCopyWarning: \n",
      "A value is trying to be set on a copy of a slice from a DataFrame.\n",
      "Try using .loc[row_indexer,col_indexer] = value instead\n",
      "\n",
      "See the caveats in the documentation: https://pandas.pydata.org/pandas-docs/stable/user_guide/indexing.html#returning-a-view-versus-a-copy\n",
      "  temp_df['expected_baseline'] = input_df.apply(lambda building: self._get_expected_baseline(building, year), axis=1)\n"
     ]
    },
    {
     "name": "stdout",
     "output_type": "stream",
     "text": [
      "Model calculations complete. Access the model dataframe as model_name.scenario_results\n"
     ]
    },
    {
     "name": "stderr",
     "output_type": "stream",
     "text": [
      "/Users/ihc/programming/350_seattle/BPS/experiments/benchmarking_models/models/baseline_model.py:69: SettingWithCopyWarning: \n",
      "A value is trying to be set on a copy of a slice from a DataFrame.\n",
      "Try using .loc[row_indexer,col_indexer] = value instead\n",
      "\n",
      "See the caveats in the documentation: https://pandas.pydata.org/pandas-docs/stable/user_guide/indexing.html#returning-a-view-versus-a-copy\n",
      "  temp_df['year'] = pd.Series([year]*len(temp_df))\n",
      "/Users/ihc/programming/350_seattle/BPS/experiments/benchmarking_models/models/baseline_model.py:70: SettingWithCopyWarning: \n",
      "A value is trying to be set on a copy of a slice from a DataFrame.\n",
      "Try using .loc[row_indexer,col_indexer] = value instead\n",
      "\n",
      "See the caveats in the documentation: https://pandas.pydata.org/pandas-docs/stable/user_guide/indexing.html#returning-a-view-versus-a-copy\n",
      "  temp_df['expected_baseline'] = input_df.apply(lambda building: self._get_expected_baseline(building, year), axis=1)\n"
     ]
    },
    {
     "name": "stdout",
     "output_type": "stream",
     "text": [
      "Model calculations complete. Access the model dataframe as model_name.scenario_results\n"
     ]
    },
    {
     "name": "stderr",
     "output_type": "stream",
     "text": [
      "/Users/ihc/programming/350_seattle/BPS/experiments/benchmarking_models/models/baseline_model.py:69: SettingWithCopyWarning: \n",
      "A value is trying to be set on a copy of a slice from a DataFrame.\n",
      "Try using .loc[row_indexer,col_indexer] = value instead\n",
      "\n",
      "See the caveats in the documentation: https://pandas.pydata.org/pandas-docs/stable/user_guide/indexing.html#returning-a-view-versus-a-copy\n",
      "  temp_df['year'] = pd.Series([year]*len(temp_df))\n",
      "/Users/ihc/programming/350_seattle/BPS/experiments/benchmarking_models/models/baseline_model.py:70: SettingWithCopyWarning: \n",
      "A value is trying to be set on a copy of a slice from a DataFrame.\n",
      "Try using .loc[row_indexer,col_indexer] = value instead\n",
      "\n",
      "See the caveats in the documentation: https://pandas.pydata.org/pandas-docs/stable/user_guide/indexing.html#returning-a-view-versus-a-copy\n",
      "  temp_df['expected_baseline'] = input_df.apply(lambda building: self._get_expected_baseline(building, year), axis=1)\n"
     ]
    },
    {
     "name": "stdout",
     "output_type": "stream",
     "text": [
      "Model calculations complete. Access the model dataframe as model_name.scenario_results\n"
     ]
    },
    {
     "name": "stderr",
     "output_type": "stream",
     "text": [
      "/Users/ihc/programming/350_seattle/BPS/experiments/benchmarking_models/models/baseline_model.py:69: SettingWithCopyWarning: \n",
      "A value is trying to be set on a copy of a slice from a DataFrame.\n",
      "Try using .loc[row_indexer,col_indexer] = value instead\n",
      "\n",
      "See the caveats in the documentation: https://pandas.pydata.org/pandas-docs/stable/user_guide/indexing.html#returning-a-view-versus-a-copy\n",
      "  temp_df['year'] = pd.Series([year]*len(temp_df))\n",
      "/Users/ihc/programming/350_seattle/BPS/experiments/benchmarking_models/models/baseline_model.py:70: SettingWithCopyWarning: \n",
      "A value is trying to be set on a copy of a slice from a DataFrame.\n",
      "Try using .loc[row_indexer,col_indexer] = value instead\n",
      "\n",
      "See the caveats in the documentation: https://pandas.pydata.org/pandas-docs/stable/user_guide/indexing.html#returning-a-view-versus-a-copy\n",
      "  temp_df['expected_baseline'] = input_df.apply(lambda building: self._get_expected_baseline(building, year), axis=1)\n"
     ]
    },
    {
     "name": "stdout",
     "output_type": "stream",
     "text": [
      "Model calculations complete. Access the model dataframe as model_name.scenario_results\n"
     ]
    },
    {
     "name": "stderr",
     "output_type": "stream",
     "text": [
      "/Users/ihc/programming/350_seattle/BPS/experiments/benchmarking_models/models/baseline_model.py:69: SettingWithCopyWarning: \n",
      "A value is trying to be set on a copy of a slice from a DataFrame.\n",
      "Try using .loc[row_indexer,col_indexer] = value instead\n",
      "\n",
      "See the caveats in the documentation: https://pandas.pydata.org/pandas-docs/stable/user_guide/indexing.html#returning-a-view-versus-a-copy\n",
      "  temp_df['year'] = pd.Series([year]*len(temp_df))\n",
      "/Users/ihc/programming/350_seattle/BPS/experiments/benchmarking_models/models/baseline_model.py:70: SettingWithCopyWarning: \n",
      "A value is trying to be set on a copy of a slice from a DataFrame.\n",
      "Try using .loc[row_indexer,col_indexer] = value instead\n",
      "\n",
      "See the caveats in the documentation: https://pandas.pydata.org/pandas-docs/stable/user_guide/indexing.html#returning-a-view-versus-a-copy\n",
      "  temp_df['expected_baseline'] = input_df.apply(lambda building: self._get_expected_baseline(building, year), axis=1)\n"
     ]
    },
    {
     "name": "stdout",
     "output_type": "stream",
     "text": [
      "Model calculations complete. Access the model dataframe as model_name.scenario_results\n"
     ]
    },
    {
     "name": "stderr",
     "output_type": "stream",
     "text": [
      "/Users/ihc/programming/350_seattle/BPS/experiments/benchmarking_models/models/baseline_model.py:69: SettingWithCopyWarning: \n",
      "A value is trying to be set on a copy of a slice from a DataFrame.\n",
      "Try using .loc[row_indexer,col_indexer] = value instead\n",
      "\n",
      "See the caveats in the documentation: https://pandas.pydata.org/pandas-docs/stable/user_guide/indexing.html#returning-a-view-versus-a-copy\n",
      "  temp_df['year'] = pd.Series([year]*len(temp_df))\n",
      "/Users/ihc/programming/350_seattle/BPS/experiments/benchmarking_models/models/baseline_model.py:70: SettingWithCopyWarning: \n",
      "A value is trying to be set on a copy of a slice from a DataFrame.\n",
      "Try using .loc[row_indexer,col_indexer] = value instead\n",
      "\n",
      "See the caveats in the documentation: https://pandas.pydata.org/pandas-docs/stable/user_guide/indexing.html#returning-a-view-versus-a-copy\n",
      "  temp_df['expected_baseline'] = input_df.apply(lambda building: self._get_expected_baseline(building, year), axis=1)\n"
     ]
    },
    {
     "name": "stdout",
     "output_type": "stream",
     "text": [
      "Model calculations complete. Access the model dataframe as model_name.scenario_results\n"
     ]
    },
    {
     "name": "stderr",
     "output_type": "stream",
     "text": [
      "/Users/ihc/programming/350_seattle/BPS/experiments/benchmarking_models/models/baseline_model.py:69: SettingWithCopyWarning: \n",
      "A value is trying to be set on a copy of a slice from a DataFrame.\n",
      "Try using .loc[row_indexer,col_indexer] = value instead\n",
      "\n",
      "See the caveats in the documentation: https://pandas.pydata.org/pandas-docs/stable/user_guide/indexing.html#returning-a-view-versus-a-copy\n",
      "  temp_df['year'] = pd.Series([year]*len(temp_df))\n",
      "/Users/ihc/programming/350_seattle/BPS/experiments/benchmarking_models/models/baseline_model.py:70: SettingWithCopyWarning: \n",
      "A value is trying to be set on a copy of a slice from a DataFrame.\n",
      "Try using .loc[row_indexer,col_indexer] = value instead\n",
      "\n",
      "See the caveats in the documentation: https://pandas.pydata.org/pandas-docs/stable/user_guide/indexing.html#returning-a-view-versus-a-copy\n",
      "  temp_df['expected_baseline'] = input_df.apply(lambda building: self._get_expected_baseline(building, year), axis=1)\n"
     ]
    },
    {
     "name": "stdout",
     "output_type": "stream",
     "text": [
      "Model calculations complete. Access the model dataframe as model_name.scenario_results\n",
      "You can achieve 45945220.98585001 kg/yr in 2040 by reducing the baselines by 68.2373046875%.\n"
     ]
    }
   ],
   "source": [
    "find_reduction_percent(TARGET_FOR_2040_KG, 2040, JAN_TIMELINE_PATH, EMISSIONS_PATH, BUILDING_DATA_PATH, FINES_YEARS, FINE_PER_SQFT)"
   ]
  },
  {
   "cell_type": "code",
   "execution_count": 31,
   "id": "426cb051-f5fb-4a04-809a-8867d0f2b363",
   "metadata": {},
   "outputs": [
    {
     "name": "stderr",
     "output_type": "stream",
     "text": [
      "/Users/ihc/programming/350_seattle/BPS/experiments/benchmarking_models/models/baseline_model.py:69: SettingWithCopyWarning: \n",
      "A value is trying to be set on a copy of a slice from a DataFrame.\n",
      "Try using .loc[row_indexer,col_indexer] = value instead\n",
      "\n",
      "See the caveats in the documentation: https://pandas.pydata.org/pandas-docs/stable/user_guide/indexing.html#returning-a-view-versus-a-copy\n",
      "  temp_df['year'] = pd.Series([year]*len(temp_df))\n",
      "/Users/ihc/programming/350_seattle/BPS/experiments/benchmarking_models/models/baseline_model.py:70: SettingWithCopyWarning: \n",
      "A value is trying to be set on a copy of a slice from a DataFrame.\n",
      "Try using .loc[row_indexer,col_indexer] = value instead\n",
      "\n",
      "See the caveats in the documentation: https://pandas.pydata.org/pandas-docs/stable/user_guide/indexing.html#returning-a-view-versus-a-copy\n",
      "  temp_df['expected_baseline'] = input_df.apply(lambda building: self._get_expected_baseline(building, year), axis=1)\n"
     ]
    },
    {
     "name": "stdout",
     "output_type": "stream",
     "text": [
      "Model calculations complete. Access the model dataframe as model_name.scenario_results\n"
     ]
    },
    {
     "name": "stderr",
     "output_type": "stream",
     "text": [
      "/Users/ihc/programming/350_seattle/BPS/experiments/benchmarking_models/models/baseline_model.py:69: SettingWithCopyWarning: \n",
      "A value is trying to be set on a copy of a slice from a DataFrame.\n",
      "Try using .loc[row_indexer,col_indexer] = value instead\n",
      "\n",
      "See the caveats in the documentation: https://pandas.pydata.org/pandas-docs/stable/user_guide/indexing.html#returning-a-view-versus-a-copy\n",
      "  temp_df['year'] = pd.Series([year]*len(temp_df))\n",
      "/Users/ihc/programming/350_seattle/BPS/experiments/benchmarking_models/models/baseline_model.py:70: SettingWithCopyWarning: \n",
      "A value is trying to be set on a copy of a slice from a DataFrame.\n",
      "Try using .loc[row_indexer,col_indexer] = value instead\n",
      "\n",
      "See the caveats in the documentation: https://pandas.pydata.org/pandas-docs/stable/user_guide/indexing.html#returning-a-view-versus-a-copy\n",
      "  temp_df['expected_baseline'] = input_df.apply(lambda building: self._get_expected_baseline(building, year), axis=1)\n"
     ]
    },
    {
     "name": "stdout",
     "output_type": "stream",
     "text": [
      "Model calculations complete. Access the model dataframe as model_name.scenario_results\n"
     ]
    },
    {
     "name": "stderr",
     "output_type": "stream",
     "text": [
      "/Users/ihc/programming/350_seattle/BPS/experiments/benchmarking_models/models/baseline_model.py:69: SettingWithCopyWarning: \n",
      "A value is trying to be set on a copy of a slice from a DataFrame.\n",
      "Try using .loc[row_indexer,col_indexer] = value instead\n",
      "\n",
      "See the caveats in the documentation: https://pandas.pydata.org/pandas-docs/stable/user_guide/indexing.html#returning-a-view-versus-a-copy\n",
      "  temp_df['year'] = pd.Series([year]*len(temp_df))\n",
      "/Users/ihc/programming/350_seattle/BPS/experiments/benchmarking_models/models/baseline_model.py:70: SettingWithCopyWarning: \n",
      "A value is trying to be set on a copy of a slice from a DataFrame.\n",
      "Try using .loc[row_indexer,col_indexer] = value instead\n",
      "\n",
      "See the caveats in the documentation: https://pandas.pydata.org/pandas-docs/stable/user_guide/indexing.html#returning-a-view-versus-a-copy\n",
      "  temp_df['expected_baseline'] = input_df.apply(lambda building: self._get_expected_baseline(building, year), axis=1)\n"
     ]
    },
    {
     "name": "stdout",
     "output_type": "stream",
     "text": [
      "Model calculations complete. Access the model dataframe as model_name.scenario_results\n"
     ]
    },
    {
     "name": "stderr",
     "output_type": "stream",
     "text": [
      "/Users/ihc/programming/350_seattle/BPS/experiments/benchmarking_models/models/baseline_model.py:69: SettingWithCopyWarning: \n",
      "A value is trying to be set on a copy of a slice from a DataFrame.\n",
      "Try using .loc[row_indexer,col_indexer] = value instead\n",
      "\n",
      "See the caveats in the documentation: https://pandas.pydata.org/pandas-docs/stable/user_guide/indexing.html#returning-a-view-versus-a-copy\n",
      "  temp_df['year'] = pd.Series([year]*len(temp_df))\n",
      "/Users/ihc/programming/350_seattle/BPS/experiments/benchmarking_models/models/baseline_model.py:70: SettingWithCopyWarning: \n",
      "A value is trying to be set on a copy of a slice from a DataFrame.\n",
      "Try using .loc[row_indexer,col_indexer] = value instead\n",
      "\n",
      "See the caveats in the documentation: https://pandas.pydata.org/pandas-docs/stable/user_guide/indexing.html#returning-a-view-versus-a-copy\n",
      "  temp_df['expected_baseline'] = input_df.apply(lambda building: self._get_expected_baseline(building, year), axis=1)\n"
     ]
    },
    {
     "name": "stdout",
     "output_type": "stream",
     "text": [
      "Model calculations complete. Access the model dataframe as model_name.scenario_results\n"
     ]
    },
    {
     "name": "stderr",
     "output_type": "stream",
     "text": [
      "/Users/ihc/programming/350_seattle/BPS/experiments/benchmarking_models/models/baseline_model.py:69: SettingWithCopyWarning: \n",
      "A value is trying to be set on a copy of a slice from a DataFrame.\n",
      "Try using .loc[row_indexer,col_indexer] = value instead\n",
      "\n",
      "See the caveats in the documentation: https://pandas.pydata.org/pandas-docs/stable/user_guide/indexing.html#returning-a-view-versus-a-copy\n",
      "  temp_df['year'] = pd.Series([year]*len(temp_df))\n",
      "/Users/ihc/programming/350_seattle/BPS/experiments/benchmarking_models/models/baseline_model.py:70: SettingWithCopyWarning: \n",
      "A value is trying to be set on a copy of a slice from a DataFrame.\n",
      "Try using .loc[row_indexer,col_indexer] = value instead\n",
      "\n",
      "See the caveats in the documentation: https://pandas.pydata.org/pandas-docs/stable/user_guide/indexing.html#returning-a-view-versus-a-copy\n",
      "  temp_df['expected_baseline'] = input_df.apply(lambda building: self._get_expected_baseline(building, year), axis=1)\n"
     ]
    },
    {
     "name": "stdout",
     "output_type": "stream",
     "text": [
      "Model calculations complete. Access the model dataframe as model_name.scenario_results\n"
     ]
    },
    {
     "name": "stderr",
     "output_type": "stream",
     "text": [
      "/Users/ihc/programming/350_seattle/BPS/experiments/benchmarking_models/models/baseline_model.py:69: SettingWithCopyWarning: \n",
      "A value is trying to be set on a copy of a slice from a DataFrame.\n",
      "Try using .loc[row_indexer,col_indexer] = value instead\n",
      "\n",
      "See the caveats in the documentation: https://pandas.pydata.org/pandas-docs/stable/user_guide/indexing.html#returning-a-view-versus-a-copy\n",
      "  temp_df['year'] = pd.Series([year]*len(temp_df))\n",
      "/Users/ihc/programming/350_seattle/BPS/experiments/benchmarking_models/models/baseline_model.py:70: SettingWithCopyWarning: \n",
      "A value is trying to be set on a copy of a slice from a DataFrame.\n",
      "Try using .loc[row_indexer,col_indexer] = value instead\n",
      "\n",
      "See the caveats in the documentation: https://pandas.pydata.org/pandas-docs/stable/user_guide/indexing.html#returning-a-view-versus-a-copy\n",
      "  temp_df['expected_baseline'] = input_df.apply(lambda building: self._get_expected_baseline(building, year), axis=1)\n"
     ]
    },
    {
     "name": "stdout",
     "output_type": "stream",
     "text": [
      "Model calculations complete. Access the model dataframe as model_name.scenario_results\n"
     ]
    },
    {
     "name": "stderr",
     "output_type": "stream",
     "text": [
      "/Users/ihc/programming/350_seattle/BPS/experiments/benchmarking_models/models/baseline_model.py:69: SettingWithCopyWarning: \n",
      "A value is trying to be set on a copy of a slice from a DataFrame.\n",
      "Try using .loc[row_indexer,col_indexer] = value instead\n",
      "\n",
      "See the caveats in the documentation: https://pandas.pydata.org/pandas-docs/stable/user_guide/indexing.html#returning-a-view-versus-a-copy\n",
      "  temp_df['year'] = pd.Series([year]*len(temp_df))\n",
      "/Users/ihc/programming/350_seattle/BPS/experiments/benchmarking_models/models/baseline_model.py:70: SettingWithCopyWarning: \n",
      "A value is trying to be set on a copy of a slice from a DataFrame.\n",
      "Try using .loc[row_indexer,col_indexer] = value instead\n",
      "\n",
      "See the caveats in the documentation: https://pandas.pydata.org/pandas-docs/stable/user_guide/indexing.html#returning-a-view-versus-a-copy\n",
      "  temp_df['expected_baseline'] = input_df.apply(lambda building: self._get_expected_baseline(building, year), axis=1)\n"
     ]
    },
    {
     "name": "stdout",
     "output_type": "stream",
     "text": [
      "Model calculations complete. Access the model dataframe as model_name.scenario_results\n"
     ]
    },
    {
     "name": "stderr",
     "output_type": "stream",
     "text": [
      "/Users/ihc/programming/350_seattle/BPS/experiments/benchmarking_models/models/baseline_model.py:69: SettingWithCopyWarning: \n",
      "A value is trying to be set on a copy of a slice from a DataFrame.\n",
      "Try using .loc[row_indexer,col_indexer] = value instead\n",
      "\n",
      "See the caveats in the documentation: https://pandas.pydata.org/pandas-docs/stable/user_guide/indexing.html#returning-a-view-versus-a-copy\n",
      "  temp_df['year'] = pd.Series([year]*len(temp_df))\n",
      "/Users/ihc/programming/350_seattle/BPS/experiments/benchmarking_models/models/baseline_model.py:70: SettingWithCopyWarning: \n",
      "A value is trying to be set on a copy of a slice from a DataFrame.\n",
      "Try using .loc[row_indexer,col_indexer] = value instead\n",
      "\n",
      "See the caveats in the documentation: https://pandas.pydata.org/pandas-docs/stable/user_guide/indexing.html#returning-a-view-versus-a-copy\n",
      "  temp_df['expected_baseline'] = input_df.apply(lambda building: self._get_expected_baseline(building, year), axis=1)\n"
     ]
    },
    {
     "name": "stdout",
     "output_type": "stream",
     "text": [
      "Model calculations complete. Access the model dataframe as model_name.scenario_results\n"
     ]
    },
    {
     "name": "stderr",
     "output_type": "stream",
     "text": [
      "/Users/ihc/programming/350_seattle/BPS/experiments/benchmarking_models/models/baseline_model.py:69: SettingWithCopyWarning: \n",
      "A value is trying to be set on a copy of a slice from a DataFrame.\n",
      "Try using .loc[row_indexer,col_indexer] = value instead\n",
      "\n",
      "See the caveats in the documentation: https://pandas.pydata.org/pandas-docs/stable/user_guide/indexing.html#returning-a-view-versus-a-copy\n",
      "  temp_df['year'] = pd.Series([year]*len(temp_df))\n",
      "/Users/ihc/programming/350_seattle/BPS/experiments/benchmarking_models/models/baseline_model.py:70: SettingWithCopyWarning: \n",
      "A value is trying to be set on a copy of a slice from a DataFrame.\n",
      "Try using .loc[row_indexer,col_indexer] = value instead\n",
      "\n",
      "See the caveats in the documentation: https://pandas.pydata.org/pandas-docs/stable/user_guide/indexing.html#returning-a-view-versus-a-copy\n",
      "  temp_df['expected_baseline'] = input_df.apply(lambda building: self._get_expected_baseline(building, year), axis=1)\n"
     ]
    },
    {
     "name": "stdout",
     "output_type": "stream",
     "text": [
      "Model calculations complete. Access the model dataframe as model_name.scenario_results\n"
     ]
    },
    {
     "name": "stderr",
     "output_type": "stream",
     "text": [
      "/Users/ihc/programming/350_seattle/BPS/experiments/benchmarking_models/models/baseline_model.py:69: SettingWithCopyWarning: \n",
      "A value is trying to be set on a copy of a slice from a DataFrame.\n",
      "Try using .loc[row_indexer,col_indexer] = value instead\n",
      "\n",
      "See the caveats in the documentation: https://pandas.pydata.org/pandas-docs/stable/user_guide/indexing.html#returning-a-view-versus-a-copy\n",
      "  temp_df['year'] = pd.Series([year]*len(temp_df))\n",
      "/Users/ihc/programming/350_seattle/BPS/experiments/benchmarking_models/models/baseline_model.py:70: SettingWithCopyWarning: \n",
      "A value is trying to be set on a copy of a slice from a DataFrame.\n",
      "Try using .loc[row_indexer,col_indexer] = value instead\n",
      "\n",
      "See the caveats in the documentation: https://pandas.pydata.org/pandas-docs/stable/user_guide/indexing.html#returning-a-view-versus-a-copy\n",
      "  temp_df['expected_baseline'] = input_df.apply(lambda building: self._get_expected_baseline(building, year), axis=1)\n"
     ]
    },
    {
     "name": "stdout",
     "output_type": "stream",
     "text": [
      "Model calculations complete. Access the model dataframe as model_name.scenario_results\n"
     ]
    },
    {
     "name": "stderr",
     "output_type": "stream",
     "text": [
      "/Users/ihc/programming/350_seattle/BPS/experiments/benchmarking_models/models/baseline_model.py:69: SettingWithCopyWarning: \n",
      "A value is trying to be set on a copy of a slice from a DataFrame.\n",
      "Try using .loc[row_indexer,col_indexer] = value instead\n",
      "\n",
      "See the caveats in the documentation: https://pandas.pydata.org/pandas-docs/stable/user_guide/indexing.html#returning-a-view-versus-a-copy\n",
      "  temp_df['year'] = pd.Series([year]*len(temp_df))\n",
      "/Users/ihc/programming/350_seattle/BPS/experiments/benchmarking_models/models/baseline_model.py:70: SettingWithCopyWarning: \n",
      "A value is trying to be set on a copy of a slice from a DataFrame.\n",
      "Try using .loc[row_indexer,col_indexer] = value instead\n",
      "\n",
      "See the caveats in the documentation: https://pandas.pydata.org/pandas-docs/stable/user_guide/indexing.html#returning-a-view-versus-a-copy\n",
      "  temp_df['expected_baseline'] = input_df.apply(lambda building: self._get_expected_baseline(building, year), axis=1)\n"
     ]
    },
    {
     "name": "stdout",
     "output_type": "stream",
     "text": [
      "Model calculations complete. Access the model dataframe as model_name.scenario_results\n"
     ]
    },
    {
     "name": "stderr",
     "output_type": "stream",
     "text": [
      "/Users/ihc/programming/350_seattle/BPS/experiments/benchmarking_models/models/baseline_model.py:69: SettingWithCopyWarning: \n",
      "A value is trying to be set on a copy of a slice from a DataFrame.\n",
      "Try using .loc[row_indexer,col_indexer] = value instead\n",
      "\n",
      "See the caveats in the documentation: https://pandas.pydata.org/pandas-docs/stable/user_guide/indexing.html#returning-a-view-versus-a-copy\n",
      "  temp_df['year'] = pd.Series([year]*len(temp_df))\n",
      "/Users/ihc/programming/350_seattle/BPS/experiments/benchmarking_models/models/baseline_model.py:70: SettingWithCopyWarning: \n",
      "A value is trying to be set on a copy of a slice from a DataFrame.\n",
      "Try using .loc[row_indexer,col_indexer] = value instead\n",
      "\n",
      "See the caveats in the documentation: https://pandas.pydata.org/pandas-docs/stable/user_guide/indexing.html#returning-a-view-versus-a-copy\n",
      "  temp_df['expected_baseline'] = input_df.apply(lambda building: self._get_expected_baseline(building, year), axis=1)\n"
     ]
    },
    {
     "name": "stdout",
     "output_type": "stream",
     "text": [
      "Model calculations complete. Access the model dataframe as model_name.scenario_results\n"
     ]
    },
    {
     "name": "stderr",
     "output_type": "stream",
     "text": [
      "/Users/ihc/programming/350_seattle/BPS/experiments/benchmarking_models/models/baseline_model.py:69: SettingWithCopyWarning: \n",
      "A value is trying to be set on a copy of a slice from a DataFrame.\n",
      "Try using .loc[row_indexer,col_indexer] = value instead\n",
      "\n",
      "See the caveats in the documentation: https://pandas.pydata.org/pandas-docs/stable/user_guide/indexing.html#returning-a-view-versus-a-copy\n",
      "  temp_df['year'] = pd.Series([year]*len(temp_df))\n",
      "/Users/ihc/programming/350_seattle/BPS/experiments/benchmarking_models/models/baseline_model.py:70: SettingWithCopyWarning: \n",
      "A value is trying to be set on a copy of a slice from a DataFrame.\n",
      "Try using .loc[row_indexer,col_indexer] = value instead\n",
      "\n",
      "See the caveats in the documentation: https://pandas.pydata.org/pandas-docs/stable/user_guide/indexing.html#returning-a-view-versus-a-copy\n",
      "  temp_df['expected_baseline'] = input_df.apply(lambda building: self._get_expected_baseline(building, year), axis=1)\n"
     ]
    },
    {
     "name": "stdout",
     "output_type": "stream",
     "text": [
      "Model calculations complete. Access the model dataframe as model_name.scenario_results\n",
      "You can achieve 91890441.97170001 kg/yr in 2040 by reducing the baselines by 27.64892578125%.\n"
     ]
    }
   ],
   "source": [
    "# see what 80% would look like\n",
    "find_reduction_percent(JAN_BASELINE_2026_EMISSIONS_KG*0.2, 2040, JAN_TIMELINE_PATH, EMISSIONS_PATH, BUILDING_DATA_PATH, FINES_YEARS, FINE_PER_SQFT)"
   ]
  },
  {
   "cell_type": "markdown",
   "id": "58e6a5da-9a10-4845-baaa-d751582a1903",
   "metadata": {},
   "source": [
    "## 90% Reduction with June timeline\n",
    "\n",
    "Same as above, but calculate % reduction in June timeline instead of January."
   ]
  },
  {
   "cell_type": "code",
   "execution_count": 35,
   "id": "52b46e1e-ebc8-4781-a045-3ee73b11e338",
   "metadata": {},
   "outputs": [],
   "source": [
    "JUNE_TIMELINE_PATH = '../data/input_data/scen_2_reformatted_8_3.csv'"
   ]
  },
  {
   "cell_type": "code",
   "execution_count": 46,
   "id": "9bf9a982-388f-432b-95a8-b77b7cc7c040",
   "metadata": {},
   "outputs": [
    {
     "name": "stderr",
     "output_type": "stream",
     "text": [
      "/Users/ihc/programming/350_seattle/BPS/experiments/benchmarking_models/models/baseline_model.py:69: SettingWithCopyWarning: \n",
      "A value is trying to be set on a copy of a slice from a DataFrame.\n",
      "Try using .loc[row_indexer,col_indexer] = value instead\n",
      "\n",
      "See the caveats in the documentation: https://pandas.pydata.org/pandas-docs/stable/user_guide/indexing.html#returning-a-view-versus-a-copy\n",
      "  temp_df['year'] = pd.Series([year]*len(temp_df))\n",
      "/Users/ihc/programming/350_seattle/BPS/experiments/benchmarking_models/models/baseline_model.py:70: SettingWithCopyWarning: \n",
      "A value is trying to be set on a copy of a slice from a DataFrame.\n",
      "Try using .loc[row_indexer,col_indexer] = value instead\n",
      "\n",
      "See the caveats in the documentation: https://pandas.pydata.org/pandas-docs/stable/user_guide/indexing.html#returning-a-view-versus-a-copy\n",
      "  temp_df['expected_baseline'] = input_df.apply(lambda building: self._get_expected_baseline(building, year), axis=1)\n"
     ]
    },
    {
     "name": "stdout",
     "output_type": "stream",
     "text": [
      "Model calculations complete. Access the model dataframe as model_name.scenario_results\n"
     ]
    },
    {
     "name": "stderr",
     "output_type": "stream",
     "text": [
      "/Users/ihc/programming/350_seattle/BPS/experiments/benchmarking_models/models/baseline_model.py:69: SettingWithCopyWarning: \n",
      "A value is trying to be set on a copy of a slice from a DataFrame.\n",
      "Try using .loc[row_indexer,col_indexer] = value instead\n",
      "\n",
      "See the caveats in the documentation: https://pandas.pydata.org/pandas-docs/stable/user_guide/indexing.html#returning-a-view-versus-a-copy\n",
      "  temp_df['year'] = pd.Series([year]*len(temp_df))\n",
      "/Users/ihc/programming/350_seattle/BPS/experiments/benchmarking_models/models/baseline_model.py:70: SettingWithCopyWarning: \n",
      "A value is trying to be set on a copy of a slice from a DataFrame.\n",
      "Try using .loc[row_indexer,col_indexer] = value instead\n",
      "\n",
      "See the caveats in the documentation: https://pandas.pydata.org/pandas-docs/stable/user_guide/indexing.html#returning-a-view-versus-a-copy\n",
      "  temp_df['expected_baseline'] = input_df.apply(lambda building: self._get_expected_baseline(building, year), axis=1)\n"
     ]
    },
    {
     "name": "stdout",
     "output_type": "stream",
     "text": [
      "Model calculations complete. Access the model dataframe as model_name.scenario_results\n"
     ]
    },
    {
     "name": "stderr",
     "output_type": "stream",
     "text": [
      "/Users/ihc/programming/350_seattle/BPS/experiments/benchmarking_models/models/baseline_model.py:69: SettingWithCopyWarning: \n",
      "A value is trying to be set on a copy of a slice from a DataFrame.\n",
      "Try using .loc[row_indexer,col_indexer] = value instead\n",
      "\n",
      "See the caveats in the documentation: https://pandas.pydata.org/pandas-docs/stable/user_guide/indexing.html#returning-a-view-versus-a-copy\n",
      "  temp_df['year'] = pd.Series([year]*len(temp_df))\n",
      "/Users/ihc/programming/350_seattle/BPS/experiments/benchmarking_models/models/baseline_model.py:70: SettingWithCopyWarning: \n",
      "A value is trying to be set on a copy of a slice from a DataFrame.\n",
      "Try using .loc[row_indexer,col_indexer] = value instead\n",
      "\n",
      "See the caveats in the documentation: https://pandas.pydata.org/pandas-docs/stable/user_guide/indexing.html#returning-a-view-versus-a-copy\n",
      "  temp_df['expected_baseline'] = input_df.apply(lambda building: self._get_expected_baseline(building, year), axis=1)\n"
     ]
    },
    {
     "name": "stdout",
     "output_type": "stream",
     "text": [
      "Model calculations complete. Access the model dataframe as model_name.scenario_results\n"
     ]
    },
    {
     "name": "stderr",
     "output_type": "stream",
     "text": [
      "/Users/ihc/programming/350_seattle/BPS/experiments/benchmarking_models/models/baseline_model.py:69: SettingWithCopyWarning: \n",
      "A value is trying to be set on a copy of a slice from a DataFrame.\n",
      "Try using .loc[row_indexer,col_indexer] = value instead\n",
      "\n",
      "See the caveats in the documentation: https://pandas.pydata.org/pandas-docs/stable/user_guide/indexing.html#returning-a-view-versus-a-copy\n",
      "  temp_df['year'] = pd.Series([year]*len(temp_df))\n",
      "/Users/ihc/programming/350_seattle/BPS/experiments/benchmarking_models/models/baseline_model.py:70: SettingWithCopyWarning: \n",
      "A value is trying to be set on a copy of a slice from a DataFrame.\n",
      "Try using .loc[row_indexer,col_indexer] = value instead\n",
      "\n",
      "See the caveats in the documentation: https://pandas.pydata.org/pandas-docs/stable/user_guide/indexing.html#returning-a-view-versus-a-copy\n",
      "  temp_df['expected_baseline'] = input_df.apply(lambda building: self._get_expected_baseline(building, year), axis=1)\n"
     ]
    },
    {
     "name": "stdout",
     "output_type": "stream",
     "text": [
      "Model calculations complete. Access the model dataframe as model_name.scenario_results\n"
     ]
    },
    {
     "name": "stderr",
     "output_type": "stream",
     "text": [
      "/Users/ihc/programming/350_seattle/BPS/experiments/benchmarking_models/models/baseline_model.py:69: SettingWithCopyWarning: \n",
      "A value is trying to be set on a copy of a slice from a DataFrame.\n",
      "Try using .loc[row_indexer,col_indexer] = value instead\n",
      "\n",
      "See the caveats in the documentation: https://pandas.pydata.org/pandas-docs/stable/user_guide/indexing.html#returning-a-view-versus-a-copy\n",
      "  temp_df['year'] = pd.Series([year]*len(temp_df))\n",
      "/Users/ihc/programming/350_seattle/BPS/experiments/benchmarking_models/models/baseline_model.py:70: SettingWithCopyWarning: \n",
      "A value is trying to be set on a copy of a slice from a DataFrame.\n",
      "Try using .loc[row_indexer,col_indexer] = value instead\n",
      "\n",
      "See the caveats in the documentation: https://pandas.pydata.org/pandas-docs/stable/user_guide/indexing.html#returning-a-view-versus-a-copy\n",
      "  temp_df['expected_baseline'] = input_df.apply(lambda building: self._get_expected_baseline(building, year), axis=1)\n"
     ]
    },
    {
     "name": "stdout",
     "output_type": "stream",
     "text": [
      "Model calculations complete. Access the model dataframe as model_name.scenario_results\n"
     ]
    },
    {
     "name": "stderr",
     "output_type": "stream",
     "text": [
      "/Users/ihc/programming/350_seattle/BPS/experiments/benchmarking_models/models/baseline_model.py:69: SettingWithCopyWarning: \n",
      "A value is trying to be set on a copy of a slice from a DataFrame.\n",
      "Try using .loc[row_indexer,col_indexer] = value instead\n",
      "\n",
      "See the caveats in the documentation: https://pandas.pydata.org/pandas-docs/stable/user_guide/indexing.html#returning-a-view-versus-a-copy\n",
      "  temp_df['year'] = pd.Series([year]*len(temp_df))\n",
      "/Users/ihc/programming/350_seattle/BPS/experiments/benchmarking_models/models/baseline_model.py:70: SettingWithCopyWarning: \n",
      "A value is trying to be set on a copy of a slice from a DataFrame.\n",
      "Try using .loc[row_indexer,col_indexer] = value instead\n",
      "\n",
      "See the caveats in the documentation: https://pandas.pydata.org/pandas-docs/stable/user_guide/indexing.html#returning-a-view-versus-a-copy\n",
      "  temp_df['expected_baseline'] = input_df.apply(lambda building: self._get_expected_baseline(building, year), axis=1)\n"
     ]
    },
    {
     "name": "stdout",
     "output_type": "stream",
     "text": [
      "Model calculations complete. Access the model dataframe as model_name.scenario_results\n"
     ]
    },
    {
     "name": "stderr",
     "output_type": "stream",
     "text": [
      "/Users/ihc/programming/350_seattle/BPS/experiments/benchmarking_models/models/baseline_model.py:69: SettingWithCopyWarning: \n",
      "A value is trying to be set on a copy of a slice from a DataFrame.\n",
      "Try using .loc[row_indexer,col_indexer] = value instead\n",
      "\n",
      "See the caveats in the documentation: https://pandas.pydata.org/pandas-docs/stable/user_guide/indexing.html#returning-a-view-versus-a-copy\n",
      "  temp_df['year'] = pd.Series([year]*len(temp_df))\n",
      "/Users/ihc/programming/350_seattle/BPS/experiments/benchmarking_models/models/baseline_model.py:70: SettingWithCopyWarning: \n",
      "A value is trying to be set on a copy of a slice from a DataFrame.\n",
      "Try using .loc[row_indexer,col_indexer] = value instead\n",
      "\n",
      "See the caveats in the documentation: https://pandas.pydata.org/pandas-docs/stable/user_guide/indexing.html#returning-a-view-versus-a-copy\n",
      "  temp_df['expected_baseline'] = input_df.apply(lambda building: self._get_expected_baseline(building, year), axis=1)\n"
     ]
    },
    {
     "name": "stdout",
     "output_type": "stream",
     "text": [
      "Model calculations complete. Access the model dataframe as model_name.scenario_results\n"
     ]
    },
    {
     "name": "stderr",
     "output_type": "stream",
     "text": [
      "/Users/ihc/programming/350_seattle/BPS/experiments/benchmarking_models/models/baseline_model.py:69: SettingWithCopyWarning: \n",
      "A value is trying to be set on a copy of a slice from a DataFrame.\n",
      "Try using .loc[row_indexer,col_indexer] = value instead\n",
      "\n",
      "See the caveats in the documentation: https://pandas.pydata.org/pandas-docs/stable/user_guide/indexing.html#returning-a-view-versus-a-copy\n",
      "  temp_df['year'] = pd.Series([year]*len(temp_df))\n",
      "/Users/ihc/programming/350_seattle/BPS/experiments/benchmarking_models/models/baseline_model.py:70: SettingWithCopyWarning: \n",
      "A value is trying to be set on a copy of a slice from a DataFrame.\n",
      "Try using .loc[row_indexer,col_indexer] = value instead\n",
      "\n",
      "See the caveats in the documentation: https://pandas.pydata.org/pandas-docs/stable/user_guide/indexing.html#returning-a-view-versus-a-copy\n",
      "  temp_df['expected_baseline'] = input_df.apply(lambda building: self._get_expected_baseline(building, year), axis=1)\n"
     ]
    },
    {
     "name": "stdout",
     "output_type": "stream",
     "text": [
      "Model calculations complete. Access the model dataframe as model_name.scenario_results\n"
     ]
    },
    {
     "name": "stderr",
     "output_type": "stream",
     "text": [
      "/Users/ihc/programming/350_seattle/BPS/experiments/benchmarking_models/models/baseline_model.py:69: SettingWithCopyWarning: \n",
      "A value is trying to be set on a copy of a slice from a DataFrame.\n",
      "Try using .loc[row_indexer,col_indexer] = value instead\n",
      "\n",
      "See the caveats in the documentation: https://pandas.pydata.org/pandas-docs/stable/user_guide/indexing.html#returning-a-view-versus-a-copy\n",
      "  temp_df['year'] = pd.Series([year]*len(temp_df))\n",
      "/Users/ihc/programming/350_seattle/BPS/experiments/benchmarking_models/models/baseline_model.py:70: SettingWithCopyWarning: \n",
      "A value is trying to be set on a copy of a slice from a DataFrame.\n",
      "Try using .loc[row_indexer,col_indexer] = value instead\n",
      "\n",
      "See the caveats in the documentation: https://pandas.pydata.org/pandas-docs/stable/user_guide/indexing.html#returning-a-view-versus-a-copy\n",
      "  temp_df['expected_baseline'] = input_df.apply(lambda building: self._get_expected_baseline(building, year), axis=1)\n"
     ]
    },
    {
     "name": "stdout",
     "output_type": "stream",
     "text": [
      "Model calculations complete. Access the model dataframe as model_name.scenario_results\n"
     ]
    },
    {
     "name": "stderr",
     "output_type": "stream",
     "text": [
      "/Users/ihc/programming/350_seattle/BPS/experiments/benchmarking_models/models/baseline_model.py:69: SettingWithCopyWarning: \n",
      "A value is trying to be set on a copy of a slice from a DataFrame.\n",
      "Try using .loc[row_indexer,col_indexer] = value instead\n",
      "\n",
      "See the caveats in the documentation: https://pandas.pydata.org/pandas-docs/stable/user_guide/indexing.html#returning-a-view-versus-a-copy\n",
      "  temp_df['year'] = pd.Series([year]*len(temp_df))\n",
      "/Users/ihc/programming/350_seattle/BPS/experiments/benchmarking_models/models/baseline_model.py:70: SettingWithCopyWarning: \n",
      "A value is trying to be set on a copy of a slice from a DataFrame.\n",
      "Try using .loc[row_indexer,col_indexer] = value instead\n",
      "\n",
      "See the caveats in the documentation: https://pandas.pydata.org/pandas-docs/stable/user_guide/indexing.html#returning-a-view-versus-a-copy\n",
      "  temp_df['expected_baseline'] = input_df.apply(lambda building: self._get_expected_baseline(building, year), axis=1)\n"
     ]
    },
    {
     "name": "stdout",
     "output_type": "stream",
     "text": [
      "Model calculations complete. Access the model dataframe as model_name.scenario_results\n"
     ]
    },
    {
     "name": "stderr",
     "output_type": "stream",
     "text": [
      "/Users/ihc/programming/350_seattle/BPS/experiments/benchmarking_models/models/baseline_model.py:69: SettingWithCopyWarning: \n",
      "A value is trying to be set on a copy of a slice from a DataFrame.\n",
      "Try using .loc[row_indexer,col_indexer] = value instead\n",
      "\n",
      "See the caveats in the documentation: https://pandas.pydata.org/pandas-docs/stable/user_guide/indexing.html#returning-a-view-versus-a-copy\n",
      "  temp_df['year'] = pd.Series([year]*len(temp_df))\n",
      "/Users/ihc/programming/350_seattle/BPS/experiments/benchmarking_models/models/baseline_model.py:70: SettingWithCopyWarning: \n",
      "A value is trying to be set on a copy of a slice from a DataFrame.\n",
      "Try using .loc[row_indexer,col_indexer] = value instead\n",
      "\n",
      "See the caveats in the documentation: https://pandas.pydata.org/pandas-docs/stable/user_guide/indexing.html#returning-a-view-versus-a-copy\n",
      "  temp_df['expected_baseline'] = input_df.apply(lambda building: self._get_expected_baseline(building, year), axis=1)\n"
     ]
    },
    {
     "name": "stdout",
     "output_type": "stream",
     "text": [
      "Model calculations complete. Access the model dataframe as model_name.scenario_results\n",
      "You can achieve 45945220.98585001 kg/yr in 2040 by reducing the baselines by 79.443359375%.\n"
     ]
    }
   ],
   "source": [
    "find_reduction_percent(TARGET_FOR_2040_KG, 2040, JUNE_TIMELINE_PATH, EMISSIONS_PATH, BUILDING_DATA_PATH, FINES_YEARS, FINE_PER_SQFT)"
   ]
  },
  {
   "cell_type": "markdown",
   "id": "cd8833fd-c2b3-4541-b0cd-f4247380c091",
   "metadata": {},
   "source": [
    "## Mixing and matching goals for large/small buildings\n",
    "\n",
    "Let's try letting the small buildings use the regular January plan and the big buildings use a more aggressive timeline.\n",
    "\n",
    "Model:\n",
    "\n",
    "- Buildings over 50k use an extremely reduced benchmark \n",
    "- Buildings under 50k use a slightly reduced benchmark"
   ]
  },
  {
   "cell_type": "code",
   "execution_count": 49,
   "id": "12a0096e-12b2-4ed1-8b14-96ffadb5855f",
   "metadata": {},
   "outputs": [],
   "source": [
    "# How much emissions are produced by large buildings vs small buildings?\n",
    "\n",
    "building_data = pd.read_csv(BUILDING_DATA_PATH)\n",
    "small_buildings = building_data[building_data['sq_ft_classification'].isin(['D', 'E', 'F'])]\n",
    "large_buildings = building_data[building_data['sq_ft_classification'].isin(['A', 'B', 'C'])]"
   ]
  },
  {
   "cell_type": "code",
   "execution_count": 63,
   "id": "2b78e121-92ba-4da6-9804-2a43252f379c",
   "metadata": {},
   "outputs": [],
   "source": [
    "small_buildings.to_csv('small_buildings_data.csv')\n",
    "large_buildings.to_csv('large_buildings_data.csv')"
   ]
  },
  {
   "cell_type": "code",
   "execution_count": 54,
   "id": "bc5cdd28-2062-4aea-8cfc-86274dbbaa85",
   "metadata": {},
   "outputs": [
    {
     "data": {
      "text/plain": [
       "Index(['Unnamed: 0', 'OSEBuildingID', 'BuildingName', 'Total_sqft',\n",
       "       'sq_ft_classification', 'LargestPropertyUseType OSE',\n",
       "       'SecondLargestPropertyUseType OSE', 'ThirdLargestPropertyUseType OSE',\n",
       "       'year', 'expected_baseline', 'expected_baseline_ghgi',\n",
       "       'city_ghgi_target', 'compliant_ghgi', 'compliant_emissions',\n",
       "       'compliance_status', 'compliance_fees'],\n",
       "      dtype='object')"
      ]
     },
     "execution_count": 54,
     "metadata": {},
     "output_type": "execute_result"
    }
   ],
   "source": [
    "jan_baseline.columns"
   ]
  },
  {
   "cell_type": "code",
   "execution_count": 60,
   "id": "4159ff43-da63-432e-ac02-d0ac97755aaa",
   "metadata": {},
   "outputs": [
    {
     "name": "stdout",
     "output_type": "stream",
     "text": [
      "Right now 0.807834694320675% of our emissions comes from large buildings and 0.1921653056793249% comes from small buildings.\n"
     ]
    }
   ],
   "source": [
    "percent_large_building_emissions = jan_baseline[(jan_baseline['sq_ft_classification'].isin(['A', 'B', 'C'])) & (jan_baseline['year'] == 2027)]['expected_baseline'].sum() / JAN_BASELINE_2026_EMISSIONS_KG\n",
    "percent_small_building_emissions = jan_baseline[(jan_baseline['sq_ft_classification'].isin(['D', 'E', 'F'])) & (jan_baseline['year'] == 2027)]['expected_baseline'].sum() / JAN_BASELINE_2026_EMISSIONS_KG\n",
    "\n",
    "print(f'Right now {percent_large_building_emissions}% of our emissions comes from large buildings and {percent_small_building_emissions}% comes from small buildings.')"
   ]
  },
  {
   "cell_type": "markdown",
   "id": "b6128681-de23-4bfe-bd8d-cb8288b712fc",
   "metadata": {},
   "source": [
    "## Reduce small building emissions by 25%"
   ]
  },
  {
   "cell_type": "code",
   "execution_count": 62,
   "id": "9ae328b8-ee7c-4ca1-9795-840f4b71410c",
   "metadata": {},
   "outputs": [],
   "source": [
    "# How much would the small buildings produce if you reduced by 25%?\n",
    "\n",
    "os.mkdir('tmp')\n",
    "\n",
    "buildings_25_percent_reduction_timeline = create_temp_emissions_timeline_file(75, JAN_TIMELINE_PATH)"
   ]
  },
  {
   "cell_type": "code",
   "execution_count": 64,
   "id": "3d8dbf09-1d91-4582-8c3a-8c2ea503ba39",
   "metadata": {},
   "outputs": [
    {
     "name": "stderr",
     "output_type": "stream",
     "text": [
      "/Users/ihc/programming/350_seattle/BPS/experiments/benchmarking_models/models/baseline_model.py:69: SettingWithCopyWarning: \n",
      "A value is trying to be set on a copy of a slice from a DataFrame.\n",
      "Try using .loc[row_indexer,col_indexer] = value instead\n",
      "\n",
      "See the caveats in the documentation: https://pandas.pydata.org/pandas-docs/stable/user_guide/indexing.html#returning-a-view-versus-a-copy\n",
      "  temp_df['year'] = pd.Series([year]*len(temp_df))\n",
      "/Users/ihc/programming/350_seattle/BPS/experiments/benchmarking_models/models/baseline_model.py:70: SettingWithCopyWarning: \n",
      "A value is trying to be set on a copy of a slice from a DataFrame.\n",
      "Try using .loc[row_indexer,col_indexer] = value instead\n",
      "\n",
      "See the caveats in the documentation: https://pandas.pydata.org/pandas-docs/stable/user_guide/indexing.html#returning-a-view-versus-a-copy\n",
      "  temp_df['expected_baseline'] = input_df.apply(lambda building: self._get_expected_baseline(building, year), axis=1)\n"
     ]
    },
    {
     "name": "stdout",
     "output_type": "stream",
     "text": [
      "Model calculations complete. Access the model dataframe as model_name.scenario_results\n"
     ]
    }
   ],
   "source": [
    "small_buildings_25_percent_reduction = BaselineBEPSModel(EMISSIONS_PATH, 'tmp/timeline_75_percent_of_policy.csv', 'small_buildings_data.csv', FINES_YEARS, FINE_PER_SQFT)\n",
    "small_buildings_25_percent_reduction.calculate_baseline_model(2040, 2040)"
   ]
  },
  {
   "cell_type": "code",
   "execution_count": 65,
   "id": "6185aa43-462f-49a8-98fd-f9fd02fca506",
   "metadata": {},
   "outputs": [
    {
     "name": "stdout",
     "output_type": "stream",
     "text": [
      "Large buildings could produce max 31200629.486800008 kg in 2040.\n"
     ]
    }
   ],
   "source": [
    "emissions_small_buildings_25_percent_reduction_2040 = small_buildings_25_percent_reduction.scenario_results['compliant_emissions'].sum()\n",
    "print(f'Large buildings could produce max {TARGET_FOR_2040_KG - emissions_small_buildings_25_percent_reduction_2040} kg in 2040.')"
   ]
  },
  {
   "cell_type": "code",
   "execution_count": 66,
   "id": "8e6971dc-62c9-4d2f-9112-897a509a2087",
   "metadata": {},
   "outputs": [],
   "source": [
    "max_for_large_buildings = TARGET_FOR_2040_KG - emissions_small_buildings_25_percent_reduction_2040"
   ]
  },
  {
   "cell_type": "code",
   "execution_count": 72,
   "id": "b773fbc2-4267-4347-b1fd-859212aa34b1",
   "metadata": {},
   "outputs": [
    {
     "data": {
      "text/plain": [
       "14744591.499049999"
      ]
     },
     "execution_count": 72,
     "metadata": {},
     "output_type": "execute_result"
    }
   ],
   "source": [
    "emissions_small_buildings_25_percent_reduction_2040"
   ]
  },
  {
   "cell_type": "code",
   "execution_count": 68,
   "id": "fe5371e1-c25a-4252-ab01-55cac335afc2",
   "metadata": {},
   "outputs": [
    {
     "name": "stderr",
     "output_type": "stream",
     "text": [
      "/Users/ihc/programming/350_seattle/BPS/experiments/benchmarking_models/models/baseline_model.py:69: SettingWithCopyWarning: \n",
      "A value is trying to be set on a copy of a slice from a DataFrame.\n",
      "Try using .loc[row_indexer,col_indexer] = value instead\n",
      "\n",
      "See the caveats in the documentation: https://pandas.pydata.org/pandas-docs/stable/user_guide/indexing.html#returning-a-view-versus-a-copy\n",
      "  temp_df['year'] = pd.Series([year]*len(temp_df))\n",
      "/Users/ihc/programming/350_seattle/BPS/experiments/benchmarking_models/models/baseline_model.py:70: SettingWithCopyWarning: \n",
      "A value is trying to be set on a copy of a slice from a DataFrame.\n",
      "Try using .loc[row_indexer,col_indexer] = value instead\n",
      "\n",
      "See the caveats in the documentation: https://pandas.pydata.org/pandas-docs/stable/user_guide/indexing.html#returning-a-view-versus-a-copy\n",
      "  temp_df['expected_baseline'] = input_df.apply(lambda building: self._get_expected_baseline(building, year), axis=1)\n"
     ]
    },
    {
     "name": "stdout",
     "output_type": "stream",
     "text": [
      "Model calculations complete. Access the model dataframe as model_name.scenario_results\n"
     ]
    },
    {
     "name": "stderr",
     "output_type": "stream",
     "text": [
      "/Users/ihc/programming/350_seattle/BPS/experiments/benchmarking_models/models/baseline_model.py:69: SettingWithCopyWarning: \n",
      "A value is trying to be set on a copy of a slice from a DataFrame.\n",
      "Try using .loc[row_indexer,col_indexer] = value instead\n",
      "\n",
      "See the caveats in the documentation: https://pandas.pydata.org/pandas-docs/stable/user_guide/indexing.html#returning-a-view-versus-a-copy\n",
      "  temp_df['year'] = pd.Series([year]*len(temp_df))\n",
      "/Users/ihc/programming/350_seattle/BPS/experiments/benchmarking_models/models/baseline_model.py:70: SettingWithCopyWarning: \n",
      "A value is trying to be set on a copy of a slice from a DataFrame.\n",
      "Try using .loc[row_indexer,col_indexer] = value instead\n",
      "\n",
      "See the caveats in the documentation: https://pandas.pydata.org/pandas-docs/stable/user_guide/indexing.html#returning-a-view-versus-a-copy\n",
      "  temp_df['expected_baseline'] = input_df.apply(lambda building: self._get_expected_baseline(building, year), axis=1)\n"
     ]
    },
    {
     "name": "stdout",
     "output_type": "stream",
     "text": [
      "Model calculations complete. Access the model dataframe as model_name.scenario_results\n"
     ]
    },
    {
     "name": "stderr",
     "output_type": "stream",
     "text": [
      "/Users/ihc/programming/350_seattle/BPS/experiments/benchmarking_models/models/baseline_model.py:69: SettingWithCopyWarning: \n",
      "A value is trying to be set on a copy of a slice from a DataFrame.\n",
      "Try using .loc[row_indexer,col_indexer] = value instead\n",
      "\n",
      "See the caveats in the documentation: https://pandas.pydata.org/pandas-docs/stable/user_guide/indexing.html#returning-a-view-versus-a-copy\n",
      "  temp_df['year'] = pd.Series([year]*len(temp_df))\n",
      "/Users/ihc/programming/350_seattle/BPS/experiments/benchmarking_models/models/baseline_model.py:70: SettingWithCopyWarning: \n",
      "A value is trying to be set on a copy of a slice from a DataFrame.\n",
      "Try using .loc[row_indexer,col_indexer] = value instead\n",
      "\n",
      "See the caveats in the documentation: https://pandas.pydata.org/pandas-docs/stable/user_guide/indexing.html#returning-a-view-versus-a-copy\n",
      "  temp_df['expected_baseline'] = input_df.apply(lambda building: self._get_expected_baseline(building, year), axis=1)\n"
     ]
    },
    {
     "name": "stdout",
     "output_type": "stream",
     "text": [
      "Model calculations complete. Access the model dataframe as model_name.scenario_results\n"
     ]
    },
    {
     "name": "stderr",
     "output_type": "stream",
     "text": [
      "/Users/ihc/programming/350_seattle/BPS/experiments/benchmarking_models/models/baseline_model.py:69: SettingWithCopyWarning: \n",
      "A value is trying to be set on a copy of a slice from a DataFrame.\n",
      "Try using .loc[row_indexer,col_indexer] = value instead\n",
      "\n",
      "See the caveats in the documentation: https://pandas.pydata.org/pandas-docs/stable/user_guide/indexing.html#returning-a-view-versus-a-copy\n",
      "  temp_df['year'] = pd.Series([year]*len(temp_df))\n",
      "/Users/ihc/programming/350_seattle/BPS/experiments/benchmarking_models/models/baseline_model.py:70: SettingWithCopyWarning: \n",
      "A value is trying to be set on a copy of a slice from a DataFrame.\n",
      "Try using .loc[row_indexer,col_indexer] = value instead\n",
      "\n",
      "See the caveats in the documentation: https://pandas.pydata.org/pandas-docs/stable/user_guide/indexing.html#returning-a-view-versus-a-copy\n",
      "  temp_df['expected_baseline'] = input_df.apply(lambda building: self._get_expected_baseline(building, year), axis=1)\n"
     ]
    },
    {
     "name": "stdout",
     "output_type": "stream",
     "text": [
      "Model calculations complete. Access the model dataframe as model_name.scenario_results\n"
     ]
    },
    {
     "name": "stderr",
     "output_type": "stream",
     "text": [
      "/Users/ihc/programming/350_seattle/BPS/experiments/benchmarking_models/models/baseline_model.py:69: SettingWithCopyWarning: \n",
      "A value is trying to be set on a copy of a slice from a DataFrame.\n",
      "Try using .loc[row_indexer,col_indexer] = value instead\n",
      "\n",
      "See the caveats in the documentation: https://pandas.pydata.org/pandas-docs/stable/user_guide/indexing.html#returning-a-view-versus-a-copy\n",
      "  temp_df['year'] = pd.Series([year]*len(temp_df))\n",
      "/Users/ihc/programming/350_seattle/BPS/experiments/benchmarking_models/models/baseline_model.py:70: SettingWithCopyWarning: \n",
      "A value is trying to be set on a copy of a slice from a DataFrame.\n",
      "Try using .loc[row_indexer,col_indexer] = value instead\n",
      "\n",
      "See the caveats in the documentation: https://pandas.pydata.org/pandas-docs/stable/user_guide/indexing.html#returning-a-view-versus-a-copy\n",
      "  temp_df['expected_baseline'] = input_df.apply(lambda building: self._get_expected_baseline(building, year), axis=1)\n"
     ]
    },
    {
     "name": "stdout",
     "output_type": "stream",
     "text": [
      "Model calculations complete. Access the model dataframe as model_name.scenario_results\n"
     ]
    },
    {
     "name": "stderr",
     "output_type": "stream",
     "text": [
      "/Users/ihc/programming/350_seattle/BPS/experiments/benchmarking_models/models/baseline_model.py:69: SettingWithCopyWarning: \n",
      "A value is trying to be set on a copy of a slice from a DataFrame.\n",
      "Try using .loc[row_indexer,col_indexer] = value instead\n",
      "\n",
      "See the caveats in the documentation: https://pandas.pydata.org/pandas-docs/stable/user_guide/indexing.html#returning-a-view-versus-a-copy\n",
      "  temp_df['year'] = pd.Series([year]*len(temp_df))\n",
      "/Users/ihc/programming/350_seattle/BPS/experiments/benchmarking_models/models/baseline_model.py:70: SettingWithCopyWarning: \n",
      "A value is trying to be set on a copy of a slice from a DataFrame.\n",
      "Try using .loc[row_indexer,col_indexer] = value instead\n",
      "\n",
      "See the caveats in the documentation: https://pandas.pydata.org/pandas-docs/stable/user_guide/indexing.html#returning-a-view-versus-a-copy\n",
      "  temp_df['expected_baseline'] = input_df.apply(lambda building: self._get_expected_baseline(building, year), axis=1)\n"
     ]
    },
    {
     "name": "stdout",
     "output_type": "stream",
     "text": [
      "Model calculations complete. Access the model dataframe as model_name.scenario_results\n"
     ]
    },
    {
     "name": "stderr",
     "output_type": "stream",
     "text": [
      "/Users/ihc/programming/350_seattle/BPS/experiments/benchmarking_models/models/baseline_model.py:69: SettingWithCopyWarning: \n",
      "A value is trying to be set on a copy of a slice from a DataFrame.\n",
      "Try using .loc[row_indexer,col_indexer] = value instead\n",
      "\n",
      "See the caveats in the documentation: https://pandas.pydata.org/pandas-docs/stable/user_guide/indexing.html#returning-a-view-versus-a-copy\n",
      "  temp_df['year'] = pd.Series([year]*len(temp_df))\n",
      "/Users/ihc/programming/350_seattle/BPS/experiments/benchmarking_models/models/baseline_model.py:70: SettingWithCopyWarning: \n",
      "A value is trying to be set on a copy of a slice from a DataFrame.\n",
      "Try using .loc[row_indexer,col_indexer] = value instead\n",
      "\n",
      "See the caveats in the documentation: https://pandas.pydata.org/pandas-docs/stable/user_guide/indexing.html#returning-a-view-versus-a-copy\n",
      "  temp_df['expected_baseline'] = input_df.apply(lambda building: self._get_expected_baseline(building, year), axis=1)\n"
     ]
    },
    {
     "name": "stdout",
     "output_type": "stream",
     "text": [
      "Model calculations complete. Access the model dataframe as model_name.scenario_results\n"
     ]
    },
    {
     "name": "stderr",
     "output_type": "stream",
     "text": [
      "/Users/ihc/programming/350_seattle/BPS/experiments/benchmarking_models/models/baseline_model.py:69: SettingWithCopyWarning: \n",
      "A value is trying to be set on a copy of a slice from a DataFrame.\n",
      "Try using .loc[row_indexer,col_indexer] = value instead\n",
      "\n",
      "See the caveats in the documentation: https://pandas.pydata.org/pandas-docs/stable/user_guide/indexing.html#returning-a-view-versus-a-copy\n",
      "  temp_df['year'] = pd.Series([year]*len(temp_df))\n",
      "/Users/ihc/programming/350_seattle/BPS/experiments/benchmarking_models/models/baseline_model.py:70: SettingWithCopyWarning: \n",
      "A value is trying to be set on a copy of a slice from a DataFrame.\n",
      "Try using .loc[row_indexer,col_indexer] = value instead\n",
      "\n",
      "See the caveats in the documentation: https://pandas.pydata.org/pandas-docs/stable/user_guide/indexing.html#returning-a-view-versus-a-copy\n",
      "  temp_df['expected_baseline'] = input_df.apply(lambda building: self._get_expected_baseline(building, year), axis=1)\n"
     ]
    },
    {
     "name": "stdout",
     "output_type": "stream",
     "text": [
      "Model calculations complete. Access the model dataframe as model_name.scenario_results\n"
     ]
    },
    {
     "name": "stderr",
     "output_type": "stream",
     "text": [
      "/Users/ihc/programming/350_seattle/BPS/experiments/benchmarking_models/models/baseline_model.py:69: SettingWithCopyWarning: \n",
      "A value is trying to be set on a copy of a slice from a DataFrame.\n",
      "Try using .loc[row_indexer,col_indexer] = value instead\n",
      "\n",
      "See the caveats in the documentation: https://pandas.pydata.org/pandas-docs/stable/user_guide/indexing.html#returning-a-view-versus-a-copy\n",
      "  temp_df['year'] = pd.Series([year]*len(temp_df))\n",
      "/Users/ihc/programming/350_seattle/BPS/experiments/benchmarking_models/models/baseline_model.py:70: SettingWithCopyWarning: \n",
      "A value is trying to be set on a copy of a slice from a DataFrame.\n",
      "Try using .loc[row_indexer,col_indexer] = value instead\n",
      "\n",
      "See the caveats in the documentation: https://pandas.pydata.org/pandas-docs/stable/user_guide/indexing.html#returning-a-view-versus-a-copy\n",
      "  temp_df['expected_baseline'] = input_df.apply(lambda building: self._get_expected_baseline(building, year), axis=1)\n"
     ]
    },
    {
     "name": "stdout",
     "output_type": "stream",
     "text": [
      "Model calculations complete. Access the model dataframe as model_name.scenario_results\n"
     ]
    },
    {
     "name": "stderr",
     "output_type": "stream",
     "text": [
      "/Users/ihc/programming/350_seattle/BPS/experiments/benchmarking_models/models/baseline_model.py:69: SettingWithCopyWarning: \n",
      "A value is trying to be set on a copy of a slice from a DataFrame.\n",
      "Try using .loc[row_indexer,col_indexer] = value instead\n",
      "\n",
      "See the caveats in the documentation: https://pandas.pydata.org/pandas-docs/stable/user_guide/indexing.html#returning-a-view-versus-a-copy\n",
      "  temp_df['year'] = pd.Series([year]*len(temp_df))\n",
      "/Users/ihc/programming/350_seattle/BPS/experiments/benchmarking_models/models/baseline_model.py:70: SettingWithCopyWarning: \n",
      "A value is trying to be set on a copy of a slice from a DataFrame.\n",
      "Try using .loc[row_indexer,col_indexer] = value instead\n",
      "\n",
      "See the caveats in the documentation: https://pandas.pydata.org/pandas-docs/stable/user_guide/indexing.html#returning-a-view-versus-a-copy\n",
      "  temp_df['expected_baseline'] = input_df.apply(lambda building: self._get_expected_baseline(building, year), axis=1)\n"
     ]
    },
    {
     "name": "stdout",
     "output_type": "stream",
     "text": [
      "Model calculations complete. Access the model dataframe as model_name.scenario_results\n"
     ]
    },
    {
     "name": "stderr",
     "output_type": "stream",
     "text": [
      "/Users/ihc/programming/350_seattle/BPS/experiments/benchmarking_models/models/baseline_model.py:69: SettingWithCopyWarning: \n",
      "A value is trying to be set on a copy of a slice from a DataFrame.\n",
      "Try using .loc[row_indexer,col_indexer] = value instead\n",
      "\n",
      "See the caveats in the documentation: https://pandas.pydata.org/pandas-docs/stable/user_guide/indexing.html#returning-a-view-versus-a-copy\n",
      "  temp_df['year'] = pd.Series([year]*len(temp_df))\n",
      "/Users/ihc/programming/350_seattle/BPS/experiments/benchmarking_models/models/baseline_model.py:70: SettingWithCopyWarning: \n",
      "A value is trying to be set on a copy of a slice from a DataFrame.\n",
      "Try using .loc[row_indexer,col_indexer] = value instead\n",
      "\n",
      "See the caveats in the documentation: https://pandas.pydata.org/pandas-docs/stable/user_guide/indexing.html#returning-a-view-versus-a-copy\n",
      "  temp_df['expected_baseline'] = input_df.apply(lambda building: self._get_expected_baseline(building, year), axis=1)\n"
     ]
    },
    {
     "name": "stdout",
     "output_type": "stream",
     "text": [
      "Model calculations complete. Access the model dataframe as model_name.scenario_results\n"
     ]
    },
    {
     "name": "stderr",
     "output_type": "stream",
     "text": [
      "/Users/ihc/programming/350_seattle/BPS/experiments/benchmarking_models/models/baseline_model.py:69: SettingWithCopyWarning: \n",
      "A value is trying to be set on a copy of a slice from a DataFrame.\n",
      "Try using .loc[row_indexer,col_indexer] = value instead\n",
      "\n",
      "See the caveats in the documentation: https://pandas.pydata.org/pandas-docs/stable/user_guide/indexing.html#returning-a-view-versus-a-copy\n",
      "  temp_df['year'] = pd.Series([year]*len(temp_df))\n",
      "/Users/ihc/programming/350_seattle/BPS/experiments/benchmarking_models/models/baseline_model.py:70: SettingWithCopyWarning: \n",
      "A value is trying to be set on a copy of a slice from a DataFrame.\n",
      "Try using .loc[row_indexer,col_indexer] = value instead\n",
      "\n",
      "See the caveats in the documentation: https://pandas.pydata.org/pandas-docs/stable/user_guide/indexing.html#returning-a-view-versus-a-copy\n",
      "  temp_df['expected_baseline'] = input_df.apply(lambda building: self._get_expected_baseline(building, year), axis=1)\n"
     ]
    },
    {
     "name": "stdout",
     "output_type": "stream",
     "text": [
      "Model calculations complete. Access the model dataframe as model_name.scenario_results\n",
      "You can achieve 31200629.486800008 kg/yr in 2040 by reducing the baselines by 75.0732421875%.\n"
     ]
    }
   ],
   "source": [
    "find_reduction_percent(max_for_large_buildings, 2040, JAN_TIMELINE_PATH, EMISSIONS_PATH, 'large_buildings_data.csv', FINES_YEARS, FINE_PER_SQFT)"
   ]
  },
  {
   "cell_type": "code",
   "execution_count": 73,
   "id": "4e047b07-29dc-46da-ae0b-c5809306e412",
   "metadata": {},
   "outputs": [
    {
     "name": "stdout",
     "output_type": "stream",
     "text": [
      "45942767.10976966\n",
      "45945220.98585001\n"
     ]
    }
   ],
   "source": [
    "# do the small and large buildings add up to 10% of initial baseline?!\n",
    "emissions_large_buildings_75_percent_reduction_2040 = pd.read_csv('emissions_2040_24.9267578125_of_policy.csv')['compliant_emissions'].sum()\n",
    "\n",
    "print(emissions_small_buildings_25_percent_reduction_2040 + emissions_large_buildings_75_percent_reduction_2040)\n",
    "print(TARGET_FOR_2040_KG)"
   ]
  },
  {
   "cell_type": "code",
   "execution_count": 75,
   "id": "c2644179-f7b8-4cb2-9b43-267bcd78d148",
   "metadata": {},
   "outputs": [
    {
     "name": "stderr",
     "output_type": "stream",
     "text": [
      "/Users/ihc/programming/350_seattle/BPS/experiments/benchmarking_models/models/baseline_model.py:69: SettingWithCopyWarning: \n",
      "A value is trying to be set on a copy of a slice from a DataFrame.\n",
      "Try using .loc[row_indexer,col_indexer] = value instead\n",
      "\n",
      "See the caveats in the documentation: https://pandas.pydata.org/pandas-docs/stable/user_guide/indexing.html#returning-a-view-versus-a-copy\n",
      "  temp_df['year'] = pd.Series([year]*len(temp_df))\n",
      "/Users/ihc/programming/350_seattle/BPS/experiments/benchmarking_models/models/baseline_model.py:70: SettingWithCopyWarning: \n",
      "A value is trying to be set on a copy of a slice from a DataFrame.\n",
      "Try using .loc[row_indexer,col_indexer] = value instead\n",
      "\n",
      "See the caveats in the documentation: https://pandas.pydata.org/pandas-docs/stable/user_guide/indexing.html#returning-a-view-versus-a-copy\n",
      "  temp_df['expected_baseline'] = input_df.apply(lambda building: self._get_expected_baseline(building, year), axis=1)\n",
      "/Users/ihc/programming/350_seattle/BPS/experiments/benchmarking_models/models/baseline_model.py:69: SettingWithCopyWarning: \n",
      "A value is trying to be set on a copy of a slice from a DataFrame.\n",
      "Try using .loc[row_indexer,col_indexer] = value instead\n",
      "\n",
      "See the caveats in the documentation: https://pandas.pydata.org/pandas-docs/stable/user_guide/indexing.html#returning-a-view-versus-a-copy\n",
      "  temp_df['year'] = pd.Series([year]*len(temp_df))\n",
      "/Users/ihc/programming/350_seattle/BPS/experiments/benchmarking_models/models/baseline_model.py:70: SettingWithCopyWarning: \n",
      "A value is trying to be set on a copy of a slice from a DataFrame.\n",
      "Try using .loc[row_indexer,col_indexer] = value instead\n",
      "\n",
      "See the caveats in the documentation: https://pandas.pydata.org/pandas-docs/stable/user_guide/indexing.html#returning-a-view-versus-a-copy\n",
      "  temp_df['expected_baseline'] = input_df.apply(lambda building: self._get_expected_baseline(building, year), axis=1)\n",
      "/Users/ihc/programming/350_seattle/BPS/experiments/benchmarking_models/models/baseline_model.py:69: SettingWithCopyWarning: \n",
      "A value is trying to be set on a copy of a slice from a DataFrame.\n",
      "Try using .loc[row_indexer,col_indexer] = value instead\n",
      "\n",
      "See the caveats in the documentation: https://pandas.pydata.org/pandas-docs/stable/user_guide/indexing.html#returning-a-view-versus-a-copy\n",
      "  temp_df['year'] = pd.Series([year]*len(temp_df))\n",
      "/Users/ihc/programming/350_seattle/BPS/experiments/benchmarking_models/models/baseline_model.py:70: SettingWithCopyWarning: \n",
      "A value is trying to be set on a copy of a slice from a DataFrame.\n",
      "Try using .loc[row_indexer,col_indexer] = value instead\n",
      "\n",
      "See the caveats in the documentation: https://pandas.pydata.org/pandas-docs/stable/user_guide/indexing.html#returning-a-view-versus-a-copy\n",
      "  temp_df['expected_baseline'] = input_df.apply(lambda building: self._get_expected_baseline(building, year), axis=1)\n",
      "/Users/ihc/programming/350_seattle/BPS/experiments/benchmarking_models/models/baseline_model.py:69: SettingWithCopyWarning: \n",
      "A value is trying to be set on a copy of a slice from a DataFrame.\n",
      "Try using .loc[row_indexer,col_indexer] = value instead\n",
      "\n",
      "See the caveats in the documentation: https://pandas.pydata.org/pandas-docs/stable/user_guide/indexing.html#returning-a-view-versus-a-copy\n",
      "  temp_df['year'] = pd.Series([year]*len(temp_df))\n",
      "/Users/ihc/programming/350_seattle/BPS/experiments/benchmarking_models/models/baseline_model.py:70: SettingWithCopyWarning: \n",
      "A value is trying to be set on a copy of a slice from a DataFrame.\n",
      "Try using .loc[row_indexer,col_indexer] = value instead\n",
      "\n",
      "See the caveats in the documentation: https://pandas.pydata.org/pandas-docs/stable/user_guide/indexing.html#returning-a-view-versus-a-copy\n",
      "  temp_df['expected_baseline'] = input_df.apply(lambda building: self._get_expected_baseline(building, year), axis=1)\n",
      "/Users/ihc/programming/350_seattle/BPS/experiments/benchmarking_models/models/baseline_model.py:69: SettingWithCopyWarning: \n",
      "A value is trying to be set on a copy of a slice from a DataFrame.\n",
      "Try using .loc[row_indexer,col_indexer] = value instead\n",
      "\n",
      "See the caveats in the documentation: https://pandas.pydata.org/pandas-docs/stable/user_guide/indexing.html#returning-a-view-versus-a-copy\n",
      "  temp_df['year'] = pd.Series([year]*len(temp_df))\n",
      "/Users/ihc/programming/350_seattle/BPS/experiments/benchmarking_models/models/baseline_model.py:70: SettingWithCopyWarning: \n",
      "A value is trying to be set on a copy of a slice from a DataFrame.\n",
      "Try using .loc[row_indexer,col_indexer] = value instead\n",
      "\n",
      "See the caveats in the documentation: https://pandas.pydata.org/pandas-docs/stable/user_guide/indexing.html#returning-a-view-versus-a-copy\n",
      "  temp_df['expected_baseline'] = input_df.apply(lambda building: self._get_expected_baseline(building, year), axis=1)\n",
      "/Users/ihc/programming/350_seattle/BPS/experiments/benchmarking_models/models/baseline_model.py:69: SettingWithCopyWarning: \n",
      "A value is trying to be set on a copy of a slice from a DataFrame.\n",
      "Try using .loc[row_indexer,col_indexer] = value instead\n",
      "\n",
      "See the caveats in the documentation: https://pandas.pydata.org/pandas-docs/stable/user_guide/indexing.html#returning-a-view-versus-a-copy\n",
      "  temp_df['year'] = pd.Series([year]*len(temp_df))\n",
      "/Users/ihc/programming/350_seattle/BPS/experiments/benchmarking_models/models/baseline_model.py:70: SettingWithCopyWarning: \n",
      "A value is trying to be set on a copy of a slice from a DataFrame.\n",
      "Try using .loc[row_indexer,col_indexer] = value instead\n",
      "\n",
      "See the caveats in the documentation: https://pandas.pydata.org/pandas-docs/stable/user_guide/indexing.html#returning-a-view-versus-a-copy\n",
      "  temp_df['expected_baseline'] = input_df.apply(lambda building: self._get_expected_baseline(building, year), axis=1)\n",
      "/Users/ihc/programming/350_seattle/BPS/experiments/benchmarking_models/models/baseline_model.py:69: SettingWithCopyWarning: \n",
      "A value is trying to be set on a copy of a slice from a DataFrame.\n",
      "Try using .loc[row_indexer,col_indexer] = value instead\n",
      "\n",
      "See the caveats in the documentation: https://pandas.pydata.org/pandas-docs/stable/user_guide/indexing.html#returning-a-view-versus-a-copy\n",
      "  temp_df['year'] = pd.Series([year]*len(temp_df))\n",
      "/Users/ihc/programming/350_seattle/BPS/experiments/benchmarking_models/models/baseline_model.py:70: SettingWithCopyWarning: \n",
      "A value is trying to be set on a copy of a slice from a DataFrame.\n",
      "Try using .loc[row_indexer,col_indexer] = value instead\n",
      "\n",
      "See the caveats in the documentation: https://pandas.pydata.org/pandas-docs/stable/user_guide/indexing.html#returning-a-view-versus-a-copy\n",
      "  temp_df['expected_baseline'] = input_df.apply(lambda building: self._get_expected_baseline(building, year), axis=1)\n",
      "/Users/ihc/programming/350_seattle/BPS/experiments/benchmarking_models/models/baseline_model.py:69: SettingWithCopyWarning: \n",
      "A value is trying to be set on a copy of a slice from a DataFrame.\n",
      "Try using .loc[row_indexer,col_indexer] = value instead\n",
      "\n",
      "See the caveats in the documentation: https://pandas.pydata.org/pandas-docs/stable/user_guide/indexing.html#returning-a-view-versus-a-copy\n",
      "  temp_df['year'] = pd.Series([year]*len(temp_df))\n",
      "/Users/ihc/programming/350_seattle/BPS/experiments/benchmarking_models/models/baseline_model.py:70: SettingWithCopyWarning: \n",
      "A value is trying to be set on a copy of a slice from a DataFrame.\n",
      "Try using .loc[row_indexer,col_indexer] = value instead\n",
      "\n",
      "See the caveats in the documentation: https://pandas.pydata.org/pandas-docs/stable/user_guide/indexing.html#returning-a-view-versus-a-copy\n",
      "  temp_df['expected_baseline'] = input_df.apply(lambda building: self._get_expected_baseline(building, year), axis=1)\n",
      "/Users/ihc/programming/350_seattle/BPS/experiments/benchmarking_models/models/baseline_model.py:69: SettingWithCopyWarning: \n",
      "A value is trying to be set on a copy of a slice from a DataFrame.\n",
      "Try using .loc[row_indexer,col_indexer] = value instead\n",
      "\n",
      "See the caveats in the documentation: https://pandas.pydata.org/pandas-docs/stable/user_guide/indexing.html#returning-a-view-versus-a-copy\n",
      "  temp_df['year'] = pd.Series([year]*len(temp_df))\n",
      "/Users/ihc/programming/350_seattle/BPS/experiments/benchmarking_models/models/baseline_model.py:70: SettingWithCopyWarning: \n",
      "A value is trying to be set on a copy of a slice from a DataFrame.\n",
      "Try using .loc[row_indexer,col_indexer] = value instead\n",
      "\n",
      "See the caveats in the documentation: https://pandas.pydata.org/pandas-docs/stable/user_guide/indexing.html#returning-a-view-versus-a-copy\n",
      "  temp_df['expected_baseline'] = input_df.apply(lambda building: self._get_expected_baseline(building, year), axis=1)\n",
      "/Users/ihc/programming/350_seattle/BPS/experiments/benchmarking_models/models/baseline_model.py:69: SettingWithCopyWarning: \n",
      "A value is trying to be set on a copy of a slice from a DataFrame.\n",
      "Try using .loc[row_indexer,col_indexer] = value instead\n",
      "\n",
      "See the caveats in the documentation: https://pandas.pydata.org/pandas-docs/stable/user_guide/indexing.html#returning-a-view-versus-a-copy\n",
      "  temp_df['year'] = pd.Series([year]*len(temp_df))\n",
      "/Users/ihc/programming/350_seattle/BPS/experiments/benchmarking_models/models/baseline_model.py:70: SettingWithCopyWarning: \n",
      "A value is trying to be set on a copy of a slice from a DataFrame.\n",
      "Try using .loc[row_indexer,col_indexer] = value instead\n",
      "\n",
      "See the caveats in the documentation: https://pandas.pydata.org/pandas-docs/stable/user_guide/indexing.html#returning-a-view-versus-a-copy\n",
      "  temp_df['expected_baseline'] = input_df.apply(lambda building: self._get_expected_baseline(building, year), axis=1)\n",
      "/Users/ihc/programming/350_seattle/BPS/experiments/benchmarking_models/models/baseline_model.py:69: SettingWithCopyWarning: \n",
      "A value is trying to be set on a copy of a slice from a DataFrame.\n",
      "Try using .loc[row_indexer,col_indexer] = value instead\n",
      "\n",
      "See the caveats in the documentation: https://pandas.pydata.org/pandas-docs/stable/user_guide/indexing.html#returning-a-view-versus-a-copy\n",
      "  temp_df['year'] = pd.Series([year]*len(temp_df))\n",
      "/Users/ihc/programming/350_seattle/BPS/experiments/benchmarking_models/models/baseline_model.py:70: SettingWithCopyWarning: \n",
      "A value is trying to be set on a copy of a slice from a DataFrame.\n",
      "Try using .loc[row_indexer,col_indexer] = value instead\n",
      "\n",
      "See the caveats in the documentation: https://pandas.pydata.org/pandas-docs/stable/user_guide/indexing.html#returning-a-view-versus-a-copy\n",
      "  temp_df['expected_baseline'] = input_df.apply(lambda building: self._get_expected_baseline(building, year), axis=1)\n",
      "/Users/ihc/programming/350_seattle/BPS/experiments/benchmarking_models/models/baseline_model.py:69: SettingWithCopyWarning: \n",
      "A value is trying to be set on a copy of a slice from a DataFrame.\n",
      "Try using .loc[row_indexer,col_indexer] = value instead\n",
      "\n",
      "See the caveats in the documentation: https://pandas.pydata.org/pandas-docs/stable/user_guide/indexing.html#returning-a-view-versus-a-copy\n",
      "  temp_df['year'] = pd.Series([year]*len(temp_df))\n",
      "/Users/ihc/programming/350_seattle/BPS/experiments/benchmarking_models/models/baseline_model.py:70: SettingWithCopyWarning: \n",
      "A value is trying to be set on a copy of a slice from a DataFrame.\n",
      "Try using .loc[row_indexer,col_indexer] = value instead\n",
      "\n",
      "See the caveats in the documentation: https://pandas.pydata.org/pandas-docs/stable/user_guide/indexing.html#returning-a-view-versus-a-copy\n",
      "  temp_df['expected_baseline'] = input_df.apply(lambda building: self._get_expected_baseline(building, year), axis=1)\n",
      "/Users/ihc/programming/350_seattle/BPS/experiments/benchmarking_models/models/baseline_model.py:69: SettingWithCopyWarning: \n",
      "A value is trying to be set on a copy of a slice from a DataFrame.\n",
      "Try using .loc[row_indexer,col_indexer] = value instead\n",
      "\n",
      "See the caveats in the documentation: https://pandas.pydata.org/pandas-docs/stable/user_guide/indexing.html#returning-a-view-versus-a-copy\n",
      "  temp_df['year'] = pd.Series([year]*len(temp_df))\n",
      "/Users/ihc/programming/350_seattle/BPS/experiments/benchmarking_models/models/baseline_model.py:70: SettingWithCopyWarning: \n",
      "A value is trying to be set on a copy of a slice from a DataFrame.\n",
      "Try using .loc[row_indexer,col_indexer] = value instead\n",
      "\n",
      "See the caveats in the documentation: https://pandas.pydata.org/pandas-docs/stable/user_guide/indexing.html#returning-a-view-versus-a-copy\n",
      "  temp_df['expected_baseline'] = input_df.apply(lambda building: self._get_expected_baseline(building, year), axis=1)\n",
      "/Users/ihc/programming/350_seattle/BPS/experiments/benchmarking_models/models/baseline_model.py:69: SettingWithCopyWarning: \n",
      "A value is trying to be set on a copy of a slice from a DataFrame.\n",
      "Try using .loc[row_indexer,col_indexer] = value instead\n",
      "\n",
      "See the caveats in the documentation: https://pandas.pydata.org/pandas-docs/stable/user_guide/indexing.html#returning-a-view-versus-a-copy\n",
      "  temp_df['year'] = pd.Series([year]*len(temp_df))\n",
      "/Users/ihc/programming/350_seattle/BPS/experiments/benchmarking_models/models/baseline_model.py:70: SettingWithCopyWarning: \n",
      "A value is trying to be set on a copy of a slice from a DataFrame.\n",
      "Try using .loc[row_indexer,col_indexer] = value instead\n",
      "\n",
      "See the caveats in the documentation: https://pandas.pydata.org/pandas-docs/stable/user_guide/indexing.html#returning-a-view-versus-a-copy\n",
      "  temp_df['expected_baseline'] = input_df.apply(lambda building: self._get_expected_baseline(building, year), axis=1)\n",
      "/Users/ihc/programming/350_seattle/BPS/experiments/benchmarking_models/models/baseline_model.py:69: SettingWithCopyWarning: \n",
      "A value is trying to be set on a copy of a slice from a DataFrame.\n",
      "Try using .loc[row_indexer,col_indexer] = value instead\n",
      "\n",
      "See the caveats in the documentation: https://pandas.pydata.org/pandas-docs/stable/user_guide/indexing.html#returning-a-view-versus-a-copy\n",
      "  temp_df['year'] = pd.Series([year]*len(temp_df))\n",
      "/Users/ihc/programming/350_seattle/BPS/experiments/benchmarking_models/models/baseline_model.py:70: SettingWithCopyWarning: \n",
      "A value is trying to be set on a copy of a slice from a DataFrame.\n",
      "Try using .loc[row_indexer,col_indexer] = value instead\n",
      "\n",
      "See the caveats in the documentation: https://pandas.pydata.org/pandas-docs/stable/user_guide/indexing.html#returning-a-view-versus-a-copy\n",
      "  temp_df['expected_baseline'] = input_df.apply(lambda building: self._get_expected_baseline(building, year), axis=1)\n",
      "/Users/ihc/programming/350_seattle/BPS/experiments/benchmarking_models/models/baseline_model.py:69: SettingWithCopyWarning: \n",
      "A value is trying to be set on a copy of a slice from a DataFrame.\n",
      "Try using .loc[row_indexer,col_indexer] = value instead\n",
      "\n",
      "See the caveats in the documentation: https://pandas.pydata.org/pandas-docs/stable/user_guide/indexing.html#returning-a-view-versus-a-copy\n",
      "  temp_df['year'] = pd.Series([year]*len(temp_df))\n",
      "/Users/ihc/programming/350_seattle/BPS/experiments/benchmarking_models/models/baseline_model.py:70: SettingWithCopyWarning: \n",
      "A value is trying to be set on a copy of a slice from a DataFrame.\n",
      "Try using .loc[row_indexer,col_indexer] = value instead\n",
      "\n",
      "See the caveats in the documentation: https://pandas.pydata.org/pandas-docs/stable/user_guide/indexing.html#returning-a-view-versus-a-copy\n",
      "  temp_df['expected_baseline'] = input_df.apply(lambda building: self._get_expected_baseline(building, year), axis=1)\n",
      "/Users/ihc/programming/350_seattle/BPS/experiments/benchmarking_models/models/baseline_model.py:69: SettingWithCopyWarning: \n",
      "A value is trying to be set on a copy of a slice from a DataFrame.\n",
      "Try using .loc[row_indexer,col_indexer] = value instead\n",
      "\n",
      "See the caveats in the documentation: https://pandas.pydata.org/pandas-docs/stable/user_guide/indexing.html#returning-a-view-versus-a-copy\n",
      "  temp_df['year'] = pd.Series([year]*len(temp_df))\n",
      "/Users/ihc/programming/350_seattle/BPS/experiments/benchmarking_models/models/baseline_model.py:70: SettingWithCopyWarning: \n",
      "A value is trying to be set on a copy of a slice from a DataFrame.\n",
      "Try using .loc[row_indexer,col_indexer] = value instead\n",
      "\n",
      "See the caveats in the documentation: https://pandas.pydata.org/pandas-docs/stable/user_guide/indexing.html#returning-a-view-versus-a-copy\n",
      "  temp_df['expected_baseline'] = input_df.apply(lambda building: self._get_expected_baseline(building, year), axis=1)\n",
      "/Users/ihc/programming/350_seattle/BPS/experiments/benchmarking_models/models/baseline_model.py:69: SettingWithCopyWarning: \n",
      "A value is trying to be set on a copy of a slice from a DataFrame.\n",
      "Try using .loc[row_indexer,col_indexer] = value instead\n",
      "\n",
      "See the caveats in the documentation: https://pandas.pydata.org/pandas-docs/stable/user_guide/indexing.html#returning-a-view-versus-a-copy\n",
      "  temp_df['year'] = pd.Series([year]*len(temp_df))\n",
      "/Users/ihc/programming/350_seattle/BPS/experiments/benchmarking_models/models/baseline_model.py:70: SettingWithCopyWarning: \n",
      "A value is trying to be set on a copy of a slice from a DataFrame.\n",
      "Try using .loc[row_indexer,col_indexer] = value instead\n",
      "\n",
      "See the caveats in the documentation: https://pandas.pydata.org/pandas-docs/stable/user_guide/indexing.html#returning-a-view-versus-a-copy\n",
      "  temp_df['expected_baseline'] = input_df.apply(lambda building: self._get_expected_baseline(building, year), axis=1)\n",
      "/Users/ihc/programming/350_seattle/BPS/experiments/benchmarking_models/models/baseline_model.py:69: SettingWithCopyWarning: \n",
      "A value is trying to be set on a copy of a slice from a DataFrame.\n",
      "Try using .loc[row_indexer,col_indexer] = value instead\n",
      "\n",
      "See the caveats in the documentation: https://pandas.pydata.org/pandas-docs/stable/user_guide/indexing.html#returning-a-view-versus-a-copy\n",
      "  temp_df['year'] = pd.Series([year]*len(temp_df))\n",
      "/Users/ihc/programming/350_seattle/BPS/experiments/benchmarking_models/models/baseline_model.py:70: SettingWithCopyWarning: \n",
      "A value is trying to be set on a copy of a slice from a DataFrame.\n",
      "Try using .loc[row_indexer,col_indexer] = value instead\n",
      "\n",
      "See the caveats in the documentation: https://pandas.pydata.org/pandas-docs/stable/user_guide/indexing.html#returning-a-view-versus-a-copy\n",
      "  temp_df['expected_baseline'] = input_df.apply(lambda building: self._get_expected_baseline(building, year), axis=1)\n",
      "/Users/ihc/programming/350_seattle/BPS/experiments/benchmarking_models/models/baseline_model.py:69: SettingWithCopyWarning: \n",
      "A value is trying to be set on a copy of a slice from a DataFrame.\n",
      "Try using .loc[row_indexer,col_indexer] = value instead\n",
      "\n",
      "See the caveats in the documentation: https://pandas.pydata.org/pandas-docs/stable/user_guide/indexing.html#returning-a-view-versus-a-copy\n",
      "  temp_df['year'] = pd.Series([year]*len(temp_df))\n",
      "/Users/ihc/programming/350_seattle/BPS/experiments/benchmarking_models/models/baseline_model.py:70: SettingWithCopyWarning: \n",
      "A value is trying to be set on a copy of a slice from a DataFrame.\n",
      "Try using .loc[row_indexer,col_indexer] = value instead\n",
      "\n",
      "See the caveats in the documentation: https://pandas.pydata.org/pandas-docs/stable/user_guide/indexing.html#returning-a-view-versus-a-copy\n",
      "  temp_df['expected_baseline'] = input_df.apply(lambda building: self._get_expected_baseline(building, year), axis=1)\n",
      "/Users/ihc/programming/350_seattle/BPS/experiments/benchmarking_models/models/baseline_model.py:69: SettingWithCopyWarning: \n",
      "A value is trying to be set on a copy of a slice from a DataFrame.\n",
      "Try using .loc[row_indexer,col_indexer] = value instead\n",
      "\n",
      "See the caveats in the documentation: https://pandas.pydata.org/pandas-docs/stable/user_guide/indexing.html#returning-a-view-versus-a-copy\n",
      "  temp_df['year'] = pd.Series([year]*len(temp_df))\n",
      "/Users/ihc/programming/350_seattle/BPS/experiments/benchmarking_models/models/baseline_model.py:70: SettingWithCopyWarning: \n",
      "A value is trying to be set on a copy of a slice from a DataFrame.\n",
      "Try using .loc[row_indexer,col_indexer] = value instead\n",
      "\n",
      "See the caveats in the documentation: https://pandas.pydata.org/pandas-docs/stable/user_guide/indexing.html#returning-a-view-versus-a-copy\n",
      "  temp_df['expected_baseline'] = input_df.apply(lambda building: self._get_expected_baseline(building, year), axis=1)\n",
      "/Users/ihc/programming/350_seattle/BPS/experiments/benchmarking_models/models/baseline_model.py:69: SettingWithCopyWarning: \n",
      "A value is trying to be set on a copy of a slice from a DataFrame.\n",
      "Try using .loc[row_indexer,col_indexer] = value instead\n",
      "\n",
      "See the caveats in the documentation: https://pandas.pydata.org/pandas-docs/stable/user_guide/indexing.html#returning-a-view-versus-a-copy\n",
      "  temp_df['year'] = pd.Series([year]*len(temp_df))\n",
      "/Users/ihc/programming/350_seattle/BPS/experiments/benchmarking_models/models/baseline_model.py:70: SettingWithCopyWarning: \n",
      "A value is trying to be set on a copy of a slice from a DataFrame.\n",
      "Try using .loc[row_indexer,col_indexer] = value instead\n",
      "\n",
      "See the caveats in the documentation: https://pandas.pydata.org/pandas-docs/stable/user_guide/indexing.html#returning-a-view-versus-a-copy\n",
      "  temp_df['expected_baseline'] = input_df.apply(lambda building: self._get_expected_baseline(building, year), axis=1)\n",
      "/Users/ihc/programming/350_seattle/BPS/experiments/benchmarking_models/models/baseline_model.py:69: SettingWithCopyWarning: \n",
      "A value is trying to be set on a copy of a slice from a DataFrame.\n",
      "Try using .loc[row_indexer,col_indexer] = value instead\n",
      "\n",
      "See the caveats in the documentation: https://pandas.pydata.org/pandas-docs/stable/user_guide/indexing.html#returning-a-view-versus-a-copy\n",
      "  temp_df['year'] = pd.Series([year]*len(temp_df))\n",
      "/Users/ihc/programming/350_seattle/BPS/experiments/benchmarking_models/models/baseline_model.py:70: SettingWithCopyWarning: \n",
      "A value is trying to be set on a copy of a slice from a DataFrame.\n",
      "Try using .loc[row_indexer,col_indexer] = value instead\n",
      "\n",
      "See the caveats in the documentation: https://pandas.pydata.org/pandas-docs/stable/user_guide/indexing.html#returning-a-view-versus-a-copy\n",
      "  temp_df['expected_baseline'] = input_df.apply(lambda building: self._get_expected_baseline(building, year), axis=1)\n",
      "/Users/ihc/programming/350_seattle/BPS/experiments/benchmarking_models/models/baseline_model.py:69: SettingWithCopyWarning: \n",
      "A value is trying to be set on a copy of a slice from a DataFrame.\n",
      "Try using .loc[row_indexer,col_indexer] = value instead\n",
      "\n",
      "See the caveats in the documentation: https://pandas.pydata.org/pandas-docs/stable/user_guide/indexing.html#returning-a-view-versus-a-copy\n",
      "  temp_df['year'] = pd.Series([year]*len(temp_df))\n",
      "/Users/ihc/programming/350_seattle/BPS/experiments/benchmarking_models/models/baseline_model.py:70: SettingWithCopyWarning: \n",
      "A value is trying to be set on a copy of a slice from a DataFrame.\n",
      "Try using .loc[row_indexer,col_indexer] = value instead\n",
      "\n",
      "See the caveats in the documentation: https://pandas.pydata.org/pandas-docs/stable/user_guide/indexing.html#returning-a-view-versus-a-copy\n",
      "  temp_df['expected_baseline'] = input_df.apply(lambda building: self._get_expected_baseline(building, year), axis=1)\n"
     ]
    },
    {
     "name": "stdout",
     "output_type": "stream",
     "text": [
      "Model calculations complete. Access the model dataframe as model_name.scenario_results\n"
     ]
    }
   ],
   "source": [
    "# they do! Let's calculate the full models\n",
    "\n",
    "# small buildings\n",
    "small_buildings_25_percent_reduction.timeline_path = 'timeline_75_percent_of_policy.csv'\n",
    "small_buildings_25_percent_reduction._load_timeline_data()\n",
    "small_buildings_25_percent_reduction.calculate_baseline_model(2027, 2050)"
   ]
  },
  {
   "cell_type": "code",
   "execution_count": 76,
   "id": "9e299547-a42f-45bd-a324-69abdf7762b4",
   "metadata": {},
   "outputs": [],
   "source": [
    "small_buildings_25_percent_reduction.scenario_results.to_csv('small_buildings_reduce_25_percent.csv')"
   ]
  },
  {
   "cell_type": "code",
   "execution_count": 78,
   "id": "9584b501-16a5-41fc-8919-8e28040c387d",
   "metadata": {},
   "outputs": [
    {
     "name": "stderr",
     "output_type": "stream",
     "text": [
      "/Users/ihc/programming/350_seattle/BPS/experiments/benchmarking_models/models/baseline_model.py:69: SettingWithCopyWarning: \n",
      "A value is trying to be set on a copy of a slice from a DataFrame.\n",
      "Try using .loc[row_indexer,col_indexer] = value instead\n",
      "\n",
      "See the caveats in the documentation: https://pandas.pydata.org/pandas-docs/stable/user_guide/indexing.html#returning-a-view-versus-a-copy\n",
      "  temp_df['year'] = pd.Series([year]*len(temp_df))\n",
      "/Users/ihc/programming/350_seattle/BPS/experiments/benchmarking_models/models/baseline_model.py:70: SettingWithCopyWarning: \n",
      "A value is trying to be set on a copy of a slice from a DataFrame.\n",
      "Try using .loc[row_indexer,col_indexer] = value instead\n",
      "\n",
      "See the caveats in the documentation: https://pandas.pydata.org/pandas-docs/stable/user_guide/indexing.html#returning-a-view-versus-a-copy\n",
      "  temp_df['expected_baseline'] = input_df.apply(lambda building: self._get_expected_baseline(building, year), axis=1)\n",
      "/Users/ihc/programming/350_seattle/BPS/experiments/benchmarking_models/models/baseline_model.py:69: SettingWithCopyWarning: \n",
      "A value is trying to be set on a copy of a slice from a DataFrame.\n",
      "Try using .loc[row_indexer,col_indexer] = value instead\n",
      "\n",
      "See the caveats in the documentation: https://pandas.pydata.org/pandas-docs/stable/user_guide/indexing.html#returning-a-view-versus-a-copy\n",
      "  temp_df['year'] = pd.Series([year]*len(temp_df))\n",
      "/Users/ihc/programming/350_seattle/BPS/experiments/benchmarking_models/models/baseline_model.py:70: SettingWithCopyWarning: \n",
      "A value is trying to be set on a copy of a slice from a DataFrame.\n",
      "Try using .loc[row_indexer,col_indexer] = value instead\n",
      "\n",
      "See the caveats in the documentation: https://pandas.pydata.org/pandas-docs/stable/user_guide/indexing.html#returning-a-view-versus-a-copy\n",
      "  temp_df['expected_baseline'] = input_df.apply(lambda building: self._get_expected_baseline(building, year), axis=1)\n",
      "/Users/ihc/programming/350_seattle/BPS/experiments/benchmarking_models/models/baseline_model.py:69: SettingWithCopyWarning: \n",
      "A value is trying to be set on a copy of a slice from a DataFrame.\n",
      "Try using .loc[row_indexer,col_indexer] = value instead\n",
      "\n",
      "See the caveats in the documentation: https://pandas.pydata.org/pandas-docs/stable/user_guide/indexing.html#returning-a-view-versus-a-copy\n",
      "  temp_df['year'] = pd.Series([year]*len(temp_df))\n",
      "/Users/ihc/programming/350_seattle/BPS/experiments/benchmarking_models/models/baseline_model.py:70: SettingWithCopyWarning: \n",
      "A value is trying to be set on a copy of a slice from a DataFrame.\n",
      "Try using .loc[row_indexer,col_indexer] = value instead\n",
      "\n",
      "See the caveats in the documentation: https://pandas.pydata.org/pandas-docs/stable/user_guide/indexing.html#returning-a-view-versus-a-copy\n",
      "  temp_df['expected_baseline'] = input_df.apply(lambda building: self._get_expected_baseline(building, year), axis=1)\n",
      "/Users/ihc/programming/350_seattle/BPS/experiments/benchmarking_models/models/baseline_model.py:69: SettingWithCopyWarning: \n",
      "A value is trying to be set on a copy of a slice from a DataFrame.\n",
      "Try using .loc[row_indexer,col_indexer] = value instead\n",
      "\n",
      "See the caveats in the documentation: https://pandas.pydata.org/pandas-docs/stable/user_guide/indexing.html#returning-a-view-versus-a-copy\n",
      "  temp_df['year'] = pd.Series([year]*len(temp_df))\n",
      "/Users/ihc/programming/350_seattle/BPS/experiments/benchmarking_models/models/baseline_model.py:70: SettingWithCopyWarning: \n",
      "A value is trying to be set on a copy of a slice from a DataFrame.\n",
      "Try using .loc[row_indexer,col_indexer] = value instead\n",
      "\n",
      "See the caveats in the documentation: https://pandas.pydata.org/pandas-docs/stable/user_guide/indexing.html#returning-a-view-versus-a-copy\n",
      "  temp_df['expected_baseline'] = input_df.apply(lambda building: self._get_expected_baseline(building, year), axis=1)\n",
      "/Users/ihc/programming/350_seattle/BPS/experiments/benchmarking_models/models/baseline_model.py:69: SettingWithCopyWarning: \n",
      "A value is trying to be set on a copy of a slice from a DataFrame.\n",
      "Try using .loc[row_indexer,col_indexer] = value instead\n",
      "\n",
      "See the caveats in the documentation: https://pandas.pydata.org/pandas-docs/stable/user_guide/indexing.html#returning-a-view-versus-a-copy\n",
      "  temp_df['year'] = pd.Series([year]*len(temp_df))\n",
      "/Users/ihc/programming/350_seattle/BPS/experiments/benchmarking_models/models/baseline_model.py:70: SettingWithCopyWarning: \n",
      "A value is trying to be set on a copy of a slice from a DataFrame.\n",
      "Try using .loc[row_indexer,col_indexer] = value instead\n",
      "\n",
      "See the caveats in the documentation: https://pandas.pydata.org/pandas-docs/stable/user_guide/indexing.html#returning-a-view-versus-a-copy\n",
      "  temp_df['expected_baseline'] = input_df.apply(lambda building: self._get_expected_baseline(building, year), axis=1)\n",
      "/Users/ihc/programming/350_seattle/BPS/experiments/benchmarking_models/models/baseline_model.py:69: SettingWithCopyWarning: \n",
      "A value is trying to be set on a copy of a slice from a DataFrame.\n",
      "Try using .loc[row_indexer,col_indexer] = value instead\n",
      "\n",
      "See the caveats in the documentation: https://pandas.pydata.org/pandas-docs/stable/user_guide/indexing.html#returning-a-view-versus-a-copy\n",
      "  temp_df['year'] = pd.Series([year]*len(temp_df))\n",
      "/Users/ihc/programming/350_seattle/BPS/experiments/benchmarking_models/models/baseline_model.py:70: SettingWithCopyWarning: \n",
      "A value is trying to be set on a copy of a slice from a DataFrame.\n",
      "Try using .loc[row_indexer,col_indexer] = value instead\n",
      "\n",
      "See the caveats in the documentation: https://pandas.pydata.org/pandas-docs/stable/user_guide/indexing.html#returning-a-view-versus-a-copy\n",
      "  temp_df['expected_baseline'] = input_df.apply(lambda building: self._get_expected_baseline(building, year), axis=1)\n",
      "/Users/ihc/programming/350_seattle/BPS/experiments/benchmarking_models/models/baseline_model.py:69: SettingWithCopyWarning: \n",
      "A value is trying to be set on a copy of a slice from a DataFrame.\n",
      "Try using .loc[row_indexer,col_indexer] = value instead\n",
      "\n",
      "See the caveats in the documentation: https://pandas.pydata.org/pandas-docs/stable/user_guide/indexing.html#returning-a-view-versus-a-copy\n",
      "  temp_df['year'] = pd.Series([year]*len(temp_df))\n",
      "/Users/ihc/programming/350_seattle/BPS/experiments/benchmarking_models/models/baseline_model.py:70: SettingWithCopyWarning: \n",
      "A value is trying to be set on a copy of a slice from a DataFrame.\n",
      "Try using .loc[row_indexer,col_indexer] = value instead\n",
      "\n",
      "See the caveats in the documentation: https://pandas.pydata.org/pandas-docs/stable/user_guide/indexing.html#returning-a-view-versus-a-copy\n",
      "  temp_df['expected_baseline'] = input_df.apply(lambda building: self._get_expected_baseline(building, year), axis=1)\n",
      "/Users/ihc/programming/350_seattle/BPS/experiments/benchmarking_models/models/baseline_model.py:69: SettingWithCopyWarning: \n",
      "A value is trying to be set on a copy of a slice from a DataFrame.\n",
      "Try using .loc[row_indexer,col_indexer] = value instead\n",
      "\n",
      "See the caveats in the documentation: https://pandas.pydata.org/pandas-docs/stable/user_guide/indexing.html#returning-a-view-versus-a-copy\n",
      "  temp_df['year'] = pd.Series([year]*len(temp_df))\n",
      "/Users/ihc/programming/350_seattle/BPS/experiments/benchmarking_models/models/baseline_model.py:70: SettingWithCopyWarning: \n",
      "A value is trying to be set on a copy of a slice from a DataFrame.\n",
      "Try using .loc[row_indexer,col_indexer] = value instead\n",
      "\n",
      "See the caveats in the documentation: https://pandas.pydata.org/pandas-docs/stable/user_guide/indexing.html#returning-a-view-versus-a-copy\n",
      "  temp_df['expected_baseline'] = input_df.apply(lambda building: self._get_expected_baseline(building, year), axis=1)\n",
      "/Users/ihc/programming/350_seattle/BPS/experiments/benchmarking_models/models/baseline_model.py:69: SettingWithCopyWarning: \n",
      "A value is trying to be set on a copy of a slice from a DataFrame.\n",
      "Try using .loc[row_indexer,col_indexer] = value instead\n",
      "\n",
      "See the caveats in the documentation: https://pandas.pydata.org/pandas-docs/stable/user_guide/indexing.html#returning-a-view-versus-a-copy\n",
      "  temp_df['year'] = pd.Series([year]*len(temp_df))\n",
      "/Users/ihc/programming/350_seattle/BPS/experiments/benchmarking_models/models/baseline_model.py:70: SettingWithCopyWarning: \n",
      "A value is trying to be set on a copy of a slice from a DataFrame.\n",
      "Try using .loc[row_indexer,col_indexer] = value instead\n",
      "\n",
      "See the caveats in the documentation: https://pandas.pydata.org/pandas-docs/stable/user_guide/indexing.html#returning-a-view-versus-a-copy\n",
      "  temp_df['expected_baseline'] = input_df.apply(lambda building: self._get_expected_baseline(building, year), axis=1)\n",
      "/Users/ihc/programming/350_seattle/BPS/experiments/benchmarking_models/models/baseline_model.py:69: SettingWithCopyWarning: \n",
      "A value is trying to be set on a copy of a slice from a DataFrame.\n",
      "Try using .loc[row_indexer,col_indexer] = value instead\n",
      "\n",
      "See the caveats in the documentation: https://pandas.pydata.org/pandas-docs/stable/user_guide/indexing.html#returning-a-view-versus-a-copy\n",
      "  temp_df['year'] = pd.Series([year]*len(temp_df))\n",
      "/Users/ihc/programming/350_seattle/BPS/experiments/benchmarking_models/models/baseline_model.py:70: SettingWithCopyWarning: \n",
      "A value is trying to be set on a copy of a slice from a DataFrame.\n",
      "Try using .loc[row_indexer,col_indexer] = value instead\n",
      "\n",
      "See the caveats in the documentation: https://pandas.pydata.org/pandas-docs/stable/user_guide/indexing.html#returning-a-view-versus-a-copy\n",
      "  temp_df['expected_baseline'] = input_df.apply(lambda building: self._get_expected_baseline(building, year), axis=1)\n",
      "/Users/ihc/programming/350_seattle/BPS/experiments/benchmarking_models/models/baseline_model.py:69: SettingWithCopyWarning: \n",
      "A value is trying to be set on a copy of a slice from a DataFrame.\n",
      "Try using .loc[row_indexer,col_indexer] = value instead\n",
      "\n",
      "See the caveats in the documentation: https://pandas.pydata.org/pandas-docs/stable/user_guide/indexing.html#returning-a-view-versus-a-copy\n",
      "  temp_df['year'] = pd.Series([year]*len(temp_df))\n",
      "/Users/ihc/programming/350_seattle/BPS/experiments/benchmarking_models/models/baseline_model.py:70: SettingWithCopyWarning: \n",
      "A value is trying to be set on a copy of a slice from a DataFrame.\n",
      "Try using .loc[row_indexer,col_indexer] = value instead\n",
      "\n",
      "See the caveats in the documentation: https://pandas.pydata.org/pandas-docs/stable/user_guide/indexing.html#returning-a-view-versus-a-copy\n",
      "  temp_df['expected_baseline'] = input_df.apply(lambda building: self._get_expected_baseline(building, year), axis=1)\n",
      "/Users/ihc/programming/350_seattle/BPS/experiments/benchmarking_models/models/baseline_model.py:69: SettingWithCopyWarning: \n",
      "A value is trying to be set on a copy of a slice from a DataFrame.\n",
      "Try using .loc[row_indexer,col_indexer] = value instead\n",
      "\n",
      "See the caveats in the documentation: https://pandas.pydata.org/pandas-docs/stable/user_guide/indexing.html#returning-a-view-versus-a-copy\n",
      "  temp_df['year'] = pd.Series([year]*len(temp_df))\n",
      "/Users/ihc/programming/350_seattle/BPS/experiments/benchmarking_models/models/baseline_model.py:70: SettingWithCopyWarning: \n",
      "A value is trying to be set on a copy of a slice from a DataFrame.\n",
      "Try using .loc[row_indexer,col_indexer] = value instead\n",
      "\n",
      "See the caveats in the documentation: https://pandas.pydata.org/pandas-docs/stable/user_guide/indexing.html#returning-a-view-versus-a-copy\n",
      "  temp_df['expected_baseline'] = input_df.apply(lambda building: self._get_expected_baseline(building, year), axis=1)\n",
      "/Users/ihc/programming/350_seattle/BPS/experiments/benchmarking_models/models/baseline_model.py:69: SettingWithCopyWarning: \n",
      "A value is trying to be set on a copy of a slice from a DataFrame.\n",
      "Try using .loc[row_indexer,col_indexer] = value instead\n",
      "\n",
      "See the caveats in the documentation: https://pandas.pydata.org/pandas-docs/stable/user_guide/indexing.html#returning-a-view-versus-a-copy\n",
      "  temp_df['year'] = pd.Series([year]*len(temp_df))\n",
      "/Users/ihc/programming/350_seattle/BPS/experiments/benchmarking_models/models/baseline_model.py:70: SettingWithCopyWarning: \n",
      "A value is trying to be set on a copy of a slice from a DataFrame.\n",
      "Try using .loc[row_indexer,col_indexer] = value instead\n",
      "\n",
      "See the caveats in the documentation: https://pandas.pydata.org/pandas-docs/stable/user_guide/indexing.html#returning-a-view-versus-a-copy\n",
      "  temp_df['expected_baseline'] = input_df.apply(lambda building: self._get_expected_baseline(building, year), axis=1)\n",
      "/Users/ihc/programming/350_seattle/BPS/experiments/benchmarking_models/models/baseline_model.py:69: SettingWithCopyWarning: \n",
      "A value is trying to be set on a copy of a slice from a DataFrame.\n",
      "Try using .loc[row_indexer,col_indexer] = value instead\n",
      "\n",
      "See the caveats in the documentation: https://pandas.pydata.org/pandas-docs/stable/user_guide/indexing.html#returning-a-view-versus-a-copy\n",
      "  temp_df['year'] = pd.Series([year]*len(temp_df))\n",
      "/Users/ihc/programming/350_seattle/BPS/experiments/benchmarking_models/models/baseline_model.py:70: SettingWithCopyWarning: \n",
      "A value is trying to be set on a copy of a slice from a DataFrame.\n",
      "Try using .loc[row_indexer,col_indexer] = value instead\n",
      "\n",
      "See the caveats in the documentation: https://pandas.pydata.org/pandas-docs/stable/user_guide/indexing.html#returning-a-view-versus-a-copy\n",
      "  temp_df['expected_baseline'] = input_df.apply(lambda building: self._get_expected_baseline(building, year), axis=1)\n",
      "/Users/ihc/programming/350_seattle/BPS/experiments/benchmarking_models/models/baseline_model.py:69: SettingWithCopyWarning: \n",
      "A value is trying to be set on a copy of a slice from a DataFrame.\n",
      "Try using .loc[row_indexer,col_indexer] = value instead\n",
      "\n",
      "See the caveats in the documentation: https://pandas.pydata.org/pandas-docs/stable/user_guide/indexing.html#returning-a-view-versus-a-copy\n",
      "  temp_df['year'] = pd.Series([year]*len(temp_df))\n",
      "/Users/ihc/programming/350_seattle/BPS/experiments/benchmarking_models/models/baseline_model.py:70: SettingWithCopyWarning: \n",
      "A value is trying to be set on a copy of a slice from a DataFrame.\n",
      "Try using .loc[row_indexer,col_indexer] = value instead\n",
      "\n",
      "See the caveats in the documentation: https://pandas.pydata.org/pandas-docs/stable/user_guide/indexing.html#returning-a-view-versus-a-copy\n",
      "  temp_df['expected_baseline'] = input_df.apply(lambda building: self._get_expected_baseline(building, year), axis=1)\n",
      "/Users/ihc/programming/350_seattle/BPS/experiments/benchmarking_models/models/baseline_model.py:69: SettingWithCopyWarning: \n",
      "A value is trying to be set on a copy of a slice from a DataFrame.\n",
      "Try using .loc[row_indexer,col_indexer] = value instead\n",
      "\n",
      "See the caveats in the documentation: https://pandas.pydata.org/pandas-docs/stable/user_guide/indexing.html#returning-a-view-versus-a-copy\n",
      "  temp_df['year'] = pd.Series([year]*len(temp_df))\n",
      "/Users/ihc/programming/350_seattle/BPS/experiments/benchmarking_models/models/baseline_model.py:70: SettingWithCopyWarning: \n",
      "A value is trying to be set on a copy of a slice from a DataFrame.\n",
      "Try using .loc[row_indexer,col_indexer] = value instead\n",
      "\n",
      "See the caveats in the documentation: https://pandas.pydata.org/pandas-docs/stable/user_guide/indexing.html#returning-a-view-versus-a-copy\n",
      "  temp_df['expected_baseline'] = input_df.apply(lambda building: self._get_expected_baseline(building, year), axis=1)\n",
      "/Users/ihc/programming/350_seattle/BPS/experiments/benchmarking_models/models/baseline_model.py:69: SettingWithCopyWarning: \n",
      "A value is trying to be set on a copy of a slice from a DataFrame.\n",
      "Try using .loc[row_indexer,col_indexer] = value instead\n",
      "\n",
      "See the caveats in the documentation: https://pandas.pydata.org/pandas-docs/stable/user_guide/indexing.html#returning-a-view-versus-a-copy\n",
      "  temp_df['year'] = pd.Series([year]*len(temp_df))\n",
      "/Users/ihc/programming/350_seattle/BPS/experiments/benchmarking_models/models/baseline_model.py:70: SettingWithCopyWarning: \n",
      "A value is trying to be set on a copy of a slice from a DataFrame.\n",
      "Try using .loc[row_indexer,col_indexer] = value instead\n",
      "\n",
      "See the caveats in the documentation: https://pandas.pydata.org/pandas-docs/stable/user_guide/indexing.html#returning-a-view-versus-a-copy\n",
      "  temp_df['expected_baseline'] = input_df.apply(lambda building: self._get_expected_baseline(building, year), axis=1)\n",
      "/Users/ihc/programming/350_seattle/BPS/experiments/benchmarking_models/models/baseline_model.py:69: SettingWithCopyWarning: \n",
      "A value is trying to be set on a copy of a slice from a DataFrame.\n",
      "Try using .loc[row_indexer,col_indexer] = value instead\n",
      "\n",
      "See the caveats in the documentation: https://pandas.pydata.org/pandas-docs/stable/user_guide/indexing.html#returning-a-view-versus-a-copy\n",
      "  temp_df['year'] = pd.Series([year]*len(temp_df))\n",
      "/Users/ihc/programming/350_seattle/BPS/experiments/benchmarking_models/models/baseline_model.py:70: SettingWithCopyWarning: \n",
      "A value is trying to be set on a copy of a slice from a DataFrame.\n",
      "Try using .loc[row_indexer,col_indexer] = value instead\n",
      "\n",
      "See the caveats in the documentation: https://pandas.pydata.org/pandas-docs/stable/user_guide/indexing.html#returning-a-view-versus-a-copy\n",
      "  temp_df['expected_baseline'] = input_df.apply(lambda building: self._get_expected_baseline(building, year), axis=1)\n",
      "/Users/ihc/programming/350_seattle/BPS/experiments/benchmarking_models/models/baseline_model.py:69: SettingWithCopyWarning: \n",
      "A value is trying to be set on a copy of a slice from a DataFrame.\n",
      "Try using .loc[row_indexer,col_indexer] = value instead\n",
      "\n",
      "See the caveats in the documentation: https://pandas.pydata.org/pandas-docs/stable/user_guide/indexing.html#returning-a-view-versus-a-copy\n",
      "  temp_df['year'] = pd.Series([year]*len(temp_df))\n",
      "/Users/ihc/programming/350_seattle/BPS/experiments/benchmarking_models/models/baseline_model.py:70: SettingWithCopyWarning: \n",
      "A value is trying to be set on a copy of a slice from a DataFrame.\n",
      "Try using .loc[row_indexer,col_indexer] = value instead\n",
      "\n",
      "See the caveats in the documentation: https://pandas.pydata.org/pandas-docs/stable/user_guide/indexing.html#returning-a-view-versus-a-copy\n",
      "  temp_df['expected_baseline'] = input_df.apply(lambda building: self._get_expected_baseline(building, year), axis=1)\n",
      "/Users/ihc/programming/350_seattle/BPS/experiments/benchmarking_models/models/baseline_model.py:69: SettingWithCopyWarning: \n",
      "A value is trying to be set on a copy of a slice from a DataFrame.\n",
      "Try using .loc[row_indexer,col_indexer] = value instead\n",
      "\n",
      "See the caveats in the documentation: https://pandas.pydata.org/pandas-docs/stable/user_guide/indexing.html#returning-a-view-versus-a-copy\n",
      "  temp_df['year'] = pd.Series([year]*len(temp_df))\n",
      "/Users/ihc/programming/350_seattle/BPS/experiments/benchmarking_models/models/baseline_model.py:70: SettingWithCopyWarning: \n",
      "A value is trying to be set on a copy of a slice from a DataFrame.\n",
      "Try using .loc[row_indexer,col_indexer] = value instead\n",
      "\n",
      "See the caveats in the documentation: https://pandas.pydata.org/pandas-docs/stable/user_guide/indexing.html#returning-a-view-versus-a-copy\n",
      "  temp_df['expected_baseline'] = input_df.apply(lambda building: self._get_expected_baseline(building, year), axis=1)\n",
      "/Users/ihc/programming/350_seattle/BPS/experiments/benchmarking_models/models/baseline_model.py:69: SettingWithCopyWarning: \n",
      "A value is trying to be set on a copy of a slice from a DataFrame.\n",
      "Try using .loc[row_indexer,col_indexer] = value instead\n",
      "\n",
      "See the caveats in the documentation: https://pandas.pydata.org/pandas-docs/stable/user_guide/indexing.html#returning-a-view-versus-a-copy\n",
      "  temp_df['year'] = pd.Series([year]*len(temp_df))\n",
      "/Users/ihc/programming/350_seattle/BPS/experiments/benchmarking_models/models/baseline_model.py:70: SettingWithCopyWarning: \n",
      "A value is trying to be set on a copy of a slice from a DataFrame.\n",
      "Try using .loc[row_indexer,col_indexer] = value instead\n",
      "\n",
      "See the caveats in the documentation: https://pandas.pydata.org/pandas-docs/stable/user_guide/indexing.html#returning-a-view-versus-a-copy\n",
      "  temp_df['expected_baseline'] = input_df.apply(lambda building: self._get_expected_baseline(building, year), axis=1)\n",
      "/Users/ihc/programming/350_seattle/BPS/experiments/benchmarking_models/models/baseline_model.py:69: SettingWithCopyWarning: \n",
      "A value is trying to be set on a copy of a slice from a DataFrame.\n",
      "Try using .loc[row_indexer,col_indexer] = value instead\n",
      "\n",
      "See the caveats in the documentation: https://pandas.pydata.org/pandas-docs/stable/user_guide/indexing.html#returning-a-view-versus-a-copy\n",
      "  temp_df['year'] = pd.Series([year]*len(temp_df))\n",
      "/Users/ihc/programming/350_seattle/BPS/experiments/benchmarking_models/models/baseline_model.py:70: SettingWithCopyWarning: \n",
      "A value is trying to be set on a copy of a slice from a DataFrame.\n",
      "Try using .loc[row_indexer,col_indexer] = value instead\n",
      "\n",
      "See the caveats in the documentation: https://pandas.pydata.org/pandas-docs/stable/user_guide/indexing.html#returning-a-view-versus-a-copy\n",
      "  temp_df['expected_baseline'] = input_df.apply(lambda building: self._get_expected_baseline(building, year), axis=1)\n",
      "/Users/ihc/programming/350_seattle/BPS/experiments/benchmarking_models/models/baseline_model.py:69: SettingWithCopyWarning: \n",
      "A value is trying to be set on a copy of a slice from a DataFrame.\n",
      "Try using .loc[row_indexer,col_indexer] = value instead\n",
      "\n",
      "See the caveats in the documentation: https://pandas.pydata.org/pandas-docs/stable/user_guide/indexing.html#returning-a-view-versus-a-copy\n",
      "  temp_df['year'] = pd.Series([year]*len(temp_df))\n",
      "/Users/ihc/programming/350_seattle/BPS/experiments/benchmarking_models/models/baseline_model.py:70: SettingWithCopyWarning: \n",
      "A value is trying to be set on a copy of a slice from a DataFrame.\n",
      "Try using .loc[row_indexer,col_indexer] = value instead\n",
      "\n",
      "See the caveats in the documentation: https://pandas.pydata.org/pandas-docs/stable/user_guide/indexing.html#returning-a-view-versus-a-copy\n",
      "  temp_df['expected_baseline'] = input_df.apply(lambda building: self._get_expected_baseline(building, year), axis=1)\n",
      "/Users/ihc/programming/350_seattle/BPS/experiments/benchmarking_models/models/baseline_model.py:69: SettingWithCopyWarning: \n",
      "A value is trying to be set on a copy of a slice from a DataFrame.\n",
      "Try using .loc[row_indexer,col_indexer] = value instead\n",
      "\n",
      "See the caveats in the documentation: https://pandas.pydata.org/pandas-docs/stable/user_guide/indexing.html#returning-a-view-versus-a-copy\n",
      "  temp_df['year'] = pd.Series([year]*len(temp_df))\n",
      "/Users/ihc/programming/350_seattle/BPS/experiments/benchmarking_models/models/baseline_model.py:70: SettingWithCopyWarning: \n",
      "A value is trying to be set on a copy of a slice from a DataFrame.\n",
      "Try using .loc[row_indexer,col_indexer] = value instead\n",
      "\n",
      "See the caveats in the documentation: https://pandas.pydata.org/pandas-docs/stable/user_guide/indexing.html#returning-a-view-versus-a-copy\n",
      "  temp_df['expected_baseline'] = input_df.apply(lambda building: self._get_expected_baseline(building, year), axis=1)\n"
     ]
    },
    {
     "name": "stdout",
     "output_type": "stream",
     "text": [
      "Model calculations complete. Access the model dataframe as model_name.scenario_results\n"
     ]
    }
   ],
   "source": [
    "# large buildings\n",
    "\n",
    "large_buildings_75_percent_reduction = BaselineBEPSModel(EMISSIONS_PATH, 'timeline_24.9267578125_percent_of_policy.csv', 'large_buildings_data.csv', FINES_YEARS, FINE_PER_SQFT)\n",
    "large_buildings_75_percent_reduction.calculate_baseline_model(2027, 2050)"
   ]
  },
  {
   "cell_type": "code",
   "execution_count": 79,
   "id": "da401727-395f-4043-b6ec-fe3fa2a46ccf",
   "metadata": {},
   "outputs": [],
   "source": [
    "large_buildings_75_percent_reduction.scenario_results.to_csv('large_buildings_reduce_75_percent.csv')"
   ]
  },
  {
   "cell_type": "code",
   "execution_count": 83,
   "id": "c41736f1-f536-45f8-8a4d-54fca939c969",
   "metadata": {},
   "outputs": [],
   "source": [
    "combined_buildings = pd.concat([large_buildings_75_percent_reduction.scenario_results, small_buildings_25_percent_reduction.scenario_results])"
   ]
  },
  {
   "cell_type": "code",
   "execution_count": 86,
   "id": "b2c68a3c-76b4-4fa4-81cf-6ef9f4d22caf",
   "metadata": {},
   "outputs": [],
   "source": [
    "combined_buildings.to_csv('combined_25_75_scenario_building_data.csv')"
   ]
  },
  {
   "cell_type": "code",
   "execution_count": 95,
   "id": "79cc15ea-4e7f-478a-aaa4-f9304a6b91b2",
   "metadata": {},
   "outputs": [],
   "source": [
    "reduction_by_year = combined_buildings.groupby('year')['compliant_emissions'].sum()"
   ]
  },
  {
   "cell_type": "code",
   "execution_count": 96,
   "id": "d38db35a-f95e-48f7-94a7-1eaa47a23a17",
   "metadata": {},
   "outputs": [
    {
     "data": {
      "text/plain": [
       "year\n",
       "2027.0    2.635773e+08\n",
       "2028.0    2.256779e+08\n",
       "2029.0    2.047808e+08\n",
       "2030.0    1.791734e+08\n",
       "2031.0    1.515382e+08\n",
       "Name: compliant_emissions, dtype: float64"
      ]
     },
     "execution_count": 96,
     "metadata": {},
     "output_type": "execute_result"
    }
   ],
   "source": [
    "reduction_by_year.head()"
   ]
  },
  {
   "cell_type": "code",
   "execution_count": 98,
   "id": "18751148-6baf-4917-a4cb-456329893a26",
   "metadata": {},
   "outputs": [],
   "source": [
    "reduction_by_year.to_csv('25-75_reduction_plan/year_by_year.csv')"
   ]
  },
  {
   "cell_type": "code",
   "execution_count": 97,
   "id": "f8e1990a-22d0-4cc0-896b-8d69f224ad0d",
   "metadata": {},
   "outputs": [
    {
     "data": {
      "text/plain": [
       "<Axes: xlabel='year', ylabel='compliant_emissions'>"
      ]
     },
     "execution_count": 97,
     "metadata": {},
     "output_type": "execute_result"
    },
    {
     "data": {
      "image/png": "[encoded data removed]",
      "text/plain": [
       "<Figure size 640x480 with 1 Axes>"
      ]
     },
     "metadata": {},
     "output_type": "display_data"
    }
   ],
   "source": [
    "sns.lineplot(data=reduction_by_year)"
   ]
  },
  {
   "cell_type": "markdown",
   "id": "f6da4895-466c-4d12-aa17-09fc92808f17",
   "metadata": {},
   "source": [
    "## Reduce small buildings emissions by 40%"
   ]
  },
  {
   "cell_type": "code",
   "execution_count": 89,
   "id": "b4ff463a-8a9a-4956-af7d-ed6b37322916",
   "metadata": {},
   "outputs": [
    {
     "name": "stderr",
     "output_type": "stream",
     "text": [
      "/Users/ihc/programming/350_seattle/BPS/experiments/benchmarking_models/models/baseline_model.py:69: SettingWithCopyWarning: \n",
      "A value is trying to be set on a copy of a slice from a DataFrame.\n",
      "Try using .loc[row_indexer,col_indexer] = value instead\n",
      "\n",
      "See the caveats in the documentation: https://pandas.pydata.org/pandas-docs/stable/user_guide/indexing.html#returning-a-view-versus-a-copy\n",
      "  temp_df['year'] = pd.Series([year]*len(temp_df))\n",
      "/Users/ihc/programming/350_seattle/BPS/experiments/benchmarking_models/models/baseline_model.py:70: SettingWithCopyWarning: \n",
      "A value is trying to be set on a copy of a slice from a DataFrame.\n",
      "Try using .loc[row_indexer,col_indexer] = value instead\n",
      "\n",
      "See the caveats in the documentation: https://pandas.pydata.org/pandas-docs/stable/user_guide/indexing.html#returning-a-view-versus-a-copy\n",
      "  temp_df['expected_baseline'] = input_df.apply(lambda building: self._get_expected_baseline(building, year), axis=1)\n"
     ]
    },
    {
     "name": "stdout",
     "output_type": "stream",
     "text": [
      "Model calculations complete. Access the model dataframe as model_name.scenario_results\n"
     ]
    }
   ],
   "source": [
    "buildings_40_percent_reduction_timeline = create_temp_emissions_timeline_file(60, JAN_TIMELINE_PATH)\n",
    "\n",
    "small_buildings_40_percent_reduction = BaselineBEPSModel(EMISSIONS_PATH, 'tmp/timeline_60_percent_of_policy.csv', 'small_buildings_data.csv', FINES_YEARS, FINE_PER_SQFT)\n",
    "small_buildings_40_percent_reduction.calculate_baseline_model(2040, 2040)"
   ]
  },
  {
   "cell_type": "code",
   "execution_count": 90,
   "id": "ee8f6c45-0664-4498-8b21-a26b75d81c7d",
   "metadata": {},
   "outputs": [
    {
     "name": "stdout",
     "output_type": "stream",
     "text": [
      "Large buildings could produce max 33587417.23649001 kg in 2040.\n"
     ]
    }
   ],
   "source": [
    "emissions_small_buildings_40_percent_reduction_2040 = small_buildings_40_percent_reduction.scenario_results['compliant_emissions'].sum()\n",
    "print(f'Large buildings could produce max {TARGET_FOR_2040_KG - emissions_small_buildings_40_percent_reduction_2040} kg in 2040.')"
   ]
  },
  {
   "cell_type": "code",
   "execution_count": 91,
   "id": "6b433251-4848-4224-bd5a-485631a1ab39",
   "metadata": {},
   "outputs": [
    {
     "name": "stderr",
     "output_type": "stream",
     "text": [
      "/Users/ihc/programming/350_seattle/BPS/experiments/benchmarking_models/models/baseline_model.py:69: SettingWithCopyWarning: \n",
      "A value is trying to be set on a copy of a slice from a DataFrame.\n",
      "Try using .loc[row_indexer,col_indexer] = value instead\n",
      "\n",
      "See the caveats in the documentation: https://pandas.pydata.org/pandas-docs/stable/user_guide/indexing.html#returning-a-view-versus-a-copy\n",
      "  temp_df['year'] = pd.Series([year]*len(temp_df))\n",
      "/Users/ihc/programming/350_seattle/BPS/experiments/benchmarking_models/models/baseline_model.py:70: SettingWithCopyWarning: \n",
      "A value is trying to be set on a copy of a slice from a DataFrame.\n",
      "Try using .loc[row_indexer,col_indexer] = value instead\n",
      "\n",
      "See the caveats in the documentation: https://pandas.pydata.org/pandas-docs/stable/user_guide/indexing.html#returning-a-view-versus-a-copy\n",
      "  temp_df['expected_baseline'] = input_df.apply(lambda building: self._get_expected_baseline(building, year), axis=1)\n"
     ]
    },
    {
     "name": "stdout",
     "output_type": "stream",
     "text": [
      "Model calculations complete. Access the model dataframe as model_name.scenario_results\n"
     ]
    },
    {
     "name": "stderr",
     "output_type": "stream",
     "text": [
      "/Users/ihc/programming/350_seattle/BPS/experiments/benchmarking_models/models/baseline_model.py:69: SettingWithCopyWarning: \n",
      "A value is trying to be set on a copy of a slice from a DataFrame.\n",
      "Try using .loc[row_indexer,col_indexer] = value instead\n",
      "\n",
      "See the caveats in the documentation: https://pandas.pydata.org/pandas-docs/stable/user_guide/indexing.html#returning-a-view-versus-a-copy\n",
      "  temp_df['year'] = pd.Series([year]*len(temp_df))\n",
      "/Users/ihc/programming/350_seattle/BPS/experiments/benchmarking_models/models/baseline_model.py:70: SettingWithCopyWarning: \n",
      "A value is trying to be set on a copy of a slice from a DataFrame.\n",
      "Try using .loc[row_indexer,col_indexer] = value instead\n",
      "\n",
      "See the caveats in the documentation: https://pandas.pydata.org/pandas-docs/stable/user_guide/indexing.html#returning-a-view-versus-a-copy\n",
      "  temp_df['expected_baseline'] = input_df.apply(lambda building: self._get_expected_baseline(building, year), axis=1)\n"
     ]
    },
    {
     "name": "stdout",
     "output_type": "stream",
     "text": [
      "Model calculations complete. Access the model dataframe as model_name.scenario_results\n"
     ]
    },
    {
     "name": "stderr",
     "output_type": "stream",
     "text": [
      "/Users/ihc/programming/350_seattle/BPS/experiments/benchmarking_models/models/baseline_model.py:69: SettingWithCopyWarning: \n",
      "A value is trying to be set on a copy of a slice from a DataFrame.\n",
      "Try using .loc[row_indexer,col_indexer] = value instead\n",
      "\n",
      "See the caveats in the documentation: https://pandas.pydata.org/pandas-docs/stable/user_guide/indexing.html#returning-a-view-versus-a-copy\n",
      "  temp_df['year'] = pd.Series([year]*len(temp_df))\n",
      "/Users/ihc/programming/350_seattle/BPS/experiments/benchmarking_models/models/baseline_model.py:70: SettingWithCopyWarning: \n",
      "A value is trying to be set on a copy of a slice from a DataFrame.\n",
      "Try using .loc[row_indexer,col_indexer] = value instead\n",
      "\n",
      "See the caveats in the documentation: https://pandas.pydata.org/pandas-docs/stable/user_guide/indexing.html#returning-a-view-versus-a-copy\n",
      "  temp_df['expected_baseline'] = input_df.apply(lambda building: self._get_expected_baseline(building, year), axis=1)\n"
     ]
    },
    {
     "name": "stdout",
     "output_type": "stream",
     "text": [
      "Model calculations complete. Access the model dataframe as model_name.scenario_results\n"
     ]
    },
    {
     "name": "stderr",
     "output_type": "stream",
     "text": [
      "/Users/ihc/programming/350_seattle/BPS/experiments/benchmarking_models/models/baseline_model.py:69: SettingWithCopyWarning: \n",
      "A value is trying to be set on a copy of a slice from a DataFrame.\n",
      "Try using .loc[row_indexer,col_indexer] = value instead\n",
      "\n",
      "See the caveats in the documentation: https://pandas.pydata.org/pandas-docs/stable/user_guide/indexing.html#returning-a-view-versus-a-copy\n",
      "  temp_df['year'] = pd.Series([year]*len(temp_df))\n",
      "/Users/ihc/programming/350_seattle/BPS/experiments/benchmarking_models/models/baseline_model.py:70: SettingWithCopyWarning: \n",
      "A value is trying to be set on a copy of a slice from a DataFrame.\n",
      "Try using .loc[row_indexer,col_indexer] = value instead\n",
      "\n",
      "See the caveats in the documentation: https://pandas.pydata.org/pandas-docs/stable/user_guide/indexing.html#returning-a-view-versus-a-copy\n",
      "  temp_df['expected_baseline'] = input_df.apply(lambda building: self._get_expected_baseline(building, year), axis=1)\n"
     ]
    },
    {
     "name": "stdout",
     "output_type": "stream",
     "text": [
      "Model calculations complete. Access the model dataframe as model_name.scenario_results\n"
     ]
    },
    {
     "name": "stderr",
     "output_type": "stream",
     "text": [
      "/Users/ihc/programming/350_seattle/BPS/experiments/benchmarking_models/models/baseline_model.py:69: SettingWithCopyWarning: \n",
      "A value is trying to be set on a copy of a slice from a DataFrame.\n",
      "Try using .loc[row_indexer,col_indexer] = value instead\n",
      "\n",
      "See the caveats in the documentation: https://pandas.pydata.org/pandas-docs/stable/user_guide/indexing.html#returning-a-view-versus-a-copy\n",
      "  temp_df['year'] = pd.Series([year]*len(temp_df))\n",
      "/Users/ihc/programming/350_seattle/BPS/experiments/benchmarking_models/models/baseline_model.py:70: SettingWithCopyWarning: \n",
      "A value is trying to be set on a copy of a slice from a DataFrame.\n",
      "Try using .loc[row_indexer,col_indexer] = value instead\n",
      "\n",
      "See the caveats in the documentation: https://pandas.pydata.org/pandas-docs/stable/user_guide/indexing.html#returning-a-view-versus-a-copy\n",
      "  temp_df['expected_baseline'] = input_df.apply(lambda building: self._get_expected_baseline(building, year), axis=1)\n"
     ]
    },
    {
     "name": "stdout",
     "output_type": "stream",
     "text": [
      "Model calculations complete. Access the model dataframe as model_name.scenario_results\n"
     ]
    },
    {
     "name": "stderr",
     "output_type": "stream",
     "text": [
      "/Users/ihc/programming/350_seattle/BPS/experiments/benchmarking_models/models/baseline_model.py:69: SettingWithCopyWarning: \n",
      "A value is trying to be set on a copy of a slice from a DataFrame.\n",
      "Try using .loc[row_indexer,col_indexer] = value instead\n",
      "\n",
      "See the caveats in the documentation: https://pandas.pydata.org/pandas-docs/stable/user_guide/indexing.html#returning-a-view-versus-a-copy\n",
      "  temp_df['year'] = pd.Series([year]*len(temp_df))\n",
      "/Users/ihc/programming/350_seattle/BPS/experiments/benchmarking_models/models/baseline_model.py:70: SettingWithCopyWarning: \n",
      "A value is trying to be set on a copy of a slice from a DataFrame.\n",
      "Try using .loc[row_indexer,col_indexer] = value instead\n",
      "\n",
      "See the caveats in the documentation: https://pandas.pydata.org/pandas-docs/stable/user_guide/indexing.html#returning-a-view-versus-a-copy\n",
      "  temp_df['expected_baseline'] = input_df.apply(lambda building: self._get_expected_baseline(building, year), axis=1)\n"
     ]
    },
    {
     "name": "stdout",
     "output_type": "stream",
     "text": [
      "Model calculations complete. Access the model dataframe as model_name.scenario_results\n"
     ]
    },
    {
     "name": "stderr",
     "output_type": "stream",
     "text": [
      "/Users/ihc/programming/350_seattle/BPS/experiments/benchmarking_models/models/baseline_model.py:69: SettingWithCopyWarning: \n",
      "A value is trying to be set on a copy of a slice from a DataFrame.\n",
      "Try using .loc[row_indexer,col_indexer] = value instead\n",
      "\n",
      "See the caveats in the documentation: https://pandas.pydata.org/pandas-docs/stable/user_guide/indexing.html#returning-a-view-versus-a-copy\n",
      "  temp_df['year'] = pd.Series([year]*len(temp_df))\n",
      "/Users/ihc/programming/350_seattle/BPS/experiments/benchmarking_models/models/baseline_model.py:70: SettingWithCopyWarning: \n",
      "A value is trying to be set on a copy of a slice from a DataFrame.\n",
      "Try using .loc[row_indexer,col_indexer] = value instead\n",
      "\n",
      "See the caveats in the documentation: https://pandas.pydata.org/pandas-docs/stable/user_guide/indexing.html#returning-a-view-versus-a-copy\n",
      "  temp_df['expected_baseline'] = input_df.apply(lambda building: self._get_expected_baseline(building, year), axis=1)\n"
     ]
    },
    {
     "name": "stdout",
     "output_type": "stream",
     "text": [
      "Model calculations complete. Access the model dataframe as model_name.scenario_results\n"
     ]
    },
    {
     "name": "stderr",
     "output_type": "stream",
     "text": [
      "/Users/ihc/programming/350_seattle/BPS/experiments/benchmarking_models/models/baseline_model.py:69: SettingWithCopyWarning: \n",
      "A value is trying to be set on a copy of a slice from a DataFrame.\n",
      "Try using .loc[row_indexer,col_indexer] = value instead\n",
      "\n",
      "See the caveats in the documentation: https://pandas.pydata.org/pandas-docs/stable/user_guide/indexing.html#returning-a-view-versus-a-copy\n",
      "  temp_df['year'] = pd.Series([year]*len(temp_df))\n",
      "/Users/ihc/programming/350_seattle/BPS/experiments/benchmarking_models/models/baseline_model.py:70: SettingWithCopyWarning: \n",
      "A value is trying to be set on a copy of a slice from a DataFrame.\n",
      "Try using .loc[row_indexer,col_indexer] = value instead\n",
      "\n",
      "See the caveats in the documentation: https://pandas.pydata.org/pandas-docs/stable/user_guide/indexing.html#returning-a-view-versus-a-copy\n",
      "  temp_df['expected_baseline'] = input_df.apply(lambda building: self._get_expected_baseline(building, year), axis=1)\n"
     ]
    },
    {
     "name": "stdout",
     "output_type": "stream",
     "text": [
      "Model calculations complete. Access the model dataframe as model_name.scenario_results\n"
     ]
    },
    {
     "name": "stderr",
     "output_type": "stream",
     "text": [
      "/Users/ihc/programming/350_seattle/BPS/experiments/benchmarking_models/models/baseline_model.py:69: SettingWithCopyWarning: \n",
      "A value is trying to be set on a copy of a slice from a DataFrame.\n",
      "Try using .loc[row_indexer,col_indexer] = value instead\n",
      "\n",
      "See the caveats in the documentation: https://pandas.pydata.org/pandas-docs/stable/user_guide/indexing.html#returning-a-view-versus-a-copy\n",
      "  temp_df['year'] = pd.Series([year]*len(temp_df))\n",
      "/Users/ihc/programming/350_seattle/BPS/experiments/benchmarking_models/models/baseline_model.py:70: SettingWithCopyWarning: \n",
      "A value is trying to be set on a copy of a slice from a DataFrame.\n",
      "Try using .loc[row_indexer,col_indexer] = value instead\n",
      "\n",
      "See the caveats in the documentation: https://pandas.pydata.org/pandas-docs/stable/user_guide/indexing.html#returning-a-view-versus-a-copy\n",
      "  temp_df['expected_baseline'] = input_df.apply(lambda building: self._get_expected_baseline(building, year), axis=1)\n"
     ]
    },
    {
     "name": "stdout",
     "output_type": "stream",
     "text": [
      "Model calculations complete. Access the model dataframe as model_name.scenario_results\n"
     ]
    },
    {
     "name": "stderr",
     "output_type": "stream",
     "text": [
      "/Users/ihc/programming/350_seattle/BPS/experiments/benchmarking_models/models/baseline_model.py:69: SettingWithCopyWarning: \n",
      "A value is trying to be set on a copy of a slice from a DataFrame.\n",
      "Try using .loc[row_indexer,col_indexer] = value instead\n",
      "\n",
      "See the caveats in the documentation: https://pandas.pydata.org/pandas-docs/stable/user_guide/indexing.html#returning-a-view-versus-a-copy\n",
      "  temp_df['year'] = pd.Series([year]*len(temp_df))\n",
      "/Users/ihc/programming/350_seattle/BPS/experiments/benchmarking_models/models/baseline_model.py:70: SettingWithCopyWarning: \n",
      "A value is trying to be set on a copy of a slice from a DataFrame.\n",
      "Try using .loc[row_indexer,col_indexer] = value instead\n",
      "\n",
      "See the caveats in the documentation: https://pandas.pydata.org/pandas-docs/stable/user_guide/indexing.html#returning-a-view-versus-a-copy\n",
      "  temp_df['expected_baseline'] = input_df.apply(lambda building: self._get_expected_baseline(building, year), axis=1)\n"
     ]
    },
    {
     "name": "stdout",
     "output_type": "stream",
     "text": [
      "Model calculations complete. Access the model dataframe as model_name.scenario_results\n"
     ]
    },
    {
     "name": "stderr",
     "output_type": "stream",
     "text": [
      "/Users/ihc/programming/350_seattle/BPS/experiments/benchmarking_models/models/baseline_model.py:69: SettingWithCopyWarning: \n",
      "A value is trying to be set on a copy of a slice from a DataFrame.\n",
      "Try using .loc[row_indexer,col_indexer] = value instead\n",
      "\n",
      "See the caveats in the documentation: https://pandas.pydata.org/pandas-docs/stable/user_guide/indexing.html#returning-a-view-versus-a-copy\n",
      "  temp_df['year'] = pd.Series([year]*len(temp_df))\n",
      "/Users/ihc/programming/350_seattle/BPS/experiments/benchmarking_models/models/baseline_model.py:70: SettingWithCopyWarning: \n",
      "A value is trying to be set on a copy of a slice from a DataFrame.\n",
      "Try using .loc[row_indexer,col_indexer] = value instead\n",
      "\n",
      "See the caveats in the documentation: https://pandas.pydata.org/pandas-docs/stable/user_guide/indexing.html#returning-a-view-versus-a-copy\n",
      "  temp_df['expected_baseline'] = input_df.apply(lambda building: self._get_expected_baseline(building, year), axis=1)\n"
     ]
    },
    {
     "name": "stdout",
     "output_type": "stream",
     "text": [
      "Model calculations complete. Access the model dataframe as model_name.scenario_results\n"
     ]
    },
    {
     "name": "stderr",
     "output_type": "stream",
     "text": [
      "/Users/ihc/programming/350_seattle/BPS/experiments/benchmarking_models/models/baseline_model.py:69: SettingWithCopyWarning: \n",
      "A value is trying to be set on a copy of a slice from a DataFrame.\n",
      "Try using .loc[row_indexer,col_indexer] = value instead\n",
      "\n",
      "See the caveats in the documentation: https://pandas.pydata.org/pandas-docs/stable/user_guide/indexing.html#returning-a-view-versus-a-copy\n",
      "  temp_df['year'] = pd.Series([year]*len(temp_df))\n",
      "/Users/ihc/programming/350_seattle/BPS/experiments/benchmarking_models/models/baseline_model.py:70: SettingWithCopyWarning: \n",
      "A value is trying to be set on a copy of a slice from a DataFrame.\n",
      "Try using .loc[row_indexer,col_indexer] = value instead\n",
      "\n",
      "See the caveats in the documentation: https://pandas.pydata.org/pandas-docs/stable/user_guide/indexing.html#returning-a-view-versus-a-copy\n",
      "  temp_df['expected_baseline'] = input_df.apply(lambda building: self._get_expected_baseline(building, year), axis=1)\n"
     ]
    },
    {
     "name": "stdout",
     "output_type": "stream",
     "text": [
      "Model calculations complete. Access the model dataframe as model_name.scenario_results\n"
     ]
    },
    {
     "name": "stderr",
     "output_type": "stream",
     "text": [
      "/Users/ihc/programming/350_seattle/BPS/experiments/benchmarking_models/models/baseline_model.py:69: SettingWithCopyWarning: \n",
      "A value is trying to be set on a copy of a slice from a DataFrame.\n",
      "Try using .loc[row_indexer,col_indexer] = value instead\n",
      "\n",
      "See the caveats in the documentation: https://pandas.pydata.org/pandas-docs/stable/user_guide/indexing.html#returning-a-view-versus-a-copy\n",
      "  temp_df['year'] = pd.Series([year]*len(temp_df))\n",
      "/Users/ihc/programming/350_seattle/BPS/experiments/benchmarking_models/models/baseline_model.py:70: SettingWithCopyWarning: \n",
      "A value is trying to be set on a copy of a slice from a DataFrame.\n",
      "Try using .loc[row_indexer,col_indexer] = value instead\n",
      "\n",
      "See the caveats in the documentation: https://pandas.pydata.org/pandas-docs/stable/user_guide/indexing.html#returning-a-view-versus-a-copy\n",
      "  temp_df['expected_baseline'] = input_df.apply(lambda building: self._get_expected_baseline(building, year), axis=1)\n"
     ]
    },
    {
     "name": "stdout",
     "output_type": "stream",
     "text": [
      "Model calculations complete. Access the model dataframe as model_name.scenario_results\n",
      "You can achieve 33587417.23649001 kg/yr in 2040 by reducing the baselines by 72.83935546875%.\n"
     ]
    }
   ],
   "source": [
    "max_for_large_buildings = TARGET_FOR_2040_KG - emissions_small_buildings_40_percent_reduction_2040\n",
    "\n",
    "find_reduction_percent(max_for_large_buildings, 2040, JAN_TIMELINE_PATH, EMISSIONS_PATH, 'large_buildings_data.csv', FINES_YEARS, FINE_PER_SQFT)"
   ]
  },
  {
   "cell_type": "markdown",
   "id": "386716d8-f59a-43f9-acb4-cedbd51606cb",
   "metadata": {},
   "source": [
    "That doesn't seem worth it. Let's skip this possibility."
   ]
  }
 ],
 "metadata": {
  "kernelspec": {
   "display_name": "Python 3 (ipykernel)",
   "language": "python",
   "name": "python3"
  },
  "language_info": {
   "codemirror_mode": {
    "name": "ipython",
    "version": 3
   },
   "file_extension": ".py",
   "mimetype": "text/x-python",
   "name": "python",
   "nbconvert_exporter": "python",
   "pygments_lexer": "ipython3",
   "version": "3.11.3"
  }
 },
 "nbformat": 4,
 "nbformat_minor": 5
}
