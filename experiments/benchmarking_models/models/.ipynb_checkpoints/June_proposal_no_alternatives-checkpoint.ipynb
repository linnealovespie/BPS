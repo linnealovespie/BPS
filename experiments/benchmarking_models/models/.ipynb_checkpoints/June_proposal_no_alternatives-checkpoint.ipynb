{
 "cells": [
  {
   "cell_type": "markdown",
   "id": "b1fa35dc",
   "metadata": {},
   "source": [
    "# June proposal without alternatives\n",
    "\n",
    "Assumptions:\n",
    "\n",
    "- Buildings will produce the max amount of emissions, **unless** their predicted emissions is lower than the target GHGI, in which case they will produce that amount.\n",
    "- Predicted emissions are calculated based off of the emissions predictions found in [[file]]\n",
    "\n",
    "\n",
    "\n",
    "For each building, in each year (2027-2050), we need to calculate (column references given refer to the 2027 calculations in [the original RMI spreadsheet] [[todo: add link]]:\n",
    "\n",
    "- The GHGI target, as calculated by the sum of: use type * city's target GHGI for that use type * percent of GFA for that use type, for each of the three given use types (col A). If there is no target for any of the use types, this is NaN. If some building uses have a compliance threshold, but others don't, include only sq ft for the types that need to be compliant [[is this right??]]\n",
    "- The expected emissions if nothing is changed about the building, as calculated by the sum of: energy type * energy emissions factor for the three energy types (col C)\n",
    "- The expected GHGI if nothing is changed about the building (col B), as calculated by the expected emissions / total GFA\n",
    "- The expected GHGI if the building is compliant with BEPS, as defined by (col H):\n",
    "    - if the BEPS GHGI target is lower than the expected GHGI, use the BEPS GHGI target\n",
    "    - if there is no BEPS GHGI target, use the expected GHGI\n",
    "    - if the expected GHGI is lower than the BEPS GHGI target, use the expected GHGI\n",
    "- The expected emissions if the building is compliant with BEPS, as defined by the expected compliant GHGI * total GFA (col J)\n",
    "- Whether or not the building is compliant (col K):\n",
    "    - yes: the baseline GHGI is lower than the expected compliant GHGI for this year\n",
    "    - no: the baseline GHGI is higher than the expected compliant GHGI for this year\n",
    "    - no requirement yet: the building doesn't have a compliance requirement for this year\n",
    "- Noncompliance fees: for years where buildings will be taxed for being noncompliant, this is $2.50 * total GFA    "
   ]
  },
  {
   "cell_type": "code",
   "execution_count": null,
   "id": "ded6c346",
   "metadata": {},
   "outputs": [],
   "source": []
  }
 ],
 "metadata": {
  "kernelspec": {
   "display_name": "Python 3 (ipykernel)",
   "language": "python",
   "name": "python3"
  },
  "language_info": {
   "codemirror_mode": {
    "name": "ipython",
    "version": 3
   },
   "file_extension": ".py",
   "mimetype": "text/x-python",
   "name": "python",
   "nbconvert_exporter": "python",
   "pygments_lexer": "ipython3",
   "version": "3.9.16"
  }
 },
 "nbformat": 4,
 "nbformat_minor": 5
}
