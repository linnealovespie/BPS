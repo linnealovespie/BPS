{
 "cells": [
  {
   "cell_type": "markdown",
   "id": "871af8a3",
   "metadata": {},
   "source": [
    "# Benchmark calculcations for Jan and June proposals\n",
    "\n",
    "Assumptions:\n",
    "\n",
    "- Buildings will produce the max amount of emissions, **unless** their predicted emissions is lower than the target GHGI, in which case they will produce that amount.\n",
    "- Predicted emissions are calculated based off of the emissions predictions found in [the emissions data input file](../data/input_data/energy_emissions.csv). \n",
    "\n",
    "\n",
    "\n",
    "For each building, in each year (2027-2050), we need to calculate (column references given refer to the 2027 calculations in [the original RMI spreadsheet](https://docs.google.com/spreadsheets/d/175uipAHHQHGelq7i1n9sKWQXNQi-B1IJiF6-XQRVnE8/edit#gid=1811888818):\n",
    "\n",
    "- `city_ghgi_target`: The GHGI target, as calculated by the sum of: use type * city's target GHGI for that use type * percent of GFA for that use type, for each of the three given use types (col A). If there is no target for any of the use types, this is NaN. If a building is multi-use, and some of the building's uses have a compliance threshold, but others don't, use the expected GHGI (greenhouse gas emissions intensity) if nothing is changed as the GHGI for the portion of the building that is not subject to BEPS yet.\n",
    "    - Example: A building is 50% retail and 50% multifamily housing. The target for retail in 2033 is 1.03 and there is no target for multifamily housing. This building would have a GHGI of 4.0 in 2033 if no changes were made to it. We estimate the GHGHI target as `(0.5 * 1.03) + (0.5 * 4.0) = 2.515`. \n",
    "    - NB: These numbers will be different than the RMI calculations. The RMI model mistakenly used a GHGI of zero for parts of buildings that are not yet subject to BEPS. So in the example above, RMI's model would list the GHGI target as`0.5 * 1.03 + 0.5 * 0 = 0.515`, which leaves out half the building. Then the target GHGI would actually go **up** when the multifamily part of the building became subject to BEPS! This model corrects that error.\n",
    "- `expected_baseline`: The expected emissions if nothing is changed about the building, as calculated by the sum of: `total use energy for type * energy emissions factor for energy type` for the three energy types (col C)\n",
    "- `expected_baseline_ghgi`: The expected GHGI if nothing is changed about the building (col B), as calculated by the `expected emissions / total GFA`\n",
    "- `compliant_ghgi`: The expected GHGI if the building is compliant with BEPS, as defined by (col H):\n",
    "    - if the BEPS GHGI target is lower than the expected GHGI, use the BEPS GHGI target\n",
    "    - if the expected GHGI is lower than the BEPS GHGI target, use the expected GHGI\n",
    "- `compliant_emissions`: The expected emissions if the building is compliant with BEPS, as defined by the `compliant GHGI * total GFA` (col J)\n",
    "- `compliance_status`: Whether or not the building is compliant (col K):\n",
    "    - yes: the baseline GHGI is lower than the expected compliant GHGI for this year\n",
    "    - no: the baseline GHGI is higher than the expected compliant GHGI for this year\n",
    "    - no requirement yet: the building doesn't have a compliance requirement for this year\n",
    "- `compliance_fees`: Noncompliance fees. For years where buildings will be taxed for being noncompliant, this is `$2.50 * total GFA`    "
   ]
  },
  {
   "cell_type": "code",
   "execution_count": null,
   "id": "8171a811",
   "metadata": {},
   "outputs": [],
   "source": [
    "# In which we discover an error in the RMI model\n",
    "# The emissions for the multifamily housing part of this building get calculated as zero in the RMI model\n",
    "# So when there is a GHGIT for multifamily housing, the building's GHGI will actually go *up*!\n",
    "# No good\n",
    "# Solution: this model will use the expected emissions if there are no changes to calculate the GHGI for the part\n",
    "# of the building that is not yet subject to BEPS\n",
    "\n",
    "# Yr: 2033\n",
    "# Main Market, OSE ID 419\n",
    "# sq ft: 77,640\n",
    "# Retail Store\t44,078 (57%)\n",
    "# Restaurant\t19,182 (25%)\n",
    "# Multifamily Housing2\t14,380 (19%)\n",
    "# electric, steam, gas: 9,880,964\t0\t4,321,133\n",
    "\n",
    "# electric, steam, gas emissions for 2033\n",
    "# 2033\t0.0026\t0.0830\t0.0530\n",
    "\n",
    "# city GHGIs for 50-90k sq ft buildings in 2033\n",
    "# retail: 1.03\n",
    "# restaurant: 5.73\n",
    "# multifamily: no target yet (RMI model gives 0)\n",
    "\n",
    "# RMI model lists GHGIT as 2.0196\n",
    "# show that uses 0 as the target for the multifamily part of the building\n",
    "avg_ghgi = (.57 * 1.03) + (.25 * 5.73) + (.19 * 0)\n",
    "avg_ghgi"
   ]
  },
  {
   "cell_type": "code",
   "execution_count": 1,
   "id": "d8090f3b",
   "metadata": {},
   "outputs": [],
   "source": [
    "import pandas as pd\n",
    "import numpy as np"
   ]
  },
  {
   "cell_type": "code",
   "execution_count": null,
   "id": "86d0008b",
   "metadata": {},
   "outputs": [],
   "source": [
    "pd.options.mode.chained_assignment = None"
   ]
  },
  {
   "cell_type": "markdown",
   "id": "4d953b5a",
   "metadata": {},
   "source": [
    "## Load input data\n",
    "\n",
    "Load input files:\n",
    "\n",
    "- `energy_emissions`: the emissions factors for electric/steam/gas for each year, 2027-2050\n",
    "- `scen_1_timeline`: the emissions benchmarks by building type and size in Scenario 1 (January proposal)\n",
    "- `scen_2_timeline`: the emissions benchmarks by building type and size in Scenario 2 (June proposal)\n",
    "- `building_data`: data for each >20k sq ft building in Seattle, including breakdown of building use percentage and baseline GHGI"
   ]
  },
  {
   "cell_type": "code",
   "execution_count": 2,
   "id": "f76ebfd1",
   "metadata": {},
   "outputs": [],
   "source": [
    "def load_emissions(file_path):\n",
    "    emissions = pd.read_csv(file_path)\n",
    "    emissions.set_index('Year', inplace=True)\n",
    "    return emissions"
   ]
  },
  {
   "cell_type": "code",
   "execution_count": 3,
   "id": "c30c7f6b",
   "metadata": {},
   "outputs": [],
   "source": [
    "energy_emissions = load_emissions('../data/input_data/energy_emissions.csv')\n",
    "scen_1_timeline = pd.read_csv('../data/input_data/scen_1_reformatted.csv')\n",
    "scen_2_timeline = pd.read_csv('../data/input_data/scen_2_reformatted.csv')\n",
    "building_data = pd.read_csv('../data/input_data/All-Benchmark-Data(2019)_reformatted.csv')"
   ]
  },
  {
   "cell_type": "code",
   "execution_count": null,
   "id": "ccc49628",
   "metadata": {},
   "outputs": [],
   "source": [
    "energy_emissions.head()"
   ]
  },
  {
   "cell_type": "code",
   "execution_count": 6,
   "id": "0d78a17f",
   "metadata": {},
   "outputs": [
    {
     "data": {
      "text/html": [
       "<div>\n",
       "<style scoped>\n",
       "    .dataframe tbody tr th:only-of-type {\n",
       "        vertical-align: middle;\n",
       "    }\n",
       "\n",
       "    .dataframe tbody tr th {\n",
       "        vertical-align: top;\n",
       "    }\n",
       "\n",
       "    .dataframe thead th {\n",
       "        text-align: right;\n",
       "    }\n",
       "</style>\n",
       "<table border=\"1\" class=\"dataframe\">\n",
       "  <thead>\n",
       "    <tr style=\"text-align: right;\">\n",
       "      <th></th>\n",
       "      <th>Unnamed: 0</th>\n",
       "      <th>year</th>\n",
       "      <th>building_type</th>\n",
       "      <th>sq_ft</th>\n",
       "      <th>sq_ft_classification</th>\n",
       "      <th>ghgi</th>\n",
       "      <th>max_size</th>\n",
       "      <th>min_size</th>\n",
       "    </tr>\n",
       "  </thead>\n",
       "  <tbody>\n",
       "    <tr>\n",
       "      <th>0</th>\n",
       "      <td>0</td>\n",
       "      <td>2027</td>\n",
       "      <td>College/University</td>\n",
       "      <td>&gt;220K Buildings</td>\n",
       "      <td>A</td>\n",
       "      <td>NaN</td>\n",
       "      <td>1000000</td>\n",
       "      <td>220000</td>\n",
       "    </tr>\n",
       "    <tr>\n",
       "      <th>1</th>\n",
       "      <td>1</td>\n",
       "      <td>2027</td>\n",
       "      <td>College/University</td>\n",
       "      <td>&gt;90-220K Buildings</td>\n",
       "      <td>B</td>\n",
       "      <td>NaN</td>\n",
       "      <td>220000</td>\n",
       "      <td>90000</td>\n",
       "    </tr>\n",
       "    <tr>\n",
       "      <th>2</th>\n",
       "      <td>2</td>\n",
       "      <td>2027</td>\n",
       "      <td>College/University</td>\n",
       "      <td>&gt;50-90K Buildings</td>\n",
       "      <td>C</td>\n",
       "      <td>NaN</td>\n",
       "      <td>90000</td>\n",
       "      <td>50000</td>\n",
       "    </tr>\n",
       "    <tr>\n",
       "      <th>3</th>\n",
       "      <td>3</td>\n",
       "      <td>2027</td>\n",
       "      <td>College/University</td>\n",
       "      <td>&gt;30-50K Buildings</td>\n",
       "      <td>D</td>\n",
       "      <td>NaN</td>\n",
       "      <td>50000</td>\n",
       "      <td>30000</td>\n",
       "    </tr>\n",
       "    <tr>\n",
       "      <th>4</th>\n",
       "      <td>4</td>\n",
       "      <td>2027</td>\n",
       "      <td>College/University</td>\n",
       "      <td>&gt;20-30K Buildings</td>\n",
       "      <td>E</td>\n",
       "      <td>NaN</td>\n",
       "      <td>50000</td>\n",
       "      <td>20000</td>\n",
       "    </tr>\n",
       "  </tbody>\n",
       "</table>\n",
       "</div>"
      ],
      "text/plain": [
       "   Unnamed: 0  year       building_type               sq_ft  \\\n",
       "0           0  2027  College/University     >220K Buildings   \n",
       "1           1  2027  College/University  >90-220K Buildings   \n",
       "2           2  2027  College/University   >50-90K Buildings   \n",
       "3           3  2027  College/University   >30-50K Buildings   \n",
       "4           4  2027  College/University   >20-30K Buildings   \n",
       "\n",
       "  sq_ft_classification  ghgi  max_size  min_size  \n",
       "0                    A   NaN   1000000    220000  \n",
       "1                    B   NaN    220000     90000  \n",
       "2                    C   NaN     90000     50000  \n",
       "3                    D   NaN     50000     30000  \n",
       "4                    E   NaN     50000     20000  "
      ]
     },
     "execution_count": 6,
     "metadata": {},
     "output_type": "execute_result"
    }
   ],
   "source": [
    "scen_2_timeline.head()"
   ]
  },
  {
   "cell_type": "code",
   "execution_count": null,
   "id": "44085219",
   "metadata": {},
   "outputs": [],
   "source": [
    "scen_2_timeline[(scen_2_timeline['year'] == 2027) & (scen_2_timeline['building_type'] == 'College/University') & (scen_2_timeline['sq_ft_classification'] == 'F')]"
   ]
  },
  {
   "cell_type": "code",
   "execution_count": null,
   "id": "59440171",
   "metadata": {},
   "outputs": [],
   "source": [
    "building_data.head()"
   ]
  },
  {
   "cell_type": "code",
   "execution_count": 4,
   "id": "b911432c",
   "metadata": {},
   "outputs": [],
   "source": [
    "def classify_size(sq_ft):\n",
    "    \"\"\"\n",
    "    Use letter classifications for building size instead of dealing with size ranges (>220k, 90-220k, etc.)\n",
    "    \"\"\"\n",
    "    if sq_ft > 220000:\n",
    "        return 'A'\n",
    "    elif sq_ft > 90000:\n",
    "        return 'B'\n",
    "    elif sq_ft > 50000:\n",
    "        return 'C'\n",
    "    elif sq_ft > 30000:\n",
    "        return 'D'\n",
    "    elif sq_ft > 20000:\n",
    "        return 'E'\n",
    "    else:\n",
    "        return 'F'\n",
    "\n",
    "def clean_up_building_data(building_data, data_types):\n",
    "    # Convert string numbers in \"1,200\" format to \"1200\". int(\"1,200\") causes an error.\n",
    "    for col in ['OSEBuildingID', 'PropertyGFATotal', 'PropertyGFABuilding(s)',\n",
    "       'PropertyGFAParking', 'Total_sqft', 'LargestPropertyUseTypeGFA',\n",
    "       'LargestPropertyUseTypeGFA Analysis', 'SecondLargestPropertyUseTypeGFA', 'SecondLargestPropertyUseTypeGFA Analysis', 'ThirdLargestPropertyUseTypeGFA',\n",
    "       'ThirdLargestPropertyUseTypeGFA Analysis', 'Electricity(kBtu)',\n",
    "       'Steam(kBtu)', 'NaturalGas(kBtu)', 'TotalGHGEmissions', 'Total_GFA']:\n",
    "        building_data[col] = building_data[col].apply(lambda x: x.replace(',', '')) \n",
    "    \n",
    "    # Convert \"95%\" to 0.95\n",
    "    for col in ['percent_sqft_1st', 'percent_sqft_2nd', 'percent_sqft_3rd']:\n",
    "        building_data[col] = building_data[col].apply(lambda x: int(x.replace('%', '')) / 100.0)\n",
    "    \n",
    "    # Cast columns in correct data types\n",
    "    building_data = building_data.astype(data_types)\n",
    "    \n",
    "    # Classify building size\n",
    "    building_data['sq_ft_classification'] = building_data['Total_sqft'].apply(lambda x: classify_size(x))\n",
    "    \n",
    "    # Fix weird typo where Multifamily housing has been replaced with Multifamily Housing2, 3, etc.\n",
    "    for col in ['LargestPropertyUseType OSE', 'SecondLargestPropertyUseType OSE', 'ThirdLargestPropertyUseType OSE']:\n",
    "        building_data[col] = building_data[col].replace(regex=r'Multifamily Housing[0-9]', value='Multifamily Housing')\n",
    "    \n",
    "    return building_data"
   ]
  },
  {
   "cell_type": "code",
   "execution_count": 5,
   "id": "4002a6cc",
   "metadata": {},
   "outputs": [],
   "source": [
    "building_data_types = {\n",
    "    'Unnamed: 0': 'str', \n",
    "    'OSEBuildingID': 'int', \n",
    "    'BuildingName': 'str', \n",
    "    'BuildingType': 'str',\n",
    "    'Type_of_Bulding': 'str', \n",
    "    'PropertyGFATotal': 'int', \n",
    "    'PropertyGFABuilding(s)': 'int',\n",
    "    'PropertyGFAParking': 'int', \n",
    "    'Total_sqft': 'int', \n",
    "    'percent_sqft_1st': 'float64',\n",
    "    'percent_sqft_2nd': 'float64', \n",
    "    'percent_sqft_3rd': 'float64', \n",
    "    'LargestPropertyUseType': 'str',\n",
    "    'LargestPropertyUseType OSE': 'str', \n",
    "    'LargestPropertyUseTypeGFA': 'int',\n",
    "    'LargestPropertyUseTypeGFA Analysis': 'int', \n",
    "    'SecondLargestPropertyUseType': 'str',\n",
    "    'SecondLargestPropertyUseType OSE': 'str', \n",
    "    'SecondLargestPropertyUseTypeGFA': 'int',\n",
    "    'SecondLargestPropertyUseTypeGFA Analysis': 'int',\n",
    "    'ThirdLargestPropertyUseType': 'str', \n",
    "    'ThirdLargestPropertyUseType OSE': 'str',\n",
    "    'ThirdLargestPropertyUseTypeGFA': 'int',\n",
    "    'ThirdLargestPropertyUseTypeGFA Analysis': 'int', \n",
    "    'Electricity(kBtu)': 'int',\n",
    "    'Steam(kBtu)': 'int', \n",
    "    'NaturalGas(kBtu)': 'int', \n",
    "    'TotalGHGEmissions': 'float64',\n",
    "    'GHGEmissionsIntensity': 'float64', \n",
    "    'Total_GFA': 'int'\n",
    "}"
   ]
  },
  {
   "cell_type": "code",
   "execution_count": null,
   "id": "6e151cf0",
   "metadata": {},
   "outputs": [],
   "source": [
    "building_data = clean_up_building_data(building_data, building_data_types)"
   ]
  },
  {
   "cell_type": "code",
   "execution_count": null,
   "id": "6316f2ac",
   "metadata": {},
   "outputs": [],
   "source": [
    "building_data.head()"
   ]
  },
  {
   "cell_type": "code",
   "execution_count": null,
   "id": "537bae86",
   "metadata": {},
   "outputs": [],
   "source": [
    "class BenchmarkModel:\n",
    "    def self.__init__(timeline, building_data, fine_years, energy_emissions):\n",
    "        self.timeline = timeline\n",
    "        self.building_data = building_data\n",
    "        self.energy_emissions = energy_emissions \n",
    "        self.fine_years = fine_years # array of years when building owners will be fined\n",
    "    \n",
    "    def find_ghgi_standard(year, building_type, sq_ft_class):\n",
    "        '''\n",
    "        Find the GHGI standard in the model's timeline for a given year, building type, and building size.\n",
    "        '''\n",
    "        # building types listed as NAN don't count towards the policy, so their emissions and sq ft are calculated as zero\n",
    "        if pd.isna(building_type) or building_type == 'nan':\n",
    "            return 0\n",
    "        row = self.timeline[(self.timeline['year'] == year) & (self.timeline['sq_ft_classification'] == sq_ft_class) & (self.timeline['building_type'] == building_type)]\n",
    "        return row.iloc[0]['ghgi'] \n",
    "    \n",
    "    def get_expected_baseline(building, year):\n",
    "        '''\n",
    "        Find the expected baseline GHGE for a given year if the building makes no changes\n",
    "        '''\n",
    "        electric_emissions = building['Electricity(kBtu)'] * self.energy_emissions.loc[year]['Electricity emission factor (kgCO2e/kBtu)']\n",
    "        steam_emissions = building['Steam(kBtu)'] * self.energy_emissions.loc[year]['Steam emission factor (kgCO2e/kBtu)']\n",
    "        gas_emissions = building['NaturalGas(kBtu)'] * self.energy_emissions.loc[year]['Gas emission factor (kgCO2e/kBtu)']\n",
    "        return electric_emissions + steam_emissions + gas_emissions\n",
    "    \n",
    "    def get_expected_baseline_ghgi(building):\n",
    "        '''\n",
    "        Return the expected GHGI for a bulding if the building makes no changes\n",
    "        '''\n",
    "        if building['Total_sqft'] == 0:\n",
    "            return 0\n",
    "\n",
    "        return building['expected_baseline'] / building['Total_sqft']\n",
    "    \n",
    "    def fill_in_expected_baselines(year_low, year_high, input_df, output_df):\n",
    "        '''\n",
    "        input_df: dataframe without any calculations, only building data\n",
    "        output_df: df with OSE ID, building name, total sq ft, sq ft classification, year, and expected baseline for each year in between year_low and year_high\n",
    "        '''\n",
    "        for year in range(year_low, year_high + 1):\n",
    "            temp_df = input_df[['OSEBuildingID', 'BuildingName', 'Total_sqft', 'sq_ft_classification', 'LargestPropertyUseType OSE', 'SecondLargestPropertyUseType OSE', 'ThirdLargestPropertyUseType OSE']]\n",
    "            temp_df['year'] = pd.Series([year]*len(temp_df))\n",
    "            temp_df['expected_baseline'] = input_df.apply(lambda building: self.get_expected_baseline(building, year), axis=1)\n",
    "\n",
    "            output_df = pd.concat([output_df, temp_df])\n",
    "\n",
    "\n",
    "        return output_df\n",
    "    \n",
    "    def get_city_ghgi(building, orig_building_data):\n",
    "        year = building['year']\n",
    "        baseline_ghgi = building['expected_baseline_ghgi']\n",
    "        orig_building_row = self.building_data[self.building_data['OSEBuildingID'] == building['OSEBuildingID']].iloc[0]\n",
    "\n",
    "        first_use_ghgi = self.find_ghgi_standard(timeline, year, orig_building_row['LargestPropertyUseType OSE'], building['sq_ft_classification'])\n",
    "        second_use_ghgi = self.find_ghgi_standard(timeline, year, orig_building_row['SecondLargestPropertyUseType OSE'], building['sq_ft_classification'])\n",
    "        third_use_ghgi = self.find_ghgi_standard(timeline, year, orig_building_row['ThirdLargestPropertyUseType OSE'], building['sq_ft_classification'])\n",
    "\n",
    "        return (orig_building_row['percent_sqft_1st'] * (baseline_ghgi if pd.isna(first_use_ghgi) else first_use_ghgi)) + (orig_building_row['percent_sqft_2nd'] * (baseline_ghgi if pd.isna(second_use_ghgi) else second_use_ghgi)) + (orig_building_row['percent_sqft_3rd'] * (baseline_ghgi if pd.isna(third_use_ghgi) else third_use_ghgi))\n",
    "\n",
    "    def get_compliant_ghgi(building):\n",
    "        '''\n",
    "        Return the lower of: the city's benchmark and the expected emissions for a building\n",
    "        '''\n",
    "        return min(building['expected_baseline_ghgi'], building['city_ghgi_target'])\n",
    "\n",
    "    def get_compliant_emissions(building):\n",
    "        return building['compliant_ghgi'] * building['Total_sqft']\n",
    "\n",
    "    def get_compliance_status(building):\n",
    "        year = building['year']\n",
    "        sqft_class = building['sq_ft_classification']\n",
    "        if pd.isna(self.find_ghgi_standard(year, building['LargestPropertyUseType OSE'], sqft_class)) and pd.isna(find_ghgi_standard(timeline, year, building['SecondLargestPropertyUseType OSE'], sqft_class)) and pd.isna(find_ghgi_standard(timeline, year, building['ThirdLargestPropertyUseType OSE'], sqft_class)): \n",
    "            return 'Not due yet'\n",
    "        elif building['expected_baseline_ghgi'] < building['city_ghgi_target']:\n",
    "            return 'Yes'\n",
    "        else:\n",
    "            return 'No'\n",
    "        \n",
    "    def get_noncompliance_fines(building):\n",
    "        if building['year'] in self.fines_years:\n",
    "            return building['Total_sqft'] * 2.5\n",
    "        else:\n",
    "            return 0\n",
    "    \n",
    "    # bring everything together\n",
    "    def calculate_baseline_model():\n",
    "        "
   ]
  },
  {
   "cell_type": "code",
   "execution_count": null,
   "id": "88236ffa",
   "metadata": {},
   "outputs": [],
   "source": [
    "# helpers to find data\n",
    "\n",
    "def find_ghgi_standard(timeline, year, building_type, sq_ft_class):\n",
    "    if pd.isna(building_type) or building_type == 'nan':\n",
    "        return 0\n",
    "    row = timeline[(timeline['year'] == year) & (timeline['sq_ft_classification'] == sq_ft_class) & (timeline['building_type'] == building_type)] # & (timeline['building_type'] == building_type)\n",
    "    return row.iloc[0]['ghgi']\n",
    "\n",
    "# helpers to calculate columns\n",
    "\n",
    "def get_expected_baseline(building, year):\n",
    "    electric_emissions = building['Electricity(kBtu)'] * energy_emissions.loc[year]['Electricity emission factor (kgCO2e/kBtu)']\n",
    "    steam_emissions = building['Steam(kBtu)'] * energy_emissions.loc[year]['Steam emission factor (kgCO2e/kBtu)']\n",
    "    gas_emissions = building['NaturalGas(kBtu)'] * energy_emissions.loc[year]['Gas emission factor (kgCO2e/kBtu)']\n",
    "    return electric_emissions + steam_emissions + gas_emissions\n",
    "\n",
    "def fill_in_expected_baselines(year_low, year_high, input_df, output_df):\n",
    "    '''\n",
    "    input_df: dataframe without any calculations, only building data\n",
    "    output_df: df with OSE ID, building name, total sq ft, sq ft classification, year, and expected baseline\n",
    "    '''\n",
    "    for year in range(year_low, year_high + 1):\n",
    "        temp_df = input_df[['OSEBuildingID', 'BuildingName', 'Total_sqft', 'sq_ft_classification', 'LargestPropertyUseType OSE', 'SecondLargestPropertyUseType OSE', 'ThirdLargestPropertyUseType OSE']]\n",
    "        temp_df['year'] = pd.Series([year]*len(temp_df))\n",
    "        temp_df['expected_baseline'] = input_df.apply(lambda building: get_expected_baseline(building, year), axis=1)\n",
    "\n",
    "        output_df = pd.concat([output_df, temp_df])\n",
    "\n",
    "    \n",
    "    return output_df\n",
    "\n",
    "def get_expected_baseline_ghgi(building):\n",
    "    if building['Total_sqft'] == 0:\n",
    "        return 0\n",
    "    \n",
    "    return building['expected_baseline'] / building['Total_sqft']\n",
    "\n",
    "def get_city_ghgi(building, timeline, orig_building_data):\n",
    "    year = building['year']\n",
    "    baseline_ghgi = building['expected_baseline_ghgi']\n",
    "    orig_building_row = orig_building_data[orig_building_data['OSEBuildingID'] == building['OSEBuildingID']].iloc[0]\n",
    "    \n",
    "    first_use_ghgi = find_ghgi_standard(timeline, year, orig_building_row['LargestPropertyUseType OSE'], building['sq_ft_classification'])\n",
    "    second_use_ghgi = find_ghgi_standard(timeline, year, orig_building_row['SecondLargestPropertyUseType OSE'], building['sq_ft_classification'])\n",
    "    third_use_ghgi = find_ghgi_standard(timeline, year, orig_building_row['ThirdLargestPropertyUseType OSE'], building['sq_ft_classification'])\n",
    "    \n",
    "    return (orig_building_row['percent_sqft_1st'] * (baseline_ghgi if pd.isna(first_use_ghgi) else first_use_ghgi)) + (orig_building_row['percent_sqft_2nd'] * (baseline_ghgi if pd.isna(second_use_ghgi) else second_use_ghgi)) + (orig_building_row['percent_sqft_3rd'] * (baseline_ghgi if pd.isna(third_use_ghgi) else third_use_ghgi))\n",
    "\n",
    "def get_compliant_ghgi(building):\n",
    "    return min(building['expected_baseline_ghgi'], building['city_ghgi_target'])\n",
    "\n",
    "def get_compliant_emissions(building):\n",
    "    return building['compliant_ghgi'] * building['Total_sqft']\n",
    "\n",
    "def get_compliance_status(building, timeline):\n",
    "    year = building['year']\n",
    "    sqft_class = building['sq_ft_classification']\n",
    "    if pd.isna(find_ghgi_standard(timeline, year, building['LargestPropertyUseType OSE'], sqft_class)) and pd.isna(find_ghgi_standard(timeline, year, building['SecondLargestPropertyUseType OSE'], sqft_class)) and pd.isna(find_ghgi_standard(timeline, year, building['ThirdLargestPropertyUseType OSE'], sqft_class)): \n",
    "        return 'Not due yet'\n",
    "    elif building['expected_baseline_ghgi'] < building['city_ghgi_target']:\n",
    "        return 'Yes'\n",
    "    else:\n",
    "        return 'No'\n",
    "\n",
    "scen_2_fines_years = [2035, 2040, 2045, 2050]\n",
    "def get_noncompliance_fines(building, fines_years):\n",
    "    if building['year'] in fines_years:\n",
    "        return building['Total_sqft'] * 2.5\n",
    "    else:\n",
    "        return 0"
   ]
  },
  {
   "cell_type": "markdown",
   "id": "8e2d0b9f",
   "metadata": {},
   "source": [
    "## Calculate GHGIs and compliance status"
   ]
  },
  {
   "cell_type": "code",
   "execution_count": null,
   "id": "677280ad",
   "metadata": {},
   "outputs": [],
   "source": [
    "base_building_info = pd.DataFrame(columns=['OSEBuildingID', 'BuildingName', 'Total_sqft', 'sq_ft_classification', 'LargestPropertyUseType OSE', 'SecondLargestPropertyUseType OSE', 'ThirdLargestPropertyUseType OSE'])"
   ]
  },
  {
   "cell_type": "code",
   "execution_count": null,
   "id": "d052c488",
   "metadata": {},
   "outputs": [],
   "source": [
    "# scen_2_calcs.to_csv('scen_2_calcs.csv')"
   ]
  },
  {
   "cell_type": "code",
   "execution_count": null,
   "id": "a5aacd86",
   "metadata": {},
   "outputs": [],
   "source": [
    "# scen_2_calcs = pd.read_csv('scen_2_calcs.csv')"
   ]
  },
  {
   "cell_type": "code",
   "execution_count": null,
   "id": "3525ce1b",
   "metadata": {},
   "outputs": [],
   "source": [
    "scen_2_timeline['building_type']= scen_2_timeline['building_type'].replace(regex=r'Multifamily Housing[0-9]', value='Multifamily Housing')"
   ]
  },
  {
   "cell_type": "code",
   "execution_count": null,
   "id": "dd317a69",
   "metadata": {},
   "outputs": [],
   "source": [
    "for col in ['LargestPropertyUseType OSE', 'SecondLargestPropertyUseType OSE', 'ThirdLargestPropertyUseType OSE']:\n",
    "    scen_2_calcs[col] = building_data[col].replace(regex=r'Multifamily Housing[0-9]', value='Multifamily Housing')"
   ]
  },
  {
   "cell_type": "code",
   "execution_count": null,
   "id": "14fdea33",
   "metadata": {},
   "outputs": [],
   "source": [
    "scen_2_calcs['SecondLargestPropertyUseType OSE'].unique()"
   ]
  },
  {
   "cell_type": "code",
   "execution_count": null,
   "id": "fd721495",
   "metadata": {},
   "outputs": [],
   "source": [
    "def get_scen_calcs(orig_building_data, timeline, start_year, end_year):\n",
    "    base_building_info = pd.DataFrame(columns=['OSEBuildingID', 'BuildingName', 'Total_sqft', 'sq_ft_classification'])\n",
    "    scen_calcs = fill_in_expected_baselines(start_year, end_year, orig_building_data, base_building_info)\n",
    "    \n",
    "    scen_calcs['expected_baseline_ghgi'] = scen_calcs.apply(lambda building: get_expected_baseline_ghgi(building), axis=1)\n",
    "    \n",
    "    scen_calcs['city_ghgi_target'] = scen_calcs.apply(lambda building: get_city_ghgi(building, timeline, orig_building_data), axis=1)\n",
    "    \n",
    "    return scen_calcs"
   ]
  },
  {
   "cell_type": "code",
   "execution_count": null,
   "id": "7eb7e31f",
   "metadata": {},
   "outputs": [],
   "source": [
    "energy_emissions.set_index('Year', inplace=True)\n",
    "scen_2_calcs = fill_in_expected_baselines(2027, 2050, building_data, base_building_info)"
   ]
  },
  {
   "cell_type": "code",
   "execution_count": null,
   "id": "75f6fe48",
   "metadata": {},
   "outputs": [],
   "source": [
    "scen_2_calcs['expected_baseline_ghgi'] = scen_2_calcs.apply(lambda building: get_expected_baseline_ghgi(building), axis=1)"
   ]
  },
  {
   "cell_type": "code",
   "execution_count": null,
   "id": "0362887a",
   "metadata": {},
   "outputs": [],
   "source": [
    "scen_2_calcs['city_ghgi_target'] = scen_2_calcs.apply(lambda building: get_city_ghgi(building, scen_2_timeline, building_data), axis=1)"
   ]
  },
  {
   "cell_type": "code",
   "execution_count": null,
   "id": "40fba3ba",
   "metadata": {},
   "outputs": [],
   "source": [
    "scen_2_calcs.head()"
   ]
  },
  {
   "cell_type": "code",
   "execution_count": null,
   "id": "148a2ff8",
   "metadata": {},
   "outputs": [],
   "source": [
    "scen_2_timeline['building_type']= scen_2_timeline['building_type'].replace(regex=r'Multifamily Housing[0-9]', value='Multifamily Housing')"
   ]
  },
  {
   "cell_type": "code",
   "execution_count": null,
   "id": "731e692f",
   "metadata": {},
   "outputs": [],
   "source": [
    "scen_2_calcs['LargestPropertyUseType OSE'].unique()"
   ]
  },
  {
   "cell_type": "code",
   "execution_count": null,
   "id": "3c017464",
   "metadata": {},
   "outputs": [],
   "source": [
    "scen_2_calcs.head()"
   ]
  },
  {
   "cell_type": "code",
   "execution_count": null,
   "id": "84b0de8b",
   "metadata": {},
   "outputs": [],
   "source": [
    "scen_2_calcs['city_ghgi_target'] = scen_2_calcs.apply(lambda building: get_city_ghgi(building, scen_2_timeline, building_data), axis=1)"
   ]
  },
  {
   "cell_type": "code",
   "execution_count": null,
   "id": "0201dda6",
   "metadata": {},
   "outputs": [],
   "source": [
    "scen_2_calcs.head()"
   ]
  },
  {
   "cell_type": "code",
   "execution_count": null,
   "id": "13133ca5",
   "metadata": {},
   "outputs": [],
   "source": [
    "scen_2_calcs.columns"
   ]
  },
  {
   "cell_type": "code",
   "execution_count": null,
   "id": "067dfb5e",
   "metadata": {},
   "outputs": [],
   "source": [
    "scen_2_calcs['compliant_ghgi'] = scen_2_calcs.apply(lambda building: get_compliant_ghgi(building), axis=1)"
   ]
  },
  {
   "cell_type": "code",
   "execution_count": null,
   "id": "8199af71",
   "metadata": {},
   "outputs": [],
   "source": [
    "scen_2_calcs[100:120]"
   ]
  },
  {
   "cell_type": "code",
   "execution_count": null,
   "id": "8765324f",
   "metadata": {},
   "outputs": [],
   "source": [
    "scen_2_calcs['compliant_emissions'] = scen_2_calcs.apply(lambda building: get_compliant_emissions(building), axis=1)"
   ]
  },
  {
   "cell_type": "code",
   "execution_count": null,
   "id": "23be1a61",
   "metadata": {},
   "outputs": [],
   "source": [
    "scen_2_calcs['compliance_status'] = scen_2_calcs.apply(lambda building: get_compliance_status(building, scen_2_timeline), axis=1)"
   ]
  },
  {
   "cell_type": "code",
   "execution_count": null,
   "id": "5fbdd0dc",
   "metadata": {},
   "outputs": [],
   "source": [
    "scen_2_fines_years = [2035, 2040, 2045, 2050]\n",
    "\n",
    "scen_2_calcs['compliance_fees'] = scen_2_calcs.apply(lambda building: get_noncompliance_fines(building, scen_2_fines_years), axis=1)"
   ]
  },
  {
   "cell_type": "code",
   "execution_count": null,
   "id": "8752d89d",
   "metadata": {},
   "outputs": [],
   "source": [
    "scen_2_calcs.to_csv('scen_2_calcs.csv')"
   ]
  },
  {
   "cell_type": "code",
   "execution_count": null,
   "id": "3ad14448",
   "metadata": {},
   "outputs": [],
   "source": [
    "next:\n",
    "    - run model for scenario 2, then scenario 1\n",
    "    - alternate compliance options"
   ]
  },
  {
   "cell_type": "markdown",
   "id": "4af189da",
   "metadata": {},
   "source": [
    "## Scenario 1 (Jan.)"
   ]
  },
  {
   "cell_type": "code",
   "execution_count": null,
   "id": "04bac6b6",
   "metadata": {},
   "outputs": [],
   "source": [
    "scen_1_timeline = pd.read_csv('../data/input_data/scen_1_reformatted.csv')"
   ]
  },
  {
   "cell_type": "code",
   "execution_count": null,
   "id": "469de9f0",
   "metadata": {},
   "outputs": [],
   "source": [
    "scen_1_timeline['building_type'] = scen_1_timeline['building_type'].replace(r'Multifamily Housing[0-9]')"
   ]
  },
  {
   "cell_type": "code",
   "execution_count": null,
   "id": "9fe29e87",
   "metadata": {},
   "outputs": [],
   "source": [
    "scen_1_calcs = get_scen_calcs(building_data, scen_1_timeline, 2027, 2050)"
   ]
  },
  {
   "cell_type": "code",
   "execution_count": null,
   "id": "d91207dd",
   "metadata": {},
   "outputs": [],
   "source": [
    "scen_1_calcs.head()"
   ]
  },
  {
   "cell_type": "code",
   "execution_count": null,
   "id": "f45308d5",
   "metadata": {},
   "outputs": [],
   "source": [
    "scen_1_calcs['compliant_ghgi'] = scen_1_calcs.apply(lambda building: get_compliant_ghgi(building), axis=1)"
   ]
  },
  {
   "cell_type": "code",
   "execution_count": null,
   "id": "3a52d657",
   "metadata": {},
   "outputs": [],
   "source": [
    "scen_1_calcs['compliant_emissions'] = scen_1_calcs.apply(lambda building: get_compliant_emissions(building), axis=1)"
   ]
  },
  {
   "cell_type": "code",
   "execution_count": null,
   "id": "4495316f",
   "metadata": {},
   "outputs": [],
   "source": [
    "scen_1_calcs['compliance_status'] = scen_1_calcs.apply(lambda building: get_compliance_status(building, scen_1_timeline), axis=1)"
   ]
  },
  {
   "cell_type": "code",
   "execution_count": null,
   "id": "dd34a679",
   "metadata": {},
   "outputs": [],
   "source": [
    "scen_1_fines_years = [2030, 2035, 2040, 2045, 2050]\n",
    "scen_1_calcs['compliance_fees'] = scen_1_calcs.apply(lambda building: get_noncompliance_fines(building, scen_1_fines_years), axis=1)"
   ]
  },
  {
   "cell_type": "code",
   "execution_count": null,
   "id": "62b11f62",
   "metadata": {},
   "outputs": [],
   "source": [
    "scen_1_calcs.to_csv('scen_1_calcs.csv')"
   ]
  },
  {
   "cell_type": "code",
   "execution_count": null,
   "id": "2cb8e67f",
   "metadata": {},
   "outputs": [],
   "source": [
    "## Summary stats"
   ]
  },
  {
   "cell_type": "code",
   "execution_count": null,
   "id": "142a1711",
   "metadata": {},
   "outputs": [],
   "source": [
    "def get_total_emissions(df):\n",
    "    \n",
    "    # 2026 is just predicted baseline for 2027\n",
    "    #emissions_2026 = df[df['year'] == 2027]['expected_baseline_ghgi'].sum()\n",
    "    \n",
    "    grouped = df[df['sq_ft_classification'] != 'F'].groupby('year')['compliant_emissions'].sum()\n",
    "    grouped = grouped.to_frame()\n",
    "    \n",
    "    #grouped.loc[2026] = df[df['year'] == 2027]['expected_baseline_ghgi'].sum()\n",
    "    \n",
    "    return grouped"
   ]
  },
  {
   "cell_type": "code",
   "execution_count": null,
   "id": "a2dfd348",
   "metadata": {},
   "outputs": [],
   "source": [
    "scen_1_emissions = get_total_emissions(scen_1_calcs)\n",
    "\n",
    "scen_1_emissions.to_csv('scen_1_emissions.csv')"
   ]
  },
  {
   "cell_type": "code",
   "execution_count": null,
   "id": "ff76207a",
   "metadata": {},
   "outputs": [],
   "source": [
    "scen_1_emissions"
   ]
  },
  {
   "cell_type": "code",
   "execution_count": null,
   "id": "dc891fc4",
   "metadata": {},
   "outputs": [],
   "source": [
    "scen_2_emissions = get_total_emissions(scen_2_calcs)\n",
    "\n",
    "scen_2_emissions.to_csv('scen_2_emissions.csv')"
   ]
  },
  {
   "cell_type": "code",
   "execution_count": null,
   "id": "df80e0a1",
   "metadata": {},
   "outputs": [],
   "source": [
    "building_data.to_csv('building_data_clean.csv')"
   ]
  }
 ],
 "metadata": {
  "kernelspec": {
   "display_name": "Python 3 (ipykernel)",
   "language": "python",
   "name": "python3"
  },
  "language_info": {
   "codemirror_mode": {
    "name": "ipython",
    "version": 3
   },
   "file_extension": ".py",
   "mimetype": "text/x-python",
   "name": "python",
   "nbconvert_exporter": "python",
   "pygments_lexer": "ipython3",
   "version": "3.11.3"
  }
 },
 "nbformat": 4,
 "nbformat_minor": 5
}
