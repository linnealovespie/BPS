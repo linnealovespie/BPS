{
 "cells": [
  {
   "attachments": {},
   "cell_type": "markdown",
   "metadata": {},
   "source": [
    "# Automate Potential Matches\n",
    "A lot of the time, CCFS database won't come back with an exact match from our search result. Results may instead vary simply by punctuation, which can still be easily automated to safe time with human verification. "
   ]
  },
  {
   "cell_type": "code",
   "execution_count": 20,
   "metadata": {},
   "outputs": [],
   "source": [
    "import pandas as pd\n",
    "import numpy as np\n",
    "import requests\n",
    "import json\n",
    "import os\n",
    "import re\n",
    "import geopandas as gp\n",
    "import urllib.parse"
   ]
  },
  {
   "cell_type": "code",
   "execution_count": 21,
   "metadata": {},
   "outputs": [],
   "source": [
    "df = pd.read_csv(\"non-downtown buildings\\potential_matches_5.csv\", index_col=[0])"
   ]
  },
  {
   "cell_type": "code",
   "execution_count": 22,
   "metadata": {},
   "outputs": [
    {
     "data": {
      "text/html": [
       "<div>\n",
       "<style scoped>\n",
       "    .dataframe tbody tr th:only-of-type {\n",
       "        vertical-align: middle;\n",
       "    }\n",
       "\n",
       "    .dataframe tbody tr th {\n",
       "        vertical-align: top;\n",
       "    }\n",
       "\n",
       "    .dataframe thead th {\n",
       "        text-align: right;\n",
       "    }\n",
       "</style>\n",
       "<table border=\"1\" class=\"dataframe\">\n",
       "  <thead>\n",
       "    <tr style=\"text-align: right;\">\n",
       "      <th></th>\n",
       "      <th>SearchTerm</th>\n",
       "      <th>BusinessName</th>\n",
       "      <th>UBINumber</th>\n",
       "      <th>BusinessId</th>\n",
       "      <th>Address</th>\n",
       "      <th>Status</th>\n",
       "      <th>address_match</th>\n",
       "      <th>ubi_match</th>\n",
       "      <th>id_match</th>\n",
       "    </tr>\n",
       "  </thead>\n",
       "  <tbody>\n",
       "    <tr>\n",
       "      <th>0</th>\n",
       "      <td>FTW LLC</td>\n",
       "      <td>-LDL- SOFTWARE, INC.</td>\n",
       "      <td>601 763 820</td>\n",
       "      <td>1425</td>\n",
       "      <td>5129 NE 4TH CT, RENTON, WA, 98059-4566, UNITED...</td>\n",
       "      <td>Active</td>\n",
       "      <td>False</td>\n",
       "      <td>False</td>\n",
       "      <td>False</td>\n",
       "    </tr>\n",
       "    <tr>\n",
       "      <th>1</th>\n",
       "      <td>FTW LLC</td>\n",
       "      <td>18009 DRIFTWOOD, LLC</td>\n",
       "      <td>604 534 883</td>\n",
       "      <td>1323128</td>\n",
       "      <td>16816 24TH STREET CT E, LAKE TAPPS, WA, 98391-...</td>\n",
       "      <td>Active</td>\n",
       "      <td>False</td>\n",
       "      <td>False</td>\n",
       "      <td>False</td>\n",
       "    </tr>\n",
       "    <tr>\n",
       "      <th>2</th>\n",
       "      <td>FTW LLC</td>\n",
       "      <td>1915 SOFTWARE, LLC</td>\n",
       "      <td>603 566 774</td>\n",
       "      <td>62799</td>\n",
       "      <td>811 1ST AVE #480, SEATTLE, WA, 98104, UNITED S...</td>\n",
       "      <td>Administratively Dissolved</td>\n",
       "      <td>False</td>\n",
       "      <td>False</td>\n",
       "      <td>False</td>\n",
       "    </tr>\n",
       "    <tr>\n",
       "      <th>3</th>\n",
       "      <td>FTW LLC</td>\n",
       "      <td>205 SOFTWARE LLC</td>\n",
       "      <td>604 536 699</td>\n",
       "      <td>1326449</td>\n",
       "      <td>9602 NE 63RD ST, VANCOUVER, WA, 98662, UNITED ...</td>\n",
       "      <td>Active</td>\n",
       "      <td>False</td>\n",
       "      <td>False</td>\n",
       "      <td>False</td>\n",
       "    </tr>\n",
       "    <tr>\n",
       "      <th>4</th>\n",
       "      <td>FTW LLC</td>\n",
       "      <td>21ST CENTURY SOFTWARE TECHNOLOGIES, INC.</td>\n",
       "      <td>603 153 248</td>\n",
       "      <td>6769</td>\n",
       "      <td>9623 173RD PL NE, REDMOND, WA, 98052, UNITED S...</td>\n",
       "      <td>Terminated</td>\n",
       "      <td>False</td>\n",
       "      <td>False</td>\n",
       "      <td>False</td>\n",
       "    </tr>\n",
       "  </tbody>\n",
       "</table>\n",
       "</div>"
      ],
      "text/plain": [
       "  SearchTerm                              BusinessName    UBINumber  \\\n",
       "0    FTW LLC                      -LDL- SOFTWARE, INC.  601 763 820   \n",
       "1    FTW LLC                      18009 DRIFTWOOD, LLC  604 534 883   \n",
       "2    FTW LLC                        1915 SOFTWARE, LLC  603 566 774   \n",
       "3    FTW LLC                          205 SOFTWARE LLC  604 536 699   \n",
       "4    FTW LLC  21ST CENTURY SOFTWARE TECHNOLOGIES, INC.  603 153 248   \n",
       "\n",
       "   BusinessId                                            Address  \\\n",
       "0        1425  5129 NE 4TH CT, RENTON, WA, 98059-4566, UNITED...   \n",
       "1     1323128  16816 24TH STREET CT E, LAKE TAPPS, WA, 98391-...   \n",
       "2       62799  811 1ST AVE #480, SEATTLE, WA, 98104, UNITED S...   \n",
       "3     1326449  9602 NE 63RD ST, VANCOUVER, WA, 98662, UNITED ...   \n",
       "4        6769  9623 173RD PL NE, REDMOND, WA, 98052, UNITED S...   \n",
       "\n",
       "                       Status  address_match  ubi_match  id_match  \n",
       "0                      Active          False      False     False  \n",
       "1                      Active          False      False     False  \n",
       "2  Administratively Dissolved          False      False     False  \n",
       "3                      Active          False      False     False  \n",
       "4                  Terminated          False      False     False  "
      ]
     },
     "execution_count": 22,
     "metadata": {},
     "output_type": "execute_result"
    }
   ],
   "source": [
    "df.head()"
   ]
  },
  {
   "cell_type": "code",
   "execution_count": 23,
   "metadata": {},
   "outputs": [],
   "source": [
    "# standardize SearchTerm and BusinessName to see if they are matching\n",
    "def standardize_result(row):\n",
    "    # examples: LLC, LLP, L L C, L.L.C., L.L.C. L.L.P., L.L.P, LLC.\n",
    "    # Limited Partnership, Limited liability company\n",
    "    # Comma before any of the above\n",
    "    # Just map all the results to be standardized to this name, then drop duplicates based on name? \n",
    "    p = re.compile(\"L[\\s.]?L[\\s,.]?[PC][.]\" ,flags=re.IGNORECASE)\n",
    "\n",
    "    row['BusinessName']=row[\"BusinessName\"].replace(\",\", \"\")\n",
    "    row['BusinessName']= re.sub(p, \"LLC\", row['BusinessName'])\n",
    "    row['BusinessName']=row[\"BusinessName\"].replace(\"LIMITED LIABILITY COMPANY\", \"LLC\") \n",
    "    row['BusinessName']=row[\"BusinessName\"].replace(\"LIMITED PARTNERSHIP\", \"LLC\") \n",
    "\n",
    "    # Do the same for the search term, so that we have more exact matches\n",
    "    # row[\"SearchTerm\"]=row[\"SearchTerm\"].replace(\",\", \"\")\n",
    "    # row[\"SearchTerm\"]=re.sub(p, \"LLC\", row[\"SearchTerm\"])\n",
    "    # row[\"SearchTerm\"]=row[\"SearchTerm\"].replace(\"LIMITED PARTNERSHIP\", \"LLC\") \n",
    "    # row[\"SearchTerm\"]=row[\"SearchTerm\"].replace(\"LIMITED LIABILITY COMPANY\", \"LLC\") \n",
    "    \n",
    "    return row"
   ]
  },
  {
   "cell_type": "code",
   "execution_count": 24,
   "metadata": {},
   "outputs": [],
   "source": [
    "df = df.apply(lambda row: standardize_result(row), axis=1)"
   ]
  },
  {
   "cell_type": "code",
   "execution_count": 25,
   "metadata": {},
   "outputs": [
    {
     "name": "stdout",
     "output_type": "stream",
     "text": [
      "Matches with regex:  56\n",
      "Total unique search terms:  95\n"
     ]
    }
   ],
   "source": [
    "df.loc[df['SearchTerm']==df['BusinessName'], 'isMatch']=1\n",
    "print(\"Matches with regex: \", len(df[df['SearchTerm']==df['BusinessName']]))\n",
    "print(\"Total unique search terms: \", len(df['SearchTerm'].unique()))"
   ]
  },
  {
   "cell_type": "code",
   "execution_count": 26,
   "metadata": {},
   "outputs": [],
   "source": [
    "matched_values = df[df['SearchTerm']==df['BusinessName']]['SearchTerm'].values\n"
   ]
  },
  {
   "cell_type": "code",
   "execution_count": 27,
   "metadata": {},
   "outputs": [],
   "source": [
    "df_pot_remains = df[~df['SearchTerm'].isin(matched_values)]"
   ]
  },
  {
   "cell_type": "code",
   "execution_count": 28,
   "metadata": {},
   "outputs": [
    {
     "data": {
      "text/plain": [
       "56"
      ]
     },
     "execution_count": 28,
     "metadata": {},
     "output_type": "execute_result"
    }
   ],
   "source": [
    "len(df[df['isMatch']==1])"
   ]
  },
  {
   "cell_type": "code",
   "execution_count": 29,
   "metadata": {},
   "outputs": [
    {
     "name": "stdout",
     "output_type": "stream",
     "text": [
      "Extracting standardized from potential_matches_5\n",
      "Matches with regex:  56\n",
      "Total unique search terms:  95\n",
      "56\n",
      "Extracting standardized from potential_matches_6\n",
      "Matches with regex:  48\n",
      "Total unique search terms:  101\n",
      "104\n",
      "Extracting standardized from potential_matches_7\n",
      "Matches with regex:  41\n",
      "Total unique search terms:  83\n",
      "145\n",
      "Extracting standardized from potential_matches_8\n"
     ]
    },
    {
     "name": "stderr",
     "output_type": "stream",
     "text": [
      "C:\\Users\\linne\\AppData\\Local\\Temp\\ipykernel_30636\\2533079164.py:11: FutureWarning: In a future version, object-dtype columns with all-bool values will not be included in reductions with bool_only=True. Explicitly cast to bool dtype instead.\n",
      "  df_extracted_exact = pd.concat([df_extracted_exact, df_pot[df_pot['isMatch']==1]])\n",
      "C:\\Users\\linne\\AppData\\Local\\Temp\\ipykernel_30636\\2533079164.py:11: FutureWarning: In a future version, object-dtype columns with all-bool values will not be included in reductions with bool_only=True. Explicitly cast to bool dtype instead.\n",
      "  df_extracted_exact = pd.concat([df_extracted_exact, df_pot[df_pot['isMatch']==1]])\n"
     ]
    },
    {
     "name": "stdout",
     "output_type": "stream",
     "text": [
      "Matches with regex:  66\n",
      "Total unique search terms:  109\n",
      "211\n",
      "Extracting standardized from potential_matches_9\n"
     ]
    },
    {
     "name": "stderr",
     "output_type": "stream",
     "text": [
      "C:\\Users\\linne\\AppData\\Local\\Temp\\ipykernel_30636\\2533079164.py:11: FutureWarning: In a future version, object-dtype columns with all-bool values will not be included in reductions with bool_only=True. Explicitly cast to bool dtype instead.\n",
      "  df_extracted_exact = pd.concat([df_extracted_exact, df_pot[df_pot['isMatch']==1]])\n"
     ]
    },
    {
     "name": "stdout",
     "output_type": "stream",
     "text": [
      "Matches with regex:  60\n",
      "Total unique search terms:  106\n",
      "271\n"
     ]
    },
    {
     "name": "stderr",
     "output_type": "stream",
     "text": [
      "C:\\Users\\linne\\AppData\\Local\\Temp\\ipykernel_30636\\2533079164.py:11: FutureWarning: In a future version, object-dtype columns with all-bool values will not be included in reductions with bool_only=True. Explicitly cast to bool dtype instead.\n",
      "  df_extracted_exact = pd.concat([df_extracted_exact, df_pot[df_pot['isMatch']==1]])\n"
     ]
    }
   ],
   "source": [
    "df_extracted_exact = pd.DataFrame([], columns=df.columns)\n",
    "for i in range(5,10):\n",
    "    print(f\"Extracting standardized from potential_matches_{i}\")\n",
    "    df_pot = pd.read_csv(f\"non-downtown buildings\\potential_matches_{i}.csv\", index_col=[0])\n",
    "    df_pot = df_pot.apply(lambda row: standardize_result(row), axis=1)\n",
    "    df_pot.loc[df_pot['SearchTerm']==df_pot['BusinessName'], 'isMatch']=1\n",
    "\n",
    "    print(\"Matches with regex: \", len(df_pot[df_pot['SearchTerm']==df_pot['BusinessName']]))\n",
    "    print(\"Total unique search terms: \", len(df_pot['SearchTerm'].unique()))    \n",
    "\n",
    "    df_extracted_exact = pd.concat([df_extracted_exact, df_pot[df_pot['isMatch']==1]])\n",
    "    print(len(df_extracted_exact))\n",
    "\n",
    "    df_pot_remains = df_pot[~df_pot['SearchTerm'].isin(matched_values)]\n",
    "    df_pot_remains.to_csv(f\"non-downtown buildings\\potential_matches_{i}_reduced.csv\", index=False)"
   ]
  },
  {
   "cell_type": "code",
   "execution_count": 30,
   "metadata": {},
   "outputs": [
    {
     "name": "stdout",
     "output_type": "stream",
     "text": [
      "271\n"
     ]
    }
   ],
   "source": [
    "print(len(df_extracted_exact))\n",
    "df_extracted_exact.to_csv(\"non-downtown buildings/exact_matches_10.csv\", index=False)"
   ]
  },
  {
   "cell_type": "code",
   "execution_count": null,
   "metadata": {},
   "outputs": [],
   "source": []
  }
 ],
 "metadata": {
  "kernelspec": {
   "display_name": "bps",
   "language": "python",
   "name": "python3"
  },
  "language_info": {
   "codemirror_mode": {
    "name": "ipython",
    "version": 3
   },
   "file_extension": ".py",
   "mimetype": "text/x-python",
   "name": "python",
   "nbconvert_exporter": "python",
   "pygments_lexer": "ipython3",
   "version": "3.11.2"
  },
  "orig_nbformat": 4
 },
 "nbformat": 4,
 "nbformat_minor": 2
}
