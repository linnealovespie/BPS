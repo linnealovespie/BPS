{
 "cells": [
  {
   "attachments": {},
   "cell_type": "markdown",
   "metadata": {},
   "source": [
    "# Automate Potential Matches\n",
    "A lot of the time, CCFS database won't come back with an exact match from our search result. Results may instead vary simply by punctuation, which can still be easily automated to safe time with human verification.\n",
    "\n",
    "NOTE: In `LookupCompaniesHelper` in `owners.py`, extracting exact matches with regex patterns has been added to the process. This notebook was used on old versions of potential_matches_* that didn't extract exact matches with regex matching. In the future, you can just use the helper functions and not worry about doing this by hand. "
   ]
  },
  {
   "cell_type": "code",
   "execution_count": 37,
   "metadata": {},
   "outputs": [],
   "source": [
    "import pandas as pd\n",
    "import numpy as np\n",
    "import requests\n",
    "import json\n",
    "import os\n",
    "import re\n",
    "import geopandas as gp\n",
    "import urllib.parse"
   ]
  },
  {
   "cell_type": "code",
   "execution_count": 38,
   "metadata": {},
   "outputs": [],
   "source": [
    "df = pd.read_csv(\"non-downtown buildings\\potential_matches_5.csv\", index_col=[0]).reset_index()"
   ]
  },
  {
   "cell_type": "code",
   "execution_count": 39,
   "metadata": {},
   "outputs": [
    {
     "data": {
      "text/html": [
       "<div>\n",
       "<style scoped>\n",
       "    .dataframe tbody tr th:only-of-type {\n",
       "        vertical-align: middle;\n",
       "    }\n",
       "\n",
       "    .dataframe tbody tr th {\n",
       "        vertical-align: top;\n",
       "    }\n",
       "\n",
       "    .dataframe thead th {\n",
       "        text-align: right;\n",
       "    }\n",
       "</style>\n",
       "<table border=\"1\" class=\"dataframe\">\n",
       "  <thead>\n",
       "    <tr style=\"text-align: right;\">\n",
       "      <th></th>\n",
       "      <th>index</th>\n",
       "      <th>SearchTerm</th>\n",
       "      <th>BusinessName</th>\n",
       "      <th>UBINumber</th>\n",
       "      <th>BusinessId</th>\n",
       "      <th>Address</th>\n",
       "      <th>Status</th>\n",
       "      <th>address_match</th>\n",
       "      <th>ubi_match</th>\n",
       "      <th>id_match</th>\n",
       "    </tr>\n",
       "  </thead>\n",
       "  <tbody>\n",
       "    <tr>\n",
       "      <th>0</th>\n",
       "      <td>0</td>\n",
       "      <td>FTW LLC</td>\n",
       "      <td>-LDL- SOFTWARE, INC.</td>\n",
       "      <td>601 763 820</td>\n",
       "      <td>1425</td>\n",
       "      <td>5129 NE 4TH CT, RENTON, WA, 98059-4566, UNITED...</td>\n",
       "      <td>Active</td>\n",
       "      <td>False</td>\n",
       "      <td>False</td>\n",
       "      <td>False</td>\n",
       "    </tr>\n",
       "    <tr>\n",
       "      <th>1</th>\n",
       "      <td>1</td>\n",
       "      <td>FTW LLC</td>\n",
       "      <td>18009 DRIFTWOOD, LLC</td>\n",
       "      <td>604 534 883</td>\n",
       "      <td>1323128</td>\n",
       "      <td>16816 24TH STREET CT E, LAKE TAPPS, WA, 98391-...</td>\n",
       "      <td>Active</td>\n",
       "      <td>False</td>\n",
       "      <td>False</td>\n",
       "      <td>False</td>\n",
       "    </tr>\n",
       "    <tr>\n",
       "      <th>2</th>\n",
       "      <td>2</td>\n",
       "      <td>FTW LLC</td>\n",
       "      <td>1915 SOFTWARE, LLC</td>\n",
       "      <td>603 566 774</td>\n",
       "      <td>62799</td>\n",
       "      <td>811 1ST AVE #480, SEATTLE, WA, 98104, UNITED S...</td>\n",
       "      <td>Administratively Dissolved</td>\n",
       "      <td>False</td>\n",
       "      <td>False</td>\n",
       "      <td>False</td>\n",
       "    </tr>\n",
       "    <tr>\n",
       "      <th>3</th>\n",
       "      <td>3</td>\n",
       "      <td>FTW LLC</td>\n",
       "      <td>205 SOFTWARE LLC</td>\n",
       "      <td>604 536 699</td>\n",
       "      <td>1326449</td>\n",
       "      <td>9602 NE 63RD ST, VANCOUVER, WA, 98662, UNITED ...</td>\n",
       "      <td>Active</td>\n",
       "      <td>False</td>\n",
       "      <td>False</td>\n",
       "      <td>False</td>\n",
       "    </tr>\n",
       "    <tr>\n",
       "      <th>4</th>\n",
       "      <td>4</td>\n",
       "      <td>FTW LLC</td>\n",
       "      <td>21ST CENTURY SOFTWARE TECHNOLOGIES, INC.</td>\n",
       "      <td>603 153 248</td>\n",
       "      <td>6769</td>\n",
       "      <td>9623 173RD PL NE, REDMOND, WA, 98052, UNITED S...</td>\n",
       "      <td>Terminated</td>\n",
       "      <td>False</td>\n",
       "      <td>False</td>\n",
       "      <td>False</td>\n",
       "    </tr>\n",
       "  </tbody>\n",
       "</table>\n",
       "</div>"
      ],
      "text/plain": [
       "   index SearchTerm                              BusinessName    UBINumber  \\\n",
       "0      0    FTW LLC                      -LDL- SOFTWARE, INC.  601 763 820   \n",
       "1      1    FTW LLC                      18009 DRIFTWOOD, LLC  604 534 883   \n",
       "2      2    FTW LLC                        1915 SOFTWARE, LLC  603 566 774   \n",
       "3      3    FTW LLC                          205 SOFTWARE LLC  604 536 699   \n",
       "4      4    FTW LLC  21ST CENTURY SOFTWARE TECHNOLOGIES, INC.  603 153 248   \n",
       "\n",
       "   BusinessId                                            Address  \\\n",
       "0        1425  5129 NE 4TH CT, RENTON, WA, 98059-4566, UNITED...   \n",
       "1     1323128  16816 24TH STREET CT E, LAKE TAPPS, WA, 98391-...   \n",
       "2       62799  811 1ST AVE #480, SEATTLE, WA, 98104, UNITED S...   \n",
       "3     1326449  9602 NE 63RD ST, VANCOUVER, WA, 98662, UNITED ...   \n",
       "4        6769  9623 173RD PL NE, REDMOND, WA, 98052, UNITED S...   \n",
       "\n",
       "                       Status  address_match  ubi_match  id_match  \n",
       "0                      Active          False      False     False  \n",
       "1                      Active          False      False     False  \n",
       "2  Administratively Dissolved          False      False     False  \n",
       "3                      Active          False      False     False  \n",
       "4                  Terminated          False      False     False  "
      ]
     },
     "execution_count": 39,
     "metadata": {},
     "output_type": "execute_result"
    }
   ],
   "source": [
    "df.head()"
   ]
  },
  {
   "cell_type": "code",
   "execution_count": 40,
   "metadata": {},
   "outputs": [],
   "source": [
    "# standardize SearchTerm and BusinessName to see if they are matching\n",
    "def is_exact_match(row):\n",
    "    search = row[\"SearchTerm\"]\n",
    "    result = row[\"BusinessName\"]\n",
    "\n",
    "    p = re.compile(\"L[\\s.]?L[\\s,.]?[PC][.]\" ,flags=re.IGNORECASE)\n",
    "    result=result.replace(\",\", \"\")\n",
    "    result= re.sub(p, \"LLC\", result)\n",
    "    result=result.replace(\"LIMITED LIABILITY COMPANY\", \"LLC\") \n",
    "    result=result.replace(\"LIMITED PARTNERSHIP\", \"LLC\") \n",
    "\n",
    "    # Do the same for the search term, so that we have more exact matches\n",
    "    search=search.replace(\",\", \"\")\n",
    "    search=re.sub(p, \"LLC\", search)\n",
    "    search=search.replace(\"LIMITED PARTNERSHIP\", \"LLC\") \n",
    "    search=search.replace(\"LIMITED LIABILITY COMPANY\", \"LLC\")\n",
    "    return search == result"
   ]
  },
  {
   "cell_type": "code",
   "execution_count": 41,
   "metadata": {},
   "outputs": [],
   "source": [
    "df_exact = df[df.apply(lambda row: is_exact_match(row), axis=1)]"
   ]
  },
  {
   "cell_type": "code",
   "execution_count": 42,
   "metadata": {},
   "outputs": [
    {
     "data": {
      "text/html": [
       "<div>\n",
       "<style scoped>\n",
       "    .dataframe tbody tr th:only-of-type {\n",
       "        vertical-align: middle;\n",
       "    }\n",
       "\n",
       "    .dataframe tbody tr th {\n",
       "        vertical-align: top;\n",
       "    }\n",
       "\n",
       "    .dataframe thead th {\n",
       "        text-align: right;\n",
       "    }\n",
       "</style>\n",
       "<table border=\"1\" class=\"dataframe\">\n",
       "  <thead>\n",
       "    <tr style=\"text-align: right;\">\n",
       "      <th></th>\n",
       "      <th>index</th>\n",
       "      <th>SearchTerm</th>\n",
       "      <th>BusinessName</th>\n",
       "      <th>UBINumber</th>\n",
       "      <th>BusinessId</th>\n",
       "      <th>Address</th>\n",
       "      <th>Status</th>\n",
       "      <th>address_match</th>\n",
       "      <th>ubi_match</th>\n",
       "      <th>id_match</th>\n",
       "    </tr>\n",
       "  </thead>\n",
       "  <tbody>\n",
       "    <tr>\n",
       "      <th>966</th>\n",
       "      <td>966</td>\n",
       "      <td>FTW LLC</td>\n",
       "      <td>FTW, LLC</td>\n",
       "      <td>602 088 226</td>\n",
       "      <td>128023</td>\n",
       "      <td>1037 NE 65TH ST # 339, SEATTLE, WA, 98115-6655...</td>\n",
       "      <td>Active</td>\n",
       "      <td>False</td>\n",
       "      <td>False</td>\n",
       "      <td>False</td>\n",
       "    </tr>\n",
       "    <tr>\n",
       "      <th>2806</th>\n",
       "      <td>2806</td>\n",
       "      <td>QUAIL PARK OF WEST SEATTLE LLC</td>\n",
       "      <td>QUAIL PARK OF WEST SEATTLE, LLC</td>\n",
       "      <td>603 348 245</td>\n",
       "      <td>952757</td>\n",
       "      <td>146 N CANAL ST STE 350, SEATTLE, WA, 98103, UN...</td>\n",
       "      <td>Active</td>\n",
       "      <td>False</td>\n",
       "      <td>False</td>\n",
       "      <td>False</td>\n",
       "    </tr>\n",
       "    <tr>\n",
       "      <th>2807</th>\n",
       "      <td>2807</td>\n",
       "      <td>SABRA PARK WEST LLC</td>\n",
       "      <td>SABRA PARK WEST, LLC</td>\n",
       "      <td>604 169 651</td>\n",
       "      <td>988232</td>\n",
       "      <td>C/O SABRA HEALTH CARE REIT, INC., 18500 VON KA...</td>\n",
       "      <td>Active</td>\n",
       "      <td>False</td>\n",
       "      <td>False</td>\n",
       "      <td>False</td>\n",
       "    </tr>\n",
       "    <tr>\n",
       "      <th>2814</th>\n",
       "      <td>2814</td>\n",
       "      <td>DNXT LLC</td>\n",
       "      <td>DNXT, LLC</td>\n",
       "      <td>604 219 279</td>\n",
       "      <td>1181278</td>\n",
       "      <td>17735 NE 65TH ST STE 120, REDMOND, WA, 98052-4...</td>\n",
       "      <td>Active</td>\n",
       "      <td>True</td>\n",
       "      <td>False</td>\n",
       "      <td>False</td>\n",
       "    </tr>\n",
       "    <tr>\n",
       "      <th>2816</th>\n",
       "      <td>2816</td>\n",
       "      <td>ACI REAL ESTATE SPE 137 LLC</td>\n",
       "      <td>ACI REAL ESTATE SPE 137, LLC</td>\n",
       "      <td>604 621 842</td>\n",
       "      <td>1364724</td>\n",
       "      <td>250 E PARKCENTER BLVD, BOISE, ID, 83706-3940, ...</td>\n",
       "      <td>Active</td>\n",
       "      <td>False</td>\n",
       "      <td>False</td>\n",
       "      <td>False</td>\n",
       "    </tr>\n",
       "  </tbody>\n",
       "</table>\n",
       "</div>"
      ],
      "text/plain": [
       "      index                      SearchTerm                     BusinessName  \\\n",
       "966     966                         FTW LLC                         FTW, LLC   \n",
       "2806   2806  QUAIL PARK OF WEST SEATTLE LLC  QUAIL PARK OF WEST SEATTLE, LLC   \n",
       "2807   2807             SABRA PARK WEST LLC             SABRA PARK WEST, LLC   \n",
       "2814   2814                        DNXT LLC                        DNXT, LLC   \n",
       "2816   2816     ACI REAL ESTATE SPE 137 LLC     ACI REAL ESTATE SPE 137, LLC   \n",
       "\n",
       "        UBINumber  BusinessId  \\\n",
       "966   602 088 226      128023   \n",
       "2806  603 348 245      952757   \n",
       "2807  604 169 651      988232   \n",
       "2814  604 219 279     1181278   \n",
       "2816  604 621 842     1364724   \n",
       "\n",
       "                                                Address  Status  \\\n",
       "966   1037 NE 65TH ST # 339, SEATTLE, WA, 98115-6655...  Active   \n",
       "2806  146 N CANAL ST STE 350, SEATTLE, WA, 98103, UN...  Active   \n",
       "2807  C/O SABRA HEALTH CARE REIT, INC., 18500 VON KA...  Active   \n",
       "2814  17735 NE 65TH ST STE 120, REDMOND, WA, 98052-4...  Active   \n",
       "2816  250 E PARKCENTER BLVD, BOISE, ID, 83706-3940, ...  Active   \n",
       "\n",
       "      address_match  ubi_match  id_match  \n",
       "966           False      False     False  \n",
       "2806          False      False     False  \n",
       "2807          False      False     False  \n",
       "2814           True      False     False  \n",
       "2816          False      False     False  "
      ]
     },
     "execution_count": 42,
     "metadata": {},
     "output_type": "execute_result"
    }
   ],
   "source": [
    "df_exact.head()"
   ]
  },
  {
   "cell_type": "code",
   "execution_count": 43,
   "metadata": {},
   "outputs": [
    {
     "name": "stdout",
     "output_type": "stream",
     "text": [
      "Matches with regex:  56\n",
      "Total unique search terms:  95\n"
     ]
    }
   ],
   "source": [
    "df.loc[df['SearchTerm']==df['BusinessName'], 'isMatch']=1\n",
    "print(\"Matches with regex: \", len(df_exact))\n",
    "print(\"Total unique search terms: \", len(df['SearchTerm'].unique()))"
   ]
  },
  {
   "cell_type": "code",
   "execution_count": 26,
   "metadata": {},
   "outputs": [],
   "source": [
    "matched_values = df[df['SearchTerm']==df['BusinessName']]['SearchTerm'].values\n",
    "df_pot_remains = df[~df['SearchTerm'].isin(matched_values)]"
   ]
  },
  {
   "cell_type": "code",
   "execution_count": 80,
   "metadata": {},
   "outputs": [
    {
     "name": "stdout",
     "output_type": "stream",
     "text": [
      "Extracting standardized from potential_matches_5\n",
      "Matches with regex:  56\n",
      "Total unique search terms:  95\n",
      "Extracting standardized from potential_matches_6\n",
      "Matches with regex:  49\n",
      "Total unique search terms:  101\n",
      "Extracting standardized from potential_matches_7\n",
      "Matches with regex:  41\n",
      "Total unique search terms:  83\n",
      "Extracting standardized from potential_matches_8\n"
     ]
    },
    {
     "name": "stderr",
     "output_type": "stream",
     "text": [
      "C:\\Users\\linneamay\\AppData\\Local\\Temp\\ipykernel_26800\\2720337646.py:11: FutureWarning: In a future version, object-dtype columns with all-bool values will not be included in reductions with bool_only=True. Explicitly cast to bool dtype instead.\n",
      "  df_extracted_exact = pd.concat([df_extracted_exact, df_exact])\n",
      "C:\\Users\\linneamay\\AppData\\Local\\Temp\\ipykernel_26800\\2720337646.py:11: FutureWarning: In a future version, object-dtype columns with all-bool values will not be included in reductions with bool_only=True. Explicitly cast to bool dtype instead.\n",
      "  df_extracted_exact = pd.concat([df_extracted_exact, df_exact])\n"
     ]
    },
    {
     "name": "stdout",
     "output_type": "stream",
     "text": [
      "Matches with regex:  67\n",
      "Total unique search terms:  109\n",
      "Extracting standardized from potential_matches_9\n",
      "Matches with regex:  60\n",
      "Total unique search terms:  106\n"
     ]
    },
    {
     "name": "stderr",
     "output_type": "stream",
     "text": [
      "C:\\Users\\linneamay\\AppData\\Local\\Temp\\ipykernel_26800\\2720337646.py:11: FutureWarning: In a future version, object-dtype columns with all-bool values will not be included in reductions with bool_only=True. Explicitly cast to bool dtype instead.\n",
      "  df_extracted_exact = pd.concat([df_extracted_exact, df_exact])\n",
      "C:\\Users\\linneamay\\AppData\\Local\\Temp\\ipykernel_26800\\2720337646.py:11: FutureWarning: In a future version, object-dtype columns with all-bool values will not be included in reductions with bool_only=True. Explicitly cast to bool dtype instead.\n",
      "  df_extracted_exact = pd.concat([df_extracted_exact, df_exact])\n"
     ]
    }
   ],
   "source": [
    "df_extracted_exact = pd.DataFrame([], columns=df.columns)\n",
    "for i in range(5,10):\n",
    "    print(f\"Extracting standardized from potential_matches_{i}\")\n",
    "    df_pot = pd.read_csv(f\"non-downtown buildings\\potential_matches_{i}.csv\", index_col=[0]).reset_index()\n",
    "    df_exact = df_pot[df_pot.apply(lambda row: is_exact_match(row), axis=1)]\n",
    "    matched_values = df_exact['SearchTerm'].unique()\n",
    "\n",
    "    print(\"Matches with regex: \", len(df_exact))\n",
    "    print(\"Total unique search terms: \", len(df_pot['SearchTerm'].unique()))    \n",
    "\n",
    "    df_extracted_exact = pd.concat([df_extracted_exact, df_exact])\n",
    "    # print(len(df_extracted_exact))\n",
    "\n",
    "    df_pot_remains = df_pot[~df_pot['SearchTerm'].isin(matched_values)]\n",
    "    df_pot_remains = df_pot_remains.set_index(\"index\").reset_index(drop=True)\n",
    "    df_pot_remains.to_csv(f\"non-downtown buildings\\potential_matches_{i}.csv\", index=True)"
   ]
  },
  {
   "cell_type": "code",
   "execution_count": 64,
   "metadata": {},
   "outputs": [
    {
     "name": "stdout",
     "output_type": "stream",
     "text": [
      "273\n"
     ]
    }
   ],
   "source": [
    "print(len(df_extracted_exact))\n",
    "df_extracted_exact.to_csv(\"non-downtown buildings/exact_matches_10.csv\", index=False)"
   ]
  },
  {
   "cell_type": "code",
   "execution_count": 75,
   "metadata": {},
   "outputs": [],
   "source": [
    "df_extracted_exact.set_index('index').reset_index(drop=True).to_csv(\"non-downtown buildings/exact_matches_10.csv\", index=False)"
   ]
  },
  {
   "cell_type": "code",
   "execution_count": null,
   "metadata": {},
   "outputs": [],
   "source": []
  }
 ],
 "metadata": {
  "kernelspec": {
   "display_name": "bps",
   "language": "python",
   "name": "python3"
  },
  "language_info": {
   "codemirror_mode": {
    "name": "ipython",
    "version": 3
   },
   "file_extension": ".py",
   "mimetype": "text/x-python",
   "name": "python",
   "nbconvert_exporter": "python",
   "pygments_lexer": "ipython3",
   "version": "3.11.2"
  },
  "orig_nbformat": 4
 },
 "nbformat": 4,
 "nbformat_minor": 2
}
