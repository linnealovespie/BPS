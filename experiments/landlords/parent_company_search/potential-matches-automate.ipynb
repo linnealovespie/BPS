{
 "cells": [
  {
   "attachments": {},
   "cell_type": "markdown",
   "metadata": {},
   "source": [
    "# Automate Potential Matches\n",
    "A lot of the time, CCFS database won't come back with an exact match from our search result. Results may instead vary simply by punctuation, which can still be easily automated to safe time with human verification. "
   ]
  },
  {
   "cell_type": "code",
   "execution_count": 2,
   "metadata": {},
   "outputs": [],
   "source": [
    "import pandas as pd\n",
    "import numpy as np\n",
    "import requests\n",
    "import json\n",
    "import os\n",
    "import re\n",
    "import geopandas as gp\n",
    "import urllib.parse"
   ]
  },
  {
   "cell_type": "code",
   "execution_count": 33,
   "metadata": {},
   "outputs": [],
   "source": [
    "df_pot = pd.read_csv(\"non-downtown buildings\\potential_matches_5.csv\", index_col=[0])"
   ]
  },
  {
   "cell_type": "code",
   "execution_count": 34,
   "metadata": {},
   "outputs": [
    {
     "data": {
      "text/html": [
       "<div>\n",
       "<style scoped>\n",
       "    .dataframe tbody tr th:only-of-type {\n",
       "        vertical-align: middle;\n",
       "    }\n",
       "\n",
       "    .dataframe tbody tr th {\n",
       "        vertical-align: top;\n",
       "    }\n",
       "\n",
       "    .dataframe thead th {\n",
       "        text-align: right;\n",
       "    }\n",
       "</style>\n",
       "<table border=\"1\" class=\"dataframe\">\n",
       "  <thead>\n",
       "    <tr style=\"text-align: right;\">\n",
       "      <th></th>\n",
       "      <th>SearchTerm</th>\n",
       "      <th>BusinessName</th>\n",
       "      <th>UBINumber</th>\n",
       "      <th>BusinessId</th>\n",
       "      <th>Address</th>\n",
       "      <th>Status</th>\n",
       "      <th>address_match</th>\n",
       "      <th>ubi_match</th>\n",
       "      <th>id_match</th>\n",
       "    </tr>\n",
       "  </thead>\n",
       "  <tbody>\n",
       "    <tr>\n",
       "      <th>0</th>\n",
       "      <td>FTW LLC</td>\n",
       "      <td>-LDL- SOFTWARE, INC.</td>\n",
       "      <td>601 763 820</td>\n",
       "      <td>1425</td>\n",
       "      <td>5129 NE 4TH CT, RENTON, WA, 98059-4566, UNITED...</td>\n",
       "      <td>Active</td>\n",
       "      <td>False</td>\n",
       "      <td>False</td>\n",
       "      <td>False</td>\n",
       "    </tr>\n",
       "    <tr>\n",
       "      <th>1</th>\n",
       "      <td>FTW LLC</td>\n",
       "      <td>18009 DRIFTWOOD, LLC</td>\n",
       "      <td>604 534 883</td>\n",
       "      <td>1323128</td>\n",
       "      <td>16816 24TH STREET CT E, LAKE TAPPS, WA, 98391-...</td>\n",
       "      <td>Active</td>\n",
       "      <td>False</td>\n",
       "      <td>False</td>\n",
       "      <td>False</td>\n",
       "    </tr>\n",
       "    <tr>\n",
       "      <th>2</th>\n",
       "      <td>FTW LLC</td>\n",
       "      <td>1915 SOFTWARE, LLC</td>\n",
       "      <td>603 566 774</td>\n",
       "      <td>62799</td>\n",
       "      <td>811 1ST AVE #480, SEATTLE, WA, 98104, UNITED S...</td>\n",
       "      <td>Administratively Dissolved</td>\n",
       "      <td>False</td>\n",
       "      <td>False</td>\n",
       "      <td>False</td>\n",
       "    </tr>\n",
       "    <tr>\n",
       "      <th>3</th>\n",
       "      <td>FTW LLC</td>\n",
       "      <td>205 SOFTWARE LLC</td>\n",
       "      <td>604 536 699</td>\n",
       "      <td>1326449</td>\n",
       "      <td>9602 NE 63RD ST, VANCOUVER, WA, 98662, UNITED ...</td>\n",
       "      <td>Active</td>\n",
       "      <td>False</td>\n",
       "      <td>False</td>\n",
       "      <td>False</td>\n",
       "    </tr>\n",
       "    <tr>\n",
       "      <th>4</th>\n",
       "      <td>FTW LLC</td>\n",
       "      <td>21ST CENTURY SOFTWARE TECHNOLOGIES, INC.</td>\n",
       "      <td>603 153 248</td>\n",
       "      <td>6769</td>\n",
       "      <td>9623 173RD PL NE, REDMOND, WA, 98052, UNITED S...</td>\n",
       "      <td>Terminated</td>\n",
       "      <td>False</td>\n",
       "      <td>False</td>\n",
       "      <td>False</td>\n",
       "    </tr>\n",
       "  </tbody>\n",
       "</table>\n",
       "</div>"
      ],
      "text/plain": [
       "  SearchTerm                              BusinessName    UBINumber  \\\n",
       "0    FTW LLC                      -LDL- SOFTWARE, INC.  601 763 820   \n",
       "1    FTW LLC                      18009 DRIFTWOOD, LLC  604 534 883   \n",
       "2    FTW LLC                        1915 SOFTWARE, LLC  603 566 774   \n",
       "3    FTW LLC                          205 SOFTWARE LLC  604 536 699   \n",
       "4    FTW LLC  21ST CENTURY SOFTWARE TECHNOLOGIES, INC.  603 153 248   \n",
       "\n",
       "   BusinessId                                            Address  \\\n",
       "0        1425  5129 NE 4TH CT, RENTON, WA, 98059-4566, UNITED...   \n",
       "1     1323128  16816 24TH STREET CT E, LAKE TAPPS, WA, 98391-...   \n",
       "2       62799  811 1ST AVE #480, SEATTLE, WA, 98104, UNITED S...   \n",
       "3     1326449  9602 NE 63RD ST, VANCOUVER, WA, 98662, UNITED ...   \n",
       "4        6769  9623 173RD PL NE, REDMOND, WA, 98052, UNITED S...   \n",
       "\n",
       "                       Status  address_match  ubi_match  id_match  \n",
       "0                      Active          False      False     False  \n",
       "1                      Active          False      False     False  \n",
       "2  Administratively Dissolved          False      False     False  \n",
       "3                      Active          False      False     False  \n",
       "4                  Terminated          False      False     False  "
      ]
     },
     "execution_count": 34,
     "metadata": {},
     "output_type": "execute_result"
    }
   ],
   "source": [
    "df_pot.head()"
   ]
  },
  {
   "cell_type": "code",
   "execution_count": 35,
   "metadata": {},
   "outputs": [],
   "source": [
    "# standardize SearchTerm and BusinessName to see if they are matching\n",
    "def standardize_result(row):\n",
    "    # LLC, LLP, L L C, L.L.C., L.L.C. L.L.P., L.L.P\n",
    "    # Limited Partnership, Limited liability company\n",
    "    # Comma before any of the above\n",
    "    # Just map all the results to be standardized to this name, then drop duplicates based on name? \n",
    "    p = re.compile(\"L[\\s.]?L[\\s,.]?[PC]\" ,flags=re.IGNORECASE)\n",
    "\n",
    "    row['BusinessName']=row[\"BusinessName\"].replace(\",\", \"\")\n",
    "    row['BusinessName']= re.sub(p, \"LLC\", row['BusinessName'])\n",
    "    row['BusinessName']=row[\"BusinessName\"].replace(\"LIMITED LIABILITY COMPANY\", \"LLC\") \n",
    "    row['BusinessName']=row[\"BusinessName\"].replace(\"LIMITED PARTNERSHIP\", \"LLC\") \n",
    "\n",
    "    # Do the same for the search term, so that we have more exact matches\n",
    "    # TODO: need to add this as an element of the dict\n",
    "    row[\"SearchTerm\"]=row[\"SearchTerm\"].replace(\",\", \"\")\n",
    "    row[\"SearchTerm\"]=re.sub(p, \"LLC\", row[\"SearchTerm\"])\n",
    "    row[\"SearchTerm\"]=row[\"SearchTerm\"].replace(\"LIMITED PARTNERSHIP\", \"LLC\") \n",
    "    row[\"SearchTerm\"]=row[\"SearchTerm\"].replace(\"LIMITED LIABILITY COMPANY\", \"LLC\") \n",
    "    \n",
    "    # Strip addressses of all commas\n",
    "    return row"
   ]
  },
  {
   "cell_type": "code",
   "execution_count": 36,
   "metadata": {},
   "outputs": [],
   "source": [
    "df_pot = df_pot.apply(lambda row: standardize_result(row), axis=1)"
   ]
  },
  {
   "cell_type": "code",
   "execution_count": 38,
   "metadata": {},
   "outputs": [
    {
     "ename": "ValueError",
     "evalue": "Cannot set a DataFrame with multiple columns to the single column isMatch",
     "output_type": "error",
     "traceback": [
      "\u001b[1;31m---------------------------------------------------------------------------\u001b[0m",
      "\u001b[1;31mValueError\u001b[0m                                Traceback (most recent call last)",
      "Cell \u001b[1;32mIn[38], line 1\u001b[0m\n\u001b[1;32m----> 1\u001b[0m df_pot[\u001b[39m'\u001b[39m\u001b[39misMatch\u001b[39m\u001b[39m'\u001b[39m] \u001b[39m=\u001b[39m df_pot[df_pot[\u001b[39m'\u001b[39m\u001b[39mSearchTerm\u001b[39m\u001b[39m'\u001b[39m]\u001b[39m==\u001b[39mdf_pot[\u001b[39m'\u001b[39m\u001b[39mBusinessName\u001b[39m\u001b[39m'\u001b[39m]]\n",
      "File \u001b[1;32mc:\\Users\\linneamay\\AppData\\Local\\miniconda3\\envs\\bps\\Lib\\site-packages\\pandas\\core\\frame.py:3970\u001b[0m, in \u001b[0;36mDataFrame.__setitem__\u001b[1;34m(self, key, value)\u001b[0m\n\u001b[0;32m   3968\u001b[0m     \u001b[39mself\u001b[39m\u001b[39m.\u001b[39m_setitem_array(key, value)\n\u001b[0;32m   3969\u001b[0m \u001b[39melif\u001b[39;00m \u001b[39misinstance\u001b[39m(value, DataFrame):\n\u001b[1;32m-> 3970\u001b[0m     \u001b[39mself\u001b[39m\u001b[39m.\u001b[39m_set_item_frame_value(key, value)\n\u001b[0;32m   3971\u001b[0m \u001b[39melif\u001b[39;00m (\n\u001b[0;32m   3972\u001b[0m     is_list_like(value)\n\u001b[0;32m   3973\u001b[0m     \u001b[39mand\u001b[39;00m \u001b[39mnot\u001b[39;00m \u001b[39mself\u001b[39m\u001b[39m.\u001b[39mcolumns\u001b[39m.\u001b[39mis_unique\n\u001b[0;32m   3974\u001b[0m     \u001b[39mand\u001b[39;00m \u001b[39m1\u001b[39m \u001b[39m<\u001b[39m \u001b[39mlen\u001b[39m(\u001b[39mself\u001b[39m\u001b[39m.\u001b[39mcolumns\u001b[39m.\u001b[39mget_indexer_for([key])) \u001b[39m==\u001b[39m \u001b[39mlen\u001b[39m(value)\n\u001b[0;32m   3975\u001b[0m ):\n\u001b[0;32m   3976\u001b[0m     \u001b[39m# Column to set is duplicated\u001b[39;00m\n\u001b[0;32m   3977\u001b[0m     \u001b[39mself\u001b[39m\u001b[39m.\u001b[39m_setitem_array([key], value)\n",
      "File \u001b[1;32mc:\\Users\\linneamay\\AppData\\Local\\miniconda3\\envs\\bps\\Lib\\site-packages\\pandas\\core\\frame.py:4125\u001b[0m, in \u001b[0;36mDataFrame._set_item_frame_value\u001b[1;34m(self, key, value)\u001b[0m\n\u001b[0;32m   4122\u001b[0m     \u001b[39mreturn\u001b[39;00m\n\u001b[0;32m   4124\u001b[0m \u001b[39mif\u001b[39;00m \u001b[39mlen\u001b[39m(value\u001b[39m.\u001b[39mcolumns) \u001b[39m!=\u001b[39m \u001b[39m1\u001b[39m:\n\u001b[1;32m-> 4125\u001b[0m     \u001b[39mraise\u001b[39;00m \u001b[39mValueError\u001b[39;00m(\n\u001b[0;32m   4126\u001b[0m         \u001b[39m\"\u001b[39m\u001b[39mCannot set a DataFrame with multiple columns to the single \u001b[39m\u001b[39m\"\u001b[39m\n\u001b[0;32m   4127\u001b[0m         \u001b[39mf\u001b[39m\u001b[39m\"\u001b[39m\u001b[39mcolumn \u001b[39m\u001b[39m{\u001b[39;00mkey\u001b[39m}\u001b[39;00m\u001b[39m\"\u001b[39m\n\u001b[0;32m   4128\u001b[0m     )\n\u001b[0;32m   4130\u001b[0m \u001b[39mself\u001b[39m[key] \u001b[39m=\u001b[39m value[value\u001b[39m.\u001b[39mcolumns[\u001b[39m0\u001b[39m]]\n",
      "\u001b[1;31mValueError\u001b[0m: Cannot set a DataFrame with multiple columns to the single column isMatch"
     ]
    }
   ],
   "source": [
    "df_pot['isMatch'] = df_pot[df_pot['SearchTerm']==df_pot['BusinessName']]"
   ]
  },
  {
   "cell_type": "code",
   "execution_count": 40,
   "metadata": {},
   "outputs": [
    {
     "name": "stderr",
     "output_type": "stream",
     "text": [
      "C:\\Users\\linneamay\\AppData\\Local\\Temp\\ipykernel_19720\\1030931566.py:1: SettingWithCopyWarning: \n",
      "A value is trying to be set on a copy of a slice from a DataFrame.\n",
      "Try using .loc[row_indexer,col_indexer] = value instead\n",
      "\n",
      "See the caveats in the documentation: https://pandas.pydata.org/pandas-docs/stable/user_guide/indexing.html#returning-a-view-versus-a-copy\n",
      "  df_pot[df_pot['SearchTerm']==df_pot['BusinessName']]['isMatch'] = 1\n"
     ]
    }
   ],
   "source": [
    "df_pot[df_pot['SearchTerm']==df_pot['BusinessName']]['isMatch']"
   ]
  },
  {
   "cell_type": "code",
   "execution_count": 55,
   "metadata": {},
   "outputs": [
    {
     "name": "stdout",
     "output_type": "stream",
     "text": [
      "Matches with regex:  55\n",
      "Total unique search terms:  95\n"
     ]
    }
   ],
   "source": [
    "df_pot.loc[df_pot['SearchTerm']==df_pot['BusinessName'], 'isMatch']=1\n",
    "print(\"Matches with regex: \", len(df_pot[df_pot['SearchTerm']==df_pot['BusinessName']]))\n",
    "print(\"Total unique search terms: \", len(df_pot['SearchTerm'].unique()))"
   ]
  },
  {
   "cell_type": "code",
   "execution_count": 62,
   "metadata": {},
   "outputs": [],
   "source": [
    "matched_values = df_pot[df_pot['SearchTerm']==df_pot['BusinessName']]['SearchTerm'].values\n"
   ]
  },
  {
   "cell_type": "code",
   "execution_count": 64,
   "metadata": {},
   "outputs": [
    {
     "data": {
      "text/plain": [
       "array(['FTW LLC', 'QUAIL PARK OF WEST SEATTLE LLC', 'SABRA PARK WEST LLC',\n",
       "       'DNXT LLC', 'ACI REAL ESTATE SPE 137 LLC', 'NEWARK MEADOWS LLC',\n",
       "       'ROOSEVELT SQUARE REGENCY LLC', '68TH AND ROOSEVELT LLC',\n",
       "       'SRMAHULTRACK66 LLC', 'SRMAHULBROOKLYN65 LLC',\n",
       "       'GREEN LAKE PHASE II LLC', 'ROOSTER APARTMENTS LLC',\n",
       "       'SRMAHULLUNA LLC', 'LANGER PROPERTIES LLC',\n",
       "       'CASCADIA PARTNERS LLC', 'SOB DEVELOPMENT LLC',\n",
       "       'HIVE APARTMENTS LLC', 'JASPER 91 LLC', 'RAVENNA HOUSE 2015 LLC',\n",
       "       'CRYSTAL COURT APARTMENTS LLC', 'TRINITY LAKEVIEW COURT LLC',\n",
       "       'NORTHGATE ATHLETIC CLUB LLC',\n",
       "       'NORTH SEATTLE PROFESSIONAL CENTER LLC', 'CSH MAPLE LEAF LLC',\n",
       "       'IDA CULVER HOUSE RAVENNA LLC', 'WILLOW CREEK PROPERTIES LLC',\n",
       "       'BRYSON PROPERTIES LLC', 'NORTHGATE LODGING LLLC',\n",
       "       'EPIC PROPERTY MANAGEMENT LLC', 'WC SEATTLE VI SPE LLC',\n",
       "       '1608 EAST REPUBLICAN LLC', 'MADISON GATE INVESTORS 2016 LLC',\n",
       "       'PARKSIDE LLC', 'RUTH COURT APARTMENTS LLC', 'RM LITTLEFIELD LLC',\n",
       "       'ADELPHI LLC', 'NAUTICAL LANDING LLC', 'IRP CHROMA APARTMENTS LLC',\n",
       "       'GREENWOOD PLACE LLC', 'RAR2 QUEEN ANNE - METRO MARKET QRS LLC',\n",
       "       '17910 BURBANK LLC', 'WPPI SEATTLE AC LLC', 'SULMONETTI ZINN LLC',\n",
       "       'SHLP NEPTUNE LLC', 'PPF AMLI 535 PONTIUS AVENUE NORTH LLC',\n",
       "       '400 FAIRVIEW LLC', 'EQR-ALCYONE APARTMENTS LLC', 'SI XXI LLC',\n",
       "       '229 QUEEN ANNE NORTH LLC', 'GDCV LOWER QUEEN ANNE LLC',\n",
       "       'CHAMPION SLU PROPERTY LLC', 'DELMONT APARTMENTS LLC',\n",
       "       'MGP 42 LLC', 'AQUA TERRACE LLC', 'GILBERT SEATTLE GROUP LLC'],\n",
       "      dtype=object)"
      ]
     },
     "execution_count": 64,
     "metadata": {},
     "output_type": "execute_result"
    }
   ],
   "source": [
    "df_pot.drop()"
   ]
  },
  {
   "cell_type": "code",
   "execution_count": null,
   "metadata": {},
   "outputs": [],
   "source": []
  }
 ],
 "metadata": {
  "kernelspec": {
   "display_name": "bps",
   "language": "python",
   "name": "python3"
  },
  "language_info": {
   "codemirror_mode": {
    "name": "ipython",
    "version": 3
   },
   "file_extension": ".py",
   "mimetype": "text/x-python",
   "name": "python",
   "nbconvert_exporter": "python",
   "pygments_lexer": "ipython3",
   "version": "3.11.2"
  },
  "orig_nbformat": 4
 },
 "nbformat": 4,
 "nbformat_minor": 2
}
