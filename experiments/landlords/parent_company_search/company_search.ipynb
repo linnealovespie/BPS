{
 "cells": [
  {
   "attachments": {},
   "cell_type": "markdown",
   "metadata": {},
   "source": [
    "# Grouping Companies for non-downtown buildings"
   ]
  },
  {
   "cell_type": "code",
   "execution_count": 1,
   "metadata": {},
   "outputs": [],
   "source": [
    "# Be sure to run `pip install . ` in the root directory to access utils modules\n",
    "from utils import owners\n",
    "from utils import geo\n",
    "from utils import parcel_owners"
   ]
  },
  {
   "cell_type": "code",
   "execution_count": 2,
   "metadata": {},
   "outputs": [],
   "source": [
    "import pandas as pd\n",
    "import numpy as np\n",
    "import requests\n",
    "import json\n",
    "import os\n",
    "import re\n",
    "import geopandas as gp\n",
    "import urllib.parse"
   ]
  },
  {
   "attachments": {},
   "cell_type": "markdown",
   "metadata": {},
   "source": [
    "# Step 0: Clean up Seattle OSE Data \n",
    "Seattle's [Office of Sustainability and Environment](https://www.seattle.gov/environment) has released emissions data for buildings in the city from 2015 to 2021. Building owners over 20,000 sq.ft. are required to self-report annually to the city of Seattle. Features of the data include:\n",
    "- building name\n",
    "- address\n",
    "- tax parcel identification number\n",
    "- council district the building is located within\n",
    "- buliding type\n",
    "- different metrics for emissions. \n",
    "More metadata about the energy benchmarking datasets can be found [here](https://data.seattle.gov/Community/2021-Building-Energy-Benchmarking/bfsh-nrm6).\n",
    "\n",
    "When doing initial exploratory analysis, we noticed that not all of the council district codes were correct. To rectify this we got the official council district boundaries form [Seattle GeoData Portal](https://data-seattlecitygis.opendata.arcgis.com/datasets/seattle-city-council-districts-for-council-members-serving-through-2023/explore) in the form of a geojson file [`Council_Districts.geojson`](../../../data/Council_Districts.geojson). For each address in the OSE building efficiency dataset, we convert it to a (latitude, longitude) point and confirmed with which council distirct it belonged to. \n",
    "\n",
    "To learn more, refer to `utils/owners.py`.\n"
   ]
  },
  {
   "cell_type": "code",
   "execution_count": 3,
   "metadata": {},
   "outputs": [
    {
     "name": "stdout",
     "output_type": "stream",
     "text": [
      "Building WATERWORKS OFFICE & MARINA 2353/ 4088803975 doesn't have a district POINT (-122.33895 47.63575) \n",
      "\t Found district 7 for WATERWORKS OFFICE & MARINA\n",
      "Building NAUTICAL LANDING 2381/ 4088804350 doesn't have a district POINT (-122.34219 47.64306) \n",
      "\t Found district 7 for NAUTICAL LANDING\n",
      "Building UNION HARBOR CONDOMINIUM 2540/ 8807200000 doesn't have a district POINT (-122.33003 47.6401) \n",
      "\t Found district 4 for UNION HARBOR CONDOMINIUM\n",
      "Building THE PIER AT LESCHI 2997/ 6780900000 doesn't have a district POINT (-122.28563 47.59926) \n",
      "\t Found district 3 for THE PIER AT LESCHI\n",
      "Building THE LAKESHORE 3046/ 1180001715 doesn't have a district POINT EMPTY \n",
      "Building EDUCARE 3218/ 2895800030 doesn't have a district POINT EMPTY \n"
     ]
    }
   ],
   "source": [
    "# Clean the OSE dataset \n",
    "df_districts = gp.read_file(\"../../../data/Council_Districts.geojson\")\n",
    "df = pd.read_csv('../../../data/2020_Building_Energy_Benchmarking.csv')\n",
    "df = gp.GeoDataFrame(df, geometry=gp.points_from_xy(df.Longitude, df.Latitude))\n",
    "geo.clean_districts(df, df_districts)\n",
    "\n",
    "# Get all the buildings in the downtown neighborhood\n",
    "# Note this is a slightly different bounds than council districts\n",
    "df_filtered = df.loc[df['Neighborhood'] != \"DOWNTOWN\"]"
   ]
  },
  {
   "cell_type": "code",
   "execution_count": 4,
   "metadata": {},
   "outputs": [
    {
     "data": {
      "text/html": [
       "<div>\n",
       "<style scoped>\n",
       "    .dataframe tbody tr th:only-of-type {\n",
       "        vertical-align: middle;\n",
       "    }\n",
       "\n",
       "    .dataframe tbody tr th {\n",
       "        vertical-align: top;\n",
       "    }\n",
       "\n",
       "    .dataframe thead th {\n",
       "        text-align: right;\n",
       "    }\n",
       "</style>\n",
       "<table border=\"1\" class=\"dataframe\">\n",
       "  <thead>\n",
       "    <tr style=\"text-align: right;\">\n",
       "      <th></th>\n",
       "      <th>OSEBuildingID</th>\n",
       "      <th>DataYear</th>\n",
       "      <th>BuildingName</th>\n",
       "      <th>BuildingType</th>\n",
       "      <th>TaxParcelIdentificationNumber</th>\n",
       "      <th>Address</th>\n",
       "      <th>City</th>\n",
       "      <th>State</th>\n",
       "      <th>ZipCode</th>\n",
       "      <th>Latitude</th>\n",
       "      <th>...</th>\n",
       "      <th>Electricity(kWh)</th>\n",
       "      <th>SteamUse(kBtu)</th>\n",
       "      <th>NaturalGas(therms)</th>\n",
       "      <th>ComplianceStatus</th>\n",
       "      <th>ComplianceIssue</th>\n",
       "      <th>Electricity(kBtu)</th>\n",
       "      <th>NaturalGas(kBtu)</th>\n",
       "      <th>TotalGHGEmissions</th>\n",
       "      <th>GHGEmissionsIntensity</th>\n",
       "      <th>geometry</th>\n",
       "    </tr>\n",
       "  </thead>\n",
       "  <tbody>\n",
       "    <tr>\n",
       "      <th>22</th>\n",
       "      <td>28</td>\n",
       "      <td>2020</td>\n",
       "      <td>GRAHAM HILL ELEMENTARY SCHOOL (SPS-DISTRICT)</td>\n",
       "      <td>SPS-District K-12</td>\n",
       "      <td>1102000138</td>\n",
       "      <td>5101 S GRAHAM ST</td>\n",
       "      <td>SEATTLE</td>\n",
       "      <td>WA</td>\n",
       "      <td>98118.0</td>\n",
       "      <td>47.54576</td>\n",
       "      <td>...</td>\n",
       "      <td>180482</td>\n",
       "      <td>0</td>\n",
       "      <td>6241</td>\n",
       "      <td>Compliant</td>\n",
       "      <td>No Issue</td>\n",
       "      <td>615806.0</td>\n",
       "      <td>624133.0</td>\n",
       "      <td>36.4</td>\n",
       "      <td>0.6</td>\n",
       "      <td>POINT (-122.26853 47.54576)</td>\n",
       "    </tr>\n",
       "    <tr>\n",
       "      <th>23</th>\n",
       "      <td>29</td>\n",
       "      <td>2020</td>\n",
       "      <td>WATERTOWN HOTEL</td>\n",
       "      <td>NonResidential</td>\n",
       "      <td>1142000755</td>\n",
       "      <td>4242 ROOSEVELT WAY NE</td>\n",
       "      <td>SEATTLE</td>\n",
       "      <td>WA</td>\n",
       "      <td>98105.0</td>\n",
       "      <td>47.65958</td>\n",
       "      <td>...</td>\n",
       "      <td>558500</td>\n",
       "      <td>0</td>\n",
       "      <td>7336</td>\n",
       "      <td>Compliant</td>\n",
       "      <td>No Issue</td>\n",
       "      <td>1905602.0</td>\n",
       "      <td>733634.0</td>\n",
       "      <td>49.1</td>\n",
       "      <td>0.8</td>\n",
       "      <td>POINT (-122.31738 47.65958)</td>\n",
       "    </tr>\n",
       "    <tr>\n",
       "      <th>25</th>\n",
       "      <td>32</td>\n",
       "      <td>2020</td>\n",
       "      <td>HOMEWOOD SUITES -SEATTLE - Hilton</td>\n",
       "      <td>NonResidential</td>\n",
       "      <td>0660001832</td>\n",
       "      <td>1011 PIKE ST</td>\n",
       "      <td>SEATTLE</td>\n",
       "      <td>WA</td>\n",
       "      <td>98101.0</td>\n",
       "      <td>47.61301</td>\n",
       "      <td>...</td>\n",
       "      <td>1383664</td>\n",
       "      <td>0</td>\n",
       "      <td>27690</td>\n",
       "      <td>Compliant</td>\n",
       "      <td>No Issue</td>\n",
       "      <td>4721062.0</td>\n",
       "      <td>2769020.0</td>\n",
       "      <td>172.2</td>\n",
       "      <td>1.3</td>\n",
       "      <td>POINT (-122.32929 47.61301)</td>\n",
       "    </tr>\n",
       "    <tr>\n",
       "      <th>27</th>\n",
       "      <td>34</td>\n",
       "      <td>2020</td>\n",
       "      <td>MEANY MIDDLE SCHOOL (SPS-DISTRICT)</td>\n",
       "      <td>SPS-District K-12</td>\n",
       "      <td>0688000090</td>\n",
       "      <td>300 20TH AVE E</td>\n",
       "      <td>SEATTLE</td>\n",
       "      <td>WA</td>\n",
       "      <td>98112.0</td>\n",
       "      <td>47.62266</td>\n",
       "      <td>...</td>\n",
       "      <td>361212</td>\n",
       "      <td>0</td>\n",
       "      <td>31268</td>\n",
       "      <td>Compliant</td>\n",
       "      <td>No Issue</td>\n",
       "      <td>1232456.0</td>\n",
       "      <td>3126792.0</td>\n",
       "      <td>172.6</td>\n",
       "      <td>1.4</td>\n",
       "      <td>POINT (-122.30547 47.62266)</td>\n",
       "    </tr>\n",
       "    <tr>\n",
       "      <th>29</th>\n",
       "      <td>36</td>\n",
       "      <td>2020</td>\n",
       "      <td>JANE ADDAMS MIDDLE (SPS-DISTRICT)</td>\n",
       "      <td>SPS-District K-12</td>\n",
       "      <td>0752000170</td>\n",
       "      <td>11031 34TH AVE NE</td>\n",
       "      <td>SEATTLE</td>\n",
       "      <td>WA</td>\n",
       "      <td>98125.0</td>\n",
       "      <td>47.70994</td>\n",
       "      <td>...</td>\n",
       "      <td>328674</td>\n",
       "      <td>0</td>\n",
       "      <td>44380</td>\n",
       "      <td>Compliant</td>\n",
       "      <td>No Issue</td>\n",
       "      <td>1121434.0</td>\n",
       "      <td>4438026.0</td>\n",
       "      <td>241.7</td>\n",
       "      <td>1.5</td>\n",
       "      <td>POINT (-122.29301 47.70994)</td>\n",
       "    </tr>\n",
       "  </tbody>\n",
       "</table>\n",
       "<p>5 rows × 43 columns</p>\n",
       "</div>"
      ],
      "text/plain": [
       "    OSEBuildingID  DataYear                                  BuildingName  \\\n",
       "22             28      2020  GRAHAM HILL ELEMENTARY SCHOOL (SPS-DISTRICT)   \n",
       "23             29      2020                               WATERTOWN HOTEL   \n",
       "25             32      2020             HOMEWOOD SUITES -SEATTLE - Hilton   \n",
       "27             34      2020            MEANY MIDDLE SCHOOL (SPS-DISTRICT)   \n",
       "29             36      2020             JANE ADDAMS MIDDLE (SPS-DISTRICT)   \n",
       "\n",
       "         BuildingType TaxParcelIdentificationNumber                Address  \\\n",
       "22  SPS-District K-12                    1102000138       5101 S GRAHAM ST   \n",
       "23     NonResidential                    1142000755  4242 ROOSEVELT WAY NE   \n",
       "25     NonResidential                    0660001832           1011 PIKE ST   \n",
       "27  SPS-District K-12                    0688000090         300 20TH AVE E   \n",
       "29  SPS-District K-12                    0752000170      11031 34TH AVE NE   \n",
       "\n",
       "       City State  ZipCode  Latitude  ...  Electricity(kWh) SteamUse(kBtu)  \\\n",
       "22  SEATTLE    WA  98118.0  47.54576  ...            180482              0   \n",
       "23  SEATTLE    WA  98105.0  47.65958  ...            558500              0   \n",
       "25  SEATTLE    WA  98101.0  47.61301  ...           1383664              0   \n",
       "27  SEATTLE    WA  98112.0  47.62266  ...            361212              0   \n",
       "29  SEATTLE    WA  98125.0  47.70994  ...            328674              0   \n",
       "\n",
       "    NaturalGas(therms)  ComplianceStatus  ComplianceIssue  Electricity(kBtu)  \\\n",
       "22                6241         Compliant         No Issue           615806.0   \n",
       "23                7336         Compliant         No Issue          1905602.0   \n",
       "25               27690         Compliant         No Issue          4721062.0   \n",
       "27               31268         Compliant         No Issue          1232456.0   \n",
       "29               44380         Compliant         No Issue          1121434.0   \n",
       "\n",
       "    NaturalGas(kBtu)  TotalGHGEmissions  GHGEmissionsIntensity  \\\n",
       "22          624133.0               36.4                    0.6   \n",
       "23          733634.0               49.1                    0.8   \n",
       "25         2769020.0              172.2                    1.3   \n",
       "27         3126792.0              172.6                    1.4   \n",
       "29         4438026.0              241.7                    1.5   \n",
       "\n",
       "                       geometry  \n",
       "22  POINT (-122.26853 47.54576)  \n",
       "23  POINT (-122.31738 47.65958)  \n",
       "25  POINT (-122.32929 47.61301)  \n",
       "27  POINT (-122.30547 47.62266)  \n",
       "29  POINT (-122.29301 47.70994)  \n",
       "\n",
       "[5 rows x 43 columns]"
      ]
     },
     "execution_count": 4,
     "metadata": {},
     "output_type": "execute_result"
    }
   ],
   "source": [
    "df_filtered.head()"
   ]
  },
  {
   "attachments": {},
   "cell_type": "markdown",
   "metadata": {},
   "source": [
    "## Step 1: Getting Parcel Owners from eRealProperty\n",
    "\n",
    "The first step in finding a building's owner is to find the owner of the building parcel. This is listed in [King County's eRealProperty database](https://blue.kingcounty.com/Assessor/eRealProperty/default.aspx). \n",
    "\n",
    "This script takes a list of buildings' Tax Parcel Identification Number and returns a CSV listing the current owners according to eRealProperty. Optionally, you can also produce a JSON file with the number, types, and square footage of the different units in the building.\n",
    "\n",
    "To use:\n",
    "\n",
    "1. Instantiate an instance of the `ParcelLookupHelper` class, including the file path where you want to save your results.\n",
    "2. Run the `scrape_parcel_owners` method. Params:\n",
    "    - `tax_parcel_id_numbers` (list): a list of the tax parcel IDs you want to look up\n",
    "    - `file_name` (str): the file name to save the results\n",
    "    - `get_unit_details` (bool): whether or not to create a JSON file of the types of units in each building. Defaults to `False`. \n",
    "\n",
    "Sample use:\n",
    "\n",
    "```\n",
    "scraper = ParcelLookupHelper('building_owners')\n",
    "scraper.scrape_parcel_owners([659000030, 659000220], 'building_owners_grp_1', True)\n",
    "```\n",
    "\n",
    "Two important notes: \n",
    "\n",
    "- This is a web scraping script, so it is highly dependent on the HTML structure of the Property Detail pages. Test it to make sure you're getting the correct data in case the HTML structure has changed since this script was written.\n",
    "- eRealProperty restricts you to 1,000 calls a day from a given IP address. You can divide your buildings into chunks of 1,000 and do this over several days or divide them between team members. Using different AWS or Google Cloud instances is possible but probably a bit rude. You could also use a VPN for similar results. Either way, you'll have to manually chunk this up into calls of 1,000 at least.\n"
   ]
  },
  {
   "cell_type": "code",
   "execution_count": 12,
   "metadata": {},
   "outputs": [
    {
     "name": "stdout",
     "output_type": "stream",
     "text": [
      "Writing parcel owners to CSV: c:\\Users\\linne\\Documents\\BPS\\experiments\\landlords\\parent_company_search/building_owners_downtown.csv\n"
     ]
    }
   ],
   "source": [
    "# Warning: This will likely take a long time to run!\n",
    "scraper = parcel_owners.ParcelLookupHelper(os.getcwd())\n",
    "scraper.scrape_parcel_owners(df_filtered['TaxParcelIdentificationNumber'][:10], 'building_owners_downtown')"
   ]
  },
  {
   "cell_type": "code",
   "execution_count": 6,
   "metadata": {},
   "outputs": [
    {
     "data": {
      "text/html": [
       "<div>\n",
       "<style scoped>\n",
       "    .dataframe tbody tr th:only-of-type {\n",
       "        vertical-align: middle;\n",
       "    }\n",
       "\n",
       "    .dataframe tbody tr th {\n",
       "        vertical-align: top;\n",
       "    }\n",
       "\n",
       "    .dataframe thead th {\n",
       "        text-align: right;\n",
       "    }\n",
       "</style>\n",
       "<table border=\"1\" class=\"dataframe\">\n",
       "  <thead>\n",
       "    <tr style=\"text-align: right;\">\n",
       "      <th></th>\n",
       "      <th>TaxParcelIdentificationNumber</th>\n",
       "      <th>Owner</th>\n",
       "    </tr>\n",
       "  </thead>\n",
       "  <tbody>\n",
       "    <tr>\n",
       "      <th>0</th>\n",
       "      <td>7733600135</td>\n",
       "      <td>TMUD GSL LLC</td>\n",
       "    </tr>\n",
       "    <tr>\n",
       "      <th>1</th>\n",
       "      <td>1991200090</td>\n",
       "      <td>HH SEATTLE LLC</td>\n",
       "    </tr>\n",
       "    <tr>\n",
       "      <th>2</th>\n",
       "      <td>659000775</td>\n",
       "      <td>ACORN DEVELOPMENT LLC</td>\n",
       "    </tr>\n",
       "    <tr>\n",
       "      <th>3</th>\n",
       "      <td>4083306985</td>\n",
       "      <td>BRE-BMR 34TH LLC</td>\n",
       "    </tr>\n",
       "    <tr>\n",
       "      <th>4</th>\n",
       "      <td>660001605</td>\n",
       "      <td>MIDTOWN21 LLC</td>\n",
       "    </tr>\n",
       "  </tbody>\n",
       "</table>\n",
       "</div>"
      ],
      "text/plain": [
       "  TaxParcelIdentificationNumber                  Owner\n",
       "0                    7733600135           TMUD GSL LLC\n",
       "1                    1991200090         HH SEATTLE LLC\n",
       "2                     659000775  ACORN DEVELOPMENT LLC\n",
       "3                    4083306985       BRE-BMR 34TH LLC\n",
       "4                     660001605          MIDTOWN21 LLC"
      ]
     },
     "execution_count": 6,
     "metadata": {},
     "output_type": "execute_result"
    }
   ],
   "source": [
    "building_owners = pd.read_csv(\"building_owners_downtown.csv\", index_col=0)\n",
    "building_owners.head()"
   ]
  },
  {
   "cell_type": "code",
   "execution_count": 7,
   "metadata": {},
   "outputs": [
    {
     "name": "stderr",
     "output_type": "stream",
     "text": [
      "c:\\Users\\linne\\miniconda3\\envs\\bps\\lib\\site-packages\\geopandas\\geodataframe.py:1443: SettingWithCopyWarning: \n",
      "A value is trying to be set on a copy of a slice from a DataFrame.\n",
      "Try using .loc[row_indexer,col_indexer] = value instead\n",
      "\n",
      "See the caveats in the documentation: https://pandas.pydata.org/pandas-docs/stable/user_guide/indexing.html#returning-a-view-versus-a-copy\n",
      "  super().__setitem__(key, value)\n"
     ]
    }
   ],
   "source": [
    "# Map tax ids to landlord name\n",
    "d = pd.Series(building_owners.Owner.values, index=building_owners.TaxParcelIdentificationNumber).to_dict()\n",
    "df_filtered['Landlord'] = df_filtered['TaxParcelIdentificationNumber'].map(lambda row: d.get(row, \"\"))"
   ]
  },
  {
   "attachments": {},
   "cell_type": "markdown",
   "metadata": {},
   "source": [
    "## Step 2: Getting Company Principals from Washington State Corporations and Charities Filing Database"
   ]
  },
  {
   "attachments": {},
   "cell_type": "markdown",
   "metadata": {},
   "source": [
    "### Step 2.1: Map Landlord Names to Businesses in the CCF Database"
   ]
  },
  {
   "cell_type": "code",
   "execution_count": 8,
   "metadata": {},
   "outputs": [],
   "source": [
    "unique_not_downtown_landlords = df_filtered['Landlord'].unique()\n",
    "unique_not_downtown_landlords = pd.DataFrame(unique_not_downtown_landlords, columns=['owner_name'])\n",
    "unique_not_downtown_landlords = unique_not_downtown_landlords[~unique_not_downtown_landlords['owner_name'].isin(['NOT FOUND', 'UNDEFINED'])]\n",
    "unique_not_downtown_landlords.to_csv('unique_not_downtown_landlords.csv')\n",
    "owner_search_list = list(unique_not_downtown_landlords['owner_name'])"
   ]
  },
  {
   "cell_type": "code",
   "execution_count": null,
   "metadata": {},
   "outputs": [],
   "source": [
    "lookup_helper = owners.LookupCompaniesHelper(os.getcwd())\n",
    "lookup_helper.get_company_matches_and_export(owner_search_list[:10], 1) # Processing only 1 batch of data"
   ]
  },
  {
   "attachments": {},
   "cell_type": "markdown",
   "metadata": {},
   "source": [
    "### Step 2.2: Get all companies and their principals\n",
    "Now that we've mapped company names to their entries in the CCFS database, we create a list of all the companies and all the principals registered to that company. This all-matches-all-principals will be used in step 3 to iterate through and group by shared principals. \n",
    "\n",
    "For potential matches, make sure to go in and manually create and label the `is_match` column. "
   ]
  },
  {
   "cell_type": "code",
   "execution_count": 10,
   "metadata": {},
   "outputs": [],
   "source": [
    "group_helper = owners.GroupCompaniesHelper(os.getcwd(), \"companies_and_principals.csv\")"
   ]
  },
  {
   "cell_type": "code",
   "execution_count": 47,
   "metadata": {},
   "outputs": [],
   "source": [
    "all_matches = pd.DataFrame([])\n",
    "num_batches = 1  # Increase the range based on how many batches you processed previously\n",
    "for i in range(1, num_batches):\n",
    "    print(f\"Getting principals for exact_matches_{i}\")\n",
    "    exact_matches = pd.read_csv(f\"exact_matches_{i}.csv\", index_col=0)\n",
    "    exact_matches_principals = group_helper.get_companies_principals(exact_matches)\n",
    "    all_matches = pd.concat([all_matches, exact_matches_principals], ignore_index=True)\n",
    "\n",
    "for i in range(1, num_batches):\n",
    "    print(f\"Getting principals for potential_matches_{i}\")\n",
    "    potential_matches = pd.read_csv(f\"potential_matches_{i}.csv\",index_col=0)\n",
    "    potential_matches = potential_matches[potential_matches['is_match']==1]\n",
    "    potential_matches_principals = group_helper.get_companies_principals(potential_matches)\n",
    "    potential_matches_principals = potential_matches_principals.drop(columns=[\"is_match\"])\n",
    "    all_matches = pd.concat([all_matches, potential_matches_principals], ignore_index=True)\n"
   ]
  },
  {
   "attachments": {},
   "cell_type": "markdown",
   "metadata": {},
   "source": [
    "### Step 2.3: Group Companies by shared principals\n",
    "Now that we have all of the companies in CCFS database and all of the principals registered to that company, we can group all of the results by shared principals. "
   ]
  },
  {
   "cell_type": "code",
   "execution_count": 40,
   "metadata": {},
   "outputs": [
    {
     "name": "stdout",
     "output_type": "stream",
     "text": [
      "Saving to c:\\Users\\linne\\Documents\\BPS\\experiments\\landlords\\parent_company_searchcompanies_and_principals.csv\n",
      "Processing row 0 of principal_match_list, results is 1\n",
      "Processing row 0 of principal_match_list, results is 7\n"
     ]
    }
   ],
   "source": [
    "companies_and_matches = group_helper.group_companies_by_principals(all_matches)"
   ]
  },
  {
   "attachments": {},
   "cell_type": "markdown",
   "metadata": {},
   "source": [
    "## Step 3: Finding the Principals' Employer"
   ]
  }
 ],
 "metadata": {
  "kernelspec": {
   "display_name": "bps",
   "language": "python",
   "name": "python3"
  },
  "language_info": {
   "codemirror_mode": {
    "name": "ipython",
    "version": 3
   },
   "file_extension": ".py",
   "mimetype": "text/x-python",
   "name": "python",
   "nbconvert_exporter": "python",
   "pygments_lexer": "ipython3",
   "version": "3.10.9"
  },
  "orig_nbformat": 4
 },
 "nbformat": 4,
 "nbformat_minor": 2
}
