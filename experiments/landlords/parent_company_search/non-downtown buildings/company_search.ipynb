{
 "cells": [
  {
   "attachments": {},
   "cell_type": "markdown",
   "metadata": {},
   "source": [
    "# Grouping Companies for non-downtown buildings"
   ]
  },
  {
   "cell_type": "code",
   "execution_count": 1,
   "metadata": {},
   "outputs": [],
   "source": [
    "from utils import owners"
   ]
  },
  {
   "cell_type": "code",
   "execution_count": 2,
   "metadata": {},
   "outputs": [],
   "source": [
    "import pandas as pd\n",
    "import numpy as np\n",
    "import requests\n",
    "import json\n",
    "import os\n",
    "import re\n",
    "import geopandas as gp\n",
    "import urllib.parse"
   ]
  },
  {
   "cell_type": "code",
   "execution_count": null,
   "metadata": {},
   "outputs": [],
   "source": [
    "exact_matches_1 = pd.read_csv(\"exact_matches_1.csv\")\n",
    "exact_matches_1_principals = owners.get_companies_principals(exact_matches_1)"
   ]
  },
  {
   "cell_type": "code",
   "execution_count": null,
   "metadata": {},
   "outputs": [],
   "source": [
    "all_matches = pd.DataFrame([])\n",
    "for i in range(1, 11):\n",
    "    print(f\"Getting principals for exact_matches_{i}\")\n",
    "    exact_matches = pd.read_csv(f\"exact_matches_{i}.csv\")\n",
    "    exact_matches_principals = owners.get_companies_principals(exact_matches)\n",
    "    all_matches = pd.conact([all_matches, exact_matches_principals])\n",
    "\n",
    "for i in range(1, 10):\n",
    "    print(f\"Getting principals for potential_matches_{i}\")\n",
    "    potential_matches = pd.read_csv(f\"potential_matches_{i}.csv\")\n",
    "    potential_matches = potential_matches[potential_matches['isMatch']==1]\n",
    "    potential_matches_principals = owners.get_companies_principals(potential_matches)\n",
    "    all_matches = pd.conact([all_matches, potential_matches_principals])"
   ]
  },
  {
   "cell_type": "code",
   "execution_count": 6,
   "metadata": {},
   "outputs": [],
   "source": [
    "out_path = os.getcwd()+\"comapnies_and_potential_related_ndt.csv\""
   ]
  },
  {
   "cell_type": "code",
   "execution_count": null,
   "metadata": {},
   "outputs": [],
   "source": [
    "owners.group_companies_by_principals(all_matches, out_path)"
   ]
  }
 ],
 "metadata": {
  "kernelspec": {
   "display_name": "bps",
   "language": "python",
   "name": "python3"
  },
  "language_info": {
   "codemirror_mode": {
    "name": "ipython",
    "version": 3
   },
   "file_extension": ".py",
   "mimetype": "text/x-python",
   "name": "python",
   "nbconvert_exporter": "python",
   "pygments_lexer": "ipython3",
   "version": "3.10.9"
  },
  "orig_nbformat": 4
 },
 "nbformat": 4,
 "nbformat_minor": 2
}
