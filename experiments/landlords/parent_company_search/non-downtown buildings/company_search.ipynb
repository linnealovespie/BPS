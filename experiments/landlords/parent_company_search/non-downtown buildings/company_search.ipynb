{
 "cells": [
  {
   "attachments": {},
   "cell_type": "markdown",
   "metadata": {},
   "source": [
    "# Grouping Companies for non-downtown buildings"
   ]
  },
  {
   "cell_type": "code",
   "execution_count": 1,
   "metadata": {},
   "outputs": [],
   "source": [
    "from utils import owners\n",
    "from utils import geo"
   ]
  },
  {
   "cell_type": "code",
   "execution_count": 2,
   "metadata": {},
   "outputs": [],
   "source": [
    "import pandas as pd\n",
    "import numpy as np\n",
    "import requests\n",
    "import json\n",
    "import os\n",
    "import re\n",
    "import geopandas as gp\n",
    "import urllib.parse"
   ]
  },
  {
   "attachments": {},
   "cell_type": "markdown",
   "metadata": {},
   "source": [
    "## Step 1: Map owner names to entries in the CCFS database"
   ]
  },
  {
   "cell_type": "code",
   "execution_count": null,
   "metadata": {},
   "outputs": [],
   "source": [
    "df_districts = gp.read_file(\"../../../../data/Council_Districts.geojson\")\n",
    "df = pd.read_csv('../../../../data/2020_Building_Energy_Benchmarking.csv')\n",
    "df = gp.GeoDataFrame(df, geometry=gp.points_from_xy(df.Longitude, df.Latitude))\n",
    "geo.clean_districts(df, df_districts)\n",
    "\n",
    "df_filtered = df.loc[df['Neighborhood'] != \"DOWNTOWN\"]\n",
    "\n",
    "building_owners = pd.read_csv('../../../../experiments/worst_offenders/updated_owners_2_15_23.csv')\n",
    "# Map tax ids to landlord name\n",
    "d = pd.Series(building_owners.Owner.values, index=building_owners.TaxParcelIdentificationNumber).to_dict()\n",
    "df_filtered['Landlord'] = df_filtered['TaxParcelIdentificationNumber'].map(lambda row: d.get(row, \"\"))\n",
    "\n",
    "df_filtered.head()"
   ]
  },
  {
   "cell_type": "code",
   "execution_count": 5,
   "metadata": {},
   "outputs": [],
   "source": [
    "unique_not_downtown_landlords = df_filtered['Landlord'].unique()\n",
    "unique_not_downtown_landlords = pd.DataFrame(unique_not_downtown_landlords, columns=['owner_name'])\n",
    "unique_not_downtown_landlords = unique_not_downtown_landlords[~unique_not_downtown_landlords['owner_name'].isin(['NOT FOUND', 'UNDEFINED'])]\n",
    "unique_not_downtown_landlords.to_csv('unique_not_downtown_landlords.csv')\n",
    "owner_search_list = list(unique_not_downtown_landlords['owner_name'])"
   ]
  },
  {
   "cell_type": "code",
   "execution_count": null,
   "metadata": {},
   "outputs": [],
   "source": [
    "lookup_helper = owners.LookupCompaniesHelper(os.getcwd())\n",
    "lookup_helper.get_company_matches_and_export(owner_search_list[:10],1)"
   ]
  },
  {
   "attachments": {},
   "cell_type": "markdown",
   "metadata": {},
   "source": [
    "## Step 2: Get all companies and their principals\n",
    "Now that we've mapped company names to their entries in the CCFS database, we create a list of all the companies and all the principals registered to that company. This all-matches-all-principals will be used in step 3 to iterate through and group by shared principals. "
   ]
  },
  {
   "cell_type": "code",
   "execution_count": null,
   "metadata": {},
   "outputs": [],
   "source": [
    "group_helper = owners.GroupCompaniesHelper(os.getcwd(), \"companies_and_potential_matches_ntd.csv\")"
   ]
  },
  {
   "cell_type": "code",
   "execution_count": null,
   "metadata": {},
   "outputs": [],
   "source": [
    "exact_matches_1 = pd.read_csv(\"exact_matches_1.csv\")\n",
    "exact_matches_1_principals = group_helper.get_companies_principals(exact_matches_1)"
   ]
  },
  {
   "cell_type": "code",
   "execution_count": null,
   "metadata": {},
   "outputs": [],
   "source": [
    "all_matches = pd.DataFrame([])\n",
    "for i in range(1, 11):\n",
    "    print(f\"Getting principals for exact_matches_{i}\")\n",
    "    exact_matches = pd.read_csv(f\"exact_matches_{i}.csv\")\n",
    "    exact_matches_principals = group_helper.get_companies_principals(exact_matches)\n",
    "    all_matches = pd.conact([all_matches, exact_matches_principals])\n",
    "\n",
    "for i in range(1, 10):\n",
    "    print(f\"Getting principals for potential_matches_{i}\")\n",
    "    potential_matches = pd.read_csv(f\"potential_matches_{i}.csv\")\n",
    "    potential_matches = potential_matches[potential_matches['isMatch']==1]\n",
    "    potential_matches_principals = group_helper.get_companies_principals(potential_matches)\n",
    "    all_matches = pd.conact([all_matches, potential_matches_principals])"
   ]
  },
  {
   "attachments": {},
   "cell_type": "markdown",
   "metadata": {},
   "source": [
    "# Step 3: Group Companies by shared principals\n",
    "Now that we have all of the companies in CCFS database and all of the principals registered to that company, we can group all of the results by shared principals. "
   ]
  },
  {
   "cell_type": "code",
   "execution_count": null,
   "metadata": {},
   "outputs": [],
   "source": [
    "companies_and_matches = group_helper.group_companies_by_principals(all_matches)"
   ]
  }
 ],
 "metadata": {
  "kernelspec": {
   "display_name": "bps",
   "language": "python",
   "name": "python3"
  },
  "language_info": {
   "codemirror_mode": {
    "name": "ipython",
    "version": 3
   },
   "file_extension": ".py",
   "mimetype": "text/x-python",
   "name": "python",
   "nbconvert_exporter": "python",
   "pygments_lexer": "ipython3",
   "version": "3.11.2"
  },
  "orig_nbformat": 4
 },
 "nbformat": 4,
 "nbformat_minor": 2
}
