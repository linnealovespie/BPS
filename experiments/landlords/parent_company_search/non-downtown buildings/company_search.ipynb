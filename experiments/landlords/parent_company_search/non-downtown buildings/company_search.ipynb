{
 "cells": [
  {
   "attachments": {},
   "cell_type": "markdown",
   "metadata": {},
   "source": [
    "# Grouping Companies for non-downtown buildings"
   ]
  },
  {
   "cell_type": "code",
   "execution_count": 1,
   "metadata": {},
   "outputs": [],
   "source": [
    "from utils import owners\n",
    "from utils import geo"
   ]
  },
  {
   "cell_type": "code",
   "execution_count": 2,
   "metadata": {},
   "outputs": [],
   "source": [
    "import pandas as pd\n",
    "import numpy as np\n",
    "import requests\n",
    "import json\n",
    "import os\n",
    "import re\n",
    "import geopandas as gp\n",
    "import urllib.parse"
   ]
  },
  {
   "attachments": {},
   "cell_type": "markdown",
   "metadata": {},
   "source": [
    "## Step 1: Map owner names to entries in the CCFS database"
   ]
  },
  {
   "cell_type": "code",
   "execution_count": 46,
   "metadata": {},
   "outputs": [
    {
     "name": "stdout",
     "output_type": "stream",
     "text": [
      "Building WATERWORKS OFFICE & MARINA 2353/ 4088803975 doesn't have a district POINT (-122.33895 47.63575) \n",
      "\t Found district 7 for WATERWORKS OFFICE & MARINA\n",
      "Building NAUTICAL LANDING 2381/ 4088804350 doesn't have a district POINT (-122.34219 47.64306) \n",
      "\t Found district 7 for NAUTICAL LANDING\n",
      "Building UNION HARBOR CONDOMINIUM 2540/ 8807200000 doesn't have a district POINT (-122.33003 47.6401) \n",
      "\t Found district 4 for UNION HARBOR CONDOMINIUM\n",
      "Building THE PIER AT LESCHI 2997/ 6780900000 doesn't have a district POINT (-122.28563 47.59926) \n",
      "\t Found district 3 for THE PIER AT LESCHI\n",
      "Building THE LAKESHORE 3046/ 1180001715 doesn't have a district POINT EMPTY \n",
      "Building EDUCARE 3218/ 2895800030 doesn't have a district POINT EMPTY \n"
     ]
    },
    {
     "name": "stderr",
     "output_type": "stream",
     "text": [
      "c:\\Users\\linne\\miniconda3\\envs\\bps\\lib\\site-packages\\geopandas\\geodataframe.py:1443: SettingWithCopyWarning: \n",
      "A value is trying to be set on a copy of a slice from a DataFrame.\n",
      "Try using .loc[row_indexer,col_indexer] = value instead\n",
      "\n",
      "See the caveats in the documentation: https://pandas.pydata.org/pandas-docs/stable/user_guide/indexing.html#returning-a-view-versus-a-copy\n",
      "  super().__setitem__(key, value)\n"
     ]
    },
    {
     "data": {
      "text/html": [
       "<div>\n",
       "<style scoped>\n",
       "    .dataframe tbody tr th:only-of-type {\n",
       "        vertical-align: middle;\n",
       "    }\n",
       "\n",
       "    .dataframe tbody tr th {\n",
       "        vertical-align: top;\n",
       "    }\n",
       "\n",
       "    .dataframe thead th {\n",
       "        text-align: right;\n",
       "    }\n",
       "</style>\n",
       "<table border=\"1\" class=\"dataframe\">\n",
       "  <thead>\n",
       "    <tr style=\"text-align: right;\">\n",
       "      <th></th>\n",
       "      <th>OSEBuildingID</th>\n",
       "      <th>DataYear</th>\n",
       "      <th>BuildingName</th>\n",
       "      <th>BuildingType</th>\n",
       "      <th>TaxParcelIdentificationNumber</th>\n",
       "      <th>Address</th>\n",
       "      <th>City</th>\n",
       "      <th>State</th>\n",
       "      <th>ZipCode</th>\n",
       "      <th>Latitude</th>\n",
       "      <th>...</th>\n",
       "      <th>SteamUse(kBtu)</th>\n",
       "      <th>NaturalGas(therms)</th>\n",
       "      <th>ComplianceStatus</th>\n",
       "      <th>ComplianceIssue</th>\n",
       "      <th>Electricity(kBtu)</th>\n",
       "      <th>NaturalGas(kBtu)</th>\n",
       "      <th>TotalGHGEmissions</th>\n",
       "      <th>GHGEmissionsIntensity</th>\n",
       "      <th>geometry</th>\n",
       "      <th>Landlord</th>\n",
       "    </tr>\n",
       "  </thead>\n",
       "  <tbody>\n",
       "    <tr>\n",
       "      <th>0</th>\n",
       "      <td>1</td>\n",
       "      <td>2020</td>\n",
       "      <td>MAYFLOWER PARK HOTEL</td>\n",
       "      <td>NonResidential</td>\n",
       "      <td>0659000030</td>\n",
       "      <td>405 OLIVE WAY</td>\n",
       "      <td>SEATTLE</td>\n",
       "      <td>WA</td>\n",
       "      <td>98101.0</td>\n",
       "      <td>47.61220</td>\n",
       "      <td>...</td>\n",
       "      <td>1457837</td>\n",
       "      <td>6326</td>\n",
       "      <td>Compliant</td>\n",
       "      <td>No Issue</td>\n",
       "      <td>2734351.0</td>\n",
       "      <td>632586.0</td>\n",
       "      <td>169.1</td>\n",
       "      <td>1.9</td>\n",
       "      <td>POINT (-122.33799 47.61220)</td>\n",
       "      <td></td>\n",
       "    </tr>\n",
       "    <tr>\n",
       "      <th>1</th>\n",
       "      <td>2</td>\n",
       "      <td>2020</td>\n",
       "      <td>PARAMOUNT HOTEL</td>\n",
       "      <td>NonResidential</td>\n",
       "      <td>0659000220</td>\n",
       "      <td>724 PINE ST</td>\n",
       "      <td>SEATTLE</td>\n",
       "      <td>WA</td>\n",
       "      <td>98101.0</td>\n",
       "      <td>47.61317</td>\n",
       "      <td>...</td>\n",
       "      <td>0</td>\n",
       "      <td>16614</td>\n",
       "      <td>Compliant</td>\n",
       "      <td>No Issue</td>\n",
       "      <td>1940292.0</td>\n",
       "      <td>1661402.0</td>\n",
       "      <td>98.6</td>\n",
       "      <td>1.1</td>\n",
       "      <td>POINT (-122.33393 47.61317)</td>\n",
       "      <td></td>\n",
       "    </tr>\n",
       "    <tr>\n",
       "      <th>2</th>\n",
       "      <td>3</td>\n",
       "      <td>2020</td>\n",
       "      <td>WESTIN HOTEL (Parent Building)</td>\n",
       "      <td>NonResidential</td>\n",
       "      <td>0659000475</td>\n",
       "      <td>1900 5TH AVE</td>\n",
       "      <td>SEATTLE</td>\n",
       "      <td>WA</td>\n",
       "      <td>98101.0</td>\n",
       "      <td>47.61367</td>\n",
       "      <td>...</td>\n",
       "      <td>10359896</td>\n",
       "      <td>8955</td>\n",
       "      <td>Compliant</td>\n",
       "      <td>No Issue</td>\n",
       "      <td>25517379.0</td>\n",
       "      <td>895500.0</td>\n",
       "      <td>1043.2</td>\n",
       "      <td>1.4</td>\n",
       "      <td>POINT (-122.33822 47.61367)</td>\n",
       "      <td></td>\n",
       "    </tr>\n",
       "    <tr>\n",
       "      <th>3</th>\n",
       "      <td>5</td>\n",
       "      <td>2020</td>\n",
       "      <td>HOTEL MAX</td>\n",
       "      <td>NonResidential</td>\n",
       "      <td>0659000640</td>\n",
       "      <td>620 STEWART ST</td>\n",
       "      <td>SEATTLE</td>\n",
       "      <td>WA</td>\n",
       "      <td>98101.0</td>\n",
       "      <td>47.61412</td>\n",
       "      <td>...</td>\n",
       "      <td>917724</td>\n",
       "      <td>8871</td>\n",
       "      <td>Compliant</td>\n",
       "      <td>No Issue</td>\n",
       "      <td>1177927.0</td>\n",
       "      <td>887059.0</td>\n",
       "      <td>129.6</td>\n",
       "      <td>2.1</td>\n",
       "      <td>POINT (-122.33664 47.61412)</td>\n",
       "      <td></td>\n",
       "    </tr>\n",
       "    <tr>\n",
       "      <th>4</th>\n",
       "      <td>8</td>\n",
       "      <td>2020</td>\n",
       "      <td>WARWICK SEATTLE HOTEL</td>\n",
       "      <td>NonResidential</td>\n",
       "      <td>0659000970</td>\n",
       "      <td>401 LENORA ST</td>\n",
       "      <td>SEATTLE</td>\n",
       "      <td>WA</td>\n",
       "      <td>98121.0</td>\n",
       "      <td>47.61375</td>\n",
       "      <td>...</td>\n",
       "      <td>0</td>\n",
       "      <td>46034</td>\n",
       "      <td>Compliant</td>\n",
       "      <td>No Issue</td>\n",
       "      <td>3761566.0</td>\n",
       "      <td>4603411.0</td>\n",
       "      <td>264.5</td>\n",
       "      <td>2.3</td>\n",
       "      <td>POINT (-122.34047 47.61375)</td>\n",
       "      <td></td>\n",
       "    </tr>\n",
       "  </tbody>\n",
       "</table>\n",
       "<p>5 rows × 44 columns</p>\n",
       "</div>"
      ],
      "text/plain": [
       "   OSEBuildingID  DataYear                    BuildingName    BuildingType  \\\n",
       "0              1      2020            MAYFLOWER PARK HOTEL  NonResidential   \n",
       "1              2      2020                 PARAMOUNT HOTEL  NonResidential   \n",
       "2              3      2020  WESTIN HOTEL (Parent Building)  NonResidential   \n",
       "3              5      2020                       HOTEL MAX  NonResidential   \n",
       "4              8      2020           WARWICK SEATTLE HOTEL  NonResidential   \n",
       "\n",
       "  TaxParcelIdentificationNumber         Address     City State  ZipCode  \\\n",
       "0                    0659000030   405 OLIVE WAY  SEATTLE    WA  98101.0   \n",
       "1                    0659000220     724 PINE ST  SEATTLE    WA  98101.0   \n",
       "2                    0659000475    1900 5TH AVE  SEATTLE    WA  98101.0   \n",
       "3                    0659000640  620 STEWART ST  SEATTLE    WA  98101.0   \n",
       "4                    0659000970   401 LENORA ST  SEATTLE    WA  98121.0   \n",
       "\n",
       "   Latitude  ...  SteamUse(kBtu) NaturalGas(therms)  ComplianceStatus  \\\n",
       "0  47.61220  ...         1457837               6326         Compliant   \n",
       "1  47.61317  ...               0              16614         Compliant   \n",
       "2  47.61367  ...        10359896               8955         Compliant   \n",
       "3  47.61412  ...          917724               8871         Compliant   \n",
       "4  47.61375  ...               0              46034         Compliant   \n",
       "\n",
       "   ComplianceIssue  Electricity(kBtu)  NaturalGas(kBtu)  TotalGHGEmissions  \\\n",
       "0         No Issue          2734351.0          632586.0              169.1   \n",
       "1         No Issue          1940292.0         1661402.0               98.6   \n",
       "2         No Issue         25517379.0          895500.0             1043.2   \n",
       "3         No Issue          1177927.0          887059.0              129.6   \n",
       "4         No Issue          3761566.0         4603411.0              264.5   \n",
       "\n",
       "   GHGEmissionsIntensity                     geometry  Landlord  \n",
       "0                    1.9  POINT (-122.33799 47.61220)            \n",
       "1                    1.1  POINT (-122.33393 47.61317)            \n",
       "2                    1.4  POINT (-122.33822 47.61367)            \n",
       "3                    2.1  POINT (-122.33664 47.61412)            \n",
       "4                    2.3  POINT (-122.34047 47.61375)            \n",
       "\n",
       "[5 rows x 44 columns]"
      ]
     },
     "execution_count": 46,
     "metadata": {},
     "output_type": "execute_result"
    }
   ],
   "source": [
    "df_districts = gp.read_file(\"../../../../data/Council_Districts.geojson\")\n",
    "df = pd.read_csv('../../../../data/2020_Building_Energy_Benchmarking.csv')\n",
    "df = gp.GeoDataFrame(df, geometry=gp.points_from_xy(df.Longitude, df.Latitude))\n",
    "geo.clean_districts(df, df_districts)\n",
    "\n",
    "df_filtered = df.loc[df['Neighborhood'] == \"DOWNTOWN\"]\n",
    "\n",
    "building_owners = pd.read_csv('../../../../experiments/worst_offenders/updated_owners_2_15_23.csv')\n",
    "# Map tax ids to landlord name\n",
    "d = pd.Series(building_owners.Owner.values, index=building_owners.TaxParcelIdentificationNumber).to_dict()\n",
    "df_filtered['Landlord'] = df_filtered['TaxParcelIdentificationNumber'].map(lambda row: d.get(str(row), \"\"))\n",
    "\n",
    "df_filtered.head()"
   ]
  },
  {
   "cell_type": "code",
   "execution_count": 37,
   "metadata": {},
   "outputs": [
    {
     "data": {
      "text/html": [
       "<div>\n",
       "<style scoped>\n",
       "    .dataframe tbody tr th:only-of-type {\n",
       "        vertical-align: middle;\n",
       "    }\n",
       "\n",
       "    .dataframe tbody tr th {\n",
       "        vertical-align: top;\n",
       "    }\n",
       "\n",
       "    .dataframe thead th {\n",
       "        text-align: right;\n",
       "    }\n",
       "</style>\n",
       "<table border=\"1\" class=\"dataframe\">\n",
       "  <thead>\n",
       "    <tr style=\"text-align: right;\">\n",
       "      <th></th>\n",
       "      <th>Unnamed: 0</th>\n",
       "      <th>OSEBuildingID</th>\n",
       "      <th>TaxParcelIdentificationNumber</th>\n",
       "      <th>DataYear</th>\n",
       "      <th>BuildingType</th>\n",
       "      <th>BuildingName</th>\n",
       "      <th>Owner</th>\n",
       "      <th>CouncilDistrictCode</th>\n",
       "      <th>Neighborhood</th>\n",
       "      <th>Units</th>\n",
       "      <th>...</th>\n",
       "      <th>SecondLargestPropertyUseTypeGFA</th>\n",
       "      <th>ThirdLargestPropertyUseType</th>\n",
       "      <th>ThirdLargestPropertyUseTypeGFA</th>\n",
       "      <th>Outlier</th>\n",
       "      <th>ComplianceIssue</th>\n",
       "      <th>ComplianceStatus</th>\n",
       "      <th>Comments</th>\n",
       "      <th>DefaultData</th>\n",
       "      <th>LegislationPropertyType</th>\n",
       "      <th>Dept</th>\n",
       "    </tr>\n",
       "  </thead>\n",
       "  <tbody>\n",
       "    <tr>\n",
       "      <th>3228</th>\n",
       "      <td>3228</td>\n",
       "      <td>278</td>\n",
       "      <td>8592900105</td>\n",
       "      <td>2020</td>\n",
       "      <td>NonResidential</td>\n",
       "      <td>ID VILLAGE SQUARE 1</td>\n",
       "      <td>700 OLIVE LP  % CLISE PROPERTIES</td>\n",
       "      <td>1.0</td>\n",
       "      <td>DOWNTOWN</td>\n",
       "      <td>NOT_FOUND</td>\n",
       "      <td>...</td>\n",
       "      <td>40091.0</td>\n",
       "      <td>K-12 School</td>\n",
       "      <td>3231.0</td>\n",
       "      <td>NaN</td>\n",
       "      <td>No Issue</td>\n",
       "      <td>Compliant</td>\n",
       "      <td>NaN</td>\n",
       "      <td>NaN</td>\n",
       "      <td>Other</td>\n",
       "      <td>NaN</td>\n",
       "    </tr>\n",
       "  </tbody>\n",
       "</table>\n",
       "<p>1 rows × 56 columns</p>\n",
       "</div>"
      ],
      "text/plain": [
       "      Unnamed: 0  OSEBuildingID TaxParcelIdentificationNumber  DataYear  \\\n",
       "3228        3228            278                    8592900105      2020   \n",
       "\n",
       "        BuildingType         BuildingName                             Owner  \\\n",
       "3228  NonResidential  ID VILLAGE SQUARE 1  700 OLIVE LP  % CLISE PROPERTIES   \n",
       "\n",
       "      CouncilDistrictCode Neighborhood      Units  ...  \\\n",
       "3228                  1.0     DOWNTOWN  NOT_FOUND  ...   \n",
       "\n",
       "      SecondLargestPropertyUseTypeGFA ThirdLargestPropertyUseType  \\\n",
       "3228                          40091.0                 K-12 School   \n",
       "\n",
       "     ThirdLargestPropertyUseTypeGFA Outlier  ComplianceIssue  \\\n",
       "3228                         3231.0     NaN         No Issue   \n",
       "\n",
       "      ComplianceStatus  Comments  DefaultData  LegislationPropertyType Dept  \n",
       "3228         Compliant       NaN          NaN                    Other  NaN  \n",
       "\n",
       "[1 rows x 56 columns]"
      ]
     },
     "execution_count": 37,
     "metadata": {},
     "output_type": "execute_result"
    }
   ],
   "source": [
    "building_owners[building_owners[\"TaxParcelIdentificationNumber\"] == \"8592900105\"]"
   ]
  },
  {
   "cell_type": "code",
   "execution_count": 56,
   "metadata": {},
   "outputs": [],
   "source": [
    "df_filtered = df.loc[df['Neighborhood'] == \"DOWNTOWN\"]\n",
    "df_90k = df_filtered[df_filtered[\"PropertyGFABuilding(s)\"] > 90000]\n",
    "df_90k = df_90k[df_90k['PropertyGFABuilding(s)'] < 100000]"
   ]
  },
  {
   "cell_type": "code",
   "execution_count": 57,
   "metadata": {},
   "outputs": [],
   "source": [
    "df_filtered = df_90k"
   ]
  },
  {
   "cell_type": "code",
   "execution_count": 66,
   "metadata": {},
   "outputs": [],
   "source": [
    "df_filtered['SearchTerm'] = df_filtered['TaxParcelIdentificationNumber'].map(lambda row: d.get(str(row), \"\"))"
   ]
  },
  {
   "cell_type": "code",
   "execution_count": 67,
   "metadata": {},
   "outputs": [],
   "source": [
    "unique_not_downtown_landlords = df_filtered['Landlord'].unique()\n",
    "unique_not_downtown_landlords = pd.DataFrame(unique_not_downtown_landlords, columns=['owner_name'])\n",
    "unique_not_downtown_landlords = unique_not_downtown_landlords[~unique_not_downtown_landlords['owner_name'].isin(['NOT FOUND', 'UNDEFINED'])]\n",
    "unique_not_downtown_landlords.to_csv('unique_90k_downtown.csv')\n",
    "owner_search_list = list(unique_not_downtown_landlords['owner_name'])"
   ]
  },
  {
   "cell_type": "code",
   "execution_count": 68,
   "metadata": {},
   "outputs": [
    {
     "data": {
      "text/plain": [
       "['700 OLIVE LP  % CLISE PROPERTIES',\n",
       " '',\n",
       " 'WESTERN OFFICE PORTFOLIO PROPERTY OWNER LLC',\n",
       " 'PUBLIC STORAGE',\n",
       " 'FG92 LENORA LLC+CWS LENORA LP',\n",
       " 'PLYMOUTH HOUSING GROUP',\n",
       " 'PIONEER PRESERVATION ASSOCIATES LP',\n",
       " 'DA LI INTERNATIONAL LLC']"
      ]
     },
     "execution_count": 68,
     "metadata": {},
     "output_type": "execute_result"
    }
   ],
   "source": [
    "owner_search_list"
   ]
  },
  {
   "cell_type": "code",
   "execution_count": 70,
   "metadata": {},
   "outputs": [
    {
     "name": "stdout",
     "output_type": "stream",
     "text": [
      "Saving output files to c:\\Users\\linne\\Documents\\BPS\\experiments\\landlords\\parent_company_search\\non-downtown buildings\n"
     ]
    },
    {
     "ename": "KeyError",
     "evalue": "'SearchTerm'",
     "output_type": "error",
     "traceback": [
      "\u001b[1;31m---------------------------------------------------------------------------\u001b[0m",
      "\u001b[1;31mKeyError\u001b[0m                                  Traceback (most recent call last)",
      "File \u001b[1;32mc:\\Users\\linne\\miniconda3\\envs\\bps\\lib\\site-packages\\pandas\\core\\indexes\\base.py:3803\u001b[0m, in \u001b[0;36mIndex.get_loc\u001b[1;34m(self, key, method, tolerance)\u001b[0m\n\u001b[0;32m   3802\u001b[0m \u001b[39mtry\u001b[39;00m:\n\u001b[1;32m-> 3803\u001b[0m     \u001b[39mreturn\u001b[39;00m \u001b[39mself\u001b[39;49m\u001b[39m.\u001b[39;49m_engine\u001b[39m.\u001b[39;49mget_loc(casted_key)\n\u001b[0;32m   3804\u001b[0m \u001b[39mexcept\u001b[39;00m \u001b[39mKeyError\u001b[39;00m \u001b[39mas\u001b[39;00m err:\n",
      "File \u001b[1;32mc:\\Users\\linne\\miniconda3\\envs\\bps\\lib\\site-packages\\pandas\\_libs\\index.pyx:138\u001b[0m, in \u001b[0;36mpandas._libs.index.IndexEngine.get_loc\u001b[1;34m()\u001b[0m\n",
      "File \u001b[1;32mc:\\Users\\linne\\miniconda3\\envs\\bps\\lib\\site-packages\\pandas\\_libs\\index.pyx:146\u001b[0m, in \u001b[0;36mpandas._libs.index.IndexEngine.get_loc\u001b[1;34m()\u001b[0m\n",
      "File \u001b[1;32mpandas\\_libs\\index_class_helper.pxi:49\u001b[0m, in \u001b[0;36mpandas._libs.index.Int64Engine._check_type\u001b[1;34m()\u001b[0m\n",
      "\u001b[1;31mKeyError\u001b[0m: 'SearchTerm'",
      "\nThe above exception was the direct cause of the following exception:\n",
      "\u001b[1;31mKeyError\u001b[0m                                  Traceback (most recent call last)",
      "Cell \u001b[1;32mIn[70], line 2\u001b[0m\n\u001b[0;32m      1\u001b[0m lookup_helper \u001b[39m=\u001b[39m owners\u001b[39m.\u001b[39mLookupCompaniesHelper(os\u001b[39m.\u001b[39mgetcwd())\n\u001b[1;32m----> 2\u001b[0m lookup_helper\u001b[39m.\u001b[39;49mget_company_matches_and_export(owner_search_list[:\u001b[39m10\u001b[39;49m],\u001b[39m1\u001b[39;49m)\n",
      "File \u001b[1;32mc:\\Users\\linne\\miniconda3\\envs\\bps\\lib\\site-packages\\utils\\owners.py:170\u001b[0m, in \u001b[0;36mLookupCompaniesHelper.get_company_matches_and_export\u001b[1;34m(self, owner_list, x)\u001b[0m\n\u001b[0;32m    165\u001b[0m \u001b[39m\"\"\"\u001b[39;00m\n\u001b[0;32m    166\u001b[0m \u001b[39m    Given a list of owners `owner_list` and batch number `x`, get all matches and save to exact, potential, and additional\u001b[39;00m\n\u001b[0;32m    167\u001b[0m \u001b[39m    match CSV's in the folder determined by `output_path`\u001b[39;00m\n\u001b[0;32m    168\u001b[0m \u001b[39m\"\"\"\u001b[39;00m\n\u001b[0;32m    169\u001b[0m \u001b[39mprint\u001b[39m(\u001b[39mf\u001b[39m\u001b[39m\"\u001b[39m\u001b[39mSaving output files to \u001b[39m\u001b[39m{\u001b[39;00m\u001b[39mself\u001b[39m\u001b[39m.\u001b[39moutput_path\u001b[39m}\u001b[39;00m\u001b[39m\"\u001b[39m)\n\u001b[1;32m--> 170\u001b[0m exact_matches, potential_matches, additional_matches \u001b[39m=\u001b[39m \u001b[39mself\u001b[39;49m\u001b[39m.\u001b[39;49mget_company_list_name_matches(owner_list)\n\u001b[0;32m    172\u001b[0m exact_matches\u001b[39m.\u001b[39mto_csv(\u001b[39mf\u001b[39m\u001b[39m'\u001b[39m\u001b[39m{\u001b[39;00m\u001b[39mself\u001b[39m\u001b[39m.\u001b[39moutput_path\u001b[39m}\u001b[39;00m\u001b[39m/exact_matches_\u001b[39m\u001b[39m{\u001b[39;00mx\u001b[39m}\u001b[39;00m\u001b[39m.csv\u001b[39m\u001b[39m'\u001b[39m)\n\u001b[0;32m    173\u001b[0m potential_matches\u001b[39m.\u001b[39mto_csv(\u001b[39mf\u001b[39m\u001b[39m'\u001b[39m\u001b[39m{\u001b[39;00m\u001b[39mself\u001b[39m\u001b[39m.\u001b[39moutput_path\u001b[39m}\u001b[39;00m\u001b[39m/potential_matches_\u001b[39m\u001b[39m{\u001b[39;00mx\u001b[39m}\u001b[39;00m\u001b[39m.csv\u001b[39m\u001b[39m'\u001b[39m)\n",
      "File \u001b[1;32mc:\\Users\\linne\\miniconda3\\envs\\bps\\lib\\site-packages\\utils\\owners.py:157\u001b[0m, in \u001b[0;36mLookupCompaniesHelper.get_company_list_name_matches\u001b[1;34m(self, owner_list)\u001b[0m\n\u001b[0;32m    155\u001b[0m \u001b[39mfor\u001b[39;00m owner \u001b[39min\u001b[39;00m owner_list:\n\u001b[0;32m    156\u001b[0m     matches \u001b[39m=\u001b[39m \u001b[39mself\u001b[39m\u001b[39m.\u001b[39m_get_potential_company_name_matches(owner)\n\u001b[1;32m--> 157\u001b[0m     temp_exact, temp_potential, temp_add \u001b[39m=\u001b[39m \u001b[39mself\u001b[39;49m\u001b[39m.\u001b[39;49m_separate_search_results(matches)\n\u001b[0;32m    158\u001b[0m     exact_matches \u001b[39m=\u001b[39m pd\u001b[39m.\u001b[39mconcat([temp_exact, exact_matches], ignore_index\u001b[39m=\u001b[39m\u001b[39mTrue\u001b[39;00m)\n\u001b[0;32m    159\u001b[0m     potential_matches \u001b[39m=\u001b[39m pd\u001b[39m.\u001b[39mconcat([temp_potential, potential_matches], ignore_index\u001b[39m=\u001b[39m\u001b[39mTrue\u001b[39;00m)\n",
      "File \u001b[1;32mc:\\Users\\linne\\miniconda3\\envs\\bps\\lib\\site-packages\\utils\\owners.py:134\u001b[0m, in \u001b[0;36mLookupCompaniesHelper._separate_search_results\u001b[1;34m(self, results)\u001b[0m\n\u001b[0;32m    131\u001b[0m potential_matches \u001b[39m=\u001b[39m \u001b[39mself\u001b[39m\u001b[39m.\u001b[39m_get_empty_df()\n\u001b[0;32m    132\u001b[0m additional_matches \u001b[39m=\u001b[39m \u001b[39mself\u001b[39m\u001b[39m.\u001b[39m_get_empty_df()\n\u001b[1;32m--> 134\u001b[0m exact_match \u001b[39m=\u001b[39m results[results\u001b[39m.\u001b[39;49mapply(\u001b[39mlambda\u001b[39;49;00m row: is_exact_match(row))]\n\u001b[0;32m    135\u001b[0m \u001b[39mif\u001b[39;00m \u001b[39mlen\u001b[39m(exact_match) \u001b[39m>\u001b[39m \u001b[39m0\u001b[39m:\n\u001b[0;32m    136\u001b[0m     exact_matches \u001b[39m=\u001b[39m pd\u001b[39m.\u001b[39mconcat([exact_matches, exact_match], ignore_index\u001b[39m=\u001b[39m\u001b[39mTrue\u001b[39;00m)\n",
      "File \u001b[1;32mc:\\Users\\linne\\miniconda3\\envs\\bps\\lib\\site-packages\\pandas\\core\\frame.py:9565\u001b[0m, in \u001b[0;36mDataFrame.apply\u001b[1;34m(self, func, axis, raw, result_type, args, **kwargs)\u001b[0m\n\u001b[0;32m   9554\u001b[0m \u001b[39mfrom\u001b[39;00m \u001b[39mpandas\u001b[39;00m\u001b[39m.\u001b[39;00m\u001b[39mcore\u001b[39;00m\u001b[39m.\u001b[39;00m\u001b[39mapply\u001b[39;00m \u001b[39mimport\u001b[39;00m frame_apply\n\u001b[0;32m   9556\u001b[0m op \u001b[39m=\u001b[39m frame_apply(\n\u001b[0;32m   9557\u001b[0m     \u001b[39mself\u001b[39m,\n\u001b[0;32m   9558\u001b[0m     func\u001b[39m=\u001b[39mfunc,\n\u001b[1;32m   (...)\u001b[0m\n\u001b[0;32m   9563\u001b[0m     kwargs\u001b[39m=\u001b[39mkwargs,\n\u001b[0;32m   9564\u001b[0m )\n\u001b[1;32m-> 9565\u001b[0m \u001b[39mreturn\u001b[39;00m op\u001b[39m.\u001b[39;49mapply()\u001b[39m.\u001b[39m__finalize__(\u001b[39mself\u001b[39m, method\u001b[39m=\u001b[39m\u001b[39m\"\u001b[39m\u001b[39mapply\u001b[39m\u001b[39m\"\u001b[39m)\n",
      "File \u001b[1;32mc:\\Users\\linne\\miniconda3\\envs\\bps\\lib\\site-packages\\pandas\\core\\apply.py:746\u001b[0m, in \u001b[0;36mFrameApply.apply\u001b[1;34m(self)\u001b[0m\n\u001b[0;32m    743\u001b[0m \u001b[39melif\u001b[39;00m \u001b[39mself\u001b[39m\u001b[39m.\u001b[39mraw:\n\u001b[0;32m    744\u001b[0m     \u001b[39mreturn\u001b[39;00m \u001b[39mself\u001b[39m\u001b[39m.\u001b[39mapply_raw()\n\u001b[1;32m--> 746\u001b[0m \u001b[39mreturn\u001b[39;00m \u001b[39mself\u001b[39;49m\u001b[39m.\u001b[39;49mapply_standard()\n",
      "File \u001b[1;32mc:\\Users\\linne\\miniconda3\\envs\\bps\\lib\\site-packages\\pandas\\core\\apply.py:873\u001b[0m, in \u001b[0;36mFrameApply.apply_standard\u001b[1;34m(self)\u001b[0m\n\u001b[0;32m    872\u001b[0m \u001b[39mdef\u001b[39;00m \u001b[39mapply_standard\u001b[39m(\u001b[39mself\u001b[39m):\n\u001b[1;32m--> 873\u001b[0m     results, res_index \u001b[39m=\u001b[39m \u001b[39mself\u001b[39;49m\u001b[39m.\u001b[39;49mapply_series_generator()\n\u001b[0;32m    875\u001b[0m     \u001b[39m# wrap results\u001b[39;00m\n\u001b[0;32m    876\u001b[0m     \u001b[39mreturn\u001b[39;00m \u001b[39mself\u001b[39m\u001b[39m.\u001b[39mwrap_results(results, res_index)\n",
      "File \u001b[1;32mc:\\Users\\linne\\miniconda3\\envs\\bps\\lib\\site-packages\\pandas\\core\\apply.py:889\u001b[0m, in \u001b[0;36mFrameApply.apply_series_generator\u001b[1;34m(self)\u001b[0m\n\u001b[0;32m    886\u001b[0m \u001b[39mwith\u001b[39;00m option_context(\u001b[39m\"\u001b[39m\u001b[39mmode.chained_assignment\u001b[39m\u001b[39m\"\u001b[39m, \u001b[39mNone\u001b[39;00m):\n\u001b[0;32m    887\u001b[0m     \u001b[39mfor\u001b[39;00m i, v \u001b[39min\u001b[39;00m \u001b[39menumerate\u001b[39m(series_gen):\n\u001b[0;32m    888\u001b[0m         \u001b[39m# ignore SettingWithCopy here in case the user mutates\u001b[39;00m\n\u001b[1;32m--> 889\u001b[0m         results[i] \u001b[39m=\u001b[39m \u001b[39mself\u001b[39;49m\u001b[39m.\u001b[39;49mf(v)\n\u001b[0;32m    890\u001b[0m         \u001b[39mif\u001b[39;00m \u001b[39misinstance\u001b[39m(results[i], ABCSeries):\n\u001b[0;32m    891\u001b[0m             \u001b[39m# If we have a view on v, we need to make a copy because\u001b[39;00m\n\u001b[0;32m    892\u001b[0m             \u001b[39m#  series_generator will swap out the underlying data\u001b[39;00m\n\u001b[0;32m    893\u001b[0m             results[i] \u001b[39m=\u001b[39m results[i]\u001b[39m.\u001b[39mcopy(deep\u001b[39m=\u001b[39m\u001b[39mFalse\u001b[39;00m)\n",
      "File \u001b[1;32mc:\\Users\\linne\\miniconda3\\envs\\bps\\lib\\site-packages\\utils\\owners.py:134\u001b[0m, in \u001b[0;36mLookupCompaniesHelper._separate_search_results.<locals>.<lambda>\u001b[1;34m(row)\u001b[0m\n\u001b[0;32m    131\u001b[0m potential_matches \u001b[39m=\u001b[39m \u001b[39mself\u001b[39m\u001b[39m.\u001b[39m_get_empty_df()\n\u001b[0;32m    132\u001b[0m additional_matches \u001b[39m=\u001b[39m \u001b[39mself\u001b[39m\u001b[39m.\u001b[39m_get_empty_df()\n\u001b[1;32m--> 134\u001b[0m exact_match \u001b[39m=\u001b[39m results[results\u001b[39m.\u001b[39mapply(\u001b[39mlambda\u001b[39;00m row: is_exact_match(row))]\n\u001b[0;32m    135\u001b[0m \u001b[39mif\u001b[39;00m \u001b[39mlen\u001b[39m(exact_match) \u001b[39m>\u001b[39m \u001b[39m0\u001b[39m:\n\u001b[0;32m    136\u001b[0m     exact_matches \u001b[39m=\u001b[39m pd\u001b[39m.\u001b[39mconcat([exact_matches, exact_match], ignore_index\u001b[39m=\u001b[39m\u001b[39mTrue\u001b[39;00m)\n",
      "File \u001b[1;32mc:\\Users\\linne\\miniconda3\\envs\\bps\\lib\\site-packages\\utils\\owners.py:111\u001b[0m, in \u001b[0;36mLookupCompaniesHelper._separate_search_results.<locals>.is_exact_match\u001b[1;34m(row)\u001b[0m\n\u001b[0;32m    109\u001b[0m \u001b[39mdef\u001b[39;00m \u001b[39mis_exact_match\u001b[39m(row):\n\u001b[0;32m    110\u001b[0m     \u001b[39m\"\"\" Extract exact matches, including some regex magic. \"\"\"\u001b[39;00m\n\u001b[1;32m--> 111\u001b[0m     search \u001b[39m=\u001b[39m row[\u001b[39m\"\u001b[39;49m\u001b[39mSearchTerm\u001b[39;49m\u001b[39m\"\u001b[39;49m]\n\u001b[0;32m    112\u001b[0m     result \u001b[39m=\u001b[39m row[\u001b[39m\"\u001b[39m\u001b[39mBusinessName\u001b[39m\u001b[39m\"\u001b[39m]\n\u001b[0;32m    114\u001b[0m     \u001b[39m# examples: LLC, LLP, L L C, L.L.C., L.L.C. L.L.P., L.L.P, LLC.\u001b[39;00m\n\u001b[0;32m    115\u001b[0m     \u001b[39m# Limited Partnership, Limited liability company\u001b[39;00m\n",
      "File \u001b[1;32mc:\\Users\\linne\\miniconda3\\envs\\bps\\lib\\site-packages\\pandas\\core\\series.py:981\u001b[0m, in \u001b[0;36mSeries.__getitem__\u001b[1;34m(self, key)\u001b[0m\n\u001b[0;32m    978\u001b[0m     \u001b[39mreturn\u001b[39;00m \u001b[39mself\u001b[39m\u001b[39m.\u001b[39m_values[key]\n\u001b[0;32m    980\u001b[0m \u001b[39melif\u001b[39;00m key_is_scalar:\n\u001b[1;32m--> 981\u001b[0m     \u001b[39mreturn\u001b[39;00m \u001b[39mself\u001b[39;49m\u001b[39m.\u001b[39;49m_get_value(key)\n\u001b[0;32m    983\u001b[0m \u001b[39mif\u001b[39;00m is_hashable(key):\n\u001b[0;32m    984\u001b[0m     \u001b[39m# Otherwise index.get_value will raise InvalidIndexError\u001b[39;00m\n\u001b[0;32m    985\u001b[0m     \u001b[39mtry\u001b[39;00m:\n\u001b[0;32m    986\u001b[0m         \u001b[39m# For labels that don't resolve as scalars like tuples and frozensets\u001b[39;00m\n",
      "File \u001b[1;32mc:\\Users\\linne\\miniconda3\\envs\\bps\\lib\\site-packages\\pandas\\core\\series.py:1089\u001b[0m, in \u001b[0;36mSeries._get_value\u001b[1;34m(self, label, takeable)\u001b[0m\n\u001b[0;32m   1086\u001b[0m     \u001b[39mreturn\u001b[39;00m \u001b[39mself\u001b[39m\u001b[39m.\u001b[39m_values[label]\n\u001b[0;32m   1088\u001b[0m \u001b[39m# Similar to Index.get_value, but we do not fall back to positional\u001b[39;00m\n\u001b[1;32m-> 1089\u001b[0m loc \u001b[39m=\u001b[39m \u001b[39mself\u001b[39;49m\u001b[39m.\u001b[39;49mindex\u001b[39m.\u001b[39;49mget_loc(label)\n\u001b[0;32m   1090\u001b[0m \u001b[39mreturn\u001b[39;00m \u001b[39mself\u001b[39m\u001b[39m.\u001b[39mindex\u001b[39m.\u001b[39m_get_values_for_loc(\u001b[39mself\u001b[39m, loc, label)\n",
      "File \u001b[1;32mc:\\Users\\linne\\miniconda3\\envs\\bps\\lib\\site-packages\\pandas\\core\\indexes\\base.py:3805\u001b[0m, in \u001b[0;36mIndex.get_loc\u001b[1;34m(self, key, method, tolerance)\u001b[0m\n\u001b[0;32m   3803\u001b[0m     \u001b[39mreturn\u001b[39;00m \u001b[39mself\u001b[39m\u001b[39m.\u001b[39m_engine\u001b[39m.\u001b[39mget_loc(casted_key)\n\u001b[0;32m   3804\u001b[0m \u001b[39mexcept\u001b[39;00m \u001b[39mKeyError\u001b[39;00m \u001b[39mas\u001b[39;00m err:\n\u001b[1;32m-> 3805\u001b[0m     \u001b[39mraise\u001b[39;00m \u001b[39mKeyError\u001b[39;00m(key) \u001b[39mfrom\u001b[39;00m \u001b[39merr\u001b[39;00m\n\u001b[0;32m   3806\u001b[0m \u001b[39mexcept\u001b[39;00m \u001b[39mTypeError\u001b[39;00m:\n\u001b[0;32m   3807\u001b[0m     \u001b[39m# If we have a listlike key, _check_indexing_error will raise\u001b[39;00m\n\u001b[0;32m   3808\u001b[0m     \u001b[39m#  InvalidIndexError. Otherwise we fall through and re-raise\u001b[39;00m\n\u001b[0;32m   3809\u001b[0m     \u001b[39m#  the TypeError.\u001b[39;00m\n\u001b[0;32m   3810\u001b[0m     \u001b[39mself\u001b[39m\u001b[39m.\u001b[39m_check_indexing_error(key)\n",
      "\u001b[1;31mKeyError\u001b[0m: 'SearchTerm'"
     ]
    }
   ],
   "source": [
    "lookup_helper = owners.LookupCompaniesHelper(os.getcwd())\n",
    "lookup_helper.get_company_matches_and_export(owner_search_list[:10],1)"
   ]
  },
  {
   "attachments": {},
   "cell_type": "markdown",
   "metadata": {},
   "source": [
    "## Step 2: Get all companies and their principals\n",
    "Now that we've mapped company names to their entries in the CCFS database, we create a list of all the companies and all the principals registered to that company. This all-matches-all-principals will be used in step 3 to iterate through and group by shared principals. "
   ]
  },
  {
   "cell_type": "code",
   "execution_count": null,
   "metadata": {},
   "outputs": [],
   "source": [
    "group_helper = owners.GroupCompaniesHelper(os.getcwd(), \"companies_and_potential_matches_ntd.csv\")"
   ]
  },
  {
   "cell_type": "code",
   "execution_count": null,
   "metadata": {},
   "outputs": [],
   "source": [
    "exact_matches_1 = pd.read_csv(\"exact_matches_1.csv\")\n",
    "exact_matches_1_principals = group_helper.get_companies_principals(exact_matches_1)"
   ]
  },
  {
   "cell_type": "code",
   "execution_count": null,
   "metadata": {},
   "outputs": [],
   "source": [
    "all_matches = pd.DataFrame([])\n",
    "for i in range(1, 11):\n",
    "    print(f\"Getting principals for exact_matches_{i}\")\n",
    "    exact_matches = pd.read_csv(f\"exact_matches_{i}.csv\")\n",
    "    exact_matches_principals = group_helper.get_companies_principals(exact_matches)\n",
    "    all_matches = pd.conact([all_matches, exact_matches_principals])\n",
    "\n",
    "for i in range(1, 10):\n",
    "    print(f\"Getting principals for potential_matches_{i}\")\n",
    "    potential_matches = pd.read_csv(f\"potential_matches_{i}.csv\")\n",
    "    potential_matches = potential_matches[potential_matches['isMatch']==1]\n",
    "    potential_matches_principals = group_helper.get_companies_principals(potential_matches)\n",
    "    all_matches = pd.conact([all_matches, potential_matches_principals])"
   ]
  },
  {
   "attachments": {},
   "cell_type": "markdown",
   "metadata": {},
   "source": [
    "# Step 3: Group Companies by shared principals\n",
    "Now that we have all of the companies in CCFS database and all of the principals registered to that company, we can group all of the results by shared principals. "
   ]
  },
  {
   "cell_type": "code",
   "execution_count": null,
   "metadata": {},
   "outputs": [],
   "source": [
    "companies_and_matches = group_helper.group_companies_by_principals(all_matches)"
   ]
  }
 ],
 "metadata": {
  "kernelspec": {
   "display_name": "bps",
   "language": "python",
   "name": "python3"
  },
  "language_info": {
   "codemirror_mode": {
    "name": "ipython",
    "version": 3
   },
   "file_extension": ".py",
   "mimetype": "text/x-python",
   "name": "python",
   "nbconvert_exporter": "python",
   "pygments_lexer": "ipython3",
   "version": "3.10.9"
  },
  "orig_nbformat": 4
 },
 "nbformat": 4,
 "nbformat_minor": 2
}
