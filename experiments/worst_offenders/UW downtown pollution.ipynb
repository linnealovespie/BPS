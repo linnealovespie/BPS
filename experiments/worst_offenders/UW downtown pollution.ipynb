{
 "cells": [
  {
   "cell_type": "code",
   "execution_count": 1,
   "id": "12328719",
   "metadata": {},
   "outputs": [],
   "source": [
    "import pandas"
   ]
  },
  {
   "cell_type": "code",
   "execution_count": 4,
   "id": "2a457328",
   "metadata": {},
   "outputs": [],
   "source": [
    "# taken from all_landlords_total_energy_use\n",
    "uw_downtown_tax_ids = [7137830000, 137830010, 7137830020, 7137830030, 7137830040]"
   ]
  },
  {
   "cell_type": "code",
   "execution_count": 3,
   "id": "7ab90963",
   "metadata": {},
   "outputs": [],
   "source": [
    "uw_buildings = pandas.read_csv('university_of_washington_buildings.csv')"
   ]
  },
  {
   "cell_type": "code",
   "execution_count": 14,
   "id": "e5f62461",
   "metadata": {},
   "outputs": [],
   "source": [
    "uw_downtown_buildings = uw_buildings[uw_buildings['TaxParcelIdentificationNumber'].isin(uw_downtown_tax_ids)]"
   ]
  },
  {
   "cell_type": "code",
   "execution_count": 7,
   "id": "672636dd",
   "metadata": {},
   "outputs": [
    {
     "data": {
      "text/html": [
       "<div>\n",
       "<style scoped>\n",
       "    .dataframe tbody tr th:only-of-type {\n",
       "        vertical-align: middle;\n",
       "    }\n",
       "\n",
       "    .dataframe tbody tr th {\n",
       "        vertical-align: top;\n",
       "    }\n",
       "\n",
       "    .dataframe thead th {\n",
       "        text-align: right;\n",
       "    }\n",
       "</style>\n",
       "<table border=\"1\" class=\"dataframe\">\n",
       "  <thead>\n",
       "    <tr style=\"text-align: right;\">\n",
       "      <th></th>\n",
       "      <th>Unnamed: 0</th>\n",
       "      <th>OSEBuildingID</th>\n",
       "      <th>TaxParcelIdentificationNumber</th>\n",
       "      <th>DataYear</th>\n",
       "      <th>BuildingType</th>\n",
       "      <th>BuildingName</th>\n",
       "      <th>Owner</th>\n",
       "      <th>CouncilDistrictCode</th>\n",
       "      <th>Neighborhood</th>\n",
       "      <th>Units</th>\n",
       "      <th>...</th>\n",
       "      <th>SecondLargestPropertyUseTypeGFA</th>\n",
       "      <th>ThirdLargestPropertyUseType</th>\n",
       "      <th>ThirdLargestPropertyUseTypeGFA</th>\n",
       "      <th>Outlier</th>\n",
       "      <th>ComplianceIssue</th>\n",
       "      <th>ComplianceStatus</th>\n",
       "      <th>Comments</th>\n",
       "      <th>DefaultData</th>\n",
       "      <th>LegislationPropertyType</th>\n",
       "      <th>Dept</th>\n",
       "    </tr>\n",
       "  </thead>\n",
       "  <tbody>\n",
       "    <tr>\n",
       "      <th>1</th>\n",
       "      <td>71</td>\n",
       "      <td>389</td>\n",
       "      <td>7137830000</td>\n",
       "      <td>2020</td>\n",
       "      <td>NonResidential</td>\n",
       "      <td>FAIRMONT OLYMPIC HOTEL</td>\n",
       "      <td>UNIVERSITY OF WASHINGTON</td>\n",
       "      <td>1</td>\n",
       "      <td>DOWNTOWN</td>\n",
       "      <td>282</td>\n",
       "      <td>...</td>\n",
       "      <td>NaN</td>\n",
       "      <td>NaN</td>\n",
       "      <td>NaN</td>\n",
       "      <td>NaN</td>\n",
       "      <td>No Issue</td>\n",
       "      <td>Compliant</td>\n",
       "      <td>NaN</td>\n",
       "      <td>NaN</td>\n",
       "      <td>Hotel</td>\n",
       "      <td>UNDEFINED</td>\n",
       "    </tr>\n",
       "    <tr>\n",
       "      <th>5</th>\n",
       "      <td>103</td>\n",
       "      <td>388</td>\n",
       "      <td>7137830040</td>\n",
       "      <td>2020</td>\n",
       "      <td>NonResidential</td>\n",
       "      <td>RAINIER TOWER</td>\n",
       "      <td>UNIVERSITY OF WASHINGTON</td>\n",
       "      <td>1</td>\n",
       "      <td>DOWNTOWN</td>\n",
       "      <td>NOT_FOUND</td>\n",
       "      <td>...</td>\n",
       "      <td>NaN</td>\n",
       "      <td>NaN</td>\n",
       "      <td>NaN</td>\n",
       "      <td>NaN</td>\n",
       "      <td>No Issue</td>\n",
       "      <td>Compliant</td>\n",
       "      <td>NaN</td>\n",
       "      <td>NaN</td>\n",
       "      <td>Office</td>\n",
       "      <td>UNDEFINED</td>\n",
       "    </tr>\n",
       "  </tbody>\n",
       "</table>\n",
       "<p>2 rows × 56 columns</p>\n",
       "</div>"
      ],
      "text/plain": [
       "   Unnamed: 0  OSEBuildingID  TaxParcelIdentificationNumber  DataYear  \\\n",
       "1          71            389                     7137830000      2020   \n",
       "5         103            388                     7137830040      2020   \n",
       "\n",
       "     BuildingType            BuildingName                     Owner  \\\n",
       "1  NonResidential  FAIRMONT OLYMPIC HOTEL  UNIVERSITY OF WASHINGTON   \n",
       "5  NonResidential           RAINIER TOWER  UNIVERSITY OF WASHINGTON   \n",
       "\n",
       "   CouncilDistrictCode Neighborhood      Units  ...  \\\n",
       "1                    1     DOWNTOWN        282  ...   \n",
       "5                    1     DOWNTOWN  NOT_FOUND  ...   \n",
       "\n",
       "   SecondLargestPropertyUseTypeGFA ThirdLargestPropertyUseType  \\\n",
       "1                              NaN                         NaN   \n",
       "5                              NaN                         NaN   \n",
       "\n",
       "  ThirdLargestPropertyUseTypeGFA Outlier  ComplianceIssue  ComplianceStatus  \\\n",
       "1                            NaN     NaN         No Issue         Compliant   \n",
       "5                            NaN     NaN         No Issue         Compliant   \n",
       "\n",
       "   Comments  DefaultData  LegislationPropertyType       Dept  \n",
       "1       NaN          NaN                    Hotel  UNDEFINED  \n",
       "5       NaN          NaN                   Office  UNDEFINED  \n",
       "\n",
       "[2 rows x 56 columns]"
      ]
     },
     "execution_count": 7,
     "metadata": {},
     "output_type": "execute_result"
    }
   ],
   "source": [
    "uw_downtown_buildings"
   ]
  },
  {
   "cell_type": "code",
   "execution_count": null,
   "id": "5535b5a7",
   "metadata": {},
   "outputs": [],
   "source": [
    "Boo, that's not all the buildings"
   ]
  },
  {
   "cell_type": "code",
   "execution_count": 8,
   "id": "511436a8",
   "metadata": {},
   "outputs": [],
   "source": [
    "import pandas_gbq"
   ]
  },
  {
   "cell_type": "code",
   "execution_count": 9,
   "id": "785febb5",
   "metadata": {},
   "outputs": [
    {
     "name": "stdout",
     "output_type": "stream",
     "text": [
      "Downloading: 100%|\u001b[32m███████████████████████████████████████████████████████████████████████████████████\u001b[0m|\u001b[0m\n"
     ]
    }
   ],
   "source": [
    "query = \"\"\"\n",
    "    SELECT *\n",
    "    FROM `GHGE_buildings_data.building-benchmark`;\n",
    "\"\"\"\n",
    "\n",
    "all_buildings = pandas_gbq.read_gbq(query, project_id='seattle-377109')"
   ]
  },
  {
   "cell_type": "code",
   "execution_count": 10,
   "id": "879aeb05",
   "metadata": {},
   "outputs": [],
   "source": [
    "uw_downtown_buildings = all_buildings[all_buildings['TaxParcelIdentificationNumber'].isin(uw_downtown_tax_ids)]"
   ]
  },
  {
   "cell_type": "code",
   "execution_count": 13,
   "id": "2fcb2d7b",
   "metadata": {},
   "outputs": [
    {
     "data": {
      "text/html": [
       "<div>\n",
       "<style scoped>\n",
       "    .dataframe tbody tr th:only-of-type {\n",
       "        vertical-align: middle;\n",
       "    }\n",
       "\n",
       "    .dataframe tbody tr th {\n",
       "        vertical-align: top;\n",
       "    }\n",
       "\n",
       "    .dataframe thead th {\n",
       "        text-align: right;\n",
       "    }\n",
       "</style>\n",
       "<table border=\"1\" class=\"dataframe\">\n",
       "  <thead>\n",
       "    <tr style=\"text-align: right;\">\n",
       "      <th></th>\n",
       "      <th>OSEBuildingID</th>\n",
       "      <th>TaxParcelIdentificationNumber</th>\n",
       "      <th>DataYear</th>\n",
       "      <th>BuildingType</th>\n",
       "      <th>BuildingName</th>\n",
       "      <th>Owner</th>\n",
       "      <th>CouncilDistrictCode</th>\n",
       "      <th>Neighborhood</th>\n",
       "      <th>Units</th>\n",
       "      <th>YearBuilt</th>\n",
       "      <th>...</th>\n",
       "      <th>SecondLargestPropertyUseType</th>\n",
       "      <th>SecondLargestPropertyUseTypeGFA</th>\n",
       "      <th>ThirdLargestPropertyUseType</th>\n",
       "      <th>ThirdLargestPropertyUseTypeGFA</th>\n",
       "      <th>Outlier</th>\n",
       "      <th>ComplianceIssue</th>\n",
       "      <th>ComplianceStatus</th>\n",
       "      <th>Comments</th>\n",
       "      <th>DefaultData</th>\n",
       "      <th>LegislationPropertyType</th>\n",
       "    </tr>\n",
       "  </thead>\n",
       "  <tbody>\n",
       "  </tbody>\n",
       "</table>\n",
       "<p>0 rows × 54 columns</p>\n",
       "</div>"
      ],
      "text/plain": [
       "Empty DataFrame\n",
       "Columns: [OSEBuildingID, TaxParcelIdentificationNumber, DataYear, BuildingType, BuildingName, Owner, CouncilDistrictCode, Neighborhood, Units, YearBuilt, Address, City, State, ZipCode, Latitude, Longitude, PrimaryPropertyType, ListOfAllPropertyUseTypes, EPAPropertyType, TotalGHGEmissions__metric_tons_, ENERGYSTARScore, YearsENERGYSTARCertified, SiteEUI_kBtu_sf_, SiteEUIWN_kBtu_sf_, SiteEnergyUse_kBtu_, SiteEnergyUseWN_kBtu_, SourceEUI_kBtu_sf_, SourceEUIWN_kBtu_sf_, GHGEmissions_MetricTonsCO2e_, GHGEmissionsIntensity, GHGEmissionsIntensity_kgCO2e_ft2_, NaturalGas_kBtu_, NaturalGas_therms_, Electricity_kBtu_, Electricity_kWh_, SteamUse_kBtu_, OtherFuelUse_kBtu_, PropertyGFATotal, PropertyGFABuilding_s_, PropertyGFAParking, NumberofBuildings, NumberofFloors, LargestPropertyUseType, LargestPropertyUseTypeGFA, SecondLargestPropertyUseType, SecondLargestPropertyUseTypeGFA, ThirdLargestPropertyUseType, ThirdLargestPropertyUseTypeGFA, Outlier, ComplianceIssue, ComplianceStatus, Comments, DefaultData, LegislationPropertyType]\n",
       "Index: []\n",
       "\n",
       "[0 rows x 54 columns]"
      ]
     },
     "execution_count": 13,
     "metadata": {},
     "output_type": "execute_result"
    }
   ],
   "source": [
    "all_buildings[all_buildings['TaxParcelIdentificationNumber'] == 7137830020]"
   ]
  },
  {
   "cell_type": "markdown",
   "id": "7e4bbb4d",
   "metadata": {},
   "source": [
    "So... only two of our downtown UW buildings are in our dataset. Cool, cool."
   ]
  },
  {
   "cell_type": "code",
   "execution_count": 15,
   "id": "bc40f9cc",
   "metadata": {},
   "outputs": [
    {
     "data": {
      "text/plain": [
       "1595.2"
      ]
     },
     "execution_count": 15,
     "metadata": {},
     "output_type": "execute_result"
    }
   ],
   "source": [
    "uw_downtown_buildings['TotalGHGEmissions__metric_tons_'].sum()"
   ]
  },
  {
   "cell_type": "code",
   "execution_count": 16,
   "id": "8258e32d",
   "metadata": {},
   "outputs": [
    {
     "data": {
      "text/plain": [
       "1.5"
      ]
     },
     "execution_count": 16,
     "metadata": {},
     "output_type": "execute_result"
    }
   ],
   "source": [
    "uw_downtown_buildings['GHGEmissionsIntensity'].mean()"
   ]
  }
 ],
 "metadata": {
  "kernelspec": {
   "display_name": "Python 3 (ipykernel)",
   "language": "python",
   "name": "python3"
  },
  "language_info": {
   "codemirror_mode": {
    "name": "ipython",
    "version": 3
   },
   "file_extension": ".py",
   "mimetype": "text/x-python",
   "name": "python",
   "nbconvert_exporter": "python",
   "pygments_lexer": "ipython3",
   "version": "3.9.10"
  }
 },
 "nbformat": 4,
 "nbformat_minor": 5
}
